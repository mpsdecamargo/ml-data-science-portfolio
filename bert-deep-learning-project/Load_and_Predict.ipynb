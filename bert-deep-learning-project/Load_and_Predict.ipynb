{
  "cells": [
    {
      "cell_type": "markdown",
      "metadata": {
        "id": "view-in-github",
        "colab_type": "text"
      },
      "source": [
        "<a href=\"https://colab.research.google.com/github/mpsdecamargo/ml-data-science-portfolio/blob/main/bert-deep-learning-project/Load_and_Predict.ipynb\" target=\"_parent\"><img src=\"https://colab.research.google.com/assets/colab-badge.svg\" alt=\"Open In Colab\"/></a>"
      ]
    },
    {
      "cell_type": "markdown",
      "source": [
        "## INTRODUCTION\n",
        "\n",
        "Notebook content: Loading of models and prediction of sample corpus. Sample of final function to save output into JSON format to be sent to the front end of the application and to the user."
      ],
      "metadata": {
        "id": "Irke-TsEjvhz"
      }
    },
    {
      "cell_type": "code",
      "execution_count": 1,
      "metadata": {
        "colab": {
          "base_uri": "https://localhost:8080/"
        },
        "id": "eZHWW5TVuH3T",
        "outputId": "30b45f6e-cbcd-473e-d155-03606f475130"
      },
      "outputs": [
        {
          "output_type": "stream",
          "name": "stdout",
          "text": [
            "Collecting sentencepiece\n",
            "  Downloading sentencepiece-0.1.99-cp310-cp310-manylinux_2_17_x86_64.manylinux2014_x86_64.whl (1.3 MB)\n",
            "\u001b[?25l     \u001b[90m━━━━━━━━━━━━━━━━━━━━━━━━━━━━━━━━━━━━━━━━\u001b[0m \u001b[32m0.0/1.3 MB\u001b[0m \u001b[31m?\u001b[0m eta \u001b[36m-:--:--\u001b[0m\r\u001b[2K     \u001b[91m━\u001b[0m\u001b[90m╺\u001b[0m\u001b[90m━━━━━━━━━━━━━━━━━━━━━━━━━━━━━━━━━━━━━━\u001b[0m \u001b[32m0.0/1.3 MB\u001b[0m \u001b[31m1.3 MB/s\u001b[0m eta \u001b[36m0:00:01\u001b[0m\r\u001b[2K     \u001b[91m━━━━━━━━━━━━━━━━━━━━\u001b[0m\u001b[90m╺\u001b[0m\u001b[90m━━━━━━━━━━━━━━━━━━━\u001b[0m \u001b[32m0.7/1.3 MB\u001b[0m \u001b[31m10.0 MB/s\u001b[0m eta \u001b[36m0:00:01\u001b[0m\r\u001b[2K     \u001b[91m━━━━━━━━━━━━━━━━━━━━━━━━━━━━━━━━━━━━━━━\u001b[0m\u001b[91m╸\u001b[0m \u001b[32m1.3/1.3 MB\u001b[0m \u001b[31m16.0 MB/s\u001b[0m eta \u001b[36m0:00:01\u001b[0m\r\u001b[2K     \u001b[90m━━━━━━━━━━━━━━━━━━━━━━━━━━━━━━━━━━━━━━━━\u001b[0m \u001b[32m1.3/1.3 MB\u001b[0m \u001b[31m12.2 MB/s\u001b[0m eta \u001b[36m0:00:00\u001b[0m\n",
            "\u001b[?25hRequirement already satisfied: transformers in /usr/local/lib/python3.10/dist-packages (4.35.2)\n",
            "Collecting sentence_transformers\n",
            "  Downloading sentence-transformers-2.2.2.tar.gz (85 kB)\n",
            "\u001b[2K     \u001b[90m━━━━━━━━━━━━━━━━━━━━━━━━━━━━━━━━━━━━━━━━\u001b[0m \u001b[32m86.0/86.0 kB\u001b[0m \u001b[31m8.4 MB/s\u001b[0m eta \u001b[36m0:00:00\u001b[0m\n",
            "\u001b[?25h  Preparing metadata (setup.py) ... \u001b[?25l\u001b[?25hdone\n",
            "Collecting datasets\n",
            "  Downloading datasets-2.16.1-py3-none-any.whl (507 kB)\n",
            "\u001b[2K     \u001b[90m━━━━━━━━━━━━━━━━━━━━━━━━━━━━━━━━━━━━━━━━\u001b[0m \u001b[32m507.1/507.1 kB\u001b[0m \u001b[31m26.8 MB/s\u001b[0m eta \u001b[36m0:00:00\u001b[0m\n",
            "\u001b[?25hRequirement already satisfied: filelock in /usr/local/lib/python3.10/dist-packages (from transformers) (3.13.1)\n",
            "Requirement already satisfied: huggingface-hub<1.0,>=0.16.4 in /usr/local/lib/python3.10/dist-packages (from transformers) (0.20.1)\n",
            "Requirement already satisfied: numpy>=1.17 in /usr/local/lib/python3.10/dist-packages (from transformers) (1.23.5)\n",
            "Requirement already satisfied: packaging>=20.0 in /usr/local/lib/python3.10/dist-packages (from transformers) (23.2)\n",
            "Requirement already satisfied: pyyaml>=5.1 in /usr/local/lib/python3.10/dist-packages (from transformers) (6.0.1)\n",
            "Requirement already satisfied: regex!=2019.12.17 in /usr/local/lib/python3.10/dist-packages (from transformers) (2023.6.3)\n",
            "Requirement already satisfied: requests in /usr/local/lib/python3.10/dist-packages (from transformers) (2.31.0)\n",
            "Requirement already satisfied: tokenizers<0.19,>=0.14 in /usr/local/lib/python3.10/dist-packages (from transformers) (0.15.0)\n",
            "Requirement already satisfied: safetensors>=0.3.1 in /usr/local/lib/python3.10/dist-packages (from transformers) (0.4.1)\n",
            "Requirement already satisfied: tqdm>=4.27 in /usr/local/lib/python3.10/dist-packages (from transformers) (4.66.1)\n",
            "Requirement already satisfied: torch>=1.6.0 in /usr/local/lib/python3.10/dist-packages (from sentence_transformers) (2.1.0+cu121)\n",
            "Requirement already satisfied: torchvision in /usr/local/lib/python3.10/dist-packages (from sentence_transformers) (0.16.0+cu121)\n",
            "Requirement already satisfied: scikit-learn in /usr/local/lib/python3.10/dist-packages (from sentence_transformers) (1.2.2)\n",
            "Requirement already satisfied: scipy in /usr/local/lib/python3.10/dist-packages (from sentence_transformers) (1.11.4)\n",
            "Requirement already satisfied: nltk in /usr/local/lib/python3.10/dist-packages (from sentence_transformers) (3.8.1)\n",
            "Requirement already satisfied: pyarrow>=8.0.0 in /usr/local/lib/python3.10/dist-packages (from datasets) (10.0.1)\n",
            "Collecting pyarrow-hotfix (from datasets)\n",
            "  Downloading pyarrow_hotfix-0.6-py3-none-any.whl (7.9 kB)\n",
            "Collecting dill<0.3.8,>=0.3.0 (from datasets)\n",
            "  Downloading dill-0.3.7-py3-none-any.whl (115 kB)\n",
            "\u001b[2K     \u001b[90m━━━━━━━━━━━━━━━━━━━━━━━━━━━━━━━━━━━━━━━━\u001b[0m \u001b[32m115.3/115.3 kB\u001b[0m \u001b[31m14.3 MB/s\u001b[0m eta \u001b[36m0:00:00\u001b[0m\n",
            "\u001b[?25hRequirement already satisfied: pandas in /usr/local/lib/python3.10/dist-packages (from datasets) (1.5.3)\n",
            "Requirement already satisfied: xxhash in /usr/local/lib/python3.10/dist-packages (from datasets) (3.4.1)\n",
            "Collecting multiprocess (from datasets)\n",
            "  Downloading multiprocess-0.70.15-py310-none-any.whl (134 kB)\n",
            "\u001b[2K     \u001b[90m━━━━━━━━━━━━━━━━━━━━━━━━━━━━━━━━━━━━━━━━\u001b[0m \u001b[32m134.8/134.8 kB\u001b[0m \u001b[31m15.5 MB/s\u001b[0m eta \u001b[36m0:00:00\u001b[0m\n",
            "\u001b[?25hRequirement already satisfied: fsspec[http]<=2023.10.0,>=2023.1.0 in /usr/local/lib/python3.10/dist-packages (from datasets) (2023.6.0)\n",
            "Requirement already satisfied: aiohttp in /usr/local/lib/python3.10/dist-packages (from datasets) (3.9.1)\n",
            "Requirement already satisfied: attrs>=17.3.0 in /usr/local/lib/python3.10/dist-packages (from aiohttp->datasets) (23.1.0)\n",
            "Requirement already satisfied: multidict<7.0,>=4.5 in /usr/local/lib/python3.10/dist-packages (from aiohttp->datasets) (6.0.4)\n",
            "Requirement already satisfied: yarl<2.0,>=1.0 in /usr/local/lib/python3.10/dist-packages (from aiohttp->datasets) (1.9.4)\n",
            "Requirement already satisfied: frozenlist>=1.1.1 in /usr/local/lib/python3.10/dist-packages (from aiohttp->datasets) (1.4.1)\n",
            "Requirement already satisfied: aiosignal>=1.1.2 in /usr/local/lib/python3.10/dist-packages (from aiohttp->datasets) (1.3.1)\n",
            "Requirement already satisfied: async-timeout<5.0,>=4.0 in /usr/local/lib/python3.10/dist-packages (from aiohttp->datasets) (4.0.3)\n",
            "Requirement already satisfied: typing-extensions>=3.7.4.3 in /usr/local/lib/python3.10/dist-packages (from huggingface-hub<1.0,>=0.16.4->transformers) (4.5.0)\n",
            "Requirement already satisfied: charset-normalizer<4,>=2 in /usr/local/lib/python3.10/dist-packages (from requests->transformers) (3.3.2)\n",
            "Requirement already satisfied: idna<4,>=2.5 in /usr/local/lib/python3.10/dist-packages (from requests->transformers) (3.6)\n",
            "Requirement already satisfied: urllib3<3,>=1.21.1 in /usr/local/lib/python3.10/dist-packages (from requests->transformers) (2.0.7)\n",
            "Requirement already satisfied: certifi>=2017.4.17 in /usr/local/lib/python3.10/dist-packages (from requests->transformers) (2023.11.17)\n",
            "Requirement already satisfied: sympy in /usr/local/lib/python3.10/dist-packages (from torch>=1.6.0->sentence_transformers) (1.12)\n",
            "Requirement already satisfied: networkx in /usr/local/lib/python3.10/dist-packages (from torch>=1.6.0->sentence_transformers) (3.2.1)\n",
            "Requirement already satisfied: jinja2 in /usr/local/lib/python3.10/dist-packages (from torch>=1.6.0->sentence_transformers) (3.1.2)\n",
            "Requirement already satisfied: triton==2.1.0 in /usr/local/lib/python3.10/dist-packages (from torch>=1.6.0->sentence_transformers) (2.1.0)\n",
            "Requirement already satisfied: click in /usr/local/lib/python3.10/dist-packages (from nltk->sentence_transformers) (8.1.7)\n",
            "Requirement already satisfied: joblib in /usr/local/lib/python3.10/dist-packages (from nltk->sentence_transformers) (1.3.2)\n",
            "Requirement already satisfied: python-dateutil>=2.8.1 in /usr/local/lib/python3.10/dist-packages (from pandas->datasets) (2.8.2)\n",
            "Requirement already satisfied: pytz>=2020.1 in /usr/local/lib/python3.10/dist-packages (from pandas->datasets) (2023.3.post1)\n",
            "Requirement already satisfied: threadpoolctl>=2.0.0 in /usr/local/lib/python3.10/dist-packages (from scikit-learn->sentence_transformers) (3.2.0)\n",
            "Requirement already satisfied: pillow!=8.3.*,>=5.3.0 in /usr/local/lib/python3.10/dist-packages (from torchvision->sentence_transformers) (9.4.0)\n",
            "Requirement already satisfied: six>=1.5 in /usr/local/lib/python3.10/dist-packages (from python-dateutil>=2.8.1->pandas->datasets) (1.16.0)\n",
            "Requirement already satisfied: MarkupSafe>=2.0 in /usr/local/lib/python3.10/dist-packages (from jinja2->torch>=1.6.0->sentence_transformers) (2.1.3)\n",
            "Requirement already satisfied: mpmath>=0.19 in /usr/local/lib/python3.10/dist-packages (from sympy->torch>=1.6.0->sentence_transformers) (1.3.0)\n",
            "Building wheels for collected packages: sentence_transformers\n",
            "  Building wheel for sentence_transformers (setup.py) ... \u001b[?25l\u001b[?25hdone\n",
            "  Created wheel for sentence_transformers: filename=sentence_transformers-2.2.2-py3-none-any.whl size=125923 sha256=f5f8518280ec4e284ab6a9af0124eaae4cab8e5bce0e7c714409662c4907bfbc\n",
            "  Stored in directory: /root/.cache/pip/wheels/62/f2/10/1e606fd5f02395388f74e7462910fe851042f97238cbbd902f\n",
            "Successfully built sentence_transformers\n",
            "Installing collected packages: sentencepiece, pyarrow-hotfix, dill, multiprocess, datasets, sentence_transformers\n",
            "Successfully installed datasets-2.16.1 dill-0.3.7 multiprocess-0.70.15 pyarrow-hotfix-0.6 sentence_transformers-2.2.2 sentencepiece-0.1.99\n"
          ]
        }
      ],
      "source": [
        "!pip install sentencepiece transformers sentence_transformers datasets\n"
      ]
    },
    {
      "cell_type": "code",
      "source": [
        "!pip install accelerate -U"
      ],
      "metadata": {
        "colab": {
          "base_uri": "https://localhost:8080/"
        },
        "id": "MZohAM_BBl3J",
        "outputId": "484f17c8-4f50-4a66-caf1-dfafa4bd432e"
      },
      "execution_count": 2,
      "outputs": [
        {
          "output_type": "stream",
          "name": "stdout",
          "text": [
            "Collecting accelerate\n",
            "  Downloading accelerate-0.25.0-py3-none-any.whl (265 kB)\n",
            "\u001b[2K     \u001b[90m━━━━━━━━━━━━━━━━━━━━━━━━━━━━━━━━━━━━━━━━\u001b[0m \u001b[32m265.7/265.7 kB\u001b[0m \u001b[31m2.9 MB/s\u001b[0m eta \u001b[36m0:00:00\u001b[0m\n",
            "\u001b[?25hRequirement already satisfied: numpy>=1.17 in /usr/local/lib/python3.10/dist-packages (from accelerate) (1.23.5)\n",
            "Requirement already satisfied: packaging>=20.0 in /usr/local/lib/python3.10/dist-packages (from accelerate) (23.2)\n",
            "Requirement already satisfied: psutil in /usr/local/lib/python3.10/dist-packages (from accelerate) (5.9.5)\n",
            "Requirement already satisfied: pyyaml in /usr/local/lib/python3.10/dist-packages (from accelerate) (6.0.1)\n",
            "Requirement already satisfied: torch>=1.10.0 in /usr/local/lib/python3.10/dist-packages (from accelerate) (2.1.0+cu121)\n",
            "Requirement already satisfied: huggingface-hub in /usr/local/lib/python3.10/dist-packages (from accelerate) (0.20.1)\n",
            "Requirement already satisfied: safetensors>=0.3.1 in /usr/local/lib/python3.10/dist-packages (from accelerate) (0.4.1)\n",
            "Requirement already satisfied: filelock in /usr/local/lib/python3.10/dist-packages (from torch>=1.10.0->accelerate) (3.13.1)\n",
            "Requirement already satisfied: typing-extensions in /usr/local/lib/python3.10/dist-packages (from torch>=1.10.0->accelerate) (4.5.0)\n",
            "Requirement already satisfied: sympy in /usr/local/lib/python3.10/dist-packages (from torch>=1.10.0->accelerate) (1.12)\n",
            "Requirement already satisfied: networkx in /usr/local/lib/python3.10/dist-packages (from torch>=1.10.0->accelerate) (3.2.1)\n",
            "Requirement already satisfied: jinja2 in /usr/local/lib/python3.10/dist-packages (from torch>=1.10.0->accelerate) (3.1.2)\n",
            "Requirement already satisfied: fsspec in /usr/local/lib/python3.10/dist-packages (from torch>=1.10.0->accelerate) (2023.6.0)\n",
            "Requirement already satisfied: triton==2.1.0 in /usr/local/lib/python3.10/dist-packages (from torch>=1.10.0->accelerate) (2.1.0)\n",
            "Requirement already satisfied: requests in /usr/local/lib/python3.10/dist-packages (from huggingface-hub->accelerate) (2.31.0)\n",
            "Requirement already satisfied: tqdm>=4.42.1 in /usr/local/lib/python3.10/dist-packages (from huggingface-hub->accelerate) (4.66.1)\n",
            "Requirement already satisfied: MarkupSafe>=2.0 in /usr/local/lib/python3.10/dist-packages (from jinja2->torch>=1.10.0->accelerate) (2.1.3)\n",
            "Requirement already satisfied: charset-normalizer<4,>=2 in /usr/local/lib/python3.10/dist-packages (from requests->huggingface-hub->accelerate) (3.3.2)\n",
            "Requirement already satisfied: idna<4,>=2.5 in /usr/local/lib/python3.10/dist-packages (from requests->huggingface-hub->accelerate) (3.6)\n",
            "Requirement already satisfied: urllib3<3,>=1.21.1 in /usr/local/lib/python3.10/dist-packages (from requests->huggingface-hub->accelerate) (2.0.7)\n",
            "Requirement already satisfied: certifi>=2017.4.17 in /usr/local/lib/python3.10/dist-packages (from requests->huggingface-hub->accelerate) (2023.11.17)\n",
            "Requirement already satisfied: mpmath>=0.19 in /usr/local/lib/python3.10/dist-packages (from sympy->torch>=1.10.0->accelerate) (1.3.0)\n",
            "Installing collected packages: accelerate\n",
            "Successfully installed accelerate-0.25.0\n"
          ]
        }
      ]
    },
    {
      "cell_type": "code",
      "execution_count": 3,
      "metadata": {
        "id": "hOYO4WzOuNoL"
      },
      "outputs": [],
      "source": [
        "import sentencepiece\n",
        "import pandas as pd\n",
        "import pandas as pd\n",
        "import numpy as np\n",
        "from transformers import AutoTokenizer, AutoModelForSequenceClassification, TrainingArguments, Trainer\n",
        "import json\n",
        "import time\n",
        "import operator\n",
        "import re\n",
        "from sentence_transformers import SentenceTransformer, util\n",
        "import pickle\n",
        "import torch\n",
        "from datasets import Dataset\n",
        "from scipy.special import expit\n",
        "import io\n",
        "from contextlib import redirect_stdout"
      ]
    },
    {
      "cell_type": "code",
      "source": [
        "lang_models = {\"BERTPT\":\"neuralmind/bert-base-portuguese-cased\",\"BERTPTL\":\"neuralmind/bert-large-portuguese-cased\",\"MBERT\":\"bert-base-multilingual-cased\", \"ELECTRA\":\"dlb/electra-base-portuguese-uncased-brwac\",\"ROBERTA\": \"rdenadai/BR_BERTo\",\"XLMR\":\"xlm-roberta-base\",\"DISTILBERT\": \"distilbert-base-multilingual-cased\",\"ALBERT\":\"josu/albert-pt-br\",\"DEBERTA\":\"microsoft/mdeberta-v3-base\"}\n"
      ],
      "metadata": {
        "id": "zIghTxztU_vW"
      },
      "execution_count": 4,
      "outputs": []
    },
    {
      "cell_type": "code",
      "source": [
        "from google.colab import drive\n",
        "drive.mount('gdrive')"
      ],
      "metadata": {
        "colab": {
          "base_uri": "https://localhost:8080/"
        },
        "id": "EOmOBNt7cjnP",
        "outputId": "6c02392e-c587-4367-b5cc-9f7f362af80b"
      },
      "execution_count": 5,
      "outputs": [
        {
          "output_type": "stream",
          "name": "stdout",
          "text": [
            "Mounted at gdrive\n"
          ]
        }
      ]
    },
    {
      "cell_type": "code",
      "source": [
        "# Defining of the input data to be analysed\n",
        "# The first 5 samples are true (label = 0)\n",
        "# The last 5 are cases of disinformation (label = 1)\n",
        "\n",
        "prediction_corpus = [\n",
        "\n",
        "'Cientistas dizem haver \"evidências convincentes\" de que o mercado de frutos do mar e vida selvagem de Huanan, na cidade chinesa de Wuhan, foi o epicentro do surto de covid-19. Isso sugere que houve duas variantes introduzidas em humanos em novembro ou início de dezembro de 2019. Os pesquisadores dizem que há evidências de que o Sars-Cov-2 estava presente em mamíferos vivos que foram vendidos no mercado de Huanan no final de 2019. Cientistas dizem que o coronavírus foi transmitido para pessoas que estavam trabalhando ou fazendo compras lá em duas \"infecções por transbordamento\" separadas — em que um humano contraiu o vírus de um animal.',\n",
        "\n",
        "'No decorrer da pandemia de covid-19, descobrimos quem pode estar em maior risco de contrair o vírus e desenvolver os casos mais graves da doença. Idade avançada, obesidade e várias comorbidades, como diabetes e hipertensão, são alguns desses fatores de risco. O alto índice de massa corporal (IMC) também parece estar associado ao aumento das chances de contrair o vírus, em primeiro lugar. Mas e os fatores que podem tornar alguém menos propenso a contrair covid? Curiosamente, pesquisas apontam que ter alergias pode reduzir o risco. As alergias são muito comuns. Pelo menos 400 milhões de pessoas em todo o mundo são afetadas por alergias ao pólen, conhecida em inglês como hay fever. Cerca de 300 milhões de pessoas sofrem de asma alérgica (induzida pela inalação de alérgenos), enquanto as alergias alimentares afetam cerca de 250 milhões. Muitas pessoas também são alérgicas a certos medicamentos. As reações alérgicas podem variar de leves (talvez alguma vermelhidão e inchaço na pele) a graves (choque anafilático, que pode causar a morte)',\n",
        "\n",
        "'Eficácia da vacina contra Covid-19 em gestantes é confirmada; menos de 10% apresentaram reações adversas. A pesquisa avaliou dados de mais de 85 mil partos realizados no Canadá e nos EUA no ano de 2021.',\n",
        "\n",
        "'As subvariantes BA.4 e BA.5 do novo coronavírus conseguem escapar dos anticorpos de pessoas que tiveram infecção anterior por Covid-19 e aquelas que já receberam a dose de reforço da vacina, de acordo com novos dados de pesquisadores da Escola de Medicina de Harvard. No entanto, a vacinação contra a Covid-19 ainda fornece proteção substancial contra formas graves da doença, e os fabricantes de imunizantes estão trabalhando na atualização de vacinas contra as variantes. Os níveis de anticorpos neutralizantes que uma infecção anterior ou vacinação provocam são várias menores contra as subvariantes BA.4 e BA.5, da Ômicron, em comparação com a cepa original do novo coronavírus, de acordo com a nova pesquisa publicada no New England Journal of Medicine na quarta-feira (22).',\n",
        "\n",
        "'O presidente americano, Joe Biden, disse neste domingo (18) que a pandemia de Covid-19 acabou nos Estados Unidos. \"A pandemia terminou\", disse em entrevista à TV. \"Ainda temos um problema com a Covid. Ainda estamos trabalhando muito nisso... Mas a pandemia acabou. Se prestarem atenção, ninguém usa máscaras. Todo mundo parece estar em boa forma. E, por isso, acredito que está mudando\", afirmou durante o programa \"60 Minutes\", da rede CBS, durante a feira de automóveis de Detroit, evento que não acontecia havia três anos.',\n",
        "\n",
        "'EXPOSIÇÃO MICROSCÓPICA DAS VACINAS Em SP, um telão exibe o que um microscópio revela estar presente em uma única gota das vacinas Pfizer, AstraZeneca, Johnson e CoronaVac. Pode ser ver os nano dispositivos, sensores e muitas bactérias',\n",
        "\n",
        "'URGENTE-HARVARD COMPROVA EFICÁCIA DA HIDROXICLOROQUINA Em estudos randomizados, controlados por placebo, duplo cego, pessoas designadas para uso de hidroxicloroquina tiveram 28% menos risco de COvid 19, afirmou Dr, Miguel Herman, professor de Havard. E AGORA?',\n",
        "\n",
        "'Desde o lançamento das vacinas de mRNA COVID-19, muitos pesquisadores especularam sobre a possibilidade de transmissão de partículas vacinais do vacinado para o não vacinado, mais comumente conhecido como “derramamento de vacina”. Um recente estudo de pré-impressão atraiu a atenção da mídia, pois os resultados do estudo podem ser interpretados como sugestivos de transmissão da vacina por disseminação. Desde o lançamento das vacinas de mRNA COVID-19, muitos pesquisadores especularam sobre a possibilidade de transmissão de partículas vacinais do vacinado para o não vacinado, mais comumente conhecido como “derramamento de vacina”. Embora essas especulações sejam rotineiramente verificadas, histórias anedóticas de pessoas não vacinadas que foram infectadas com COVID-19 ou experimentaram sintomas estranhos após o contato com amigos ou familiares que foram vacinados persistiram. Vários médicos também especularam sobre uma possível transmissão à medida que surgem novas descobertas em apoio a essas ideias. Um recente estudo de pré-impressão atraiu a atenção da mídia, pois os resultados do estudo podem ser interpretados como sugestivos de transmissão da vacina por disseminação.',\n",
        "\n",
        "'Um novo estudo prospectivo que inclui mais de 223.000 participantes do sul do Brasil descobriu que a ivermectina reduz a mortalidade por covid-19 em 92% . O uso de ivermectina foi associado a reduções não apenas na mortalidade por COVID-19, mas também nas hospitalizações e nas taxas de infecção. Como profilático, a ivermectina mostrou-se mais eficaz de maneira dose-dependente. À medida que a dose de ivermectina aumentava, os pacientes tinham maior probabilidade de se recuperar da covid-19. Evidências preliminares também mostram que os pacientes se recuperam mais rapidamente com ivermectina .',\n",
        "\n",
        "'O câncer começa quando as alterações genéticas interferem na replicação normal e na reposição das células do corpo. As células começam a crescer descontroladamente e podem formar um tumor. É a segunda principal causa de morte nos Estados Unidos. Infelizmente, parece que a doença pode estar aumentando graças às injeções experimentais de Covid-19. Porque os dados oficiais do governo dos EUA confirmam que o risco de desenvolver câncer após a vacinação contra o Covid-19 aumenta em chocantes 143.233%'\n",
        "\n",
        "]"
      ],
      "metadata": {
        "id": "tsFL6lUfgh8U"
      },
      "execution_count": 6,
      "outputs": []
    },
    {
      "cell_type": "code",
      "source": [
        "# Loading the tokenizer and creation of tokenize function.\n",
        "# The tokenizer transforms the text data into tokens, which are essentially different numbers,\n",
        "# which are then used in training.\n",
        "\n",
        "def startTokenizer(model_type):\n",
        "  load = time.time()\n",
        "  tokenizer = AutoTokenizer.from_pretrained(lang_models[model_type])\n",
        "  end = time.time()\n",
        "  tokenizationLoad = end - load\n",
        "  print(\"Loading Tokenization: \", tokenizationLoad)\n",
        "  return tokenizer\n",
        "\n",
        "def tokenize(text, tokenizer):\n",
        "    tokenized_input = tokenizer(\n",
        "        text,\n",
        "        truncation=True,\n",
        "        max_length=512,\n",
        "        padding='max_length',\n",
        "        return_tensors='np',\n",
        "        return_attention_mask=True,\n",
        "        return_token_type_ids=True,\n",
        "    )\n",
        "    return {\n",
        "        'input_ids': tokenized_input['input_ids'][0],\n",
        "        'attention_mask': tokenized_input['attention_mask'][0],\n",
        "        'token_type_ids': tokenized_input['token_type_ids'][0],\n",
        "    }"
      ],
      "metadata": {
        "id": "oLr8JaA4eGn5"
      },
      "execution_count": 7,
      "outputs": []
    },
    {
      "cell_type": "code",
      "source": [
        "# Defining the repositories of the pretrained language models to be used\n",
        "\n",
        "model_paths = {\n",
        "               \"BERTPT\":\"gdrive/My Drive/Modelos/BERTPT/BERTPT_Model_2024-01-02_23-23\",\n",
        "               \"BERTPTL\":\"gdrive/My Drive/Modelos/BERTPTL/BERTPTL_Model_2024-01-03_16-05\",\n",
        "               \"MBERT\":\"gdrive/My Drive/Modelos/MBERT/MBERT_Model_2024-01-03_01-17\",\n",
        "               \"ELECTRA\":\"gdrive/My Drive/Modelos/ELECTRA/ELECTRA_Model_2024-01-02_22-21\",\n",
        "               \"ROBERTA\": \"gdrive/MyDrive/Modelos/ROBERTA/ROBERTA_Model_2024-01-06_21-14\",\n",
        "               \"XLMR\":\"gdrive/My Drive/Modelos/XLMR/XLMR_Model_2024-01-05_16-19\",\n",
        "               \"DISTILBERT\": \"gdrive/My Drive/Modelos/DISTILBERT/DISTILBERT_Model_2024-01-02_21-13\",\n",
        "               \"ALBERT\":\"gdrive/My Drive/Modelos/ALBERT/ALBERT_Model_2024-01-02_17-54\",\n",
        "               \"DEBERTA\":\"gdrive/My Drive/Modelos/DEBERTA/DEBERTA_Model_2024-01-03_10-24\",\n",
        "               \"BERTPT_ML\": \"gdrive/My Drive/Modelos/MultiLabel/BERTPT/BERTPT_MultiLabelModel_2024-01-03_20-24\",\n",
        "               \"DEBERTA_ML\": \"gdrive/My Drive/Modelos/MultiLabel/DEBERTA/DEBERTA_MultiLabelModel_2024-01-03_20-43\"\n",
        "               }"
      ],
      "metadata": {
        "id": "8VoaZYf4dFFO"
      },
      "execution_count": 8,
      "outputs": []
    },
    {
      "cell_type": "code",
      "source": [
        "# Function loaded_model_predict loads the tokenizer and the model, tokenizes the dataset,\n",
        "# sets configuration of the parameters of the Trainer and uses the loaded model to predict based on input data.\n",
        "# If the multilabel parameter is defined to true, the configuration is changed and, also, the function returns the prediction for each theme instead.\n",
        "\n",
        "def loaded_model_predict(model_type,dataset=prediction_corpus, multilabel=False):\n",
        "  start = time.time()\n",
        "  loaded_tokenizer = AutoTokenizer.from_pretrained(model_paths[model_type])\n",
        "  loaded_model = AutoModelForSequenceClassification.from_pretrained(model_paths[model_type])\n",
        "  if multilabel == True:\n",
        "    loaded_model.config.problem_type = \"multi_label_classification\"\n",
        "  tokenized_prediction_corpus = [tokenize(text, loaded_tokenizer) for text in dataset]\n",
        "  tokenized_dataset = Dataset.from_dict({\"input_ids\": [item['input_ids'] for item in tokenized_prediction_corpus],\n",
        "                                           \"attention_mask\": [item['attention_mask'] for item in tokenized_prediction_corpus],\n",
        "                                           \"token_type_ids\": [item['token_type_ids'] for item in tokenized_prediction_corpus]})\n",
        "  training_args = TrainingArguments(\n",
        "        output_dir=f\"./test_trainer/{model_type}\",\n",
        "        do_train = False,\n",
        "        do_predict = True,\n",
        "        )\n",
        "\n",
        "  trainer = Trainer(\n",
        "      model=loaded_model,\n",
        "      args=training_args,\n",
        "  )\n",
        "\n",
        "  results = trainer.predict(tokenized_dataset)\n",
        "  if multilabel:\n",
        "    predicted_labels = np.round(expit(np.array(results.predictions)))\n",
        "  else:\n",
        "    predicted_labels = np.argmax(results.predictions, axis=-1)\n",
        "  end = time.time()\n",
        "  pred_time = end - start\n",
        "  print(predicted_labels)\n",
        "  print(f\"Prediction Time: {pred_time}\")\n",
        "  return predicted_labels"
      ],
      "metadata": {
        "id": "2yKCkvByplZG"
      },
      "execution_count": 9,
      "outputs": []
    },
    {
      "cell_type": "markdown",
      "source": [
        "# CORPUS PREDICTION"
      ],
      "metadata": {
        "id": "jCx1eQKzo_wV"
      }
    },
    {
      "cell_type": "code",
      "source": [
        "loaded_model_predict(\"BERTPT\")"
      ],
      "metadata": {
        "colab": {
          "base_uri": "https://localhost:8080/",
          "height": 69
        },
        "id": "9qbKmlcN_NfR",
        "outputId": "313feb9f-cfe8-4525-c4c0-adb298d4b731"
      },
      "execution_count": 11,
      "outputs": [
        {
          "output_type": "display_data",
          "data": {
            "text/plain": [
              "<IPython.core.display.HTML object>"
            ],
            "text/html": []
          },
          "metadata": {}
        },
        {
          "output_type": "stream",
          "name": "stdout",
          "text": [
            "[0 0 1 0 0 1 1 1 1 1]\n",
            "Prediction Time: 10.95037293434143\n"
          ]
        },
        {
          "output_type": "execute_result",
          "data": {
            "text/plain": [
              "array([0, 0, 1, 0, 0, 1, 1, 1, 1, 1])"
            ]
          },
          "metadata": {},
          "execution_count": 11
        }
      ]
    },
    {
      "cell_type": "code",
      "source": [
        "loaded_model_predict(\"ALBERT\")"
      ],
      "metadata": {
        "colab": {
          "base_uri": "https://localhost:8080/",
          "height": 86
        },
        "id": "arqMDQyjXHV4",
        "outputId": "3e85ade5-ce08-421f-f927-e2b50ec1a848"
      },
      "execution_count": 21,
      "outputs": [
        {
          "output_type": "stream",
          "name": "stderr",
          "text": [
            "Special tokens have been added in the vocabulary, make sure the associated word embeddings are fine-tuned or trained.\n"
          ]
        },
        {
          "output_type": "display_data",
          "data": {
            "text/plain": [
              "<IPython.core.display.HTML object>"
            ],
            "text/html": []
          },
          "metadata": {}
        },
        {
          "output_type": "stream",
          "name": "stdout",
          "text": [
            "[0 1 1 0 0 1 1 0 1 1]\n",
            "Prediction Time: 2.3080694675445557\n"
          ]
        },
        {
          "output_type": "execute_result",
          "data": {
            "text/plain": [
              "array([0, 1, 1, 0, 0, 1, 1, 0, 1, 1])"
            ]
          },
          "metadata": {},
          "execution_count": 21
        }
      ]
    },
    {
      "cell_type": "code",
      "source": [
        "loaded_model_predict(\"ELECTRA\")"
      ],
      "metadata": {
        "colab": {
          "base_uri": "https://localhost:8080/",
          "height": 69
        },
        "id": "EzJVpOxLXHkB",
        "outputId": "2e6e2b91-d8b3-41d0-a3ab-f3a303d1432a"
      },
      "execution_count": 10,
      "outputs": [
        {
          "output_type": "display_data",
          "data": {
            "text/plain": [
              "<IPython.core.display.HTML object>"
            ],
            "text/html": []
          },
          "metadata": {}
        },
        {
          "output_type": "stream",
          "name": "stdout",
          "text": [
            "[1 0 1 0 0 1 1 0 1 1]\n",
            "Prediction Time: 17.68340516090393\n"
          ]
        },
        {
          "output_type": "execute_result",
          "data": {
            "text/plain": [
              "array([1, 0, 1, 0, 0, 1, 1, 0, 1, 1])"
            ]
          },
          "metadata": {},
          "execution_count": 10
        }
      ]
    },
    {
      "cell_type": "code",
      "source": [
        "loaded_model_predict(\"MBERT\")"
      ],
      "metadata": {
        "colab": {
          "base_uri": "https://localhost:8080/",
          "height": 54
        },
        "id": "gCs2qLnWXHoB",
        "outputId": "671bd992-7f67-474d-b36e-aba0d3e39a80"
      },
      "execution_count": null,
      "outputs": [
        {
          "output_type": "display_data",
          "data": {
            "text/plain": [
              "<IPython.core.display.HTML object>"
            ],
            "text/html": []
          },
          "metadata": {}
        },
        {
          "output_type": "stream",
          "name": "stdout",
          "text": [
            "[0 0 1 0 0 1 1 1 1 1]\n",
            "Prediction Time: 13.806703567504883\n"
          ]
        }
      ]
    },
    {
      "cell_type": "code",
      "source": [
        "loaded_model_predict(\"DISTILBERT\")"
      ],
      "metadata": {
        "colab": {
          "base_uri": "https://localhost:8080/",
          "height": 69
        },
        "id": "o-xuxH-vXIQS",
        "outputId": "756685bc-05f6-4fe7-c94b-acfff7b12e45"
      },
      "execution_count": 11,
      "outputs": [
        {
          "output_type": "display_data",
          "data": {
            "text/plain": [
              "<IPython.core.display.HTML object>"
            ],
            "text/html": []
          },
          "metadata": {}
        },
        {
          "output_type": "stream",
          "name": "stdout",
          "text": [
            "[0 0 1 0 0 1 1 0 1 1]\n",
            "Prediction Time: 17.033589601516724\n"
          ]
        },
        {
          "output_type": "execute_result",
          "data": {
            "text/plain": [
              "array([0, 0, 1, 0, 0, 1, 1, 0, 1, 1])"
            ]
          },
          "metadata": {},
          "execution_count": 11
        }
      ]
    },
    {
      "cell_type": "code",
      "source": [
        "loaded_model_predict(\"DEBERTA\")"
      ],
      "metadata": {
        "colab": {
          "base_uri": "https://localhost:8080/",
          "height": 124
        },
        "id": "WAviJyZHXIT6",
        "outputId": "8aab699d-989b-4ed8-f918-7f9c43bfc744"
      },
      "execution_count": 24,
      "outputs": [
        {
          "output_type": "stream",
          "name": "stderr",
          "text": [
            "/usr/local/lib/python3.10/dist-packages/transformers/convert_slow_tokenizer.py:473: UserWarning: The sentencepiece tokenizer that you are converting to a fast tokenizer uses the byte fallback option which is not implemented in the fast tokenizers. In practice this means that the fast version of the tokenizer can produce unknown tokens whereas the sentencepiece version would have converted these unknown tokens into a sequence of byte tokens matching the original piece of text.\n",
            "  warnings.warn(\n"
          ]
        },
        {
          "output_type": "display_data",
          "data": {
            "text/plain": [
              "<IPython.core.display.HTML object>"
            ],
            "text/html": []
          },
          "metadata": {}
        },
        {
          "output_type": "stream",
          "name": "stdout",
          "text": [
            "[1 0 1 0 0 1 1 1 1 1]\n",
            "Prediction Time: 25.240070819854736\n"
          ]
        },
        {
          "output_type": "execute_result",
          "data": {
            "text/plain": [
              "array([1, 0, 1, 0, 0, 1, 1, 1, 1, 1])"
            ]
          },
          "metadata": {},
          "execution_count": 24
        }
      ]
    },
    {
      "cell_type": "code",
      "source": [
        "loaded_model_predict(\"ROBERTA\")"
      ],
      "metadata": {
        "colab": {
          "base_uri": "https://localhost:8080/",
          "height": 69
        },
        "id": "u9r_SFw2XIXY",
        "outputId": "f6f75474-0eb2-4781-b613-8139bb561203"
      },
      "execution_count": 10,
      "outputs": [
        {
          "output_type": "display_data",
          "data": {
            "text/plain": [
              "<IPython.core.display.HTML object>"
            ],
            "text/html": []
          },
          "metadata": {}
        },
        {
          "output_type": "stream",
          "name": "stdout",
          "text": [
            "[1 1 1 0 0 1 1 0 1 1]\n",
            "Prediction Time: 19.10265350341797\n"
          ]
        },
        {
          "output_type": "execute_result",
          "data": {
            "text/plain": [
              "array([1, 1, 1, 0, 0, 1, 1, 0, 1, 1])"
            ]
          },
          "metadata": {},
          "execution_count": 10
        }
      ]
    },
    {
      "cell_type": "code",
      "source": [
        "loaded_model_predict(\"XLMR\")"
      ],
      "metadata": {
        "colab": {
          "base_uri": "https://localhost:8080/",
          "height": 69
        },
        "id": "7uZUf76JXIvI",
        "outputId": "3cf07cdf-f359-474b-b8d9-66d89d5e8fde"
      },
      "execution_count": 11,
      "outputs": [
        {
          "output_type": "display_data",
          "data": {
            "text/plain": [
              "<IPython.core.display.HTML object>"
            ],
            "text/html": []
          },
          "metadata": {}
        },
        {
          "output_type": "stream",
          "name": "stdout",
          "text": [
            "[0 0 1 0 0 1 1 1 1 1]\n",
            "Prediction Time: 32.86075973510742\n"
          ]
        },
        {
          "output_type": "execute_result",
          "data": {
            "text/plain": [
              "array([0, 0, 1, 0, 0, 1, 1, 1, 1, 1])"
            ]
          },
          "metadata": {},
          "execution_count": 11
        }
      ]
    },
    {
      "cell_type": "code",
      "source": [
        "loaded_model_predict(\"BERTPTL\")"
      ],
      "metadata": {
        "colab": {
          "base_uri": "https://localhost:8080/",
          "height": 69
        },
        "id": "ySsrF_jcXI6f",
        "outputId": "0561f0c6-fcb5-4a90-9ea7-b31fb03b5137"
      },
      "execution_count": 10,
      "outputs": [
        {
          "output_type": "display_data",
          "data": {
            "text/plain": [
              "<IPython.core.display.HTML object>"
            ],
            "text/html": []
          },
          "metadata": {}
        },
        {
          "output_type": "stream",
          "name": "stdout",
          "text": [
            "[0 0 1 0 0 1 1 0 0 1]\n",
            "Prediction Time: 40.95278239250183\n"
          ]
        },
        {
          "output_type": "execute_result",
          "data": {
            "text/plain": [
              "array([0, 0, 1, 0, 0, 1, 1, 0, 0, 1])"
            ]
          },
          "metadata": {},
          "execution_count": 10
        }
      ]
    },
    {
      "cell_type": "markdown",
      "source": [
        "# MULTILABEL PREDICTION"
      ],
      "metadata": {
        "id": "XxpCi4VwDhWD"
      }
    },
    {
      "cell_type": "code",
      "source": [
        "loaded_model_predict(\"BERTPT_ML\", multilabel=True)"
      ],
      "metadata": {
        "colab": {
          "base_uri": "https://localhost:8080/",
          "height": 382
        },
        "id": "b7WZU21EEkhz",
        "outputId": "0940512f-a635-4c98-d9ad-482fe41fbf43"
      },
      "execution_count": 12,
      "outputs": [
        {
          "output_type": "display_data",
          "data": {
            "text/plain": [
              "<IPython.core.display.HTML object>"
            ],
            "text/html": []
          },
          "metadata": {}
        },
        {
          "output_type": "stream",
          "name": "stdout",
          "text": [
            "[[0. 0. 0. 0. 0. 0. 0. 0.]\n",
            " [0. 0. 0. 0. 1. 0. 0. 0.]\n",
            " [0. 0. 0. 0. 1. 0. 0. 0.]\n",
            " [0. 0. 0. 0. 1. 0. 0. 0.]\n",
            " [0. 0. 0. 0. 0. 0. 0. 1.]\n",
            " [0. 0. 0. 0. 1. 0. 0. 0.]\n",
            " [0. 0. 0. 0. 1. 0. 0. 0.]\n",
            " [0. 0. 0. 0. 1. 0. 0. 0.]\n",
            " [0. 0. 0. 0. 1. 0. 0. 0.]\n",
            " [0. 0. 0. 0. 1. 0. 0. 0.]]\n",
            "Prediction Time: 9.870826482772827\n"
          ]
        },
        {
          "output_type": "execute_result",
          "data": {
            "text/plain": [
              "array([[0., 0., 0., 0., 0., 0., 0., 0.],\n",
              "       [0., 0., 0., 0., 1., 0., 0., 0.],\n",
              "       [0., 0., 0., 0., 1., 0., 0., 0.],\n",
              "       [0., 0., 0., 0., 1., 0., 0., 0.],\n",
              "       [0., 0., 0., 0., 0., 0., 0., 1.],\n",
              "       [0., 0., 0., 0., 1., 0., 0., 0.],\n",
              "       [0., 0., 0., 0., 1., 0., 0., 0.],\n",
              "       [0., 0., 0., 0., 1., 0., 0., 0.],\n",
              "       [0., 0., 0., 0., 1., 0., 0., 0.],\n",
              "       [0., 0., 0., 0., 1., 0., 0., 0.]], dtype=float32)"
            ]
          },
          "metadata": {},
          "execution_count": 12
        }
      ]
    },
    {
      "cell_type": "code",
      "source": [
        "loaded_model_predict(\"DEBERTA_ML\", multilabel=True)"
      ],
      "metadata": {
        "colab": {
          "base_uri": "https://localhost:8080/",
          "height": 382
        },
        "id": "Zfzd74DceJxG",
        "outputId": "7437deb4-0cca-4b72-9970-520b1ce705c4"
      },
      "execution_count": 13,
      "outputs": [
        {
          "output_type": "display_data",
          "data": {
            "text/plain": [
              "<IPython.core.display.HTML object>"
            ],
            "text/html": []
          },
          "metadata": {}
        },
        {
          "output_type": "stream",
          "name": "stdout",
          "text": [
            "[[0. 0. 0. 0. 1. 0. 0. 0.]\n",
            " [0. 0. 0. 0. 1. 0. 0. 0.]\n",
            " [0. 0. 0. 0. 1. 0. 0. 0.]\n",
            " [0. 0. 0. 0. 1. 0. 0. 0.]\n",
            " [0. 0. 0. 0. 0. 0. 1. 0.]\n",
            " [0. 0. 0. 0. 1. 0. 0. 0.]\n",
            " [0. 0. 0. 0. 1. 0. 0. 0.]\n",
            " [0. 0. 0. 0. 1. 0. 0. 0.]\n",
            " [0. 0. 0. 0. 1. 0. 0. 0.]\n",
            " [0. 0. 0. 0. 1. 0. 0. 0.]]\n",
            "Prediction Time: 18.725408792495728\n"
          ]
        },
        {
          "output_type": "execute_result",
          "data": {
            "text/plain": [
              "array([[0., 0., 0., 0., 1., 0., 0., 0.],\n",
              "       [0., 0., 0., 0., 1., 0., 0., 0.],\n",
              "       [0., 0., 0., 0., 1., 0., 0., 0.],\n",
              "       [0., 0., 0., 0., 1., 0., 0., 0.],\n",
              "       [0., 0., 0., 0., 0., 0., 1., 0.],\n",
              "       [0., 0., 0., 0., 1., 0., 0., 0.],\n",
              "       [0., 0., 0., 0., 1., 0., 0., 0.],\n",
              "       [0., 0., 0., 0., 1., 0., 0., 0.],\n",
              "       [0., 0., 0., 0., 1., 0., 0., 0.],\n",
              "       [0., 0., 0., 0., 1., 0., 0., 0.]], dtype=float32)"
            ]
          },
          "metadata": {},
          "execution_count": 13
        }
      ]
    },
    {
      "cell_type": "markdown",
      "source": [
        "# SENTENCE SIMILARITY ASSESSMENT"
      ],
      "metadata": {
        "id": "1JlJV4plDEP8"
      }
    },
    {
      "cell_type": "code",
      "source": [
        "def generate_top5(queries):\n",
        "  # Loads the Sentence-BERT model\n",
        "  embedder = SentenceTransformer('distiluse-base-multilingual-cased-v2')\n",
        "  # Loads the dataset containing information about the similar texts\n",
        "  df = pd.read_csv(\"/content/gdrive/MyDrive/Datasets/dataset_verifato_sentence_similarity.csv\", sep=\";\")\n",
        "  # Transforms the claimReviewed column into a list\n",
        "  df_to = df['claimReviewed'].to_list()\n",
        "  # Encodes the dataset\n",
        "  corpus_embeddings = embedder.encode(df_to)\n",
        "  # Reads the embeddings of the dataset's claimReviewed column previously encoded\n",
        "  obj = pd.read_pickle(r'/content/gdrive/MyDrive/Datasets/sts-embeddings.pkl')\n",
        "\n",
        "  # After creating a in-memory text stream, the output is redirected and captured, then returned after the function is run.\n",
        "  with io.StringIO() as captured_output:\n",
        "      with redirect_stdout(captured_output):\n",
        "        for query in queries:\n",
        "          query_embedding = embedder.encode(query)\n",
        "          print(\"Query:\", query)\n",
        "          print(\"\\nTop 5 of Similar Claims:\")\n",
        "\n",
        "          # Perform semantic search and retrieve the top 5 hits\n",
        "          hits = util.semantic_search(query_embedding, corpus_embeddings, top_k=5)\n",
        "          hits = hits[0]\n",
        "\n",
        "          # Iterate through the hits and print information about the similar claims\n",
        "          for hit in hits:\n",
        "            for i in range(len(df)):\n",
        "              if df_to[hit['corpus_id']] == df['claimReviewed'][i]:\n",
        "                print(f\"Claim Verified: {df_to[hit['corpus_id']]}, \\n(Score: {(hit['score']):.4f})\\n Published Date: {df['datePublished'][i]}\\n Link: {df['link'][i]}\\n Assessment: {df['label'][i]}\")\n",
        "      return captured_output.getvalue()"
      ],
      "metadata": {
        "id": "dh3u-DvODHyk"
      },
      "execution_count": 14,
      "outputs": []
    },
    {
      "cell_type": "code",
      "source": [
        "generate_top5(prediction_corpus)"
      ],
      "metadata": {
        "id": "kAUO-o3jDZ5b",
        "colab": {
          "base_uri": "https://localhost:8080/",
          "height": 1000,
          "referenced_widgets": [
            "3862bbf132424e3fbcdf6d1ea6aec6f3",
            "4e1037d520f44b28b654ca759bbaa432",
            "182dc53cfe39488aae499bfd118a1de3",
            "d197e4716de74a80bc0b1e7d93022e2c",
            "afd2d5bee9a34ba78ee24cdcf7d75fdb",
            "e3d08f60db444315bd5dd9851d0f8f3d",
            "6817a987ac9c468485627a208e534ac6",
            "a36f72203e6a4ef385596d27123eb53b",
            "95277f410f0246fdb1956b83d4b5dbae",
            "a51403bbc80148a08d2dd0fcbc08e3fb",
            "fdffef1a97f847c88c00fd3fa4ae507f",
            "22fcf51930c1482f8fd38715a40e49dc",
            "1beb9fdc28a940a7a76da759c172316f",
            "dedac5ae481d4791a5f81b8083e6dbf3",
            "642547132dd744f18d02efa2836181bd",
            "cdf915f201fa4460b3e01d601121d433",
            "d66e6432cee346cf82c52f92aef88421",
            "d4ed2f4fa26e48699b6d81a963441f0c",
            "1ca36565fdb64cc1904875af00143d0c",
            "85138a80dd6f40d18fe0ebc018bd8f58",
            "840afdcde52d44f8855644887d3dae30",
            "e95afb8f6471408ab57b5a6568f09da7",
            "0bfb02bc90cd4894a22259556b298093",
            "01732c4754864516a11019ff1613b4b7",
            "669d76802ad140389915412c3c3acf6a",
            "b3d920af8d7d45fc8045b302aa3315f1",
            "d62d1994539546658e8e37ff11084376",
            "3d294f18c25f4776a0276db94645bfc2",
            "778ab4deda54496aa924e2252bb9c31d",
            "f14164f239ac4b3fab715a02a3990a66",
            "ece9eb43fc324819a1a079a30e83d11a",
            "17105ee0fde641eba72d0542def64669",
            "e85f92877f03459ab183efdf3c126bf0",
            "2ae5e61ab79b4ec3b27036200c59b297",
            "c7138273f37f417fa0f6abc9766e3925",
            "9c98a2d928004528a59f085da83a659d",
            "af21cf9a907a4735a49dd43ecf931154",
            "4e41b24ea18e41b4a0baf0e68657bf0f",
            "69e87db7f21441b1aff8d9fc6b09c181",
            "30e90d09caab4b03ac32880dc10fa59d",
            "c921cc32e3ac48ce9a49d1b0904cd79c",
            "b1e1dfef32ec4af49cd7d8865d78c8d1",
            "4c4811447ec24dada17c67bacd4b87ea",
            "7eeb9ec8fcc2411b98af390ab0ab40a2",
            "17dc427a4cfa4842b8f9536f6602f245",
            "9be12f51cc8f4f1ca50b1c536cb35788",
            "27e797d3d45943ae9e688e0d4015e701",
            "2a9c5446b27c4e3b8116da74bef44740",
            "1b8ba6f5c1444d07b24cef3ceabec8d9",
            "315feff895404c499f7eb0739e5eb3ba",
            "a55cc9bfac2547b2a215c6f87d38f154",
            "72867abcf604402584f157877b7e7f2f",
            "c5c20aa5f6b6459888db860fa44a5ec4",
            "48b38966290d4a11863daf573cfb5bb0",
            "2b89b5a5c5ec4d90b93361a0ce05bc8f",
            "fe7f2453d16f4bcbacb7d6e608ca159e",
            "6e6c2ab446c749b2bd2ecc68a693cbb9",
            "9dc92c0bb00448bb8dce84527072b1de",
            "7cf21f771b7a498caaa687dfe76d066c",
            "223570801b9b4d389b12837a8594cf0a",
            "2ce6151b0dc84457b113d2e3ef28f865",
            "483933a8a5d04857b49f03413cef1047",
            "55b34b050aae42968c6a6ed665d57eda",
            "140abc72d4f8474394f636805934f0d3",
            "04ef2534ab0945b1b3bed707bd912c7a",
            "44c24157859547a78cfcf0f1f6688636",
            "33840ff0fec9407a9b4157e3f74c710c",
            "31107eec9bb14827b5b6429f82983b2a",
            "555bb5a1cf684c8dbc750bc3c7b93229",
            "21b7496340d642d28ddb37cf8488acd9",
            "736d73e062d24c3b836c09e367dfd7a5",
            "0bdb3e76c60042bd9e6973a8dd279ce8",
            "ae34a7f2d490480685075bb741266b57",
            "599e4ac3038942b2827ba6df33a33ca6",
            "ab5958052dd74c0f9c091a6f0eba3a84",
            "c78256af7c6247ca8471baa4185fc8a4",
            "0cf13da557cc42c38b5c1a6d8ed0629f",
            "501dc3df939f4ac3afc429d34e0fcbcd",
            "170f88b0ef734b8c96a6d27a48d344b2",
            "3580285db39f4eb49276083ac56d8e4b",
            "140383eecb0f4f0d81820ae4fdb1b24c",
            "77ab3321489847dbbfe4fef77fe74dd0",
            "519085779c5a46bf8a9e5f7f5ccd1ff7",
            "c7c4e8d710194c16bc13489dfce3f598",
            "85232c1036954e5e9339532f7f313478",
            "0840c7e7a30c4af1a99f08252559c034",
            "1eeaac4ed7da4f1d8e9aa4d0c54ae58e",
            "0da24a4b7f9b4d21ae35deaf89991a4d",
            "6f77ded2a1b7450b8d934f739dd4e796",
            "6d09f9f43ad747bfbab5a9a3fe25d756",
            "fe406c49e1e247b28dee9f0af4d19dd3",
            "9f8df35183324cfe9bdc1edeba61fff8",
            "3810632c89444a75948f5b20f93460d2",
            "b656b34e7f0f434da7f76012ad671a6a",
            "f7818e5a10ed4678b1803a5c010063f9",
            "a111ba2d19f34b9f8366b8429345062a",
            "42024d9833a04edbb533455cf310b852",
            "113860734bb6474a98568a9aa32d7e5b",
            "754b490b36a047d1b9558cf73fb3b415",
            "5133110e9be94357a7c37935acd7ba13",
            "53a504832b124c4a84a18ab127706cfa",
            "aeb4f020d0c14bbfaa4f6bc447ec1b04",
            "e80510d35a474ac8a53c4fcc20f776cb",
            "2aba179cc31d4a88b6b02b3070850fe0",
            "d8712dc01b4642de86e9712a115938f3",
            "39a0405f4976453f843450712234c996",
            "0494878109284f4ba1093a8cb8cf2642",
            "69258c9ec8f34878849a17a7ff35997f",
            "9a9ee6f865ed4baf9164edd2d2ed75de",
            "5d40b0a02cbe439dad547b4325becfce",
            "c3d9eedb068f494ebb673499022c9140",
            "d64a68c9fff440a0a578c552710f420c",
            "9dd50ee3e49a4b63a03fbe37f34cc408",
            "39e0cc032fb94d13a5009b7b848ef5ec",
            "ba9001f18e0c4b32bdff6599966170ba",
            "da4703da20594fa1be5a48695a6d2037",
            "a6675dedb1704cd987f215fc4a44e36f",
            "26d760e88911483ebbe21f875d293297",
            "fd9ed97dcd0747f5ae21d2f4661a5ba2",
            "7e95ab14e5b0462aa76cfb60cab8acf0",
            "923b09a246d24c59adab92e501709a7a",
            "caca2805cb854b3183335e722034a292",
            "a9270429e30d410fb86d1f6e4b69376f",
            "c7cfafcc0874462ab3dbaf3865c6f7ec",
            "6d0a01b9406e489e877f976b9a7a37af",
            "23d164f00d604a7ab059a967f6c53f22",
            "4cfd62fbc44e467da1ea463d454c6450",
            "5bac891f7af5442b9dde8dbe8c6a9298",
            "90340cc8ce0d4a61958ce507dda48dab",
            "d1d15ebd21a74ca1a44ef17414a0eedf",
            "b7ad201315564141a3c29e735a6e30e4",
            "111d73b066af4b31895a4abf0dd7b68b",
            "0a5e27da6038418cb4574dc2b468b01c",
            "ebd0a22c62d741f482c1896f9087579c",
            "0b1dbe5de1764d249a6474ebce23e2ac",
            "3b0a4382c23c42058189c8cf176fb6ef",
            "91b82a80d1274a0081d3f6181d6ce52f",
            "dcfc24b9d05f472b92c58219dc322b63",
            "0b8a48a875594a278cf3416a44106ad1",
            "11f074975f0c40ba9a66869786d4c997",
            "9b84492d0b6a49d58567c264e0140fa9",
            "49f201ac910a45d880696b49b099a329",
            "b003dffb40ff42878f49e476e97f4217",
            "a96cbb0c35aa4eae835ca4b138f2a6eb",
            "5cb7c03a86d544ac92a1679b114b5ced",
            "caee031f229945da866e168318546ad2",
            "f6ff3311ce3a46f098d3266fa390e3ae",
            "891ce63c3ad8421a941c377ceeb25e22",
            "2af0480c11084be6af00ceedbf3974a8",
            "3ed393c5008a462695e5486b5bcaeca6",
            "9d013e53ed3a4481956d8c9a0f4bba94",
            "95b2e26e253d4a0caeaf4c7ba2a60cd2",
            "d991014bc44541448792360d9003f788",
            "d3c3d8aba22a4fdda70f612a6718f90d"
          ]
        },
        "outputId": "d361a9cc-df81-4e9b-be6b-43e02b4cc6e1"
      },
      "execution_count": 15,
      "outputs": [
        {
          "output_type": "stream",
          "name": "stderr",
          "text": [
            "/usr/local/lib/python3.10/dist-packages/huggingface_hub/utils/_token.py:72: UserWarning: \n",
            "The secret `HF_TOKEN` does not exist in your Colab secrets.\n",
            "To authenticate with the Hugging Face Hub, create a token in your settings tab (https://huggingface.co/settings/tokens), set it as secret in your Google Colab and restart your session.\n",
            "You will be able to reuse this secret in all of your notebooks.\n",
            "Please note that authentication is recommended but still optional to access public models or datasets.\n",
            "  warnings.warn(\n"
          ]
        },
        {
          "output_type": "display_data",
          "data": {
            "text/plain": [
              ".gitattributes:   0%|          | 0.00/690 [00:00<?, ?B/s]"
            ],
            "application/vnd.jupyter.widget-view+json": {
              "version_major": 2,
              "version_minor": 0,
              "model_id": "3862bbf132424e3fbcdf6d1ea6aec6f3"
            }
          },
          "metadata": {}
        },
        {
          "output_type": "display_data",
          "data": {
            "text/plain": [
              "1_Pooling/config.json:   0%|          | 0.00/190 [00:00<?, ?B/s]"
            ],
            "application/vnd.jupyter.widget-view+json": {
              "version_major": 2,
              "version_minor": 0,
              "model_id": "22fcf51930c1482f8fd38715a40e49dc"
            }
          },
          "metadata": {}
        },
        {
          "output_type": "display_data",
          "data": {
            "text/plain": [
              "2_Dense/config.json:   0%|          | 0.00/114 [00:00<?, ?B/s]"
            ],
            "application/vnd.jupyter.widget-view+json": {
              "version_major": 2,
              "version_minor": 0,
              "model_id": "0bfb02bc90cd4894a22259556b298093"
            }
          },
          "metadata": {}
        },
        {
          "output_type": "display_data",
          "data": {
            "text/plain": [
              "pytorch_model.bin:   0%|          | 0.00/1.58M [00:00<?, ?B/s]"
            ],
            "application/vnd.jupyter.widget-view+json": {
              "version_major": 2,
              "version_minor": 0,
              "model_id": "2ae5e61ab79b4ec3b27036200c59b297"
            }
          },
          "metadata": {}
        },
        {
          "output_type": "display_data",
          "data": {
            "text/plain": [
              "README.md:   0%|          | 0.00/2.69k [00:00<?, ?B/s]"
            ],
            "application/vnd.jupyter.widget-view+json": {
              "version_major": 2,
              "version_minor": 0,
              "model_id": "17dc427a4cfa4842b8f9536f6602f245"
            }
          },
          "metadata": {}
        },
        {
          "output_type": "display_data",
          "data": {
            "text/plain": [
              "config.json:   0%|          | 0.00/610 [00:00<?, ?B/s]"
            ],
            "application/vnd.jupyter.widget-view+json": {
              "version_major": 2,
              "version_minor": 0,
              "model_id": "fe7f2453d16f4bcbacb7d6e608ca159e"
            }
          },
          "metadata": {}
        },
        {
          "output_type": "display_data",
          "data": {
            "text/plain": [
              "config_sentence_transformers.json:   0%|          | 0.00/122 [00:00<?, ?B/s]"
            ],
            "application/vnd.jupyter.widget-view+json": {
              "version_major": 2,
              "version_minor": 0,
              "model_id": "33840ff0fec9407a9b4157e3f74c710c"
            }
          },
          "metadata": {}
        },
        {
          "output_type": "display_data",
          "data": {
            "text/plain": [
              "pytorch_model.bin:   0%|          | 0.00/539M [00:00<?, ?B/s]"
            ],
            "application/vnd.jupyter.widget-view+json": {
              "version_major": 2,
              "version_minor": 0,
              "model_id": "501dc3df939f4ac3afc429d34e0fcbcd"
            }
          },
          "metadata": {}
        },
        {
          "output_type": "display_data",
          "data": {
            "text/plain": [
              "sentence_bert_config.json:   0%|          | 0.00/53.0 [00:00<?, ?B/s]"
            ],
            "application/vnd.jupyter.widget-view+json": {
              "version_major": 2,
              "version_minor": 0,
              "model_id": "6f77ded2a1b7450b8d934f739dd4e796"
            }
          },
          "metadata": {}
        },
        {
          "output_type": "display_data",
          "data": {
            "text/plain": [
              "special_tokens_map.json:   0%|          | 0.00/112 [00:00<?, ?B/s]"
            ],
            "application/vnd.jupyter.widget-view+json": {
              "version_major": 2,
              "version_minor": 0,
              "model_id": "5133110e9be94357a7c37935acd7ba13"
            }
          },
          "metadata": {}
        },
        {
          "output_type": "display_data",
          "data": {
            "text/plain": [
              "tokenizer.json:   0%|          | 0.00/1.96M [00:00<?, ?B/s]"
            ],
            "application/vnd.jupyter.widget-view+json": {
              "version_major": 2,
              "version_minor": 0,
              "model_id": "c3d9eedb068f494ebb673499022c9140"
            }
          },
          "metadata": {}
        },
        {
          "output_type": "display_data",
          "data": {
            "text/plain": [
              "tokenizer_config.json:   0%|          | 0.00/531 [00:00<?, ?B/s]"
            ],
            "application/vnd.jupyter.widget-view+json": {
              "version_major": 2,
              "version_minor": 0,
              "model_id": "caca2805cb854b3183335e722034a292"
            }
          },
          "metadata": {}
        },
        {
          "output_type": "display_data",
          "data": {
            "text/plain": [
              "vocab.txt:   0%|          | 0.00/996k [00:00<?, ?B/s]"
            ],
            "application/vnd.jupyter.widget-view+json": {
              "version_major": 2,
              "version_minor": 0,
              "model_id": "0a5e27da6038418cb4574dc2b468b01c"
            }
          },
          "metadata": {}
        },
        {
          "output_type": "display_data",
          "data": {
            "text/plain": [
              "modules.json:   0%|          | 0.00/341 [00:00<?, ?B/s]"
            ],
            "application/vnd.jupyter.widget-view+json": {
              "version_major": 2,
              "version_minor": 0,
              "model_id": "a96cbb0c35aa4eae835ca4b138f2a6eb"
            }
          },
          "metadata": {}
        },
        {
          "output_type": "execute_result",
          "data": {
            "text/plain": [
              "'Query: Cientistas dizem haver \"evidências convincentes\" de que o mercado de frutos do mar e vida selvagem de Huanan, na cidade chinesa de Wuhan, foi o epicentro do surto de covid-19. Isso sugere que houve duas variantes introduzidas em humanos em novembro ou início de dezembro de 2019. Os pesquisadores dizem que há evidências de que o Sars-Cov-2 estava presente em mamíferos vivos que foram vendidos no mercado de Huanan no final de 2019. Cientistas dizem que o coronavírus foi transmitido para pessoas que estavam trabalhando ou fazendo compras lá em duas \"infecções por transbordamento\" separadas — em que um humano contraiu o vírus de um animal.\\n\\nTop 5 of Similar Claims:\\nClaim Verified: Jornal Washington Post confirma que a SARS-CoV-2 (novo coronavírus) saiu de laboratório de virologia de Wuhan e não de mercado de animais., \\n(Score: 0.5265)\\n Published Date: 20/abr/20\\n Link: https://www.boatos.org/mundo/washington-post-confirma-coronavirus-surgiu-laboratorio-wuhan.html\\n Assessment: False\\nClaim Verified: Viralizou nas redes sociais nos últimos dias uma mensagem dizendo que o imunologista japonês Tasuku Honjo, vencedor do Prêmio Nobel de Medicina em 2018, declarou que o coronavírus não é natural e que foi, sim, criado por cientistas. O texto acrescenta que o pesquisador trabalhou pelos últimos quatro anos no laboratório de Wuhan, na China, cidade onde a pandemia teve início. Ainda segundo a mensagem, ele acusa a China pela Covid-19 e diz que o governo \"pode retirar seu Nobel\" se o que ele diz não for verdade. É #FAKE., \\n(Score: 0.4918)\\n Published Date: 29/abr/20\\n Link: https://g1.globo.com/fato-ou-fake/coronavirus/noticia/2020/04/29/e-fake-que-tasuku-honjo-nobel-de-medicina-em-2018-disse-que-coronavirus-foi-criado-por-cientistas.ghtml\\n Assessment: False\\nClaim Verified: O vencedor do Prêmio Nobel de fisiologia e medicina, professor Tasuku Honjo, disse que o coronavírus Sars-CoV-2 não é natural e que foi criado em laboratório pela China., \\n(Score: 0.4871)\\n Published Date: 03/dez/21\\n Link: https://www.boatos.org/saude/tasuku-honjo-diz-coronavirus-foi-criado-em-laboratorio-na-china-nao-e-natural.html\\n Assessment: False\\nClaim Verified: Circulam nas redes sociais mensagens dizendo que o governador de São Paulo, João Doria, assinou um acordo com uma empresa da China para a fabricação de uma vacina contra o coronavírus ainda em 2019. E que isso prova que ele já sabia da pandemia muito antes de ela ocorrer. É #FAKE., \\n(Score: 0.4720)\\n Published Date: 15/jun/20\\n Link: https://g1.globo.com/fato-ou-fake/coronavirus/noticia/2020/06/15/e-fake-que-doria-firmou-contrato-com-farmaceutica-chinesa-em-2019-para-desenvolver-vacina-contra-o-coronavirus.ghtml\\n Assessment: False\\nClaim Verified: Uma mensagem que tem circulado nas redes sociais diz que o médico chinês Li Wenliang, que foi um dos primeiros a identificar o surto do novo coronavírus e alertar autoridades e morreu em decorrência da Covid-19, deixou arquivos que mostram que substâncias presentes no café “podem afastar esse vírus em humanos”. O texto diz ainda que pacientes têm sido curados no país com a ingestão da bebida. É #FAKE., \\n(Score: 0.4599)\\n Published Date: 30/mar/20\\n Link: https://g1.globo.com/fato-ou-fake/noticia/2020/03/30/e-fake-que-cafe-tem-substancias-que-combatem-o-coronavirus.ghtml\\n Assessment: False\\nQuery: No decorrer da pandemia de covid-19, descobrimos quem pode estar em maior risco de contrair o vírus e desenvolver os casos mais graves da doença. Idade avançada, obesidade e várias comorbidades, como diabetes e hipertensão, são alguns desses fatores de risco. O alto índice de massa corporal (IMC) também parece estar associado ao aumento das chances de contrair o vírus, em primeiro lugar. Mas e os fatores que podem tornar alguém menos propenso a contrair covid? Curiosamente, pesquisas apontam que ter alergias pode reduzir o risco. As alergias são muito comuns. Pelo menos 400 milhões de pessoas em todo o mundo são afetadas por alergias ao pólen, conhecida em inglês como hay fever. Cerca de 300 milhões de pessoas sofrem de asma alérgica (induzida pela inalação de alérgenos), enquanto as alergias alimentares afetam cerca de 250 milhões. Muitas pessoas também são alérgicas a certos medicamentos. As reações alérgicas podem variar de leves (talvez alguma vermelhidão e inchaço na pele) a graves (choque anafilático, que pode causar a morte)\\n\\nTop 5 of Similar Claims:\\nClaim Verified: Apenas 6% das mortes de pessoas com coronavírus foram, de fato, por Covid-19, mostrou uma pesquisa norte-americana. O restante dos óbitos se deu por conta de outras comorbidades, como doenças respiratórias ou cardíacas, diabetes ou obesidade., \\n(Score: 0.5093)\\n Published Date: 01/set/20\\n Link: https://www.boatos.org/saude/6-das-mortes-de-coronavirus-foram-por-covid-pesquisa.html\\n Assessment: False\\nClaim Verified: A ivermectina possui imunização maior do que a vacina contra Covid-19. Pandemia teria acabado se todos tivessem tomado., \\n(Score: 0.4713)\\n Published Date: 06/jan/21\\n Link: https://www.boatos.org/saude/todos-tomado-ivermectina-imuniza-mais-vacina-pandemia-teria-acabado.html\\n Assessment: False\\nClaim Verified: quando a vacina contra covid-19 for desenvolvida, a maior parte das pessoas já terá contraído a doença e a imunização não será mais necessária, \\n(Score: 0.4544)\\n Published Date: 21/out/20\\n Link: https://politica.estadao.com.br/blogs/estadao-verifica/tuite-engana-ao-sugerir-que-vacina-contra-a-covid-19-e-desnecessaria/\\n Assessment: Predominantly False\\nClaim Verified: Circula nas redes sociais uma mensagem que diz que um estudo sobre a Covid-19 feito por um neurocientista britânico concluiu que a maior parte da população é imune ao coronavírus e que o chamado lockdown (isolamento social rígido) é inútil para conter a pandemia. É #FAKE., \\n(Score: 0.4541)\\n Published Date: 19/ago/20\\n Link: https://g1.globo.com/fato-ou-fake/coronavirus/noticia/2020/08/19/e-fake-que-neurocientista-britanico-concluiu-que-maioria-da-populacao-e-imune-ao-coronavirus-e-que-distanciamento-social-e-inutil.ghtml\\n Assessment: False\\nClaim Verified: Se depender da taxa de letalidade da Covid-19 e da taxa de efeitos colaterais da vacina chinesa contra o coronavírus, tomar vacina é pior do que pegar a doença., \\n(Score: 0.4530)\\n Published Date: 23/out/20\\n Link: https://www.boatos.org/saude/efeitos-colaterais-mostram-tomar-vacina-chinesa-pior-pegar-covid-19.html\\n Assessment: False\\nQuery: Eficácia da vacina contra Covid-19 em gestantes é confirmada; menos de 10% apresentaram reações adversas. A pesquisa avaliou dados de mais de 85 mil partos realizados no Canadá e nos EUA no ano de 2021.\\n\\nTop 5 of Similar Claims:\\nClaim Verified: 82% das grávidas vacinadas contra a covid-19 sofreram aborto, \\n(Score: 0.5494)\\n Published Date: 11/jan/22\\n Link: https://politica.estadao.com.br/blogs/estadao-verifica/vacina-pfizer-causa-abortos-82/\\n Assessment: False\\nClaim Verified: Estudo do Reino Unido mostra que ivermectina possui 83% de eficácia e é mais segura do que vacina contra Covid-19., \\n(Score: 0.5207)\\n Published Date: 19/mar/21\\n Link: https://www.boatos.org/saude/ivermectina-supera-vacinas-83-eficacia-contra-covid-19.html\\n Assessment: False\\nClaim Verified: Alerta da Anvisa afirma que a vacina de Covid-19 já causou mais de mil mortes e 15 mil reações adversas., \\n(Score: 0.5203)\\n Published Date: 25/out/21\\n Link: https://www.boatos.org/saude/anvisa-vacinas-covid-19-mil-mortes.html\\n Assessment: False\\nClaim Verified: Circula pelas redes sociais a informação de que um acordo de confidencialidade prova que a farmacêutica americana Moderna tinha potenciais vacinas contra a Covid-19 antes do início da pandemia. A publicação sugere que essas doses foram enviadas para testes à Universidade da Carolina do Norte, nos Estados Unidos, no final de 2019. É #FAKE., \\n(Score: 0.5021)\\n Published Date: 30/jun/21\\n Link: https://g1.globo.com/fato-ou-fake/noticia/2021/06/30/e-fake-que-acordo-de-confidencialidade-prova-que-moderna-elaborou-vacina-contra-a-covid-19-antes-da-pandemia.ghtml\\n Assessment: False\\nClaim Verified: Mais de 3 mil pessoas ficaram incapacitadas de realizar atividades físicas após se vacinarem contra a Covid-19 nos EUA e 112.800 tiveram efeitos colaterais da vacina., \\n(Score: 0.5011)\\n Published Date: 22/dez/20\\n Link: https://www.boatos.org/mundo/vacina-covid-19-112800-relatos-efeitos-colaterais-cdc.html\\n Assessment: False\\nQuery: As subvariantes BA.4 e BA.5 do novo coronavírus conseguem escapar dos anticorpos de pessoas que tiveram infecção anterior por Covid-19 e aquelas que já receberam a dose de reforço da vacina, de acordo com novos dados de pesquisadores da Escola de Medicina de Harvard. No entanto, a vacinação contra a Covid-19 ainda fornece proteção substancial contra formas graves da doença, e os fabricantes de imunizantes estão trabalhando na atualização de vacinas contra as variantes. Os níveis de anticorpos neutralizantes que uma infecção anterior ou vacinação provocam são várias menores contra as subvariantes BA.4 e BA.5, da Ômicron, em comparação com a cepa original do novo coronavírus, de acordo com a nova pesquisa publicada no New England Journal of Medicine na quarta-feira (22).\\n\\nTop 5 of Similar Claims:\\nClaim Verified: Descobriram que a vacina contra Covid-19 tem óxido de grafeno e que, por isso, pessoas estão se infectando com a doença. Ou seja: nova variante é falsa., \\n(Score: 0.6788)\\n Published Date: 05/jul/21\\n Link: https://www.boatos.org/saude/vacinas-contra-covid-19-contem-80-90-oxido-de-grafeno.html\\n Assessment: False\\nClaim Verified: Vacinas contra Covid-19 estão criando uma nova variante, \\n(Score: 0.6689)\\n Published Date: 02/jun/21\\n Link: https://www.aosfatos.org/noticias/e-falso-que-vacina-contra-covid-19-pode-criar-novas-variantes-do-coronavirus/\\n Assessment: False\\nClaim Verified: Cientista alerta que a vacinação em massa criará novas variantes da Covid-19 e destruirá o sistema imunológico das pessoas., \\n(Score: 0.6653)\\n Published Date: 20/mar/21\\n Link: https://www.boatos.org/saude/vacinacao-em-massa-novas-variantes-covid-19.html\\n Assessment: False\\nClaim Verified: Las vacunas Covid-19 están creando una nueva variante, \\n(Score: 0.6394)\\n Published Date: 02/jun/21\\n Link: https://www.aosfatos.org/noticias/es-falso-que-la-vacuna-contra-la-covid-19-puede-crear-nuevas-variantes-del-coronavirus/\\n Assessment: False\\nClaim Verified: Quem já contraiu a covid-19 não precisa tomar a vacina contra o novo coronavírus, \\n(Score: 0.6268)\\n Published Date: 18/dez/20\\n Link: https://checamos.afp.com/quem-ja-teve-covid-19-pode-se-beneficiar-da-vacina-ao-contrario-do-afirmado-por-bolsonaro\\n Assessment: Misleading\\nQuery: O presidente americano, Joe Biden, disse neste domingo (18) que a pandemia de Covid-19 acabou nos Estados Unidos. \"A pandemia terminou\", disse em entrevista à TV. \"Ainda temos um problema com a Covid. Ainda estamos trabalhando muito nisso... Mas a pandemia acabou. Se prestarem atenção, ninguém usa máscaras. Todo mundo parece estar em boa forma. E, por isso, acredito que está mudando\", afirmou durante o programa \"60 Minutes\", da rede CBS, durante a feira de automóveis de Detroit, evento que não acontecia havia três anos.\\n\\nTop 5 of Similar Claims:\\nClaim Verified: Carta sobre pandemia da Covid-19 enviada ao presidente Bolsonaro está certa ao afirmar que pandemia é uma farsa, que não se deve fazer lockdown, usar máscaras e tomar vacinas., \\n(Score: 0.5210)\\n Published Date: 04/mar/21\\n Link: https://www.boatos.org/saude/carta-enviada-bolsonaro-certa-afirmar-que-covid-19-e-uma-farsa.html\\n Assessment: False\\nClaim Verified: O presidente dos Estados Unidos, Joe Biden, falou sobre não ser mais obrigatório o uso de máscara, enquanto Jair Bolsonaro diz o mesmo e é chamado de genocida, \\n(Score: 0.5108)\\n Published Date: 18/jun/21\\n Link: https://checamos.afp.com/declaracao-do-presidente-dos-eua-joe-biden-sobre-uso-de-mascaras-foi-dada-apos-orientacao-dos-cdc\\n Assessment: No Context\\nClaim Verified: Circula nas redes sociais um print com o apresentador do telejornal Bom Dia DF e a recomendação do não uso de máscaras durante a pandemia. Legendas dizem que se trata de uma reportagem atual. É #FAKE., \\n(Score: 0.5002)\\n Published Date: 14/out/20\\n Link: https://g1.globo.com/fato-ou-fake/coronavirus/noticia/2020/10/14/e-fake-que-telejornal-do-df-fez-recomendacao-para-pessoas-nao-usarem-mais-mascara-apos-sete-meses-de-pandemia.ghtml\\n Assessment: False\\nClaim Verified: Circula pelas redes sociais uma mensagem que diz que nenhum mendigo morre de Covid-19 porque todos são imunes e que isso demonstra que a pandemia é uma grande farsa. É #FAKE., \\n(Score: 0.4970)\\n Published Date: 15/set/20\\n Link: https://g1.globo.com/fato-ou-fake/coronavirus/noticia/2020/09/15/e-fake-que-nenhum-morador-de-rua-morreu-de-covid-19.ghtml\\n Assessment: False\\nClaim Verified: Rede Globo diz que uso de máscaras na pandemia só é necessário para profissionais de saúde, \\n(Score: 0.4753)\\n Published Date: 12/jan/21\\n Link: https://politica.estadao.com.br/blogs/estadao-verifica/reportagem-da-globo-que-indica-nao-usar-mascaras-e-de-marco-de-2020/\\n Assessment: False\\nQuery: EXPOSIÇÃO MICROSCÓPICA DAS VACINAS Em SP, um telão exibe o que um microscópio revela estar presente em uma única gota das vacinas Pfizer, AstraZeneca, Johnson e CoronaVac. Pode ser ver os nano dispositivos, sensores e muitas bactérias\\n\\nTop 5 of Similar Claims:\\nClaim Verified: Vacina contra Covid-19 é magnética, tem chumbo, microchip, nanopartículas e faz com que moedas grudem no braço de vacinados., \\n(Score: 0.5029)\\n Published Date: 20/mai/21\\n Link: https://www.boatos.org/saude/moeda-gruda-braco-quem-tomou-vacina-contra-covid-19.html\\n Assessment: False\\nClaim Verified: Vacina da Pfizer tem micropartículas que podem ser contaminantes, \\n(Score: 0.4940)\\n Published Date: 16/out/21\\n Link: https://politica.estadao.com.br/blogs/estadao-verifica/pfizer-particulas-contaminantes/\\n Assessment: False\\nClaim Verified: Circula nas redes sociais uma mensagem que mostra uma imagem extraída de um microscópio e descreve a cena como a observação de um novo modo de criatura com tentáculos feita de carbono e alumínio e colocada dentro das vacinas. O texto diz ainda que é possível observar na imagem linhas de montagem com nano robôs e partículas magnéticas. É #FAKE., \\n(Score: 0.4901)\\n Published Date: 29/out/21\\n Link: https://g1.globo.com/fato-ou-fake/coronavirus/noticia/2021/10/29/e-fake-que-imagem-microscopica-revele-criatura-de-carbono-e-aluminio-em-sangue-de-vacinado-contra-covid.ghtml\\n Assessment: False\\nClaim Verified: Pfizer aprova patente para rastrear todos os vacinados por meio de microondas, GPS, grafeno e controle remoto., \\n(Score: 0.4630)\\n Published Date: 26/out/21\\n Link: https://www.boatos.org/saude/pfizer-rastreia-vacinados-controle-remoto-e-gps-grafeno-microondas.html\\n Assessment: False\\nClaim Verified: Exames microscópicos mostram vermes e parasitas do tipo “morgellons” em máscaras e cotonetes contaminados da China., \\n(Score: 0.4584)\\n Published Date: 17/jun/21\\n Link: https://www.boatos.org/saude/mascaras-cotonetes-china-vindo-vermes-parasitas-morgellons.html\\n Assessment: False\\nQuery: URGENTE-HARVARD COMPROVA EFICÁCIA DA HIDROXICLOROQUINA Em estudos randomizados, controlados por placebo, duplo cego, pessoas designadas para uso de hidroxicloroquina tiveram 28% menos risco de COvid 19, afirmou Dr, Miguel Herman, professor de Havard. E AGORA?\\n\\nTop 5 of Similar Claims:\\nClaim Verified: Estudo realizado na Itália e que apontou um risco de morte menor entre pacientes que receberam hidroxicloroquina é verdadeiro, mas pesquisadores não propõem que a droga seja usada como potencial tratamento para a covid-19, \\n(Score: 0.5746)\\n Published Date: 31/ago/20\\n Link: https://politica.estadao.com.br/blogs/estadao-verifica/publicacao-distorce-estudo-italiano-ao-sugerir-que-hidroxicloroquina-foi-recomendada-como-potencial-tratamento-para-covid-19/\\n Assessment: Predominantly False\\nClaim Verified: Estudo concluiu que hidroxicloroquina pode aumentar as chances de sobrevivência de pessoas com covid-19 em quase 200%, \\n(Score: 0.5180)\\n Published Date: 16/jun/21\\n Link: https://politica.estadao.com.br/blogs/estadao-verifica/estudo-com-hidroxicloroquina-nao-comprova-eficacia-no-tratamento-precoce/\\n Assessment: Predominantly False\\nClaim Verified: Estudo científico comprova a eficácia da Hidroxicloroquina!!! O estudo (...) contou com uma análise de estudo duplo cego e randomizado de 2.451 pacientes do sistema de saúde Henry Ford, \\n(Score: 0.4919)\\n Published Date: 24/jul/20\\n Link: https://lupa.uol.com.br/jornalismo/2020/07/24/verificamos-estudo-henry-ford-hidroxicloroquina-covid-19\\n Assessment: False\\nClaim Verified: Saiu a comprovação científica da ivermectina e a FDA aprovou o uso de hidroxicloroquina em todos os pacientes com o Covid-19., \\n(Score: 0.4790)\\n Published Date: 18/mai/21\\n Link: https://www.boatos.org/saude/saiu-comprovacao-cientifica-ivermectina-fda-aprova-uso-hidroxicloroquina.html\\n Assessment: False\\nClaim Verified: Post do site Pleno.News afirma que um estudo do Henry Ford Health System comprova a eficácia do tratamento com hidroxicloroquina nos casos de covid-19, \\n(Score: 0.4738)\\n Published Date: 23/jul/20\\n Link: https://politica.estadao.com.br/blogs/estadao-verifica/estudo-da-henry-ford-health-system-e-insuficiente-para-provar-eficacia-da-cloroquina-contra-a-covid-19/\\n Assessment: False\\nQuery: Desde o lançamento das vacinas de mRNA COVID-19, muitos pesquisadores especularam sobre a possibilidade de transmissão de partículas vacinais do vacinado para o não vacinado, mais comumente conhecido como “derramamento de vacina”. Um recente estudo de pré-impressão atraiu a atenção da mídia, pois os resultados do estudo podem ser interpretados como sugestivos de transmissão da vacina por disseminação. Desde o lançamento das vacinas de mRNA COVID-19, muitos pesquisadores especularam sobre a possibilidade de transmissão de partículas vacinais do vacinado para o não vacinado, mais comumente conhecido como “derramamento de vacina”. Embora essas especulações sejam rotineiramente verificadas, histórias anedóticas de pessoas não vacinadas que foram infectadas com COVID-19 ou experimentaram sintomas estranhos após o contato com amigos ou familiares que foram vacinados persistiram. Vários médicos também especularam sobre uma possível transmissão à medida que surgem novas descobertas em apoio a essas ideias. Um recente estudo de pré-impressão atraiu a atenção da mídia, pois os resultados do estudo podem ser interpretados como sugestivos de transmissão da vacina por disseminação.\\n\\nTop 5 of Similar Claims:\\nClaim Verified: Documentos confidenciais revelam que Moderna enviou mRNA candidato a vacina contra coronavírus para pesquisadores da universidade semanas antes do surgimento de Covid-19, \\n(Score: 0.6402)\\n Published Date: 25/jun/21\\n Link: https://checamos.afp.com/este-documento-sobre-coronavirus-nao-prova-que-moderna-elaborou-sua-vacina-antes-da-pandemia\\n Assessment: False\\nClaim Verified: médico afirma que as vacinas em desenvolvimento para a covid-19 e que utilizam as tecnologias de vetor viral, vacina de DNA e vacina de RNA mensageiro podem provocar danos genéticos potenciais em quem se imunizar, \\n(Score: 0.5779)\\n Published Date: 17/dez/20\\n Link: https://politica.estadao.com.br/blogs/estadao-verifica/medico-espalha-informacoes-falsas-sobre-seguranca-das-vacinas-mrna-contra-covid-19/\\n Assessment: False\\nClaim Verified: Vacinas contra a covid-19 causam \"síndrome de imunodeficiência adquirida por vacina\" (vaids), mostra estudo da The Lancet, \\n(Score: 0.5698)\\n Published Date: 23/dez/21\\n Link: https://checamos.afp.com/http%253A%252F%252Fdoc.afp.com%252F9V76V7-1\\n Assessment: False\\nClaim Verified: Uma pessoa genial descobriu, por meio de diversas perguntas retóricas, que a vacina contra Covid-19 não dá imunidade, não elimina o vírus, não impede mortes, fechamentos e não serve para nada., \\n(Score: 0.5455)\\n Published Date: 20/jan/21\\n Link: https://www.boatos.org/saude/vacina-nao-da-imunidade-nao-elimina-virus-nao-impede-morte-nao-serve-para-nada.html\\n Assessment: False\\nClaim Verified: Circula nas redes sociais uma mensagem que diz que os testes do tipo PCR para a Covid-19 levam vermes e parasitas aos pulmões e intestinos das pessoas que são capazes de introduzir vacinas no organismo. É #FAKE., \\n(Score: 0.5285)\\n Published Date: 06/ago/21\\n Link: https://g1.globo.com/fato-ou-fake/coronavirus/noticia/2021/08/06/e-fake-que-testes-pcr-sao-estudos-da-johns-hopkins-para-usar-vermes-robos-na-aplicacao-de-vacinas.ghtml\\n Assessment: False\\nQuery: Um novo estudo prospectivo que inclui mais de 223.000 participantes do sul do Brasil descobriu que a ivermectina reduz a mortalidade por covid-19 em 92% . O uso de ivermectina foi associado a reduções não apenas na mortalidade por COVID-19, mas também nas hospitalizações e nas taxas de infecção. Como profilático, a ivermectina mostrou-se mais eficaz de maneira dose-dependente. À medida que a dose de ivermectina aumentava, os pacientes tinham maior probabilidade de se recuperar da covid-19. Evidências preliminares também mostram que os pacientes se recuperam mais rapidamente com ivermectina .\\n\\nTop 5 of Similar Claims:\\nClaim Verified: Nesse final de semana, [em um] congresso realizado em Brasília, congresso mundial de medicina realizado em Brasília, o SUS, quem diria, apresentou um estudo mostrando que a ivermectina reduziu em quase 46% o número de mortes por Covid-19. [...] Envolveu uma cidade inteira, mais precisamente a cidade de Itajaí, em Santa Catarina. [...] Esse estudo catalogou 220 mil pessoas que, nos dados estatísticos, aqueles que tomaram ivermectina tiveram uma redução de 46% no índice de mortes., \\n(Score: 0.5965)\\n Published Date: 07/jan/22\\n Link: https://lupa.uol.com.br/jornalismo/2022/01/07/verificamos-estudo-itajai-ivermectina-covid\\n Assessment: False\\nClaim Verified: Circula nas redes sociais uma mensagem que diz que uma pesquisa feita nos Estados unidos mostrou que apenas 6% das mortes atribuídas à Covid-19 no país tiveram, de fato, a infecção pelo coronavírus como causa. A conclusão é que o mesmo se aplica ao Brasil. É #FAKE., \\n(Score: 0.5846)\\n Published Date: 02/set/20\\n Link: https://g1.globo.com/fato-ou-fake/coronavirus/noticia/2020/09/02/e-fake-que-pesquisa-revelou-que-so-6percent-das-mortes-atribuidas-a-covid-19-nos-estados-unidos-foram-mesmo-causadas-pelo-coronavirus.ghtml\\n Assessment: False\\nClaim Verified: Dados do Portal da Transparência do registro civil de cartórios comprovam que não há epidemia de Covid-19 no Brasil e que o número de mortes no Brasil em 2020 é menor do que nos outros anos., \\n(Score: 0.5673)\\n Published Date: 08/mai/20\\n Link: https://www.boatos.org/saude/registro-civil-cartorios-comprovam-nao-ha-epidemia-covid-19-brasil.html\\n Assessment: False\\nClaim Verified: O SUS realizou um estudo que mostra que a ivermectina é eficaz no combate à Covid-19. Remédio reduz 46% das mortes causadas pela doença., \\n(Score: 0.5618)\\n Published Date: 18/dez/21\\n Link: https://www.boatos.org/saude/estudo-feito-sus-comprova-eficacia-ivermectina-combate-covid-19.html\\n Assessment: False\\nClaim Verified: O Brasil não teve nenhuma morte por dengue registrada em 2021. Isso porque somente mortes por Covid-19 estão sendo registradas para “inflar” os casos., \\n(Score: 0.5579)\\n Published Date: 28/mar/21\\n Link: https://www.boatos.org/saude/brasil-nao-teve-morte-por-dengue-2021.html\\n Assessment: False\\nQuery: O câncer começa quando as alterações genéticas interferem na replicação normal e na reposição das células do corpo. As células começam a crescer descontroladamente e podem formar um tumor. É a segunda principal causa de morte nos Estados Unidos. Infelizmente, parece que a doença pode estar aumentando graças às injeções experimentais de Covid-19. Porque os dados oficiais do governo dos EUA confirmam que o risco de desenvolver câncer após a vacinação contra o Covid-19 aumenta em chocantes 143.233%\\n\\nTop 5 of Similar Claims:\\nClaim Verified: Vacinas contra a Covid-19 podem alterar o DNA e causar câncer., \\n(Score: 0.5743)\\n Published Date: 26/jan/21\\n Link: https://www.aosfatos.org/noticias/vacinas-contra-covid-19-nao-alteram-o-codigo-genetico-nem-podem-causar-cancer/\\n Assessment: False\\nClaim Verified: A Rússia se tornou o primeiro país do mundo a realizar uma autópsia (post mortem) em um cadáver de Covid-19 e, após uma investigação abrangente, descobriu que o Covid-19 não existe como um vírus. É um golpe mundial. Pessoas estão morrendo devido à \"radiação eletromagnética mundial 5G amplificada (veneno)\". (...) Compartilhe esta informação com toda a sua família, vizinhos, conhecidos, amigos, colegas para que eles possam sair do medo da Covid-19 e entender que este não é um vírus, mas apenas uma bactéria exposta à radiação 5G. (...) Fonte: Ministério da Saúde Russa, \\n(Score: 0.5049)\\n Published Date: 08/mar/21\\n Link: https://lupa.uol.com.br/jornalismo/2021/03/08/verificamos-russia-bacteria-5g\\n Assessment: False\\nClaim Verified: Vacinas contra a covid causam câncer, \\n(Score: 0.4801)\\n Published Date: 23/set/21\\n Link: https://politica.estadao.com.br/blogs/estadao-verifica/vacinas-covid-cancer-falso/\\n Assessment: Predominantly False\\nClaim Verified: Vacina contra o coronavírus tem como intenção reduzir a população mundial, além de provocar câncer, alterações genéticas, problemas de fertilidade e “homossexualismo”., \\n(Score: 0.4766)\\n Published Date: 29/out/20\\n Link: https://politica.estadao.com.br/blogs/estadao-verifica/em-audio-no-whatsapp-engenheiro-faz-alegacoes-fantasiosas-sobre-covid-19-e-vacinas-em-testes/\\n Assessment: False\\nClaim Verified: Circula pelas redes sociais uma mensagem que diz que as vacinas contra a Covid-19 provocam câncer de mama. É #FAKE., \\n(Score: 0.4702)\\n Published Date: 13/mai/21\\n Link: https://g1.globo.com/fato-ou-fake/coronavirus/noticia/2021/05/13/e-fake-que-vacina-contra-a-covid-19-provoca-cancer-de-mama.ghtml\\n Assessment: False\\n'"
            ],
            "application/vnd.google.colaboratory.intrinsic+json": {
              "type": "string"
            }
          },
          "metadata": {},
          "execution_count": 15
        }
      ]
    },
    {
      "cell_type": "markdown",
      "source": [
        "# FINAL FUNCTION DEMONSTRATION ON SAMPLE QUERY"
      ],
      "metadata": {
        "id": "48lVPzAFr-hV"
      }
    },
    {
      "cell_type": "code",
      "source": [
        "# Defining the sample query as the user would provide\n",
        "sample_query = ['Um novo estudo prospectivo que inclui mais de 223.000 participantes do sul do Brasil descobriu que a ivermectina reduz a mortalidade por covid-19 em 92% . O uso de ivermectina foi associado a reduções não apenas na mortalidade por COVID-19, mas também nas hospitalizações e nas taxas de infecção. Como profilático, a ivermectina mostrou-se mais eficaz de maneira dose-dependente. À medida que a dose de ivermectina aumentava, os pacientes tinham maior probabilidade de se recuperar da covid-19. Evidências preliminares também mostram que os pacientes se recuperam mais rapidamente com ivermectina .']"
      ],
      "metadata": {
        "id": "y4MML1G9jIkW"
      },
      "execution_count": 16,
      "outputs": []
    },
    {
      "cell_type": "code",
      "execution_count": 17,
      "metadata": {
        "id": "7LJQfx1m6MKJ"
      },
      "outputs": [],
      "source": [
        "# Final function calls the function loaded_model_Predict once for the first feature of the application\n",
        "# (Is the input data a case of disinformation or not?) and then for the second feature (What are the Covid-related themes?),\n",
        "# transforming the positive output into a list of indexes, to be translated to the themes in the front end.\n",
        "# Next, it runs the function generate_top_5. The final output is transformed into a JSON string,\n",
        "# which is the method of transfer from the backend to the front end.\n",
        "# As all tokenizers and models are saved into the application server, the load time is definitely viable for a web application.\n",
        "# As such, this function was run again after the loading of the tokenizer and the model to exemply a normal run.\n",
        "\n",
        "def getOutputAsJson():\n",
        "  start = time.time()\n",
        "\n",
        "  feature_fake_or_not = loaded_model_predict(\"BERTPT\", dataset = sample_query)\n",
        "\n",
        "  feature_theme_output = loaded_model_predict(\"DEBERTA_ML\", dataset = sample_query, multilabel=True)\n",
        "  positives_outcomes = np.where(feature_theme_output == 1)\n",
        "  feature_theme = positives_outcomes[1].tolist()\n",
        "\n",
        "  feature_top5_similar_results = generate_top5(sample_query)\n",
        "  end = time.time()\n",
        "  total_time = end - start\n",
        "  data = {\n",
        "    'Probability' : str(feature_fake_or_not),\n",
        "\n",
        "    'Covid Themes' : str(feature_theme),\n",
        "\n",
        "    'Similar Claims TOP 5' : feature_top5_similar_results\n",
        "  }\n",
        "  print(f\"Total Time: {total_time}\")\n",
        "  json_string = json.dumps(data,ensure_ascii=False)\n",
        "  return json_string"
      ]
    },
    {
      "cell_type": "code",
      "execution_count": 18,
      "metadata": {
        "id": "nLFlKZac7qgh",
        "colab": {
          "base_uri": "https://localhost:8080/",
          "height": 244
        },
        "outputId": "36c7cbb3-e6e3-4277-97c4-def87f9dd70e"
      },
      "outputs": [
        {
          "output_type": "display_data",
          "data": {
            "text/plain": [
              "<IPython.core.display.HTML object>"
            ],
            "text/html": []
          },
          "metadata": {}
        },
        {
          "output_type": "stream",
          "name": "stdout",
          "text": [
            "[1]\n",
            "Prediction Time: 3.051880359649658\n"
          ]
        },
        {
          "output_type": "display_data",
          "data": {
            "text/plain": [
              "<IPython.core.display.HTML object>"
            ],
            "text/html": []
          },
          "metadata": {}
        },
        {
          "output_type": "stream",
          "name": "stdout",
          "text": [
            "[[0. 0. 0. 0. 1. 0. 0. 0.]]\n",
            "Prediction Time: 4.97222113609314\n",
            "Total Time: 16.767685413360596\n"
          ]
        },
        {
          "output_type": "execute_result",
          "data": {
            "text/plain": [
              "'{\"Probability\": \"[1]\", \"Covid Themes\": \"[4]\", \"Similar Claims TOP 5\": \"Query: Um novo estudo prospectivo que inclui mais de 223.000 participantes do sul do Brasil descobriu que a ivermectina reduz a mortalidade por covid-19 em 92% . O uso de ivermectina foi associado a reduções não apenas na mortalidade por COVID-19, mas também nas hospitalizações e nas taxas de infecção. Como profilático, a ivermectina mostrou-se mais eficaz de maneira dose-dependente. À medida que a dose de ivermectina aumentava, os pacientes tinham maior probabilidade de se recuperar da covid-19. Evidências preliminares também mostram que os pacientes se recuperam mais rapidamente com ivermectina .\\\\n\\\\nTop 5 of Similar Claims:\\\\nClaim Verified: Nesse final de semana, [em um] congresso realizado em Brasília, congresso mundial de medicina realizado em Brasília, o SUS, quem diria, apresentou um estudo mostrando que a ivermectina reduziu em quase 46% o número de mortes por Covid-19. [...] Envolveu uma cidade inteira, mais precisamente a cidade de Itajaí, em Santa Catarina. [...] Esse estudo catalogou 220 mil pessoas que, nos dados estatísticos, aqueles que tomaram ivermectina tiveram uma redução de 46% no índice de mortes., \\\\n(Score: 0.5965)\\\\n Published Date: 07/jan/22\\\\n Link: https://lupa.uol.com.br/jornalismo/2022/01/07/verificamos-estudo-itajai-ivermectina-covid\\\\n Assessment: False\\\\nClaim Verified: Circula nas redes sociais uma mensagem que diz que uma pesquisa feita nos Estados unidos mostrou que apenas 6% das mortes atribuídas à Covid-19 no país tiveram, de fato, a infecção pelo coronavírus como causa. A conclusão é que o mesmo se aplica ao Brasil. É #FAKE., \\\\n(Score: 0.5846)\\\\n Published Date: 02/set/20\\\\n Link: https://g1.globo.com/fato-ou-fake/coronavirus/noticia/2020/09/02/e-fake-que-pesquisa-revelou-que-so-6percent-das-mortes-atribuidas-a-covid-19-nos-estados-unidos-foram-mesmo-causadas-pelo-coronavirus.ghtml\\\\n Assessment: False\\\\nClaim Verified: Dados do Portal da Transparência do registro civil de cartórios comprovam que não há epidemia de Covid-19 no Brasil e que o número de mortes no Brasil em 2020 é menor do que nos outros anos., \\\\n(Score: 0.5673)\\\\n Published Date: 08/mai/20\\\\n Link: https://www.boatos.org/saude/registro-civil-cartorios-comprovam-nao-ha-epidemia-covid-19-brasil.html\\\\n Assessment: False\\\\nClaim Verified: O SUS realizou um estudo que mostra que a ivermectina é eficaz no combate à Covid-19. Remédio reduz 46% das mortes causadas pela doença., \\\\n(Score: 0.5618)\\\\n Published Date: 18/dez/21\\\\n Link: https://www.boatos.org/saude/estudo-feito-sus-comprova-eficacia-ivermectina-combate-covid-19.html\\\\n Assessment: False\\\\nClaim Verified: O Brasil não teve nenhuma morte por dengue registrada em 2021. Isso porque somente mortes por Covid-19 estão sendo registradas para “inflar” os casos., \\\\n(Score: 0.5579)\\\\n Published Date: 28/mar/21\\\\n Link: https://www.boatos.org/saude/brasil-nao-teve-morte-por-dengue-2021.html\\\\n Assessment: False\\\\n\"}'"
            ],
            "application/vnd.google.colaboratory.intrinsic+json": {
              "type": "string"
            }
          },
          "metadata": {},
          "execution_count": 18
        }
      ],
      "source": [
        "json_string = getOutputAsJson()\n",
        "json_string"
      ]
    },
    {
      "cell_type": "code",
      "source": [
        "# This is a way to save the JSON string to upload to GitHub as an example\n",
        "def saveJsonFile(json_string):\n",
        "  with open('json_data.json', 'w', encoding='utf-8') as outfile:\n",
        "    outfile.write(json_string)"
      ],
      "metadata": {
        "id": "MCHh3N8ytVOl"
      },
      "execution_count": 19,
      "outputs": []
    },
    {
      "cell_type": "code",
      "source": [
        "saveJsonFile(json_string)"
      ],
      "metadata": {
        "id": "6raej6mmtV6G"
      },
      "execution_count": 20,
      "outputs": []
    }
  ],
  "metadata": {
    "accelerator": "GPU",
    "colab": {
      "provenance": [],
      "gpuType": "T4",
      "include_colab_link": true
    },
    "kernelspec": {
      "display_name": "Python 3",
      "name": "python3"
    },
    "language_info": {
      "name": "python"
    },
    "widgets": {
      "application/vnd.jupyter.widget-state+json": {
        "3862bbf132424e3fbcdf6d1ea6aec6f3": {
          "model_module": "@jupyter-widgets/controls",
          "model_name": "HBoxModel",
          "model_module_version": "1.5.0",
          "state": {
            "_dom_classes": [],
            "_model_module": "@jupyter-widgets/controls",
            "_model_module_version": "1.5.0",
            "_model_name": "HBoxModel",
            "_view_count": null,
            "_view_module": "@jupyter-widgets/controls",
            "_view_module_version": "1.5.0",
            "_view_name": "HBoxView",
            "box_style": "",
            "children": [
              "IPY_MODEL_4e1037d520f44b28b654ca759bbaa432",
              "IPY_MODEL_182dc53cfe39488aae499bfd118a1de3",
              "IPY_MODEL_d197e4716de74a80bc0b1e7d93022e2c"
            ],
            "layout": "IPY_MODEL_afd2d5bee9a34ba78ee24cdcf7d75fdb"
          }
        },
        "4e1037d520f44b28b654ca759bbaa432": {
          "model_module": "@jupyter-widgets/controls",
          "model_name": "HTMLModel",
          "model_module_version": "1.5.0",
          "state": {
            "_dom_classes": [],
            "_model_module": "@jupyter-widgets/controls",
            "_model_module_version": "1.5.0",
            "_model_name": "HTMLModel",
            "_view_count": null,
            "_view_module": "@jupyter-widgets/controls",
            "_view_module_version": "1.5.0",
            "_view_name": "HTMLView",
            "description": "",
            "description_tooltip": null,
            "layout": "IPY_MODEL_e3d08f60db444315bd5dd9851d0f8f3d",
            "placeholder": "​",
            "style": "IPY_MODEL_6817a987ac9c468485627a208e534ac6",
            "value": ".gitattributes: 100%"
          }
        },
        "182dc53cfe39488aae499bfd118a1de3": {
          "model_module": "@jupyter-widgets/controls",
          "model_name": "FloatProgressModel",
          "model_module_version": "1.5.0",
          "state": {
            "_dom_classes": [],
            "_model_module": "@jupyter-widgets/controls",
            "_model_module_version": "1.5.0",
            "_model_name": "FloatProgressModel",
            "_view_count": null,
            "_view_module": "@jupyter-widgets/controls",
            "_view_module_version": "1.5.0",
            "_view_name": "ProgressView",
            "bar_style": "success",
            "description": "",
            "description_tooltip": null,
            "layout": "IPY_MODEL_a36f72203e6a4ef385596d27123eb53b",
            "max": 690,
            "min": 0,
            "orientation": "horizontal",
            "style": "IPY_MODEL_95277f410f0246fdb1956b83d4b5dbae",
            "value": 690
          }
        },
        "d197e4716de74a80bc0b1e7d93022e2c": {
          "model_module": "@jupyter-widgets/controls",
          "model_name": "HTMLModel",
          "model_module_version": "1.5.0",
          "state": {
            "_dom_classes": [],
            "_model_module": "@jupyter-widgets/controls",
            "_model_module_version": "1.5.0",
            "_model_name": "HTMLModel",
            "_view_count": null,
            "_view_module": "@jupyter-widgets/controls",
            "_view_module_version": "1.5.0",
            "_view_name": "HTMLView",
            "description": "",
            "description_tooltip": null,
            "layout": "IPY_MODEL_a51403bbc80148a08d2dd0fcbc08e3fb",
            "placeholder": "​",
            "style": "IPY_MODEL_fdffef1a97f847c88c00fd3fa4ae507f",
            "value": " 690/690 [00:00&lt;00:00, 45.3kB/s]"
          }
        },
        "afd2d5bee9a34ba78ee24cdcf7d75fdb": {
          "model_module": "@jupyter-widgets/base",
          "model_name": "LayoutModel",
          "model_module_version": "1.2.0",
          "state": {
            "_model_module": "@jupyter-widgets/base",
            "_model_module_version": "1.2.0",
            "_model_name": "LayoutModel",
            "_view_count": null,
            "_view_module": "@jupyter-widgets/base",
            "_view_module_version": "1.2.0",
            "_view_name": "LayoutView",
            "align_content": null,
            "align_items": null,
            "align_self": null,
            "border": null,
            "bottom": null,
            "display": null,
            "flex": null,
            "flex_flow": null,
            "grid_area": null,
            "grid_auto_columns": null,
            "grid_auto_flow": null,
            "grid_auto_rows": null,
            "grid_column": null,
            "grid_gap": null,
            "grid_row": null,
            "grid_template_areas": null,
            "grid_template_columns": null,
            "grid_template_rows": null,
            "height": null,
            "justify_content": null,
            "justify_items": null,
            "left": null,
            "margin": null,
            "max_height": null,
            "max_width": null,
            "min_height": null,
            "min_width": null,
            "object_fit": null,
            "object_position": null,
            "order": null,
            "overflow": null,
            "overflow_x": null,
            "overflow_y": null,
            "padding": null,
            "right": null,
            "top": null,
            "visibility": null,
            "width": null
          }
        },
        "e3d08f60db444315bd5dd9851d0f8f3d": {
          "model_module": "@jupyter-widgets/base",
          "model_name": "LayoutModel",
          "model_module_version": "1.2.0",
          "state": {
            "_model_module": "@jupyter-widgets/base",
            "_model_module_version": "1.2.0",
            "_model_name": "LayoutModel",
            "_view_count": null,
            "_view_module": "@jupyter-widgets/base",
            "_view_module_version": "1.2.0",
            "_view_name": "LayoutView",
            "align_content": null,
            "align_items": null,
            "align_self": null,
            "border": null,
            "bottom": null,
            "display": null,
            "flex": null,
            "flex_flow": null,
            "grid_area": null,
            "grid_auto_columns": null,
            "grid_auto_flow": null,
            "grid_auto_rows": null,
            "grid_column": null,
            "grid_gap": null,
            "grid_row": null,
            "grid_template_areas": null,
            "grid_template_columns": null,
            "grid_template_rows": null,
            "height": null,
            "justify_content": null,
            "justify_items": null,
            "left": null,
            "margin": null,
            "max_height": null,
            "max_width": null,
            "min_height": null,
            "min_width": null,
            "object_fit": null,
            "object_position": null,
            "order": null,
            "overflow": null,
            "overflow_x": null,
            "overflow_y": null,
            "padding": null,
            "right": null,
            "top": null,
            "visibility": null,
            "width": null
          }
        },
        "6817a987ac9c468485627a208e534ac6": {
          "model_module": "@jupyter-widgets/controls",
          "model_name": "DescriptionStyleModel",
          "model_module_version": "1.5.0",
          "state": {
            "_model_module": "@jupyter-widgets/controls",
            "_model_module_version": "1.5.0",
            "_model_name": "DescriptionStyleModel",
            "_view_count": null,
            "_view_module": "@jupyter-widgets/base",
            "_view_module_version": "1.2.0",
            "_view_name": "StyleView",
            "description_width": ""
          }
        },
        "a36f72203e6a4ef385596d27123eb53b": {
          "model_module": "@jupyter-widgets/base",
          "model_name": "LayoutModel",
          "model_module_version": "1.2.0",
          "state": {
            "_model_module": "@jupyter-widgets/base",
            "_model_module_version": "1.2.0",
            "_model_name": "LayoutModel",
            "_view_count": null,
            "_view_module": "@jupyter-widgets/base",
            "_view_module_version": "1.2.0",
            "_view_name": "LayoutView",
            "align_content": null,
            "align_items": null,
            "align_self": null,
            "border": null,
            "bottom": null,
            "display": null,
            "flex": null,
            "flex_flow": null,
            "grid_area": null,
            "grid_auto_columns": null,
            "grid_auto_flow": null,
            "grid_auto_rows": null,
            "grid_column": null,
            "grid_gap": null,
            "grid_row": null,
            "grid_template_areas": null,
            "grid_template_columns": null,
            "grid_template_rows": null,
            "height": null,
            "justify_content": null,
            "justify_items": null,
            "left": null,
            "margin": null,
            "max_height": null,
            "max_width": null,
            "min_height": null,
            "min_width": null,
            "object_fit": null,
            "object_position": null,
            "order": null,
            "overflow": null,
            "overflow_x": null,
            "overflow_y": null,
            "padding": null,
            "right": null,
            "top": null,
            "visibility": null,
            "width": null
          }
        },
        "95277f410f0246fdb1956b83d4b5dbae": {
          "model_module": "@jupyter-widgets/controls",
          "model_name": "ProgressStyleModel",
          "model_module_version": "1.5.0",
          "state": {
            "_model_module": "@jupyter-widgets/controls",
            "_model_module_version": "1.5.0",
            "_model_name": "ProgressStyleModel",
            "_view_count": null,
            "_view_module": "@jupyter-widgets/base",
            "_view_module_version": "1.2.0",
            "_view_name": "StyleView",
            "bar_color": null,
            "description_width": ""
          }
        },
        "a51403bbc80148a08d2dd0fcbc08e3fb": {
          "model_module": "@jupyter-widgets/base",
          "model_name": "LayoutModel",
          "model_module_version": "1.2.0",
          "state": {
            "_model_module": "@jupyter-widgets/base",
            "_model_module_version": "1.2.0",
            "_model_name": "LayoutModel",
            "_view_count": null,
            "_view_module": "@jupyter-widgets/base",
            "_view_module_version": "1.2.0",
            "_view_name": "LayoutView",
            "align_content": null,
            "align_items": null,
            "align_self": null,
            "border": null,
            "bottom": null,
            "display": null,
            "flex": null,
            "flex_flow": null,
            "grid_area": null,
            "grid_auto_columns": null,
            "grid_auto_flow": null,
            "grid_auto_rows": null,
            "grid_column": null,
            "grid_gap": null,
            "grid_row": null,
            "grid_template_areas": null,
            "grid_template_columns": null,
            "grid_template_rows": null,
            "height": null,
            "justify_content": null,
            "justify_items": null,
            "left": null,
            "margin": null,
            "max_height": null,
            "max_width": null,
            "min_height": null,
            "min_width": null,
            "object_fit": null,
            "object_position": null,
            "order": null,
            "overflow": null,
            "overflow_x": null,
            "overflow_y": null,
            "padding": null,
            "right": null,
            "top": null,
            "visibility": null,
            "width": null
          }
        },
        "fdffef1a97f847c88c00fd3fa4ae507f": {
          "model_module": "@jupyter-widgets/controls",
          "model_name": "DescriptionStyleModel",
          "model_module_version": "1.5.0",
          "state": {
            "_model_module": "@jupyter-widgets/controls",
            "_model_module_version": "1.5.0",
            "_model_name": "DescriptionStyleModel",
            "_view_count": null,
            "_view_module": "@jupyter-widgets/base",
            "_view_module_version": "1.2.0",
            "_view_name": "StyleView",
            "description_width": ""
          }
        },
        "22fcf51930c1482f8fd38715a40e49dc": {
          "model_module": "@jupyter-widgets/controls",
          "model_name": "HBoxModel",
          "model_module_version": "1.5.0",
          "state": {
            "_dom_classes": [],
            "_model_module": "@jupyter-widgets/controls",
            "_model_module_version": "1.5.0",
            "_model_name": "HBoxModel",
            "_view_count": null,
            "_view_module": "@jupyter-widgets/controls",
            "_view_module_version": "1.5.0",
            "_view_name": "HBoxView",
            "box_style": "",
            "children": [
              "IPY_MODEL_1beb9fdc28a940a7a76da759c172316f",
              "IPY_MODEL_dedac5ae481d4791a5f81b8083e6dbf3",
              "IPY_MODEL_642547132dd744f18d02efa2836181bd"
            ],
            "layout": "IPY_MODEL_cdf915f201fa4460b3e01d601121d433"
          }
        },
        "1beb9fdc28a940a7a76da759c172316f": {
          "model_module": "@jupyter-widgets/controls",
          "model_name": "HTMLModel",
          "model_module_version": "1.5.0",
          "state": {
            "_dom_classes": [],
            "_model_module": "@jupyter-widgets/controls",
            "_model_module_version": "1.5.0",
            "_model_name": "HTMLModel",
            "_view_count": null,
            "_view_module": "@jupyter-widgets/controls",
            "_view_module_version": "1.5.0",
            "_view_name": "HTMLView",
            "description": "",
            "description_tooltip": null,
            "layout": "IPY_MODEL_d66e6432cee346cf82c52f92aef88421",
            "placeholder": "​",
            "style": "IPY_MODEL_d4ed2f4fa26e48699b6d81a963441f0c",
            "value": "1_Pooling/config.json: 100%"
          }
        },
        "dedac5ae481d4791a5f81b8083e6dbf3": {
          "model_module": "@jupyter-widgets/controls",
          "model_name": "FloatProgressModel",
          "model_module_version": "1.5.0",
          "state": {
            "_dom_classes": [],
            "_model_module": "@jupyter-widgets/controls",
            "_model_module_version": "1.5.0",
            "_model_name": "FloatProgressModel",
            "_view_count": null,
            "_view_module": "@jupyter-widgets/controls",
            "_view_module_version": "1.5.0",
            "_view_name": "ProgressView",
            "bar_style": "success",
            "description": "",
            "description_tooltip": null,
            "layout": "IPY_MODEL_1ca36565fdb64cc1904875af00143d0c",
            "max": 190,
            "min": 0,
            "orientation": "horizontal",
            "style": "IPY_MODEL_85138a80dd6f40d18fe0ebc018bd8f58",
            "value": 190
          }
        },
        "642547132dd744f18d02efa2836181bd": {
          "model_module": "@jupyter-widgets/controls",
          "model_name": "HTMLModel",
          "model_module_version": "1.5.0",
          "state": {
            "_dom_classes": [],
            "_model_module": "@jupyter-widgets/controls",
            "_model_module_version": "1.5.0",
            "_model_name": "HTMLModel",
            "_view_count": null,
            "_view_module": "@jupyter-widgets/controls",
            "_view_module_version": "1.5.0",
            "_view_name": "HTMLView",
            "description": "",
            "description_tooltip": null,
            "layout": "IPY_MODEL_840afdcde52d44f8855644887d3dae30",
            "placeholder": "​",
            "style": "IPY_MODEL_e95afb8f6471408ab57b5a6568f09da7",
            "value": " 190/190 [00:00&lt;00:00, 5.73kB/s]"
          }
        },
        "cdf915f201fa4460b3e01d601121d433": {
          "model_module": "@jupyter-widgets/base",
          "model_name": "LayoutModel",
          "model_module_version": "1.2.0",
          "state": {
            "_model_module": "@jupyter-widgets/base",
            "_model_module_version": "1.2.0",
            "_model_name": "LayoutModel",
            "_view_count": null,
            "_view_module": "@jupyter-widgets/base",
            "_view_module_version": "1.2.0",
            "_view_name": "LayoutView",
            "align_content": null,
            "align_items": null,
            "align_self": null,
            "border": null,
            "bottom": null,
            "display": null,
            "flex": null,
            "flex_flow": null,
            "grid_area": null,
            "grid_auto_columns": null,
            "grid_auto_flow": null,
            "grid_auto_rows": null,
            "grid_column": null,
            "grid_gap": null,
            "grid_row": null,
            "grid_template_areas": null,
            "grid_template_columns": null,
            "grid_template_rows": null,
            "height": null,
            "justify_content": null,
            "justify_items": null,
            "left": null,
            "margin": null,
            "max_height": null,
            "max_width": null,
            "min_height": null,
            "min_width": null,
            "object_fit": null,
            "object_position": null,
            "order": null,
            "overflow": null,
            "overflow_x": null,
            "overflow_y": null,
            "padding": null,
            "right": null,
            "top": null,
            "visibility": null,
            "width": null
          }
        },
        "d66e6432cee346cf82c52f92aef88421": {
          "model_module": "@jupyter-widgets/base",
          "model_name": "LayoutModel",
          "model_module_version": "1.2.0",
          "state": {
            "_model_module": "@jupyter-widgets/base",
            "_model_module_version": "1.2.0",
            "_model_name": "LayoutModel",
            "_view_count": null,
            "_view_module": "@jupyter-widgets/base",
            "_view_module_version": "1.2.0",
            "_view_name": "LayoutView",
            "align_content": null,
            "align_items": null,
            "align_self": null,
            "border": null,
            "bottom": null,
            "display": null,
            "flex": null,
            "flex_flow": null,
            "grid_area": null,
            "grid_auto_columns": null,
            "grid_auto_flow": null,
            "grid_auto_rows": null,
            "grid_column": null,
            "grid_gap": null,
            "grid_row": null,
            "grid_template_areas": null,
            "grid_template_columns": null,
            "grid_template_rows": null,
            "height": null,
            "justify_content": null,
            "justify_items": null,
            "left": null,
            "margin": null,
            "max_height": null,
            "max_width": null,
            "min_height": null,
            "min_width": null,
            "object_fit": null,
            "object_position": null,
            "order": null,
            "overflow": null,
            "overflow_x": null,
            "overflow_y": null,
            "padding": null,
            "right": null,
            "top": null,
            "visibility": null,
            "width": null
          }
        },
        "d4ed2f4fa26e48699b6d81a963441f0c": {
          "model_module": "@jupyter-widgets/controls",
          "model_name": "DescriptionStyleModel",
          "model_module_version": "1.5.0",
          "state": {
            "_model_module": "@jupyter-widgets/controls",
            "_model_module_version": "1.5.0",
            "_model_name": "DescriptionStyleModel",
            "_view_count": null,
            "_view_module": "@jupyter-widgets/base",
            "_view_module_version": "1.2.0",
            "_view_name": "StyleView",
            "description_width": ""
          }
        },
        "1ca36565fdb64cc1904875af00143d0c": {
          "model_module": "@jupyter-widgets/base",
          "model_name": "LayoutModel",
          "model_module_version": "1.2.0",
          "state": {
            "_model_module": "@jupyter-widgets/base",
            "_model_module_version": "1.2.0",
            "_model_name": "LayoutModel",
            "_view_count": null,
            "_view_module": "@jupyter-widgets/base",
            "_view_module_version": "1.2.0",
            "_view_name": "LayoutView",
            "align_content": null,
            "align_items": null,
            "align_self": null,
            "border": null,
            "bottom": null,
            "display": null,
            "flex": null,
            "flex_flow": null,
            "grid_area": null,
            "grid_auto_columns": null,
            "grid_auto_flow": null,
            "grid_auto_rows": null,
            "grid_column": null,
            "grid_gap": null,
            "grid_row": null,
            "grid_template_areas": null,
            "grid_template_columns": null,
            "grid_template_rows": null,
            "height": null,
            "justify_content": null,
            "justify_items": null,
            "left": null,
            "margin": null,
            "max_height": null,
            "max_width": null,
            "min_height": null,
            "min_width": null,
            "object_fit": null,
            "object_position": null,
            "order": null,
            "overflow": null,
            "overflow_x": null,
            "overflow_y": null,
            "padding": null,
            "right": null,
            "top": null,
            "visibility": null,
            "width": null
          }
        },
        "85138a80dd6f40d18fe0ebc018bd8f58": {
          "model_module": "@jupyter-widgets/controls",
          "model_name": "ProgressStyleModel",
          "model_module_version": "1.5.0",
          "state": {
            "_model_module": "@jupyter-widgets/controls",
            "_model_module_version": "1.5.0",
            "_model_name": "ProgressStyleModel",
            "_view_count": null,
            "_view_module": "@jupyter-widgets/base",
            "_view_module_version": "1.2.0",
            "_view_name": "StyleView",
            "bar_color": null,
            "description_width": ""
          }
        },
        "840afdcde52d44f8855644887d3dae30": {
          "model_module": "@jupyter-widgets/base",
          "model_name": "LayoutModel",
          "model_module_version": "1.2.0",
          "state": {
            "_model_module": "@jupyter-widgets/base",
            "_model_module_version": "1.2.0",
            "_model_name": "LayoutModel",
            "_view_count": null,
            "_view_module": "@jupyter-widgets/base",
            "_view_module_version": "1.2.0",
            "_view_name": "LayoutView",
            "align_content": null,
            "align_items": null,
            "align_self": null,
            "border": null,
            "bottom": null,
            "display": null,
            "flex": null,
            "flex_flow": null,
            "grid_area": null,
            "grid_auto_columns": null,
            "grid_auto_flow": null,
            "grid_auto_rows": null,
            "grid_column": null,
            "grid_gap": null,
            "grid_row": null,
            "grid_template_areas": null,
            "grid_template_columns": null,
            "grid_template_rows": null,
            "height": null,
            "justify_content": null,
            "justify_items": null,
            "left": null,
            "margin": null,
            "max_height": null,
            "max_width": null,
            "min_height": null,
            "min_width": null,
            "object_fit": null,
            "object_position": null,
            "order": null,
            "overflow": null,
            "overflow_x": null,
            "overflow_y": null,
            "padding": null,
            "right": null,
            "top": null,
            "visibility": null,
            "width": null
          }
        },
        "e95afb8f6471408ab57b5a6568f09da7": {
          "model_module": "@jupyter-widgets/controls",
          "model_name": "DescriptionStyleModel",
          "model_module_version": "1.5.0",
          "state": {
            "_model_module": "@jupyter-widgets/controls",
            "_model_module_version": "1.5.0",
            "_model_name": "DescriptionStyleModel",
            "_view_count": null,
            "_view_module": "@jupyter-widgets/base",
            "_view_module_version": "1.2.0",
            "_view_name": "StyleView",
            "description_width": ""
          }
        },
        "0bfb02bc90cd4894a22259556b298093": {
          "model_module": "@jupyter-widgets/controls",
          "model_name": "HBoxModel",
          "model_module_version": "1.5.0",
          "state": {
            "_dom_classes": [],
            "_model_module": "@jupyter-widgets/controls",
            "_model_module_version": "1.5.0",
            "_model_name": "HBoxModel",
            "_view_count": null,
            "_view_module": "@jupyter-widgets/controls",
            "_view_module_version": "1.5.0",
            "_view_name": "HBoxView",
            "box_style": "",
            "children": [
              "IPY_MODEL_01732c4754864516a11019ff1613b4b7",
              "IPY_MODEL_669d76802ad140389915412c3c3acf6a",
              "IPY_MODEL_b3d920af8d7d45fc8045b302aa3315f1"
            ],
            "layout": "IPY_MODEL_d62d1994539546658e8e37ff11084376"
          }
        },
        "01732c4754864516a11019ff1613b4b7": {
          "model_module": "@jupyter-widgets/controls",
          "model_name": "HTMLModel",
          "model_module_version": "1.5.0",
          "state": {
            "_dom_classes": [],
            "_model_module": "@jupyter-widgets/controls",
            "_model_module_version": "1.5.0",
            "_model_name": "HTMLModel",
            "_view_count": null,
            "_view_module": "@jupyter-widgets/controls",
            "_view_module_version": "1.5.0",
            "_view_name": "HTMLView",
            "description": "",
            "description_tooltip": null,
            "layout": "IPY_MODEL_3d294f18c25f4776a0276db94645bfc2",
            "placeholder": "​",
            "style": "IPY_MODEL_778ab4deda54496aa924e2252bb9c31d",
            "value": "2_Dense/config.json: 100%"
          }
        },
        "669d76802ad140389915412c3c3acf6a": {
          "model_module": "@jupyter-widgets/controls",
          "model_name": "FloatProgressModel",
          "model_module_version": "1.5.0",
          "state": {
            "_dom_classes": [],
            "_model_module": "@jupyter-widgets/controls",
            "_model_module_version": "1.5.0",
            "_model_name": "FloatProgressModel",
            "_view_count": null,
            "_view_module": "@jupyter-widgets/controls",
            "_view_module_version": "1.5.0",
            "_view_name": "ProgressView",
            "bar_style": "success",
            "description": "",
            "description_tooltip": null,
            "layout": "IPY_MODEL_f14164f239ac4b3fab715a02a3990a66",
            "max": 114,
            "min": 0,
            "orientation": "horizontal",
            "style": "IPY_MODEL_ece9eb43fc324819a1a079a30e83d11a",
            "value": 114
          }
        },
        "b3d920af8d7d45fc8045b302aa3315f1": {
          "model_module": "@jupyter-widgets/controls",
          "model_name": "HTMLModel",
          "model_module_version": "1.5.0",
          "state": {
            "_dom_classes": [],
            "_model_module": "@jupyter-widgets/controls",
            "_model_module_version": "1.5.0",
            "_model_name": "HTMLModel",
            "_view_count": null,
            "_view_module": "@jupyter-widgets/controls",
            "_view_module_version": "1.5.0",
            "_view_name": "HTMLView",
            "description": "",
            "description_tooltip": null,
            "layout": "IPY_MODEL_17105ee0fde641eba72d0542def64669",
            "placeholder": "​",
            "style": "IPY_MODEL_e85f92877f03459ab183efdf3c126bf0",
            "value": " 114/114 [00:00&lt;00:00, 4.48kB/s]"
          }
        },
        "d62d1994539546658e8e37ff11084376": {
          "model_module": "@jupyter-widgets/base",
          "model_name": "LayoutModel",
          "model_module_version": "1.2.0",
          "state": {
            "_model_module": "@jupyter-widgets/base",
            "_model_module_version": "1.2.0",
            "_model_name": "LayoutModel",
            "_view_count": null,
            "_view_module": "@jupyter-widgets/base",
            "_view_module_version": "1.2.0",
            "_view_name": "LayoutView",
            "align_content": null,
            "align_items": null,
            "align_self": null,
            "border": null,
            "bottom": null,
            "display": null,
            "flex": null,
            "flex_flow": null,
            "grid_area": null,
            "grid_auto_columns": null,
            "grid_auto_flow": null,
            "grid_auto_rows": null,
            "grid_column": null,
            "grid_gap": null,
            "grid_row": null,
            "grid_template_areas": null,
            "grid_template_columns": null,
            "grid_template_rows": null,
            "height": null,
            "justify_content": null,
            "justify_items": null,
            "left": null,
            "margin": null,
            "max_height": null,
            "max_width": null,
            "min_height": null,
            "min_width": null,
            "object_fit": null,
            "object_position": null,
            "order": null,
            "overflow": null,
            "overflow_x": null,
            "overflow_y": null,
            "padding": null,
            "right": null,
            "top": null,
            "visibility": null,
            "width": null
          }
        },
        "3d294f18c25f4776a0276db94645bfc2": {
          "model_module": "@jupyter-widgets/base",
          "model_name": "LayoutModel",
          "model_module_version": "1.2.0",
          "state": {
            "_model_module": "@jupyter-widgets/base",
            "_model_module_version": "1.2.0",
            "_model_name": "LayoutModel",
            "_view_count": null,
            "_view_module": "@jupyter-widgets/base",
            "_view_module_version": "1.2.0",
            "_view_name": "LayoutView",
            "align_content": null,
            "align_items": null,
            "align_self": null,
            "border": null,
            "bottom": null,
            "display": null,
            "flex": null,
            "flex_flow": null,
            "grid_area": null,
            "grid_auto_columns": null,
            "grid_auto_flow": null,
            "grid_auto_rows": null,
            "grid_column": null,
            "grid_gap": null,
            "grid_row": null,
            "grid_template_areas": null,
            "grid_template_columns": null,
            "grid_template_rows": null,
            "height": null,
            "justify_content": null,
            "justify_items": null,
            "left": null,
            "margin": null,
            "max_height": null,
            "max_width": null,
            "min_height": null,
            "min_width": null,
            "object_fit": null,
            "object_position": null,
            "order": null,
            "overflow": null,
            "overflow_x": null,
            "overflow_y": null,
            "padding": null,
            "right": null,
            "top": null,
            "visibility": null,
            "width": null
          }
        },
        "778ab4deda54496aa924e2252bb9c31d": {
          "model_module": "@jupyter-widgets/controls",
          "model_name": "DescriptionStyleModel",
          "model_module_version": "1.5.0",
          "state": {
            "_model_module": "@jupyter-widgets/controls",
            "_model_module_version": "1.5.0",
            "_model_name": "DescriptionStyleModel",
            "_view_count": null,
            "_view_module": "@jupyter-widgets/base",
            "_view_module_version": "1.2.0",
            "_view_name": "StyleView",
            "description_width": ""
          }
        },
        "f14164f239ac4b3fab715a02a3990a66": {
          "model_module": "@jupyter-widgets/base",
          "model_name": "LayoutModel",
          "model_module_version": "1.2.0",
          "state": {
            "_model_module": "@jupyter-widgets/base",
            "_model_module_version": "1.2.0",
            "_model_name": "LayoutModel",
            "_view_count": null,
            "_view_module": "@jupyter-widgets/base",
            "_view_module_version": "1.2.0",
            "_view_name": "LayoutView",
            "align_content": null,
            "align_items": null,
            "align_self": null,
            "border": null,
            "bottom": null,
            "display": null,
            "flex": null,
            "flex_flow": null,
            "grid_area": null,
            "grid_auto_columns": null,
            "grid_auto_flow": null,
            "grid_auto_rows": null,
            "grid_column": null,
            "grid_gap": null,
            "grid_row": null,
            "grid_template_areas": null,
            "grid_template_columns": null,
            "grid_template_rows": null,
            "height": null,
            "justify_content": null,
            "justify_items": null,
            "left": null,
            "margin": null,
            "max_height": null,
            "max_width": null,
            "min_height": null,
            "min_width": null,
            "object_fit": null,
            "object_position": null,
            "order": null,
            "overflow": null,
            "overflow_x": null,
            "overflow_y": null,
            "padding": null,
            "right": null,
            "top": null,
            "visibility": null,
            "width": null
          }
        },
        "ece9eb43fc324819a1a079a30e83d11a": {
          "model_module": "@jupyter-widgets/controls",
          "model_name": "ProgressStyleModel",
          "model_module_version": "1.5.0",
          "state": {
            "_model_module": "@jupyter-widgets/controls",
            "_model_module_version": "1.5.0",
            "_model_name": "ProgressStyleModel",
            "_view_count": null,
            "_view_module": "@jupyter-widgets/base",
            "_view_module_version": "1.2.0",
            "_view_name": "StyleView",
            "bar_color": null,
            "description_width": ""
          }
        },
        "17105ee0fde641eba72d0542def64669": {
          "model_module": "@jupyter-widgets/base",
          "model_name": "LayoutModel",
          "model_module_version": "1.2.0",
          "state": {
            "_model_module": "@jupyter-widgets/base",
            "_model_module_version": "1.2.0",
            "_model_name": "LayoutModel",
            "_view_count": null,
            "_view_module": "@jupyter-widgets/base",
            "_view_module_version": "1.2.0",
            "_view_name": "LayoutView",
            "align_content": null,
            "align_items": null,
            "align_self": null,
            "border": null,
            "bottom": null,
            "display": null,
            "flex": null,
            "flex_flow": null,
            "grid_area": null,
            "grid_auto_columns": null,
            "grid_auto_flow": null,
            "grid_auto_rows": null,
            "grid_column": null,
            "grid_gap": null,
            "grid_row": null,
            "grid_template_areas": null,
            "grid_template_columns": null,
            "grid_template_rows": null,
            "height": null,
            "justify_content": null,
            "justify_items": null,
            "left": null,
            "margin": null,
            "max_height": null,
            "max_width": null,
            "min_height": null,
            "min_width": null,
            "object_fit": null,
            "object_position": null,
            "order": null,
            "overflow": null,
            "overflow_x": null,
            "overflow_y": null,
            "padding": null,
            "right": null,
            "top": null,
            "visibility": null,
            "width": null
          }
        },
        "e85f92877f03459ab183efdf3c126bf0": {
          "model_module": "@jupyter-widgets/controls",
          "model_name": "DescriptionStyleModel",
          "model_module_version": "1.5.0",
          "state": {
            "_model_module": "@jupyter-widgets/controls",
            "_model_module_version": "1.5.0",
            "_model_name": "DescriptionStyleModel",
            "_view_count": null,
            "_view_module": "@jupyter-widgets/base",
            "_view_module_version": "1.2.0",
            "_view_name": "StyleView",
            "description_width": ""
          }
        },
        "2ae5e61ab79b4ec3b27036200c59b297": {
          "model_module": "@jupyter-widgets/controls",
          "model_name": "HBoxModel",
          "model_module_version": "1.5.0",
          "state": {
            "_dom_classes": [],
            "_model_module": "@jupyter-widgets/controls",
            "_model_module_version": "1.5.0",
            "_model_name": "HBoxModel",
            "_view_count": null,
            "_view_module": "@jupyter-widgets/controls",
            "_view_module_version": "1.5.0",
            "_view_name": "HBoxView",
            "box_style": "",
            "children": [
              "IPY_MODEL_c7138273f37f417fa0f6abc9766e3925",
              "IPY_MODEL_9c98a2d928004528a59f085da83a659d",
              "IPY_MODEL_af21cf9a907a4735a49dd43ecf931154"
            ],
            "layout": "IPY_MODEL_4e41b24ea18e41b4a0baf0e68657bf0f"
          }
        },
        "c7138273f37f417fa0f6abc9766e3925": {
          "model_module": "@jupyter-widgets/controls",
          "model_name": "HTMLModel",
          "model_module_version": "1.5.0",
          "state": {
            "_dom_classes": [],
            "_model_module": "@jupyter-widgets/controls",
            "_model_module_version": "1.5.0",
            "_model_name": "HTMLModel",
            "_view_count": null,
            "_view_module": "@jupyter-widgets/controls",
            "_view_module_version": "1.5.0",
            "_view_name": "HTMLView",
            "description": "",
            "description_tooltip": null,
            "layout": "IPY_MODEL_69e87db7f21441b1aff8d9fc6b09c181",
            "placeholder": "​",
            "style": "IPY_MODEL_30e90d09caab4b03ac32880dc10fa59d",
            "value": "pytorch_model.bin: 100%"
          }
        },
        "9c98a2d928004528a59f085da83a659d": {
          "model_module": "@jupyter-widgets/controls",
          "model_name": "FloatProgressModel",
          "model_module_version": "1.5.0",
          "state": {
            "_dom_classes": [],
            "_model_module": "@jupyter-widgets/controls",
            "_model_module_version": "1.5.0",
            "_model_name": "FloatProgressModel",
            "_view_count": null,
            "_view_module": "@jupyter-widgets/controls",
            "_view_module_version": "1.5.0",
            "_view_name": "ProgressView",
            "bar_style": "success",
            "description": "",
            "description_tooltip": null,
            "layout": "IPY_MODEL_c921cc32e3ac48ce9a49d1b0904cd79c",
            "max": 1575975,
            "min": 0,
            "orientation": "horizontal",
            "style": "IPY_MODEL_b1e1dfef32ec4af49cd7d8865d78c8d1",
            "value": 1575975
          }
        },
        "af21cf9a907a4735a49dd43ecf931154": {
          "model_module": "@jupyter-widgets/controls",
          "model_name": "HTMLModel",
          "model_module_version": "1.5.0",
          "state": {
            "_dom_classes": [],
            "_model_module": "@jupyter-widgets/controls",
            "_model_module_version": "1.5.0",
            "_model_name": "HTMLModel",
            "_view_count": null,
            "_view_module": "@jupyter-widgets/controls",
            "_view_module_version": "1.5.0",
            "_view_name": "HTMLView",
            "description": "",
            "description_tooltip": null,
            "layout": "IPY_MODEL_4c4811447ec24dada17c67bacd4b87ea",
            "placeholder": "​",
            "style": "IPY_MODEL_7eeb9ec8fcc2411b98af390ab0ab40a2",
            "value": " 1.58M/1.58M [00:00&lt;00:00, 19.5MB/s]"
          }
        },
        "4e41b24ea18e41b4a0baf0e68657bf0f": {
          "model_module": "@jupyter-widgets/base",
          "model_name": "LayoutModel",
          "model_module_version": "1.2.0",
          "state": {
            "_model_module": "@jupyter-widgets/base",
            "_model_module_version": "1.2.0",
            "_model_name": "LayoutModel",
            "_view_count": null,
            "_view_module": "@jupyter-widgets/base",
            "_view_module_version": "1.2.0",
            "_view_name": "LayoutView",
            "align_content": null,
            "align_items": null,
            "align_self": null,
            "border": null,
            "bottom": null,
            "display": null,
            "flex": null,
            "flex_flow": null,
            "grid_area": null,
            "grid_auto_columns": null,
            "grid_auto_flow": null,
            "grid_auto_rows": null,
            "grid_column": null,
            "grid_gap": null,
            "grid_row": null,
            "grid_template_areas": null,
            "grid_template_columns": null,
            "grid_template_rows": null,
            "height": null,
            "justify_content": null,
            "justify_items": null,
            "left": null,
            "margin": null,
            "max_height": null,
            "max_width": null,
            "min_height": null,
            "min_width": null,
            "object_fit": null,
            "object_position": null,
            "order": null,
            "overflow": null,
            "overflow_x": null,
            "overflow_y": null,
            "padding": null,
            "right": null,
            "top": null,
            "visibility": null,
            "width": null
          }
        },
        "69e87db7f21441b1aff8d9fc6b09c181": {
          "model_module": "@jupyter-widgets/base",
          "model_name": "LayoutModel",
          "model_module_version": "1.2.0",
          "state": {
            "_model_module": "@jupyter-widgets/base",
            "_model_module_version": "1.2.0",
            "_model_name": "LayoutModel",
            "_view_count": null,
            "_view_module": "@jupyter-widgets/base",
            "_view_module_version": "1.2.0",
            "_view_name": "LayoutView",
            "align_content": null,
            "align_items": null,
            "align_self": null,
            "border": null,
            "bottom": null,
            "display": null,
            "flex": null,
            "flex_flow": null,
            "grid_area": null,
            "grid_auto_columns": null,
            "grid_auto_flow": null,
            "grid_auto_rows": null,
            "grid_column": null,
            "grid_gap": null,
            "grid_row": null,
            "grid_template_areas": null,
            "grid_template_columns": null,
            "grid_template_rows": null,
            "height": null,
            "justify_content": null,
            "justify_items": null,
            "left": null,
            "margin": null,
            "max_height": null,
            "max_width": null,
            "min_height": null,
            "min_width": null,
            "object_fit": null,
            "object_position": null,
            "order": null,
            "overflow": null,
            "overflow_x": null,
            "overflow_y": null,
            "padding": null,
            "right": null,
            "top": null,
            "visibility": null,
            "width": null
          }
        },
        "30e90d09caab4b03ac32880dc10fa59d": {
          "model_module": "@jupyter-widgets/controls",
          "model_name": "DescriptionStyleModel",
          "model_module_version": "1.5.0",
          "state": {
            "_model_module": "@jupyter-widgets/controls",
            "_model_module_version": "1.5.0",
            "_model_name": "DescriptionStyleModel",
            "_view_count": null,
            "_view_module": "@jupyter-widgets/base",
            "_view_module_version": "1.2.0",
            "_view_name": "StyleView",
            "description_width": ""
          }
        },
        "c921cc32e3ac48ce9a49d1b0904cd79c": {
          "model_module": "@jupyter-widgets/base",
          "model_name": "LayoutModel",
          "model_module_version": "1.2.0",
          "state": {
            "_model_module": "@jupyter-widgets/base",
            "_model_module_version": "1.2.0",
            "_model_name": "LayoutModel",
            "_view_count": null,
            "_view_module": "@jupyter-widgets/base",
            "_view_module_version": "1.2.0",
            "_view_name": "LayoutView",
            "align_content": null,
            "align_items": null,
            "align_self": null,
            "border": null,
            "bottom": null,
            "display": null,
            "flex": null,
            "flex_flow": null,
            "grid_area": null,
            "grid_auto_columns": null,
            "grid_auto_flow": null,
            "grid_auto_rows": null,
            "grid_column": null,
            "grid_gap": null,
            "grid_row": null,
            "grid_template_areas": null,
            "grid_template_columns": null,
            "grid_template_rows": null,
            "height": null,
            "justify_content": null,
            "justify_items": null,
            "left": null,
            "margin": null,
            "max_height": null,
            "max_width": null,
            "min_height": null,
            "min_width": null,
            "object_fit": null,
            "object_position": null,
            "order": null,
            "overflow": null,
            "overflow_x": null,
            "overflow_y": null,
            "padding": null,
            "right": null,
            "top": null,
            "visibility": null,
            "width": null
          }
        },
        "b1e1dfef32ec4af49cd7d8865d78c8d1": {
          "model_module": "@jupyter-widgets/controls",
          "model_name": "ProgressStyleModel",
          "model_module_version": "1.5.0",
          "state": {
            "_model_module": "@jupyter-widgets/controls",
            "_model_module_version": "1.5.0",
            "_model_name": "ProgressStyleModel",
            "_view_count": null,
            "_view_module": "@jupyter-widgets/base",
            "_view_module_version": "1.2.0",
            "_view_name": "StyleView",
            "bar_color": null,
            "description_width": ""
          }
        },
        "4c4811447ec24dada17c67bacd4b87ea": {
          "model_module": "@jupyter-widgets/base",
          "model_name": "LayoutModel",
          "model_module_version": "1.2.0",
          "state": {
            "_model_module": "@jupyter-widgets/base",
            "_model_module_version": "1.2.0",
            "_model_name": "LayoutModel",
            "_view_count": null,
            "_view_module": "@jupyter-widgets/base",
            "_view_module_version": "1.2.0",
            "_view_name": "LayoutView",
            "align_content": null,
            "align_items": null,
            "align_self": null,
            "border": null,
            "bottom": null,
            "display": null,
            "flex": null,
            "flex_flow": null,
            "grid_area": null,
            "grid_auto_columns": null,
            "grid_auto_flow": null,
            "grid_auto_rows": null,
            "grid_column": null,
            "grid_gap": null,
            "grid_row": null,
            "grid_template_areas": null,
            "grid_template_columns": null,
            "grid_template_rows": null,
            "height": null,
            "justify_content": null,
            "justify_items": null,
            "left": null,
            "margin": null,
            "max_height": null,
            "max_width": null,
            "min_height": null,
            "min_width": null,
            "object_fit": null,
            "object_position": null,
            "order": null,
            "overflow": null,
            "overflow_x": null,
            "overflow_y": null,
            "padding": null,
            "right": null,
            "top": null,
            "visibility": null,
            "width": null
          }
        },
        "7eeb9ec8fcc2411b98af390ab0ab40a2": {
          "model_module": "@jupyter-widgets/controls",
          "model_name": "DescriptionStyleModel",
          "model_module_version": "1.5.0",
          "state": {
            "_model_module": "@jupyter-widgets/controls",
            "_model_module_version": "1.5.0",
            "_model_name": "DescriptionStyleModel",
            "_view_count": null,
            "_view_module": "@jupyter-widgets/base",
            "_view_module_version": "1.2.0",
            "_view_name": "StyleView",
            "description_width": ""
          }
        },
        "17dc427a4cfa4842b8f9536f6602f245": {
          "model_module": "@jupyter-widgets/controls",
          "model_name": "HBoxModel",
          "model_module_version": "1.5.0",
          "state": {
            "_dom_classes": [],
            "_model_module": "@jupyter-widgets/controls",
            "_model_module_version": "1.5.0",
            "_model_name": "HBoxModel",
            "_view_count": null,
            "_view_module": "@jupyter-widgets/controls",
            "_view_module_version": "1.5.0",
            "_view_name": "HBoxView",
            "box_style": "",
            "children": [
              "IPY_MODEL_9be12f51cc8f4f1ca50b1c536cb35788",
              "IPY_MODEL_27e797d3d45943ae9e688e0d4015e701",
              "IPY_MODEL_2a9c5446b27c4e3b8116da74bef44740"
            ],
            "layout": "IPY_MODEL_1b8ba6f5c1444d07b24cef3ceabec8d9"
          }
        },
        "9be12f51cc8f4f1ca50b1c536cb35788": {
          "model_module": "@jupyter-widgets/controls",
          "model_name": "HTMLModel",
          "model_module_version": "1.5.0",
          "state": {
            "_dom_classes": [],
            "_model_module": "@jupyter-widgets/controls",
            "_model_module_version": "1.5.0",
            "_model_name": "HTMLModel",
            "_view_count": null,
            "_view_module": "@jupyter-widgets/controls",
            "_view_module_version": "1.5.0",
            "_view_name": "HTMLView",
            "description": "",
            "description_tooltip": null,
            "layout": "IPY_MODEL_315feff895404c499f7eb0739e5eb3ba",
            "placeholder": "​",
            "style": "IPY_MODEL_a55cc9bfac2547b2a215c6f87d38f154",
            "value": "README.md: 100%"
          }
        },
        "27e797d3d45943ae9e688e0d4015e701": {
          "model_module": "@jupyter-widgets/controls",
          "model_name": "FloatProgressModel",
          "model_module_version": "1.5.0",
          "state": {
            "_dom_classes": [],
            "_model_module": "@jupyter-widgets/controls",
            "_model_module_version": "1.5.0",
            "_model_name": "FloatProgressModel",
            "_view_count": null,
            "_view_module": "@jupyter-widgets/controls",
            "_view_module_version": "1.5.0",
            "_view_name": "ProgressView",
            "bar_style": "success",
            "description": "",
            "description_tooltip": null,
            "layout": "IPY_MODEL_72867abcf604402584f157877b7e7f2f",
            "max": 2685,
            "min": 0,
            "orientation": "horizontal",
            "style": "IPY_MODEL_c5c20aa5f6b6459888db860fa44a5ec4",
            "value": 2685
          }
        },
        "2a9c5446b27c4e3b8116da74bef44740": {
          "model_module": "@jupyter-widgets/controls",
          "model_name": "HTMLModel",
          "model_module_version": "1.5.0",
          "state": {
            "_dom_classes": [],
            "_model_module": "@jupyter-widgets/controls",
            "_model_module_version": "1.5.0",
            "_model_name": "HTMLModel",
            "_view_count": null,
            "_view_module": "@jupyter-widgets/controls",
            "_view_module_version": "1.5.0",
            "_view_name": "HTMLView",
            "description": "",
            "description_tooltip": null,
            "layout": "IPY_MODEL_48b38966290d4a11863daf573cfb5bb0",
            "placeholder": "​",
            "style": "IPY_MODEL_2b89b5a5c5ec4d90b93361a0ce05bc8f",
            "value": " 2.69k/2.69k [00:00&lt;00:00, 175kB/s]"
          }
        },
        "1b8ba6f5c1444d07b24cef3ceabec8d9": {
          "model_module": "@jupyter-widgets/base",
          "model_name": "LayoutModel",
          "model_module_version": "1.2.0",
          "state": {
            "_model_module": "@jupyter-widgets/base",
            "_model_module_version": "1.2.0",
            "_model_name": "LayoutModel",
            "_view_count": null,
            "_view_module": "@jupyter-widgets/base",
            "_view_module_version": "1.2.0",
            "_view_name": "LayoutView",
            "align_content": null,
            "align_items": null,
            "align_self": null,
            "border": null,
            "bottom": null,
            "display": null,
            "flex": null,
            "flex_flow": null,
            "grid_area": null,
            "grid_auto_columns": null,
            "grid_auto_flow": null,
            "grid_auto_rows": null,
            "grid_column": null,
            "grid_gap": null,
            "grid_row": null,
            "grid_template_areas": null,
            "grid_template_columns": null,
            "grid_template_rows": null,
            "height": null,
            "justify_content": null,
            "justify_items": null,
            "left": null,
            "margin": null,
            "max_height": null,
            "max_width": null,
            "min_height": null,
            "min_width": null,
            "object_fit": null,
            "object_position": null,
            "order": null,
            "overflow": null,
            "overflow_x": null,
            "overflow_y": null,
            "padding": null,
            "right": null,
            "top": null,
            "visibility": null,
            "width": null
          }
        },
        "315feff895404c499f7eb0739e5eb3ba": {
          "model_module": "@jupyter-widgets/base",
          "model_name": "LayoutModel",
          "model_module_version": "1.2.0",
          "state": {
            "_model_module": "@jupyter-widgets/base",
            "_model_module_version": "1.2.0",
            "_model_name": "LayoutModel",
            "_view_count": null,
            "_view_module": "@jupyter-widgets/base",
            "_view_module_version": "1.2.0",
            "_view_name": "LayoutView",
            "align_content": null,
            "align_items": null,
            "align_self": null,
            "border": null,
            "bottom": null,
            "display": null,
            "flex": null,
            "flex_flow": null,
            "grid_area": null,
            "grid_auto_columns": null,
            "grid_auto_flow": null,
            "grid_auto_rows": null,
            "grid_column": null,
            "grid_gap": null,
            "grid_row": null,
            "grid_template_areas": null,
            "grid_template_columns": null,
            "grid_template_rows": null,
            "height": null,
            "justify_content": null,
            "justify_items": null,
            "left": null,
            "margin": null,
            "max_height": null,
            "max_width": null,
            "min_height": null,
            "min_width": null,
            "object_fit": null,
            "object_position": null,
            "order": null,
            "overflow": null,
            "overflow_x": null,
            "overflow_y": null,
            "padding": null,
            "right": null,
            "top": null,
            "visibility": null,
            "width": null
          }
        },
        "a55cc9bfac2547b2a215c6f87d38f154": {
          "model_module": "@jupyter-widgets/controls",
          "model_name": "DescriptionStyleModel",
          "model_module_version": "1.5.0",
          "state": {
            "_model_module": "@jupyter-widgets/controls",
            "_model_module_version": "1.5.0",
            "_model_name": "DescriptionStyleModel",
            "_view_count": null,
            "_view_module": "@jupyter-widgets/base",
            "_view_module_version": "1.2.0",
            "_view_name": "StyleView",
            "description_width": ""
          }
        },
        "72867abcf604402584f157877b7e7f2f": {
          "model_module": "@jupyter-widgets/base",
          "model_name": "LayoutModel",
          "model_module_version": "1.2.0",
          "state": {
            "_model_module": "@jupyter-widgets/base",
            "_model_module_version": "1.2.0",
            "_model_name": "LayoutModel",
            "_view_count": null,
            "_view_module": "@jupyter-widgets/base",
            "_view_module_version": "1.2.0",
            "_view_name": "LayoutView",
            "align_content": null,
            "align_items": null,
            "align_self": null,
            "border": null,
            "bottom": null,
            "display": null,
            "flex": null,
            "flex_flow": null,
            "grid_area": null,
            "grid_auto_columns": null,
            "grid_auto_flow": null,
            "grid_auto_rows": null,
            "grid_column": null,
            "grid_gap": null,
            "grid_row": null,
            "grid_template_areas": null,
            "grid_template_columns": null,
            "grid_template_rows": null,
            "height": null,
            "justify_content": null,
            "justify_items": null,
            "left": null,
            "margin": null,
            "max_height": null,
            "max_width": null,
            "min_height": null,
            "min_width": null,
            "object_fit": null,
            "object_position": null,
            "order": null,
            "overflow": null,
            "overflow_x": null,
            "overflow_y": null,
            "padding": null,
            "right": null,
            "top": null,
            "visibility": null,
            "width": null
          }
        },
        "c5c20aa5f6b6459888db860fa44a5ec4": {
          "model_module": "@jupyter-widgets/controls",
          "model_name": "ProgressStyleModel",
          "model_module_version": "1.5.0",
          "state": {
            "_model_module": "@jupyter-widgets/controls",
            "_model_module_version": "1.5.0",
            "_model_name": "ProgressStyleModel",
            "_view_count": null,
            "_view_module": "@jupyter-widgets/base",
            "_view_module_version": "1.2.0",
            "_view_name": "StyleView",
            "bar_color": null,
            "description_width": ""
          }
        },
        "48b38966290d4a11863daf573cfb5bb0": {
          "model_module": "@jupyter-widgets/base",
          "model_name": "LayoutModel",
          "model_module_version": "1.2.0",
          "state": {
            "_model_module": "@jupyter-widgets/base",
            "_model_module_version": "1.2.0",
            "_model_name": "LayoutModel",
            "_view_count": null,
            "_view_module": "@jupyter-widgets/base",
            "_view_module_version": "1.2.0",
            "_view_name": "LayoutView",
            "align_content": null,
            "align_items": null,
            "align_self": null,
            "border": null,
            "bottom": null,
            "display": null,
            "flex": null,
            "flex_flow": null,
            "grid_area": null,
            "grid_auto_columns": null,
            "grid_auto_flow": null,
            "grid_auto_rows": null,
            "grid_column": null,
            "grid_gap": null,
            "grid_row": null,
            "grid_template_areas": null,
            "grid_template_columns": null,
            "grid_template_rows": null,
            "height": null,
            "justify_content": null,
            "justify_items": null,
            "left": null,
            "margin": null,
            "max_height": null,
            "max_width": null,
            "min_height": null,
            "min_width": null,
            "object_fit": null,
            "object_position": null,
            "order": null,
            "overflow": null,
            "overflow_x": null,
            "overflow_y": null,
            "padding": null,
            "right": null,
            "top": null,
            "visibility": null,
            "width": null
          }
        },
        "2b89b5a5c5ec4d90b93361a0ce05bc8f": {
          "model_module": "@jupyter-widgets/controls",
          "model_name": "DescriptionStyleModel",
          "model_module_version": "1.5.0",
          "state": {
            "_model_module": "@jupyter-widgets/controls",
            "_model_module_version": "1.5.0",
            "_model_name": "DescriptionStyleModel",
            "_view_count": null,
            "_view_module": "@jupyter-widgets/base",
            "_view_module_version": "1.2.0",
            "_view_name": "StyleView",
            "description_width": ""
          }
        },
        "fe7f2453d16f4bcbacb7d6e608ca159e": {
          "model_module": "@jupyter-widgets/controls",
          "model_name": "HBoxModel",
          "model_module_version": "1.5.0",
          "state": {
            "_dom_classes": [],
            "_model_module": "@jupyter-widgets/controls",
            "_model_module_version": "1.5.0",
            "_model_name": "HBoxModel",
            "_view_count": null,
            "_view_module": "@jupyter-widgets/controls",
            "_view_module_version": "1.5.0",
            "_view_name": "HBoxView",
            "box_style": "",
            "children": [
              "IPY_MODEL_6e6c2ab446c749b2bd2ecc68a693cbb9",
              "IPY_MODEL_9dc92c0bb00448bb8dce84527072b1de",
              "IPY_MODEL_7cf21f771b7a498caaa687dfe76d066c"
            ],
            "layout": "IPY_MODEL_223570801b9b4d389b12837a8594cf0a"
          }
        },
        "6e6c2ab446c749b2bd2ecc68a693cbb9": {
          "model_module": "@jupyter-widgets/controls",
          "model_name": "HTMLModel",
          "model_module_version": "1.5.0",
          "state": {
            "_dom_classes": [],
            "_model_module": "@jupyter-widgets/controls",
            "_model_module_version": "1.5.0",
            "_model_name": "HTMLModel",
            "_view_count": null,
            "_view_module": "@jupyter-widgets/controls",
            "_view_module_version": "1.5.0",
            "_view_name": "HTMLView",
            "description": "",
            "description_tooltip": null,
            "layout": "IPY_MODEL_2ce6151b0dc84457b113d2e3ef28f865",
            "placeholder": "​",
            "style": "IPY_MODEL_483933a8a5d04857b49f03413cef1047",
            "value": "config.json: 100%"
          }
        },
        "9dc92c0bb00448bb8dce84527072b1de": {
          "model_module": "@jupyter-widgets/controls",
          "model_name": "FloatProgressModel",
          "model_module_version": "1.5.0",
          "state": {
            "_dom_classes": [],
            "_model_module": "@jupyter-widgets/controls",
            "_model_module_version": "1.5.0",
            "_model_name": "FloatProgressModel",
            "_view_count": null,
            "_view_module": "@jupyter-widgets/controls",
            "_view_module_version": "1.5.0",
            "_view_name": "ProgressView",
            "bar_style": "success",
            "description": "",
            "description_tooltip": null,
            "layout": "IPY_MODEL_55b34b050aae42968c6a6ed665d57eda",
            "max": 610,
            "min": 0,
            "orientation": "horizontal",
            "style": "IPY_MODEL_140abc72d4f8474394f636805934f0d3",
            "value": 610
          }
        },
        "7cf21f771b7a498caaa687dfe76d066c": {
          "model_module": "@jupyter-widgets/controls",
          "model_name": "HTMLModel",
          "model_module_version": "1.5.0",
          "state": {
            "_dom_classes": [],
            "_model_module": "@jupyter-widgets/controls",
            "_model_module_version": "1.5.0",
            "_model_name": "HTMLModel",
            "_view_count": null,
            "_view_module": "@jupyter-widgets/controls",
            "_view_module_version": "1.5.0",
            "_view_name": "HTMLView",
            "description": "",
            "description_tooltip": null,
            "layout": "IPY_MODEL_04ef2534ab0945b1b3bed707bd912c7a",
            "placeholder": "​",
            "style": "IPY_MODEL_44c24157859547a78cfcf0f1f6688636",
            "value": " 610/610 [00:00&lt;00:00, 42.7kB/s]"
          }
        },
        "223570801b9b4d389b12837a8594cf0a": {
          "model_module": "@jupyter-widgets/base",
          "model_name": "LayoutModel",
          "model_module_version": "1.2.0",
          "state": {
            "_model_module": "@jupyter-widgets/base",
            "_model_module_version": "1.2.0",
            "_model_name": "LayoutModel",
            "_view_count": null,
            "_view_module": "@jupyter-widgets/base",
            "_view_module_version": "1.2.0",
            "_view_name": "LayoutView",
            "align_content": null,
            "align_items": null,
            "align_self": null,
            "border": null,
            "bottom": null,
            "display": null,
            "flex": null,
            "flex_flow": null,
            "grid_area": null,
            "grid_auto_columns": null,
            "grid_auto_flow": null,
            "grid_auto_rows": null,
            "grid_column": null,
            "grid_gap": null,
            "grid_row": null,
            "grid_template_areas": null,
            "grid_template_columns": null,
            "grid_template_rows": null,
            "height": null,
            "justify_content": null,
            "justify_items": null,
            "left": null,
            "margin": null,
            "max_height": null,
            "max_width": null,
            "min_height": null,
            "min_width": null,
            "object_fit": null,
            "object_position": null,
            "order": null,
            "overflow": null,
            "overflow_x": null,
            "overflow_y": null,
            "padding": null,
            "right": null,
            "top": null,
            "visibility": null,
            "width": null
          }
        },
        "2ce6151b0dc84457b113d2e3ef28f865": {
          "model_module": "@jupyter-widgets/base",
          "model_name": "LayoutModel",
          "model_module_version": "1.2.0",
          "state": {
            "_model_module": "@jupyter-widgets/base",
            "_model_module_version": "1.2.0",
            "_model_name": "LayoutModel",
            "_view_count": null,
            "_view_module": "@jupyter-widgets/base",
            "_view_module_version": "1.2.0",
            "_view_name": "LayoutView",
            "align_content": null,
            "align_items": null,
            "align_self": null,
            "border": null,
            "bottom": null,
            "display": null,
            "flex": null,
            "flex_flow": null,
            "grid_area": null,
            "grid_auto_columns": null,
            "grid_auto_flow": null,
            "grid_auto_rows": null,
            "grid_column": null,
            "grid_gap": null,
            "grid_row": null,
            "grid_template_areas": null,
            "grid_template_columns": null,
            "grid_template_rows": null,
            "height": null,
            "justify_content": null,
            "justify_items": null,
            "left": null,
            "margin": null,
            "max_height": null,
            "max_width": null,
            "min_height": null,
            "min_width": null,
            "object_fit": null,
            "object_position": null,
            "order": null,
            "overflow": null,
            "overflow_x": null,
            "overflow_y": null,
            "padding": null,
            "right": null,
            "top": null,
            "visibility": null,
            "width": null
          }
        },
        "483933a8a5d04857b49f03413cef1047": {
          "model_module": "@jupyter-widgets/controls",
          "model_name": "DescriptionStyleModel",
          "model_module_version": "1.5.0",
          "state": {
            "_model_module": "@jupyter-widgets/controls",
            "_model_module_version": "1.5.0",
            "_model_name": "DescriptionStyleModel",
            "_view_count": null,
            "_view_module": "@jupyter-widgets/base",
            "_view_module_version": "1.2.0",
            "_view_name": "StyleView",
            "description_width": ""
          }
        },
        "55b34b050aae42968c6a6ed665d57eda": {
          "model_module": "@jupyter-widgets/base",
          "model_name": "LayoutModel",
          "model_module_version": "1.2.0",
          "state": {
            "_model_module": "@jupyter-widgets/base",
            "_model_module_version": "1.2.0",
            "_model_name": "LayoutModel",
            "_view_count": null,
            "_view_module": "@jupyter-widgets/base",
            "_view_module_version": "1.2.0",
            "_view_name": "LayoutView",
            "align_content": null,
            "align_items": null,
            "align_self": null,
            "border": null,
            "bottom": null,
            "display": null,
            "flex": null,
            "flex_flow": null,
            "grid_area": null,
            "grid_auto_columns": null,
            "grid_auto_flow": null,
            "grid_auto_rows": null,
            "grid_column": null,
            "grid_gap": null,
            "grid_row": null,
            "grid_template_areas": null,
            "grid_template_columns": null,
            "grid_template_rows": null,
            "height": null,
            "justify_content": null,
            "justify_items": null,
            "left": null,
            "margin": null,
            "max_height": null,
            "max_width": null,
            "min_height": null,
            "min_width": null,
            "object_fit": null,
            "object_position": null,
            "order": null,
            "overflow": null,
            "overflow_x": null,
            "overflow_y": null,
            "padding": null,
            "right": null,
            "top": null,
            "visibility": null,
            "width": null
          }
        },
        "140abc72d4f8474394f636805934f0d3": {
          "model_module": "@jupyter-widgets/controls",
          "model_name": "ProgressStyleModel",
          "model_module_version": "1.5.0",
          "state": {
            "_model_module": "@jupyter-widgets/controls",
            "_model_module_version": "1.5.0",
            "_model_name": "ProgressStyleModel",
            "_view_count": null,
            "_view_module": "@jupyter-widgets/base",
            "_view_module_version": "1.2.0",
            "_view_name": "StyleView",
            "bar_color": null,
            "description_width": ""
          }
        },
        "04ef2534ab0945b1b3bed707bd912c7a": {
          "model_module": "@jupyter-widgets/base",
          "model_name": "LayoutModel",
          "model_module_version": "1.2.0",
          "state": {
            "_model_module": "@jupyter-widgets/base",
            "_model_module_version": "1.2.0",
            "_model_name": "LayoutModel",
            "_view_count": null,
            "_view_module": "@jupyter-widgets/base",
            "_view_module_version": "1.2.0",
            "_view_name": "LayoutView",
            "align_content": null,
            "align_items": null,
            "align_self": null,
            "border": null,
            "bottom": null,
            "display": null,
            "flex": null,
            "flex_flow": null,
            "grid_area": null,
            "grid_auto_columns": null,
            "grid_auto_flow": null,
            "grid_auto_rows": null,
            "grid_column": null,
            "grid_gap": null,
            "grid_row": null,
            "grid_template_areas": null,
            "grid_template_columns": null,
            "grid_template_rows": null,
            "height": null,
            "justify_content": null,
            "justify_items": null,
            "left": null,
            "margin": null,
            "max_height": null,
            "max_width": null,
            "min_height": null,
            "min_width": null,
            "object_fit": null,
            "object_position": null,
            "order": null,
            "overflow": null,
            "overflow_x": null,
            "overflow_y": null,
            "padding": null,
            "right": null,
            "top": null,
            "visibility": null,
            "width": null
          }
        },
        "44c24157859547a78cfcf0f1f6688636": {
          "model_module": "@jupyter-widgets/controls",
          "model_name": "DescriptionStyleModel",
          "model_module_version": "1.5.0",
          "state": {
            "_model_module": "@jupyter-widgets/controls",
            "_model_module_version": "1.5.0",
            "_model_name": "DescriptionStyleModel",
            "_view_count": null,
            "_view_module": "@jupyter-widgets/base",
            "_view_module_version": "1.2.0",
            "_view_name": "StyleView",
            "description_width": ""
          }
        },
        "33840ff0fec9407a9b4157e3f74c710c": {
          "model_module": "@jupyter-widgets/controls",
          "model_name": "HBoxModel",
          "model_module_version": "1.5.0",
          "state": {
            "_dom_classes": [],
            "_model_module": "@jupyter-widgets/controls",
            "_model_module_version": "1.5.0",
            "_model_name": "HBoxModel",
            "_view_count": null,
            "_view_module": "@jupyter-widgets/controls",
            "_view_module_version": "1.5.0",
            "_view_name": "HBoxView",
            "box_style": "",
            "children": [
              "IPY_MODEL_31107eec9bb14827b5b6429f82983b2a",
              "IPY_MODEL_555bb5a1cf684c8dbc750bc3c7b93229",
              "IPY_MODEL_21b7496340d642d28ddb37cf8488acd9"
            ],
            "layout": "IPY_MODEL_736d73e062d24c3b836c09e367dfd7a5"
          }
        },
        "31107eec9bb14827b5b6429f82983b2a": {
          "model_module": "@jupyter-widgets/controls",
          "model_name": "HTMLModel",
          "model_module_version": "1.5.0",
          "state": {
            "_dom_classes": [],
            "_model_module": "@jupyter-widgets/controls",
            "_model_module_version": "1.5.0",
            "_model_name": "HTMLModel",
            "_view_count": null,
            "_view_module": "@jupyter-widgets/controls",
            "_view_module_version": "1.5.0",
            "_view_name": "HTMLView",
            "description": "",
            "description_tooltip": null,
            "layout": "IPY_MODEL_0bdb3e76c60042bd9e6973a8dd279ce8",
            "placeholder": "​",
            "style": "IPY_MODEL_ae34a7f2d490480685075bb741266b57",
            "value": "config_sentence_transformers.json: 100%"
          }
        },
        "555bb5a1cf684c8dbc750bc3c7b93229": {
          "model_module": "@jupyter-widgets/controls",
          "model_name": "FloatProgressModel",
          "model_module_version": "1.5.0",
          "state": {
            "_dom_classes": [],
            "_model_module": "@jupyter-widgets/controls",
            "_model_module_version": "1.5.0",
            "_model_name": "FloatProgressModel",
            "_view_count": null,
            "_view_module": "@jupyter-widgets/controls",
            "_view_module_version": "1.5.0",
            "_view_name": "ProgressView",
            "bar_style": "success",
            "description": "",
            "description_tooltip": null,
            "layout": "IPY_MODEL_599e4ac3038942b2827ba6df33a33ca6",
            "max": 122,
            "min": 0,
            "orientation": "horizontal",
            "style": "IPY_MODEL_ab5958052dd74c0f9c091a6f0eba3a84",
            "value": 122
          }
        },
        "21b7496340d642d28ddb37cf8488acd9": {
          "model_module": "@jupyter-widgets/controls",
          "model_name": "HTMLModel",
          "model_module_version": "1.5.0",
          "state": {
            "_dom_classes": [],
            "_model_module": "@jupyter-widgets/controls",
            "_model_module_version": "1.5.0",
            "_model_name": "HTMLModel",
            "_view_count": null,
            "_view_module": "@jupyter-widgets/controls",
            "_view_module_version": "1.5.0",
            "_view_name": "HTMLView",
            "description": "",
            "description_tooltip": null,
            "layout": "IPY_MODEL_c78256af7c6247ca8471baa4185fc8a4",
            "placeholder": "​",
            "style": "IPY_MODEL_0cf13da557cc42c38b5c1a6d8ed0629f",
            "value": " 122/122 [00:00&lt;00:00, 8.68kB/s]"
          }
        },
        "736d73e062d24c3b836c09e367dfd7a5": {
          "model_module": "@jupyter-widgets/base",
          "model_name": "LayoutModel",
          "model_module_version": "1.2.0",
          "state": {
            "_model_module": "@jupyter-widgets/base",
            "_model_module_version": "1.2.0",
            "_model_name": "LayoutModel",
            "_view_count": null,
            "_view_module": "@jupyter-widgets/base",
            "_view_module_version": "1.2.0",
            "_view_name": "LayoutView",
            "align_content": null,
            "align_items": null,
            "align_self": null,
            "border": null,
            "bottom": null,
            "display": null,
            "flex": null,
            "flex_flow": null,
            "grid_area": null,
            "grid_auto_columns": null,
            "grid_auto_flow": null,
            "grid_auto_rows": null,
            "grid_column": null,
            "grid_gap": null,
            "grid_row": null,
            "grid_template_areas": null,
            "grid_template_columns": null,
            "grid_template_rows": null,
            "height": null,
            "justify_content": null,
            "justify_items": null,
            "left": null,
            "margin": null,
            "max_height": null,
            "max_width": null,
            "min_height": null,
            "min_width": null,
            "object_fit": null,
            "object_position": null,
            "order": null,
            "overflow": null,
            "overflow_x": null,
            "overflow_y": null,
            "padding": null,
            "right": null,
            "top": null,
            "visibility": null,
            "width": null
          }
        },
        "0bdb3e76c60042bd9e6973a8dd279ce8": {
          "model_module": "@jupyter-widgets/base",
          "model_name": "LayoutModel",
          "model_module_version": "1.2.0",
          "state": {
            "_model_module": "@jupyter-widgets/base",
            "_model_module_version": "1.2.0",
            "_model_name": "LayoutModel",
            "_view_count": null,
            "_view_module": "@jupyter-widgets/base",
            "_view_module_version": "1.2.0",
            "_view_name": "LayoutView",
            "align_content": null,
            "align_items": null,
            "align_self": null,
            "border": null,
            "bottom": null,
            "display": null,
            "flex": null,
            "flex_flow": null,
            "grid_area": null,
            "grid_auto_columns": null,
            "grid_auto_flow": null,
            "grid_auto_rows": null,
            "grid_column": null,
            "grid_gap": null,
            "grid_row": null,
            "grid_template_areas": null,
            "grid_template_columns": null,
            "grid_template_rows": null,
            "height": null,
            "justify_content": null,
            "justify_items": null,
            "left": null,
            "margin": null,
            "max_height": null,
            "max_width": null,
            "min_height": null,
            "min_width": null,
            "object_fit": null,
            "object_position": null,
            "order": null,
            "overflow": null,
            "overflow_x": null,
            "overflow_y": null,
            "padding": null,
            "right": null,
            "top": null,
            "visibility": null,
            "width": null
          }
        },
        "ae34a7f2d490480685075bb741266b57": {
          "model_module": "@jupyter-widgets/controls",
          "model_name": "DescriptionStyleModel",
          "model_module_version": "1.5.0",
          "state": {
            "_model_module": "@jupyter-widgets/controls",
            "_model_module_version": "1.5.0",
            "_model_name": "DescriptionStyleModel",
            "_view_count": null,
            "_view_module": "@jupyter-widgets/base",
            "_view_module_version": "1.2.0",
            "_view_name": "StyleView",
            "description_width": ""
          }
        },
        "599e4ac3038942b2827ba6df33a33ca6": {
          "model_module": "@jupyter-widgets/base",
          "model_name": "LayoutModel",
          "model_module_version": "1.2.0",
          "state": {
            "_model_module": "@jupyter-widgets/base",
            "_model_module_version": "1.2.0",
            "_model_name": "LayoutModel",
            "_view_count": null,
            "_view_module": "@jupyter-widgets/base",
            "_view_module_version": "1.2.0",
            "_view_name": "LayoutView",
            "align_content": null,
            "align_items": null,
            "align_self": null,
            "border": null,
            "bottom": null,
            "display": null,
            "flex": null,
            "flex_flow": null,
            "grid_area": null,
            "grid_auto_columns": null,
            "grid_auto_flow": null,
            "grid_auto_rows": null,
            "grid_column": null,
            "grid_gap": null,
            "grid_row": null,
            "grid_template_areas": null,
            "grid_template_columns": null,
            "grid_template_rows": null,
            "height": null,
            "justify_content": null,
            "justify_items": null,
            "left": null,
            "margin": null,
            "max_height": null,
            "max_width": null,
            "min_height": null,
            "min_width": null,
            "object_fit": null,
            "object_position": null,
            "order": null,
            "overflow": null,
            "overflow_x": null,
            "overflow_y": null,
            "padding": null,
            "right": null,
            "top": null,
            "visibility": null,
            "width": null
          }
        },
        "ab5958052dd74c0f9c091a6f0eba3a84": {
          "model_module": "@jupyter-widgets/controls",
          "model_name": "ProgressStyleModel",
          "model_module_version": "1.5.0",
          "state": {
            "_model_module": "@jupyter-widgets/controls",
            "_model_module_version": "1.5.0",
            "_model_name": "ProgressStyleModel",
            "_view_count": null,
            "_view_module": "@jupyter-widgets/base",
            "_view_module_version": "1.2.0",
            "_view_name": "StyleView",
            "bar_color": null,
            "description_width": ""
          }
        },
        "c78256af7c6247ca8471baa4185fc8a4": {
          "model_module": "@jupyter-widgets/base",
          "model_name": "LayoutModel",
          "model_module_version": "1.2.0",
          "state": {
            "_model_module": "@jupyter-widgets/base",
            "_model_module_version": "1.2.0",
            "_model_name": "LayoutModel",
            "_view_count": null,
            "_view_module": "@jupyter-widgets/base",
            "_view_module_version": "1.2.0",
            "_view_name": "LayoutView",
            "align_content": null,
            "align_items": null,
            "align_self": null,
            "border": null,
            "bottom": null,
            "display": null,
            "flex": null,
            "flex_flow": null,
            "grid_area": null,
            "grid_auto_columns": null,
            "grid_auto_flow": null,
            "grid_auto_rows": null,
            "grid_column": null,
            "grid_gap": null,
            "grid_row": null,
            "grid_template_areas": null,
            "grid_template_columns": null,
            "grid_template_rows": null,
            "height": null,
            "justify_content": null,
            "justify_items": null,
            "left": null,
            "margin": null,
            "max_height": null,
            "max_width": null,
            "min_height": null,
            "min_width": null,
            "object_fit": null,
            "object_position": null,
            "order": null,
            "overflow": null,
            "overflow_x": null,
            "overflow_y": null,
            "padding": null,
            "right": null,
            "top": null,
            "visibility": null,
            "width": null
          }
        },
        "0cf13da557cc42c38b5c1a6d8ed0629f": {
          "model_module": "@jupyter-widgets/controls",
          "model_name": "DescriptionStyleModel",
          "model_module_version": "1.5.0",
          "state": {
            "_model_module": "@jupyter-widgets/controls",
            "_model_module_version": "1.5.0",
            "_model_name": "DescriptionStyleModel",
            "_view_count": null,
            "_view_module": "@jupyter-widgets/base",
            "_view_module_version": "1.2.0",
            "_view_name": "StyleView",
            "description_width": ""
          }
        },
        "501dc3df939f4ac3afc429d34e0fcbcd": {
          "model_module": "@jupyter-widgets/controls",
          "model_name": "HBoxModel",
          "model_module_version": "1.5.0",
          "state": {
            "_dom_classes": [],
            "_model_module": "@jupyter-widgets/controls",
            "_model_module_version": "1.5.0",
            "_model_name": "HBoxModel",
            "_view_count": null,
            "_view_module": "@jupyter-widgets/controls",
            "_view_module_version": "1.5.0",
            "_view_name": "HBoxView",
            "box_style": "",
            "children": [
              "IPY_MODEL_170f88b0ef734b8c96a6d27a48d344b2",
              "IPY_MODEL_3580285db39f4eb49276083ac56d8e4b",
              "IPY_MODEL_140383eecb0f4f0d81820ae4fdb1b24c"
            ],
            "layout": "IPY_MODEL_77ab3321489847dbbfe4fef77fe74dd0"
          }
        },
        "170f88b0ef734b8c96a6d27a48d344b2": {
          "model_module": "@jupyter-widgets/controls",
          "model_name": "HTMLModel",
          "model_module_version": "1.5.0",
          "state": {
            "_dom_classes": [],
            "_model_module": "@jupyter-widgets/controls",
            "_model_module_version": "1.5.0",
            "_model_name": "HTMLModel",
            "_view_count": null,
            "_view_module": "@jupyter-widgets/controls",
            "_view_module_version": "1.5.0",
            "_view_name": "HTMLView",
            "description": "",
            "description_tooltip": null,
            "layout": "IPY_MODEL_519085779c5a46bf8a9e5f7f5ccd1ff7",
            "placeholder": "​",
            "style": "IPY_MODEL_c7c4e8d710194c16bc13489dfce3f598",
            "value": "pytorch_model.bin: 100%"
          }
        },
        "3580285db39f4eb49276083ac56d8e4b": {
          "model_module": "@jupyter-widgets/controls",
          "model_name": "FloatProgressModel",
          "model_module_version": "1.5.0",
          "state": {
            "_dom_classes": [],
            "_model_module": "@jupyter-widgets/controls",
            "_model_module_version": "1.5.0",
            "_model_name": "FloatProgressModel",
            "_view_count": null,
            "_view_module": "@jupyter-widgets/controls",
            "_view_module_version": "1.5.0",
            "_view_name": "ProgressView",
            "bar_style": "success",
            "description": "",
            "description_tooltip": null,
            "layout": "IPY_MODEL_85232c1036954e5e9339532f7f313478",
            "max": 538971577,
            "min": 0,
            "orientation": "horizontal",
            "style": "IPY_MODEL_0840c7e7a30c4af1a99f08252559c034",
            "value": 538971577
          }
        },
        "140383eecb0f4f0d81820ae4fdb1b24c": {
          "model_module": "@jupyter-widgets/controls",
          "model_name": "HTMLModel",
          "model_module_version": "1.5.0",
          "state": {
            "_dom_classes": [],
            "_model_module": "@jupyter-widgets/controls",
            "_model_module_version": "1.5.0",
            "_model_name": "HTMLModel",
            "_view_count": null,
            "_view_module": "@jupyter-widgets/controls",
            "_view_module_version": "1.5.0",
            "_view_name": "HTMLView",
            "description": "",
            "description_tooltip": null,
            "layout": "IPY_MODEL_1eeaac4ed7da4f1d8e9aa4d0c54ae58e",
            "placeholder": "​",
            "style": "IPY_MODEL_0da24a4b7f9b4d21ae35deaf89991a4d",
            "value": " 539M/539M [00:02&lt;00:00, 189MB/s]"
          }
        },
        "77ab3321489847dbbfe4fef77fe74dd0": {
          "model_module": "@jupyter-widgets/base",
          "model_name": "LayoutModel",
          "model_module_version": "1.2.0",
          "state": {
            "_model_module": "@jupyter-widgets/base",
            "_model_module_version": "1.2.0",
            "_model_name": "LayoutModel",
            "_view_count": null,
            "_view_module": "@jupyter-widgets/base",
            "_view_module_version": "1.2.0",
            "_view_name": "LayoutView",
            "align_content": null,
            "align_items": null,
            "align_self": null,
            "border": null,
            "bottom": null,
            "display": null,
            "flex": null,
            "flex_flow": null,
            "grid_area": null,
            "grid_auto_columns": null,
            "grid_auto_flow": null,
            "grid_auto_rows": null,
            "grid_column": null,
            "grid_gap": null,
            "grid_row": null,
            "grid_template_areas": null,
            "grid_template_columns": null,
            "grid_template_rows": null,
            "height": null,
            "justify_content": null,
            "justify_items": null,
            "left": null,
            "margin": null,
            "max_height": null,
            "max_width": null,
            "min_height": null,
            "min_width": null,
            "object_fit": null,
            "object_position": null,
            "order": null,
            "overflow": null,
            "overflow_x": null,
            "overflow_y": null,
            "padding": null,
            "right": null,
            "top": null,
            "visibility": null,
            "width": null
          }
        },
        "519085779c5a46bf8a9e5f7f5ccd1ff7": {
          "model_module": "@jupyter-widgets/base",
          "model_name": "LayoutModel",
          "model_module_version": "1.2.0",
          "state": {
            "_model_module": "@jupyter-widgets/base",
            "_model_module_version": "1.2.0",
            "_model_name": "LayoutModel",
            "_view_count": null,
            "_view_module": "@jupyter-widgets/base",
            "_view_module_version": "1.2.0",
            "_view_name": "LayoutView",
            "align_content": null,
            "align_items": null,
            "align_self": null,
            "border": null,
            "bottom": null,
            "display": null,
            "flex": null,
            "flex_flow": null,
            "grid_area": null,
            "grid_auto_columns": null,
            "grid_auto_flow": null,
            "grid_auto_rows": null,
            "grid_column": null,
            "grid_gap": null,
            "grid_row": null,
            "grid_template_areas": null,
            "grid_template_columns": null,
            "grid_template_rows": null,
            "height": null,
            "justify_content": null,
            "justify_items": null,
            "left": null,
            "margin": null,
            "max_height": null,
            "max_width": null,
            "min_height": null,
            "min_width": null,
            "object_fit": null,
            "object_position": null,
            "order": null,
            "overflow": null,
            "overflow_x": null,
            "overflow_y": null,
            "padding": null,
            "right": null,
            "top": null,
            "visibility": null,
            "width": null
          }
        },
        "c7c4e8d710194c16bc13489dfce3f598": {
          "model_module": "@jupyter-widgets/controls",
          "model_name": "DescriptionStyleModel",
          "model_module_version": "1.5.0",
          "state": {
            "_model_module": "@jupyter-widgets/controls",
            "_model_module_version": "1.5.0",
            "_model_name": "DescriptionStyleModel",
            "_view_count": null,
            "_view_module": "@jupyter-widgets/base",
            "_view_module_version": "1.2.0",
            "_view_name": "StyleView",
            "description_width": ""
          }
        },
        "85232c1036954e5e9339532f7f313478": {
          "model_module": "@jupyter-widgets/base",
          "model_name": "LayoutModel",
          "model_module_version": "1.2.0",
          "state": {
            "_model_module": "@jupyter-widgets/base",
            "_model_module_version": "1.2.0",
            "_model_name": "LayoutModel",
            "_view_count": null,
            "_view_module": "@jupyter-widgets/base",
            "_view_module_version": "1.2.0",
            "_view_name": "LayoutView",
            "align_content": null,
            "align_items": null,
            "align_self": null,
            "border": null,
            "bottom": null,
            "display": null,
            "flex": null,
            "flex_flow": null,
            "grid_area": null,
            "grid_auto_columns": null,
            "grid_auto_flow": null,
            "grid_auto_rows": null,
            "grid_column": null,
            "grid_gap": null,
            "grid_row": null,
            "grid_template_areas": null,
            "grid_template_columns": null,
            "grid_template_rows": null,
            "height": null,
            "justify_content": null,
            "justify_items": null,
            "left": null,
            "margin": null,
            "max_height": null,
            "max_width": null,
            "min_height": null,
            "min_width": null,
            "object_fit": null,
            "object_position": null,
            "order": null,
            "overflow": null,
            "overflow_x": null,
            "overflow_y": null,
            "padding": null,
            "right": null,
            "top": null,
            "visibility": null,
            "width": null
          }
        },
        "0840c7e7a30c4af1a99f08252559c034": {
          "model_module": "@jupyter-widgets/controls",
          "model_name": "ProgressStyleModel",
          "model_module_version": "1.5.0",
          "state": {
            "_model_module": "@jupyter-widgets/controls",
            "_model_module_version": "1.5.0",
            "_model_name": "ProgressStyleModel",
            "_view_count": null,
            "_view_module": "@jupyter-widgets/base",
            "_view_module_version": "1.2.0",
            "_view_name": "StyleView",
            "bar_color": null,
            "description_width": ""
          }
        },
        "1eeaac4ed7da4f1d8e9aa4d0c54ae58e": {
          "model_module": "@jupyter-widgets/base",
          "model_name": "LayoutModel",
          "model_module_version": "1.2.0",
          "state": {
            "_model_module": "@jupyter-widgets/base",
            "_model_module_version": "1.2.0",
            "_model_name": "LayoutModel",
            "_view_count": null,
            "_view_module": "@jupyter-widgets/base",
            "_view_module_version": "1.2.0",
            "_view_name": "LayoutView",
            "align_content": null,
            "align_items": null,
            "align_self": null,
            "border": null,
            "bottom": null,
            "display": null,
            "flex": null,
            "flex_flow": null,
            "grid_area": null,
            "grid_auto_columns": null,
            "grid_auto_flow": null,
            "grid_auto_rows": null,
            "grid_column": null,
            "grid_gap": null,
            "grid_row": null,
            "grid_template_areas": null,
            "grid_template_columns": null,
            "grid_template_rows": null,
            "height": null,
            "justify_content": null,
            "justify_items": null,
            "left": null,
            "margin": null,
            "max_height": null,
            "max_width": null,
            "min_height": null,
            "min_width": null,
            "object_fit": null,
            "object_position": null,
            "order": null,
            "overflow": null,
            "overflow_x": null,
            "overflow_y": null,
            "padding": null,
            "right": null,
            "top": null,
            "visibility": null,
            "width": null
          }
        },
        "0da24a4b7f9b4d21ae35deaf89991a4d": {
          "model_module": "@jupyter-widgets/controls",
          "model_name": "DescriptionStyleModel",
          "model_module_version": "1.5.0",
          "state": {
            "_model_module": "@jupyter-widgets/controls",
            "_model_module_version": "1.5.0",
            "_model_name": "DescriptionStyleModel",
            "_view_count": null,
            "_view_module": "@jupyter-widgets/base",
            "_view_module_version": "1.2.0",
            "_view_name": "StyleView",
            "description_width": ""
          }
        },
        "6f77ded2a1b7450b8d934f739dd4e796": {
          "model_module": "@jupyter-widgets/controls",
          "model_name": "HBoxModel",
          "model_module_version": "1.5.0",
          "state": {
            "_dom_classes": [],
            "_model_module": "@jupyter-widgets/controls",
            "_model_module_version": "1.5.0",
            "_model_name": "HBoxModel",
            "_view_count": null,
            "_view_module": "@jupyter-widgets/controls",
            "_view_module_version": "1.5.0",
            "_view_name": "HBoxView",
            "box_style": "",
            "children": [
              "IPY_MODEL_6d09f9f43ad747bfbab5a9a3fe25d756",
              "IPY_MODEL_fe406c49e1e247b28dee9f0af4d19dd3",
              "IPY_MODEL_9f8df35183324cfe9bdc1edeba61fff8"
            ],
            "layout": "IPY_MODEL_3810632c89444a75948f5b20f93460d2"
          }
        },
        "6d09f9f43ad747bfbab5a9a3fe25d756": {
          "model_module": "@jupyter-widgets/controls",
          "model_name": "HTMLModel",
          "model_module_version": "1.5.0",
          "state": {
            "_dom_classes": [],
            "_model_module": "@jupyter-widgets/controls",
            "_model_module_version": "1.5.0",
            "_model_name": "HTMLModel",
            "_view_count": null,
            "_view_module": "@jupyter-widgets/controls",
            "_view_module_version": "1.5.0",
            "_view_name": "HTMLView",
            "description": "",
            "description_tooltip": null,
            "layout": "IPY_MODEL_b656b34e7f0f434da7f76012ad671a6a",
            "placeholder": "​",
            "style": "IPY_MODEL_f7818e5a10ed4678b1803a5c010063f9",
            "value": "sentence_bert_config.json: 100%"
          }
        },
        "fe406c49e1e247b28dee9f0af4d19dd3": {
          "model_module": "@jupyter-widgets/controls",
          "model_name": "FloatProgressModel",
          "model_module_version": "1.5.0",
          "state": {
            "_dom_classes": [],
            "_model_module": "@jupyter-widgets/controls",
            "_model_module_version": "1.5.0",
            "_model_name": "FloatProgressModel",
            "_view_count": null,
            "_view_module": "@jupyter-widgets/controls",
            "_view_module_version": "1.5.0",
            "_view_name": "ProgressView",
            "bar_style": "success",
            "description": "",
            "description_tooltip": null,
            "layout": "IPY_MODEL_a111ba2d19f34b9f8366b8429345062a",
            "max": 53,
            "min": 0,
            "orientation": "horizontal",
            "style": "IPY_MODEL_42024d9833a04edbb533455cf310b852",
            "value": 53
          }
        },
        "9f8df35183324cfe9bdc1edeba61fff8": {
          "model_module": "@jupyter-widgets/controls",
          "model_name": "HTMLModel",
          "model_module_version": "1.5.0",
          "state": {
            "_dom_classes": [],
            "_model_module": "@jupyter-widgets/controls",
            "_model_module_version": "1.5.0",
            "_model_name": "HTMLModel",
            "_view_count": null,
            "_view_module": "@jupyter-widgets/controls",
            "_view_module_version": "1.5.0",
            "_view_name": "HTMLView",
            "description": "",
            "description_tooltip": null,
            "layout": "IPY_MODEL_113860734bb6474a98568a9aa32d7e5b",
            "placeholder": "​",
            "style": "IPY_MODEL_754b490b36a047d1b9558cf73fb3b415",
            "value": " 53.0/53.0 [00:00&lt;00:00, 3.63kB/s]"
          }
        },
        "3810632c89444a75948f5b20f93460d2": {
          "model_module": "@jupyter-widgets/base",
          "model_name": "LayoutModel",
          "model_module_version": "1.2.0",
          "state": {
            "_model_module": "@jupyter-widgets/base",
            "_model_module_version": "1.2.0",
            "_model_name": "LayoutModel",
            "_view_count": null,
            "_view_module": "@jupyter-widgets/base",
            "_view_module_version": "1.2.0",
            "_view_name": "LayoutView",
            "align_content": null,
            "align_items": null,
            "align_self": null,
            "border": null,
            "bottom": null,
            "display": null,
            "flex": null,
            "flex_flow": null,
            "grid_area": null,
            "grid_auto_columns": null,
            "grid_auto_flow": null,
            "grid_auto_rows": null,
            "grid_column": null,
            "grid_gap": null,
            "grid_row": null,
            "grid_template_areas": null,
            "grid_template_columns": null,
            "grid_template_rows": null,
            "height": null,
            "justify_content": null,
            "justify_items": null,
            "left": null,
            "margin": null,
            "max_height": null,
            "max_width": null,
            "min_height": null,
            "min_width": null,
            "object_fit": null,
            "object_position": null,
            "order": null,
            "overflow": null,
            "overflow_x": null,
            "overflow_y": null,
            "padding": null,
            "right": null,
            "top": null,
            "visibility": null,
            "width": null
          }
        },
        "b656b34e7f0f434da7f76012ad671a6a": {
          "model_module": "@jupyter-widgets/base",
          "model_name": "LayoutModel",
          "model_module_version": "1.2.0",
          "state": {
            "_model_module": "@jupyter-widgets/base",
            "_model_module_version": "1.2.0",
            "_model_name": "LayoutModel",
            "_view_count": null,
            "_view_module": "@jupyter-widgets/base",
            "_view_module_version": "1.2.0",
            "_view_name": "LayoutView",
            "align_content": null,
            "align_items": null,
            "align_self": null,
            "border": null,
            "bottom": null,
            "display": null,
            "flex": null,
            "flex_flow": null,
            "grid_area": null,
            "grid_auto_columns": null,
            "grid_auto_flow": null,
            "grid_auto_rows": null,
            "grid_column": null,
            "grid_gap": null,
            "grid_row": null,
            "grid_template_areas": null,
            "grid_template_columns": null,
            "grid_template_rows": null,
            "height": null,
            "justify_content": null,
            "justify_items": null,
            "left": null,
            "margin": null,
            "max_height": null,
            "max_width": null,
            "min_height": null,
            "min_width": null,
            "object_fit": null,
            "object_position": null,
            "order": null,
            "overflow": null,
            "overflow_x": null,
            "overflow_y": null,
            "padding": null,
            "right": null,
            "top": null,
            "visibility": null,
            "width": null
          }
        },
        "f7818e5a10ed4678b1803a5c010063f9": {
          "model_module": "@jupyter-widgets/controls",
          "model_name": "DescriptionStyleModel",
          "model_module_version": "1.5.0",
          "state": {
            "_model_module": "@jupyter-widgets/controls",
            "_model_module_version": "1.5.0",
            "_model_name": "DescriptionStyleModel",
            "_view_count": null,
            "_view_module": "@jupyter-widgets/base",
            "_view_module_version": "1.2.0",
            "_view_name": "StyleView",
            "description_width": ""
          }
        },
        "a111ba2d19f34b9f8366b8429345062a": {
          "model_module": "@jupyter-widgets/base",
          "model_name": "LayoutModel",
          "model_module_version": "1.2.0",
          "state": {
            "_model_module": "@jupyter-widgets/base",
            "_model_module_version": "1.2.0",
            "_model_name": "LayoutModel",
            "_view_count": null,
            "_view_module": "@jupyter-widgets/base",
            "_view_module_version": "1.2.0",
            "_view_name": "LayoutView",
            "align_content": null,
            "align_items": null,
            "align_self": null,
            "border": null,
            "bottom": null,
            "display": null,
            "flex": null,
            "flex_flow": null,
            "grid_area": null,
            "grid_auto_columns": null,
            "grid_auto_flow": null,
            "grid_auto_rows": null,
            "grid_column": null,
            "grid_gap": null,
            "grid_row": null,
            "grid_template_areas": null,
            "grid_template_columns": null,
            "grid_template_rows": null,
            "height": null,
            "justify_content": null,
            "justify_items": null,
            "left": null,
            "margin": null,
            "max_height": null,
            "max_width": null,
            "min_height": null,
            "min_width": null,
            "object_fit": null,
            "object_position": null,
            "order": null,
            "overflow": null,
            "overflow_x": null,
            "overflow_y": null,
            "padding": null,
            "right": null,
            "top": null,
            "visibility": null,
            "width": null
          }
        },
        "42024d9833a04edbb533455cf310b852": {
          "model_module": "@jupyter-widgets/controls",
          "model_name": "ProgressStyleModel",
          "model_module_version": "1.5.0",
          "state": {
            "_model_module": "@jupyter-widgets/controls",
            "_model_module_version": "1.5.0",
            "_model_name": "ProgressStyleModel",
            "_view_count": null,
            "_view_module": "@jupyter-widgets/base",
            "_view_module_version": "1.2.0",
            "_view_name": "StyleView",
            "bar_color": null,
            "description_width": ""
          }
        },
        "113860734bb6474a98568a9aa32d7e5b": {
          "model_module": "@jupyter-widgets/base",
          "model_name": "LayoutModel",
          "model_module_version": "1.2.0",
          "state": {
            "_model_module": "@jupyter-widgets/base",
            "_model_module_version": "1.2.0",
            "_model_name": "LayoutModel",
            "_view_count": null,
            "_view_module": "@jupyter-widgets/base",
            "_view_module_version": "1.2.0",
            "_view_name": "LayoutView",
            "align_content": null,
            "align_items": null,
            "align_self": null,
            "border": null,
            "bottom": null,
            "display": null,
            "flex": null,
            "flex_flow": null,
            "grid_area": null,
            "grid_auto_columns": null,
            "grid_auto_flow": null,
            "grid_auto_rows": null,
            "grid_column": null,
            "grid_gap": null,
            "grid_row": null,
            "grid_template_areas": null,
            "grid_template_columns": null,
            "grid_template_rows": null,
            "height": null,
            "justify_content": null,
            "justify_items": null,
            "left": null,
            "margin": null,
            "max_height": null,
            "max_width": null,
            "min_height": null,
            "min_width": null,
            "object_fit": null,
            "object_position": null,
            "order": null,
            "overflow": null,
            "overflow_x": null,
            "overflow_y": null,
            "padding": null,
            "right": null,
            "top": null,
            "visibility": null,
            "width": null
          }
        },
        "754b490b36a047d1b9558cf73fb3b415": {
          "model_module": "@jupyter-widgets/controls",
          "model_name": "DescriptionStyleModel",
          "model_module_version": "1.5.0",
          "state": {
            "_model_module": "@jupyter-widgets/controls",
            "_model_module_version": "1.5.0",
            "_model_name": "DescriptionStyleModel",
            "_view_count": null,
            "_view_module": "@jupyter-widgets/base",
            "_view_module_version": "1.2.0",
            "_view_name": "StyleView",
            "description_width": ""
          }
        },
        "5133110e9be94357a7c37935acd7ba13": {
          "model_module": "@jupyter-widgets/controls",
          "model_name": "HBoxModel",
          "model_module_version": "1.5.0",
          "state": {
            "_dom_classes": [],
            "_model_module": "@jupyter-widgets/controls",
            "_model_module_version": "1.5.0",
            "_model_name": "HBoxModel",
            "_view_count": null,
            "_view_module": "@jupyter-widgets/controls",
            "_view_module_version": "1.5.0",
            "_view_name": "HBoxView",
            "box_style": "",
            "children": [
              "IPY_MODEL_53a504832b124c4a84a18ab127706cfa",
              "IPY_MODEL_aeb4f020d0c14bbfaa4f6bc447ec1b04",
              "IPY_MODEL_e80510d35a474ac8a53c4fcc20f776cb"
            ],
            "layout": "IPY_MODEL_2aba179cc31d4a88b6b02b3070850fe0"
          }
        },
        "53a504832b124c4a84a18ab127706cfa": {
          "model_module": "@jupyter-widgets/controls",
          "model_name": "HTMLModel",
          "model_module_version": "1.5.0",
          "state": {
            "_dom_classes": [],
            "_model_module": "@jupyter-widgets/controls",
            "_model_module_version": "1.5.0",
            "_model_name": "HTMLModel",
            "_view_count": null,
            "_view_module": "@jupyter-widgets/controls",
            "_view_module_version": "1.5.0",
            "_view_name": "HTMLView",
            "description": "",
            "description_tooltip": null,
            "layout": "IPY_MODEL_d8712dc01b4642de86e9712a115938f3",
            "placeholder": "​",
            "style": "IPY_MODEL_39a0405f4976453f843450712234c996",
            "value": "special_tokens_map.json: 100%"
          }
        },
        "aeb4f020d0c14bbfaa4f6bc447ec1b04": {
          "model_module": "@jupyter-widgets/controls",
          "model_name": "FloatProgressModel",
          "model_module_version": "1.5.0",
          "state": {
            "_dom_classes": [],
            "_model_module": "@jupyter-widgets/controls",
            "_model_module_version": "1.5.0",
            "_model_name": "FloatProgressModel",
            "_view_count": null,
            "_view_module": "@jupyter-widgets/controls",
            "_view_module_version": "1.5.0",
            "_view_name": "ProgressView",
            "bar_style": "success",
            "description": "",
            "description_tooltip": null,
            "layout": "IPY_MODEL_0494878109284f4ba1093a8cb8cf2642",
            "max": 112,
            "min": 0,
            "orientation": "horizontal",
            "style": "IPY_MODEL_69258c9ec8f34878849a17a7ff35997f",
            "value": 112
          }
        },
        "e80510d35a474ac8a53c4fcc20f776cb": {
          "model_module": "@jupyter-widgets/controls",
          "model_name": "HTMLModel",
          "model_module_version": "1.5.0",
          "state": {
            "_dom_classes": [],
            "_model_module": "@jupyter-widgets/controls",
            "_model_module_version": "1.5.0",
            "_model_name": "HTMLModel",
            "_view_count": null,
            "_view_module": "@jupyter-widgets/controls",
            "_view_module_version": "1.5.0",
            "_view_name": "HTMLView",
            "description": "",
            "description_tooltip": null,
            "layout": "IPY_MODEL_9a9ee6f865ed4baf9164edd2d2ed75de",
            "placeholder": "​",
            "style": "IPY_MODEL_5d40b0a02cbe439dad547b4325becfce",
            "value": " 112/112 [00:00&lt;00:00, 7.56kB/s]"
          }
        },
        "2aba179cc31d4a88b6b02b3070850fe0": {
          "model_module": "@jupyter-widgets/base",
          "model_name": "LayoutModel",
          "model_module_version": "1.2.0",
          "state": {
            "_model_module": "@jupyter-widgets/base",
            "_model_module_version": "1.2.0",
            "_model_name": "LayoutModel",
            "_view_count": null,
            "_view_module": "@jupyter-widgets/base",
            "_view_module_version": "1.2.0",
            "_view_name": "LayoutView",
            "align_content": null,
            "align_items": null,
            "align_self": null,
            "border": null,
            "bottom": null,
            "display": null,
            "flex": null,
            "flex_flow": null,
            "grid_area": null,
            "grid_auto_columns": null,
            "grid_auto_flow": null,
            "grid_auto_rows": null,
            "grid_column": null,
            "grid_gap": null,
            "grid_row": null,
            "grid_template_areas": null,
            "grid_template_columns": null,
            "grid_template_rows": null,
            "height": null,
            "justify_content": null,
            "justify_items": null,
            "left": null,
            "margin": null,
            "max_height": null,
            "max_width": null,
            "min_height": null,
            "min_width": null,
            "object_fit": null,
            "object_position": null,
            "order": null,
            "overflow": null,
            "overflow_x": null,
            "overflow_y": null,
            "padding": null,
            "right": null,
            "top": null,
            "visibility": null,
            "width": null
          }
        },
        "d8712dc01b4642de86e9712a115938f3": {
          "model_module": "@jupyter-widgets/base",
          "model_name": "LayoutModel",
          "model_module_version": "1.2.0",
          "state": {
            "_model_module": "@jupyter-widgets/base",
            "_model_module_version": "1.2.0",
            "_model_name": "LayoutModel",
            "_view_count": null,
            "_view_module": "@jupyter-widgets/base",
            "_view_module_version": "1.2.0",
            "_view_name": "LayoutView",
            "align_content": null,
            "align_items": null,
            "align_self": null,
            "border": null,
            "bottom": null,
            "display": null,
            "flex": null,
            "flex_flow": null,
            "grid_area": null,
            "grid_auto_columns": null,
            "grid_auto_flow": null,
            "grid_auto_rows": null,
            "grid_column": null,
            "grid_gap": null,
            "grid_row": null,
            "grid_template_areas": null,
            "grid_template_columns": null,
            "grid_template_rows": null,
            "height": null,
            "justify_content": null,
            "justify_items": null,
            "left": null,
            "margin": null,
            "max_height": null,
            "max_width": null,
            "min_height": null,
            "min_width": null,
            "object_fit": null,
            "object_position": null,
            "order": null,
            "overflow": null,
            "overflow_x": null,
            "overflow_y": null,
            "padding": null,
            "right": null,
            "top": null,
            "visibility": null,
            "width": null
          }
        },
        "39a0405f4976453f843450712234c996": {
          "model_module": "@jupyter-widgets/controls",
          "model_name": "DescriptionStyleModel",
          "model_module_version": "1.5.0",
          "state": {
            "_model_module": "@jupyter-widgets/controls",
            "_model_module_version": "1.5.0",
            "_model_name": "DescriptionStyleModel",
            "_view_count": null,
            "_view_module": "@jupyter-widgets/base",
            "_view_module_version": "1.2.0",
            "_view_name": "StyleView",
            "description_width": ""
          }
        },
        "0494878109284f4ba1093a8cb8cf2642": {
          "model_module": "@jupyter-widgets/base",
          "model_name": "LayoutModel",
          "model_module_version": "1.2.0",
          "state": {
            "_model_module": "@jupyter-widgets/base",
            "_model_module_version": "1.2.0",
            "_model_name": "LayoutModel",
            "_view_count": null,
            "_view_module": "@jupyter-widgets/base",
            "_view_module_version": "1.2.0",
            "_view_name": "LayoutView",
            "align_content": null,
            "align_items": null,
            "align_self": null,
            "border": null,
            "bottom": null,
            "display": null,
            "flex": null,
            "flex_flow": null,
            "grid_area": null,
            "grid_auto_columns": null,
            "grid_auto_flow": null,
            "grid_auto_rows": null,
            "grid_column": null,
            "grid_gap": null,
            "grid_row": null,
            "grid_template_areas": null,
            "grid_template_columns": null,
            "grid_template_rows": null,
            "height": null,
            "justify_content": null,
            "justify_items": null,
            "left": null,
            "margin": null,
            "max_height": null,
            "max_width": null,
            "min_height": null,
            "min_width": null,
            "object_fit": null,
            "object_position": null,
            "order": null,
            "overflow": null,
            "overflow_x": null,
            "overflow_y": null,
            "padding": null,
            "right": null,
            "top": null,
            "visibility": null,
            "width": null
          }
        },
        "69258c9ec8f34878849a17a7ff35997f": {
          "model_module": "@jupyter-widgets/controls",
          "model_name": "ProgressStyleModel",
          "model_module_version": "1.5.0",
          "state": {
            "_model_module": "@jupyter-widgets/controls",
            "_model_module_version": "1.5.0",
            "_model_name": "ProgressStyleModel",
            "_view_count": null,
            "_view_module": "@jupyter-widgets/base",
            "_view_module_version": "1.2.0",
            "_view_name": "StyleView",
            "bar_color": null,
            "description_width": ""
          }
        },
        "9a9ee6f865ed4baf9164edd2d2ed75de": {
          "model_module": "@jupyter-widgets/base",
          "model_name": "LayoutModel",
          "model_module_version": "1.2.0",
          "state": {
            "_model_module": "@jupyter-widgets/base",
            "_model_module_version": "1.2.0",
            "_model_name": "LayoutModel",
            "_view_count": null,
            "_view_module": "@jupyter-widgets/base",
            "_view_module_version": "1.2.0",
            "_view_name": "LayoutView",
            "align_content": null,
            "align_items": null,
            "align_self": null,
            "border": null,
            "bottom": null,
            "display": null,
            "flex": null,
            "flex_flow": null,
            "grid_area": null,
            "grid_auto_columns": null,
            "grid_auto_flow": null,
            "grid_auto_rows": null,
            "grid_column": null,
            "grid_gap": null,
            "grid_row": null,
            "grid_template_areas": null,
            "grid_template_columns": null,
            "grid_template_rows": null,
            "height": null,
            "justify_content": null,
            "justify_items": null,
            "left": null,
            "margin": null,
            "max_height": null,
            "max_width": null,
            "min_height": null,
            "min_width": null,
            "object_fit": null,
            "object_position": null,
            "order": null,
            "overflow": null,
            "overflow_x": null,
            "overflow_y": null,
            "padding": null,
            "right": null,
            "top": null,
            "visibility": null,
            "width": null
          }
        },
        "5d40b0a02cbe439dad547b4325becfce": {
          "model_module": "@jupyter-widgets/controls",
          "model_name": "DescriptionStyleModel",
          "model_module_version": "1.5.0",
          "state": {
            "_model_module": "@jupyter-widgets/controls",
            "_model_module_version": "1.5.0",
            "_model_name": "DescriptionStyleModel",
            "_view_count": null,
            "_view_module": "@jupyter-widgets/base",
            "_view_module_version": "1.2.0",
            "_view_name": "StyleView",
            "description_width": ""
          }
        },
        "c3d9eedb068f494ebb673499022c9140": {
          "model_module": "@jupyter-widgets/controls",
          "model_name": "HBoxModel",
          "model_module_version": "1.5.0",
          "state": {
            "_dom_classes": [],
            "_model_module": "@jupyter-widgets/controls",
            "_model_module_version": "1.5.0",
            "_model_name": "HBoxModel",
            "_view_count": null,
            "_view_module": "@jupyter-widgets/controls",
            "_view_module_version": "1.5.0",
            "_view_name": "HBoxView",
            "box_style": "",
            "children": [
              "IPY_MODEL_d64a68c9fff440a0a578c552710f420c",
              "IPY_MODEL_9dd50ee3e49a4b63a03fbe37f34cc408",
              "IPY_MODEL_39e0cc032fb94d13a5009b7b848ef5ec"
            ],
            "layout": "IPY_MODEL_ba9001f18e0c4b32bdff6599966170ba"
          }
        },
        "d64a68c9fff440a0a578c552710f420c": {
          "model_module": "@jupyter-widgets/controls",
          "model_name": "HTMLModel",
          "model_module_version": "1.5.0",
          "state": {
            "_dom_classes": [],
            "_model_module": "@jupyter-widgets/controls",
            "_model_module_version": "1.5.0",
            "_model_name": "HTMLModel",
            "_view_count": null,
            "_view_module": "@jupyter-widgets/controls",
            "_view_module_version": "1.5.0",
            "_view_name": "HTMLView",
            "description": "",
            "description_tooltip": null,
            "layout": "IPY_MODEL_da4703da20594fa1be5a48695a6d2037",
            "placeholder": "​",
            "style": "IPY_MODEL_a6675dedb1704cd987f215fc4a44e36f",
            "value": "tokenizer.json: 100%"
          }
        },
        "9dd50ee3e49a4b63a03fbe37f34cc408": {
          "model_module": "@jupyter-widgets/controls",
          "model_name": "FloatProgressModel",
          "model_module_version": "1.5.0",
          "state": {
            "_dom_classes": [],
            "_model_module": "@jupyter-widgets/controls",
            "_model_module_version": "1.5.0",
            "_model_name": "FloatProgressModel",
            "_view_count": null,
            "_view_module": "@jupyter-widgets/controls",
            "_view_module_version": "1.5.0",
            "_view_name": "ProgressView",
            "bar_style": "success",
            "description": "",
            "description_tooltip": null,
            "layout": "IPY_MODEL_26d760e88911483ebbe21f875d293297",
            "max": 1961847,
            "min": 0,
            "orientation": "horizontal",
            "style": "IPY_MODEL_fd9ed97dcd0747f5ae21d2f4661a5ba2",
            "value": 1961847
          }
        },
        "39e0cc032fb94d13a5009b7b848ef5ec": {
          "model_module": "@jupyter-widgets/controls",
          "model_name": "HTMLModel",
          "model_module_version": "1.5.0",
          "state": {
            "_dom_classes": [],
            "_model_module": "@jupyter-widgets/controls",
            "_model_module_version": "1.5.0",
            "_model_name": "HTMLModel",
            "_view_count": null,
            "_view_module": "@jupyter-widgets/controls",
            "_view_module_version": "1.5.0",
            "_view_name": "HTMLView",
            "description": "",
            "description_tooltip": null,
            "layout": "IPY_MODEL_7e95ab14e5b0462aa76cfb60cab8acf0",
            "placeholder": "​",
            "style": "IPY_MODEL_923b09a246d24c59adab92e501709a7a",
            "value": " 1.96M/1.96M [00:00&lt;00:00, 20.5MB/s]"
          }
        },
        "ba9001f18e0c4b32bdff6599966170ba": {
          "model_module": "@jupyter-widgets/base",
          "model_name": "LayoutModel",
          "model_module_version": "1.2.0",
          "state": {
            "_model_module": "@jupyter-widgets/base",
            "_model_module_version": "1.2.0",
            "_model_name": "LayoutModel",
            "_view_count": null,
            "_view_module": "@jupyter-widgets/base",
            "_view_module_version": "1.2.0",
            "_view_name": "LayoutView",
            "align_content": null,
            "align_items": null,
            "align_self": null,
            "border": null,
            "bottom": null,
            "display": null,
            "flex": null,
            "flex_flow": null,
            "grid_area": null,
            "grid_auto_columns": null,
            "grid_auto_flow": null,
            "grid_auto_rows": null,
            "grid_column": null,
            "grid_gap": null,
            "grid_row": null,
            "grid_template_areas": null,
            "grid_template_columns": null,
            "grid_template_rows": null,
            "height": null,
            "justify_content": null,
            "justify_items": null,
            "left": null,
            "margin": null,
            "max_height": null,
            "max_width": null,
            "min_height": null,
            "min_width": null,
            "object_fit": null,
            "object_position": null,
            "order": null,
            "overflow": null,
            "overflow_x": null,
            "overflow_y": null,
            "padding": null,
            "right": null,
            "top": null,
            "visibility": null,
            "width": null
          }
        },
        "da4703da20594fa1be5a48695a6d2037": {
          "model_module": "@jupyter-widgets/base",
          "model_name": "LayoutModel",
          "model_module_version": "1.2.0",
          "state": {
            "_model_module": "@jupyter-widgets/base",
            "_model_module_version": "1.2.0",
            "_model_name": "LayoutModel",
            "_view_count": null,
            "_view_module": "@jupyter-widgets/base",
            "_view_module_version": "1.2.0",
            "_view_name": "LayoutView",
            "align_content": null,
            "align_items": null,
            "align_self": null,
            "border": null,
            "bottom": null,
            "display": null,
            "flex": null,
            "flex_flow": null,
            "grid_area": null,
            "grid_auto_columns": null,
            "grid_auto_flow": null,
            "grid_auto_rows": null,
            "grid_column": null,
            "grid_gap": null,
            "grid_row": null,
            "grid_template_areas": null,
            "grid_template_columns": null,
            "grid_template_rows": null,
            "height": null,
            "justify_content": null,
            "justify_items": null,
            "left": null,
            "margin": null,
            "max_height": null,
            "max_width": null,
            "min_height": null,
            "min_width": null,
            "object_fit": null,
            "object_position": null,
            "order": null,
            "overflow": null,
            "overflow_x": null,
            "overflow_y": null,
            "padding": null,
            "right": null,
            "top": null,
            "visibility": null,
            "width": null
          }
        },
        "a6675dedb1704cd987f215fc4a44e36f": {
          "model_module": "@jupyter-widgets/controls",
          "model_name": "DescriptionStyleModel",
          "model_module_version": "1.5.0",
          "state": {
            "_model_module": "@jupyter-widgets/controls",
            "_model_module_version": "1.5.0",
            "_model_name": "DescriptionStyleModel",
            "_view_count": null,
            "_view_module": "@jupyter-widgets/base",
            "_view_module_version": "1.2.0",
            "_view_name": "StyleView",
            "description_width": ""
          }
        },
        "26d760e88911483ebbe21f875d293297": {
          "model_module": "@jupyter-widgets/base",
          "model_name": "LayoutModel",
          "model_module_version": "1.2.0",
          "state": {
            "_model_module": "@jupyter-widgets/base",
            "_model_module_version": "1.2.0",
            "_model_name": "LayoutModel",
            "_view_count": null,
            "_view_module": "@jupyter-widgets/base",
            "_view_module_version": "1.2.0",
            "_view_name": "LayoutView",
            "align_content": null,
            "align_items": null,
            "align_self": null,
            "border": null,
            "bottom": null,
            "display": null,
            "flex": null,
            "flex_flow": null,
            "grid_area": null,
            "grid_auto_columns": null,
            "grid_auto_flow": null,
            "grid_auto_rows": null,
            "grid_column": null,
            "grid_gap": null,
            "grid_row": null,
            "grid_template_areas": null,
            "grid_template_columns": null,
            "grid_template_rows": null,
            "height": null,
            "justify_content": null,
            "justify_items": null,
            "left": null,
            "margin": null,
            "max_height": null,
            "max_width": null,
            "min_height": null,
            "min_width": null,
            "object_fit": null,
            "object_position": null,
            "order": null,
            "overflow": null,
            "overflow_x": null,
            "overflow_y": null,
            "padding": null,
            "right": null,
            "top": null,
            "visibility": null,
            "width": null
          }
        },
        "fd9ed97dcd0747f5ae21d2f4661a5ba2": {
          "model_module": "@jupyter-widgets/controls",
          "model_name": "ProgressStyleModel",
          "model_module_version": "1.5.0",
          "state": {
            "_model_module": "@jupyter-widgets/controls",
            "_model_module_version": "1.5.0",
            "_model_name": "ProgressStyleModel",
            "_view_count": null,
            "_view_module": "@jupyter-widgets/base",
            "_view_module_version": "1.2.0",
            "_view_name": "StyleView",
            "bar_color": null,
            "description_width": ""
          }
        },
        "7e95ab14e5b0462aa76cfb60cab8acf0": {
          "model_module": "@jupyter-widgets/base",
          "model_name": "LayoutModel",
          "model_module_version": "1.2.0",
          "state": {
            "_model_module": "@jupyter-widgets/base",
            "_model_module_version": "1.2.0",
            "_model_name": "LayoutModel",
            "_view_count": null,
            "_view_module": "@jupyter-widgets/base",
            "_view_module_version": "1.2.0",
            "_view_name": "LayoutView",
            "align_content": null,
            "align_items": null,
            "align_self": null,
            "border": null,
            "bottom": null,
            "display": null,
            "flex": null,
            "flex_flow": null,
            "grid_area": null,
            "grid_auto_columns": null,
            "grid_auto_flow": null,
            "grid_auto_rows": null,
            "grid_column": null,
            "grid_gap": null,
            "grid_row": null,
            "grid_template_areas": null,
            "grid_template_columns": null,
            "grid_template_rows": null,
            "height": null,
            "justify_content": null,
            "justify_items": null,
            "left": null,
            "margin": null,
            "max_height": null,
            "max_width": null,
            "min_height": null,
            "min_width": null,
            "object_fit": null,
            "object_position": null,
            "order": null,
            "overflow": null,
            "overflow_x": null,
            "overflow_y": null,
            "padding": null,
            "right": null,
            "top": null,
            "visibility": null,
            "width": null
          }
        },
        "923b09a246d24c59adab92e501709a7a": {
          "model_module": "@jupyter-widgets/controls",
          "model_name": "DescriptionStyleModel",
          "model_module_version": "1.5.0",
          "state": {
            "_model_module": "@jupyter-widgets/controls",
            "_model_module_version": "1.5.0",
            "_model_name": "DescriptionStyleModel",
            "_view_count": null,
            "_view_module": "@jupyter-widgets/base",
            "_view_module_version": "1.2.0",
            "_view_name": "StyleView",
            "description_width": ""
          }
        },
        "caca2805cb854b3183335e722034a292": {
          "model_module": "@jupyter-widgets/controls",
          "model_name": "HBoxModel",
          "model_module_version": "1.5.0",
          "state": {
            "_dom_classes": [],
            "_model_module": "@jupyter-widgets/controls",
            "_model_module_version": "1.5.0",
            "_model_name": "HBoxModel",
            "_view_count": null,
            "_view_module": "@jupyter-widgets/controls",
            "_view_module_version": "1.5.0",
            "_view_name": "HBoxView",
            "box_style": "",
            "children": [
              "IPY_MODEL_a9270429e30d410fb86d1f6e4b69376f",
              "IPY_MODEL_c7cfafcc0874462ab3dbaf3865c6f7ec",
              "IPY_MODEL_6d0a01b9406e489e877f976b9a7a37af"
            ],
            "layout": "IPY_MODEL_23d164f00d604a7ab059a967f6c53f22"
          }
        },
        "a9270429e30d410fb86d1f6e4b69376f": {
          "model_module": "@jupyter-widgets/controls",
          "model_name": "HTMLModel",
          "model_module_version": "1.5.0",
          "state": {
            "_dom_classes": [],
            "_model_module": "@jupyter-widgets/controls",
            "_model_module_version": "1.5.0",
            "_model_name": "HTMLModel",
            "_view_count": null,
            "_view_module": "@jupyter-widgets/controls",
            "_view_module_version": "1.5.0",
            "_view_name": "HTMLView",
            "description": "",
            "description_tooltip": null,
            "layout": "IPY_MODEL_4cfd62fbc44e467da1ea463d454c6450",
            "placeholder": "​",
            "style": "IPY_MODEL_5bac891f7af5442b9dde8dbe8c6a9298",
            "value": "tokenizer_config.json: 100%"
          }
        },
        "c7cfafcc0874462ab3dbaf3865c6f7ec": {
          "model_module": "@jupyter-widgets/controls",
          "model_name": "FloatProgressModel",
          "model_module_version": "1.5.0",
          "state": {
            "_dom_classes": [],
            "_model_module": "@jupyter-widgets/controls",
            "_model_module_version": "1.5.0",
            "_model_name": "FloatProgressModel",
            "_view_count": null,
            "_view_module": "@jupyter-widgets/controls",
            "_view_module_version": "1.5.0",
            "_view_name": "ProgressView",
            "bar_style": "success",
            "description": "",
            "description_tooltip": null,
            "layout": "IPY_MODEL_90340cc8ce0d4a61958ce507dda48dab",
            "max": 531,
            "min": 0,
            "orientation": "horizontal",
            "style": "IPY_MODEL_d1d15ebd21a74ca1a44ef17414a0eedf",
            "value": 531
          }
        },
        "6d0a01b9406e489e877f976b9a7a37af": {
          "model_module": "@jupyter-widgets/controls",
          "model_name": "HTMLModel",
          "model_module_version": "1.5.0",
          "state": {
            "_dom_classes": [],
            "_model_module": "@jupyter-widgets/controls",
            "_model_module_version": "1.5.0",
            "_model_name": "HTMLModel",
            "_view_count": null,
            "_view_module": "@jupyter-widgets/controls",
            "_view_module_version": "1.5.0",
            "_view_name": "HTMLView",
            "description": "",
            "description_tooltip": null,
            "layout": "IPY_MODEL_b7ad201315564141a3c29e735a6e30e4",
            "placeholder": "​",
            "style": "IPY_MODEL_111d73b066af4b31895a4abf0dd7b68b",
            "value": " 531/531 [00:00&lt;00:00, 24.3kB/s]"
          }
        },
        "23d164f00d604a7ab059a967f6c53f22": {
          "model_module": "@jupyter-widgets/base",
          "model_name": "LayoutModel",
          "model_module_version": "1.2.0",
          "state": {
            "_model_module": "@jupyter-widgets/base",
            "_model_module_version": "1.2.0",
            "_model_name": "LayoutModel",
            "_view_count": null,
            "_view_module": "@jupyter-widgets/base",
            "_view_module_version": "1.2.0",
            "_view_name": "LayoutView",
            "align_content": null,
            "align_items": null,
            "align_self": null,
            "border": null,
            "bottom": null,
            "display": null,
            "flex": null,
            "flex_flow": null,
            "grid_area": null,
            "grid_auto_columns": null,
            "grid_auto_flow": null,
            "grid_auto_rows": null,
            "grid_column": null,
            "grid_gap": null,
            "grid_row": null,
            "grid_template_areas": null,
            "grid_template_columns": null,
            "grid_template_rows": null,
            "height": null,
            "justify_content": null,
            "justify_items": null,
            "left": null,
            "margin": null,
            "max_height": null,
            "max_width": null,
            "min_height": null,
            "min_width": null,
            "object_fit": null,
            "object_position": null,
            "order": null,
            "overflow": null,
            "overflow_x": null,
            "overflow_y": null,
            "padding": null,
            "right": null,
            "top": null,
            "visibility": null,
            "width": null
          }
        },
        "4cfd62fbc44e467da1ea463d454c6450": {
          "model_module": "@jupyter-widgets/base",
          "model_name": "LayoutModel",
          "model_module_version": "1.2.0",
          "state": {
            "_model_module": "@jupyter-widgets/base",
            "_model_module_version": "1.2.0",
            "_model_name": "LayoutModel",
            "_view_count": null,
            "_view_module": "@jupyter-widgets/base",
            "_view_module_version": "1.2.0",
            "_view_name": "LayoutView",
            "align_content": null,
            "align_items": null,
            "align_self": null,
            "border": null,
            "bottom": null,
            "display": null,
            "flex": null,
            "flex_flow": null,
            "grid_area": null,
            "grid_auto_columns": null,
            "grid_auto_flow": null,
            "grid_auto_rows": null,
            "grid_column": null,
            "grid_gap": null,
            "grid_row": null,
            "grid_template_areas": null,
            "grid_template_columns": null,
            "grid_template_rows": null,
            "height": null,
            "justify_content": null,
            "justify_items": null,
            "left": null,
            "margin": null,
            "max_height": null,
            "max_width": null,
            "min_height": null,
            "min_width": null,
            "object_fit": null,
            "object_position": null,
            "order": null,
            "overflow": null,
            "overflow_x": null,
            "overflow_y": null,
            "padding": null,
            "right": null,
            "top": null,
            "visibility": null,
            "width": null
          }
        },
        "5bac891f7af5442b9dde8dbe8c6a9298": {
          "model_module": "@jupyter-widgets/controls",
          "model_name": "DescriptionStyleModel",
          "model_module_version": "1.5.0",
          "state": {
            "_model_module": "@jupyter-widgets/controls",
            "_model_module_version": "1.5.0",
            "_model_name": "DescriptionStyleModel",
            "_view_count": null,
            "_view_module": "@jupyter-widgets/base",
            "_view_module_version": "1.2.0",
            "_view_name": "StyleView",
            "description_width": ""
          }
        },
        "90340cc8ce0d4a61958ce507dda48dab": {
          "model_module": "@jupyter-widgets/base",
          "model_name": "LayoutModel",
          "model_module_version": "1.2.0",
          "state": {
            "_model_module": "@jupyter-widgets/base",
            "_model_module_version": "1.2.0",
            "_model_name": "LayoutModel",
            "_view_count": null,
            "_view_module": "@jupyter-widgets/base",
            "_view_module_version": "1.2.0",
            "_view_name": "LayoutView",
            "align_content": null,
            "align_items": null,
            "align_self": null,
            "border": null,
            "bottom": null,
            "display": null,
            "flex": null,
            "flex_flow": null,
            "grid_area": null,
            "grid_auto_columns": null,
            "grid_auto_flow": null,
            "grid_auto_rows": null,
            "grid_column": null,
            "grid_gap": null,
            "grid_row": null,
            "grid_template_areas": null,
            "grid_template_columns": null,
            "grid_template_rows": null,
            "height": null,
            "justify_content": null,
            "justify_items": null,
            "left": null,
            "margin": null,
            "max_height": null,
            "max_width": null,
            "min_height": null,
            "min_width": null,
            "object_fit": null,
            "object_position": null,
            "order": null,
            "overflow": null,
            "overflow_x": null,
            "overflow_y": null,
            "padding": null,
            "right": null,
            "top": null,
            "visibility": null,
            "width": null
          }
        },
        "d1d15ebd21a74ca1a44ef17414a0eedf": {
          "model_module": "@jupyter-widgets/controls",
          "model_name": "ProgressStyleModel",
          "model_module_version": "1.5.0",
          "state": {
            "_model_module": "@jupyter-widgets/controls",
            "_model_module_version": "1.5.0",
            "_model_name": "ProgressStyleModel",
            "_view_count": null,
            "_view_module": "@jupyter-widgets/base",
            "_view_module_version": "1.2.0",
            "_view_name": "StyleView",
            "bar_color": null,
            "description_width": ""
          }
        },
        "b7ad201315564141a3c29e735a6e30e4": {
          "model_module": "@jupyter-widgets/base",
          "model_name": "LayoutModel",
          "model_module_version": "1.2.0",
          "state": {
            "_model_module": "@jupyter-widgets/base",
            "_model_module_version": "1.2.0",
            "_model_name": "LayoutModel",
            "_view_count": null,
            "_view_module": "@jupyter-widgets/base",
            "_view_module_version": "1.2.0",
            "_view_name": "LayoutView",
            "align_content": null,
            "align_items": null,
            "align_self": null,
            "border": null,
            "bottom": null,
            "display": null,
            "flex": null,
            "flex_flow": null,
            "grid_area": null,
            "grid_auto_columns": null,
            "grid_auto_flow": null,
            "grid_auto_rows": null,
            "grid_column": null,
            "grid_gap": null,
            "grid_row": null,
            "grid_template_areas": null,
            "grid_template_columns": null,
            "grid_template_rows": null,
            "height": null,
            "justify_content": null,
            "justify_items": null,
            "left": null,
            "margin": null,
            "max_height": null,
            "max_width": null,
            "min_height": null,
            "min_width": null,
            "object_fit": null,
            "object_position": null,
            "order": null,
            "overflow": null,
            "overflow_x": null,
            "overflow_y": null,
            "padding": null,
            "right": null,
            "top": null,
            "visibility": null,
            "width": null
          }
        },
        "111d73b066af4b31895a4abf0dd7b68b": {
          "model_module": "@jupyter-widgets/controls",
          "model_name": "DescriptionStyleModel",
          "model_module_version": "1.5.0",
          "state": {
            "_model_module": "@jupyter-widgets/controls",
            "_model_module_version": "1.5.0",
            "_model_name": "DescriptionStyleModel",
            "_view_count": null,
            "_view_module": "@jupyter-widgets/base",
            "_view_module_version": "1.2.0",
            "_view_name": "StyleView",
            "description_width": ""
          }
        },
        "0a5e27da6038418cb4574dc2b468b01c": {
          "model_module": "@jupyter-widgets/controls",
          "model_name": "HBoxModel",
          "model_module_version": "1.5.0",
          "state": {
            "_dom_classes": [],
            "_model_module": "@jupyter-widgets/controls",
            "_model_module_version": "1.5.0",
            "_model_name": "HBoxModel",
            "_view_count": null,
            "_view_module": "@jupyter-widgets/controls",
            "_view_module_version": "1.5.0",
            "_view_name": "HBoxView",
            "box_style": "",
            "children": [
              "IPY_MODEL_ebd0a22c62d741f482c1896f9087579c",
              "IPY_MODEL_0b1dbe5de1764d249a6474ebce23e2ac",
              "IPY_MODEL_3b0a4382c23c42058189c8cf176fb6ef"
            ],
            "layout": "IPY_MODEL_91b82a80d1274a0081d3f6181d6ce52f"
          }
        },
        "ebd0a22c62d741f482c1896f9087579c": {
          "model_module": "@jupyter-widgets/controls",
          "model_name": "HTMLModel",
          "model_module_version": "1.5.0",
          "state": {
            "_dom_classes": [],
            "_model_module": "@jupyter-widgets/controls",
            "_model_module_version": "1.5.0",
            "_model_name": "HTMLModel",
            "_view_count": null,
            "_view_module": "@jupyter-widgets/controls",
            "_view_module_version": "1.5.0",
            "_view_name": "HTMLView",
            "description": "",
            "description_tooltip": null,
            "layout": "IPY_MODEL_dcfc24b9d05f472b92c58219dc322b63",
            "placeholder": "​",
            "style": "IPY_MODEL_0b8a48a875594a278cf3416a44106ad1",
            "value": "vocab.txt: 100%"
          }
        },
        "0b1dbe5de1764d249a6474ebce23e2ac": {
          "model_module": "@jupyter-widgets/controls",
          "model_name": "FloatProgressModel",
          "model_module_version": "1.5.0",
          "state": {
            "_dom_classes": [],
            "_model_module": "@jupyter-widgets/controls",
            "_model_module_version": "1.5.0",
            "_model_name": "FloatProgressModel",
            "_view_count": null,
            "_view_module": "@jupyter-widgets/controls",
            "_view_module_version": "1.5.0",
            "_view_name": "ProgressView",
            "bar_style": "success",
            "description": "",
            "description_tooltip": null,
            "layout": "IPY_MODEL_11f074975f0c40ba9a66869786d4c997",
            "max": 995526,
            "min": 0,
            "orientation": "horizontal",
            "style": "IPY_MODEL_9b84492d0b6a49d58567c264e0140fa9",
            "value": 995526
          }
        },
        "3b0a4382c23c42058189c8cf176fb6ef": {
          "model_module": "@jupyter-widgets/controls",
          "model_name": "HTMLModel",
          "model_module_version": "1.5.0",
          "state": {
            "_dom_classes": [],
            "_model_module": "@jupyter-widgets/controls",
            "_model_module_version": "1.5.0",
            "_model_name": "HTMLModel",
            "_view_count": null,
            "_view_module": "@jupyter-widgets/controls",
            "_view_module_version": "1.5.0",
            "_view_name": "HTMLView",
            "description": "",
            "description_tooltip": null,
            "layout": "IPY_MODEL_49f201ac910a45d880696b49b099a329",
            "placeholder": "​",
            "style": "IPY_MODEL_b003dffb40ff42878f49e476e97f4217",
            "value": " 996k/996k [00:00&lt;00:00, 11.7MB/s]"
          }
        },
        "91b82a80d1274a0081d3f6181d6ce52f": {
          "model_module": "@jupyter-widgets/base",
          "model_name": "LayoutModel",
          "model_module_version": "1.2.0",
          "state": {
            "_model_module": "@jupyter-widgets/base",
            "_model_module_version": "1.2.0",
            "_model_name": "LayoutModel",
            "_view_count": null,
            "_view_module": "@jupyter-widgets/base",
            "_view_module_version": "1.2.0",
            "_view_name": "LayoutView",
            "align_content": null,
            "align_items": null,
            "align_self": null,
            "border": null,
            "bottom": null,
            "display": null,
            "flex": null,
            "flex_flow": null,
            "grid_area": null,
            "grid_auto_columns": null,
            "grid_auto_flow": null,
            "grid_auto_rows": null,
            "grid_column": null,
            "grid_gap": null,
            "grid_row": null,
            "grid_template_areas": null,
            "grid_template_columns": null,
            "grid_template_rows": null,
            "height": null,
            "justify_content": null,
            "justify_items": null,
            "left": null,
            "margin": null,
            "max_height": null,
            "max_width": null,
            "min_height": null,
            "min_width": null,
            "object_fit": null,
            "object_position": null,
            "order": null,
            "overflow": null,
            "overflow_x": null,
            "overflow_y": null,
            "padding": null,
            "right": null,
            "top": null,
            "visibility": null,
            "width": null
          }
        },
        "dcfc24b9d05f472b92c58219dc322b63": {
          "model_module": "@jupyter-widgets/base",
          "model_name": "LayoutModel",
          "model_module_version": "1.2.0",
          "state": {
            "_model_module": "@jupyter-widgets/base",
            "_model_module_version": "1.2.0",
            "_model_name": "LayoutModel",
            "_view_count": null,
            "_view_module": "@jupyter-widgets/base",
            "_view_module_version": "1.2.0",
            "_view_name": "LayoutView",
            "align_content": null,
            "align_items": null,
            "align_self": null,
            "border": null,
            "bottom": null,
            "display": null,
            "flex": null,
            "flex_flow": null,
            "grid_area": null,
            "grid_auto_columns": null,
            "grid_auto_flow": null,
            "grid_auto_rows": null,
            "grid_column": null,
            "grid_gap": null,
            "grid_row": null,
            "grid_template_areas": null,
            "grid_template_columns": null,
            "grid_template_rows": null,
            "height": null,
            "justify_content": null,
            "justify_items": null,
            "left": null,
            "margin": null,
            "max_height": null,
            "max_width": null,
            "min_height": null,
            "min_width": null,
            "object_fit": null,
            "object_position": null,
            "order": null,
            "overflow": null,
            "overflow_x": null,
            "overflow_y": null,
            "padding": null,
            "right": null,
            "top": null,
            "visibility": null,
            "width": null
          }
        },
        "0b8a48a875594a278cf3416a44106ad1": {
          "model_module": "@jupyter-widgets/controls",
          "model_name": "DescriptionStyleModel",
          "model_module_version": "1.5.0",
          "state": {
            "_model_module": "@jupyter-widgets/controls",
            "_model_module_version": "1.5.0",
            "_model_name": "DescriptionStyleModel",
            "_view_count": null,
            "_view_module": "@jupyter-widgets/base",
            "_view_module_version": "1.2.0",
            "_view_name": "StyleView",
            "description_width": ""
          }
        },
        "11f074975f0c40ba9a66869786d4c997": {
          "model_module": "@jupyter-widgets/base",
          "model_name": "LayoutModel",
          "model_module_version": "1.2.0",
          "state": {
            "_model_module": "@jupyter-widgets/base",
            "_model_module_version": "1.2.0",
            "_model_name": "LayoutModel",
            "_view_count": null,
            "_view_module": "@jupyter-widgets/base",
            "_view_module_version": "1.2.0",
            "_view_name": "LayoutView",
            "align_content": null,
            "align_items": null,
            "align_self": null,
            "border": null,
            "bottom": null,
            "display": null,
            "flex": null,
            "flex_flow": null,
            "grid_area": null,
            "grid_auto_columns": null,
            "grid_auto_flow": null,
            "grid_auto_rows": null,
            "grid_column": null,
            "grid_gap": null,
            "grid_row": null,
            "grid_template_areas": null,
            "grid_template_columns": null,
            "grid_template_rows": null,
            "height": null,
            "justify_content": null,
            "justify_items": null,
            "left": null,
            "margin": null,
            "max_height": null,
            "max_width": null,
            "min_height": null,
            "min_width": null,
            "object_fit": null,
            "object_position": null,
            "order": null,
            "overflow": null,
            "overflow_x": null,
            "overflow_y": null,
            "padding": null,
            "right": null,
            "top": null,
            "visibility": null,
            "width": null
          }
        },
        "9b84492d0b6a49d58567c264e0140fa9": {
          "model_module": "@jupyter-widgets/controls",
          "model_name": "ProgressStyleModel",
          "model_module_version": "1.5.0",
          "state": {
            "_model_module": "@jupyter-widgets/controls",
            "_model_module_version": "1.5.0",
            "_model_name": "ProgressStyleModel",
            "_view_count": null,
            "_view_module": "@jupyter-widgets/base",
            "_view_module_version": "1.2.0",
            "_view_name": "StyleView",
            "bar_color": null,
            "description_width": ""
          }
        },
        "49f201ac910a45d880696b49b099a329": {
          "model_module": "@jupyter-widgets/base",
          "model_name": "LayoutModel",
          "model_module_version": "1.2.0",
          "state": {
            "_model_module": "@jupyter-widgets/base",
            "_model_module_version": "1.2.0",
            "_model_name": "LayoutModel",
            "_view_count": null,
            "_view_module": "@jupyter-widgets/base",
            "_view_module_version": "1.2.0",
            "_view_name": "LayoutView",
            "align_content": null,
            "align_items": null,
            "align_self": null,
            "border": null,
            "bottom": null,
            "display": null,
            "flex": null,
            "flex_flow": null,
            "grid_area": null,
            "grid_auto_columns": null,
            "grid_auto_flow": null,
            "grid_auto_rows": null,
            "grid_column": null,
            "grid_gap": null,
            "grid_row": null,
            "grid_template_areas": null,
            "grid_template_columns": null,
            "grid_template_rows": null,
            "height": null,
            "justify_content": null,
            "justify_items": null,
            "left": null,
            "margin": null,
            "max_height": null,
            "max_width": null,
            "min_height": null,
            "min_width": null,
            "object_fit": null,
            "object_position": null,
            "order": null,
            "overflow": null,
            "overflow_x": null,
            "overflow_y": null,
            "padding": null,
            "right": null,
            "top": null,
            "visibility": null,
            "width": null
          }
        },
        "b003dffb40ff42878f49e476e97f4217": {
          "model_module": "@jupyter-widgets/controls",
          "model_name": "DescriptionStyleModel",
          "model_module_version": "1.5.0",
          "state": {
            "_model_module": "@jupyter-widgets/controls",
            "_model_module_version": "1.5.0",
            "_model_name": "DescriptionStyleModel",
            "_view_count": null,
            "_view_module": "@jupyter-widgets/base",
            "_view_module_version": "1.2.0",
            "_view_name": "StyleView",
            "description_width": ""
          }
        },
        "a96cbb0c35aa4eae835ca4b138f2a6eb": {
          "model_module": "@jupyter-widgets/controls",
          "model_name": "HBoxModel",
          "model_module_version": "1.5.0",
          "state": {
            "_dom_classes": [],
            "_model_module": "@jupyter-widgets/controls",
            "_model_module_version": "1.5.0",
            "_model_name": "HBoxModel",
            "_view_count": null,
            "_view_module": "@jupyter-widgets/controls",
            "_view_module_version": "1.5.0",
            "_view_name": "HBoxView",
            "box_style": "",
            "children": [
              "IPY_MODEL_5cb7c03a86d544ac92a1679b114b5ced",
              "IPY_MODEL_caee031f229945da866e168318546ad2",
              "IPY_MODEL_f6ff3311ce3a46f098d3266fa390e3ae"
            ],
            "layout": "IPY_MODEL_891ce63c3ad8421a941c377ceeb25e22"
          }
        },
        "5cb7c03a86d544ac92a1679b114b5ced": {
          "model_module": "@jupyter-widgets/controls",
          "model_name": "HTMLModel",
          "model_module_version": "1.5.0",
          "state": {
            "_dom_classes": [],
            "_model_module": "@jupyter-widgets/controls",
            "_model_module_version": "1.5.0",
            "_model_name": "HTMLModel",
            "_view_count": null,
            "_view_module": "@jupyter-widgets/controls",
            "_view_module_version": "1.5.0",
            "_view_name": "HTMLView",
            "description": "",
            "description_tooltip": null,
            "layout": "IPY_MODEL_2af0480c11084be6af00ceedbf3974a8",
            "placeholder": "​",
            "style": "IPY_MODEL_3ed393c5008a462695e5486b5bcaeca6",
            "value": "modules.json: 100%"
          }
        },
        "caee031f229945da866e168318546ad2": {
          "model_module": "@jupyter-widgets/controls",
          "model_name": "FloatProgressModel",
          "model_module_version": "1.5.0",
          "state": {
            "_dom_classes": [],
            "_model_module": "@jupyter-widgets/controls",
            "_model_module_version": "1.5.0",
            "_model_name": "FloatProgressModel",
            "_view_count": null,
            "_view_module": "@jupyter-widgets/controls",
            "_view_module_version": "1.5.0",
            "_view_name": "ProgressView",
            "bar_style": "success",
            "description": "",
            "description_tooltip": null,
            "layout": "IPY_MODEL_9d013e53ed3a4481956d8c9a0f4bba94",
            "max": 341,
            "min": 0,
            "orientation": "horizontal",
            "style": "IPY_MODEL_95b2e26e253d4a0caeaf4c7ba2a60cd2",
            "value": 341
          }
        },
        "f6ff3311ce3a46f098d3266fa390e3ae": {
          "model_module": "@jupyter-widgets/controls",
          "model_name": "HTMLModel",
          "model_module_version": "1.5.0",
          "state": {
            "_dom_classes": [],
            "_model_module": "@jupyter-widgets/controls",
            "_model_module_version": "1.5.0",
            "_model_name": "HTMLModel",
            "_view_count": null,
            "_view_module": "@jupyter-widgets/controls",
            "_view_module_version": "1.5.0",
            "_view_name": "HTMLView",
            "description": "",
            "description_tooltip": null,
            "layout": "IPY_MODEL_d991014bc44541448792360d9003f788",
            "placeholder": "​",
            "style": "IPY_MODEL_d3c3d8aba22a4fdda70f612a6718f90d",
            "value": " 341/341 [00:00&lt;00:00, 18.9kB/s]"
          }
        },
        "891ce63c3ad8421a941c377ceeb25e22": {
          "model_module": "@jupyter-widgets/base",
          "model_name": "LayoutModel",
          "model_module_version": "1.2.0",
          "state": {
            "_model_module": "@jupyter-widgets/base",
            "_model_module_version": "1.2.0",
            "_model_name": "LayoutModel",
            "_view_count": null,
            "_view_module": "@jupyter-widgets/base",
            "_view_module_version": "1.2.0",
            "_view_name": "LayoutView",
            "align_content": null,
            "align_items": null,
            "align_self": null,
            "border": null,
            "bottom": null,
            "display": null,
            "flex": null,
            "flex_flow": null,
            "grid_area": null,
            "grid_auto_columns": null,
            "grid_auto_flow": null,
            "grid_auto_rows": null,
            "grid_column": null,
            "grid_gap": null,
            "grid_row": null,
            "grid_template_areas": null,
            "grid_template_columns": null,
            "grid_template_rows": null,
            "height": null,
            "justify_content": null,
            "justify_items": null,
            "left": null,
            "margin": null,
            "max_height": null,
            "max_width": null,
            "min_height": null,
            "min_width": null,
            "object_fit": null,
            "object_position": null,
            "order": null,
            "overflow": null,
            "overflow_x": null,
            "overflow_y": null,
            "padding": null,
            "right": null,
            "top": null,
            "visibility": null,
            "width": null
          }
        },
        "2af0480c11084be6af00ceedbf3974a8": {
          "model_module": "@jupyter-widgets/base",
          "model_name": "LayoutModel",
          "model_module_version": "1.2.0",
          "state": {
            "_model_module": "@jupyter-widgets/base",
            "_model_module_version": "1.2.0",
            "_model_name": "LayoutModel",
            "_view_count": null,
            "_view_module": "@jupyter-widgets/base",
            "_view_module_version": "1.2.0",
            "_view_name": "LayoutView",
            "align_content": null,
            "align_items": null,
            "align_self": null,
            "border": null,
            "bottom": null,
            "display": null,
            "flex": null,
            "flex_flow": null,
            "grid_area": null,
            "grid_auto_columns": null,
            "grid_auto_flow": null,
            "grid_auto_rows": null,
            "grid_column": null,
            "grid_gap": null,
            "grid_row": null,
            "grid_template_areas": null,
            "grid_template_columns": null,
            "grid_template_rows": null,
            "height": null,
            "justify_content": null,
            "justify_items": null,
            "left": null,
            "margin": null,
            "max_height": null,
            "max_width": null,
            "min_height": null,
            "min_width": null,
            "object_fit": null,
            "object_position": null,
            "order": null,
            "overflow": null,
            "overflow_x": null,
            "overflow_y": null,
            "padding": null,
            "right": null,
            "top": null,
            "visibility": null,
            "width": null
          }
        },
        "3ed393c5008a462695e5486b5bcaeca6": {
          "model_module": "@jupyter-widgets/controls",
          "model_name": "DescriptionStyleModel",
          "model_module_version": "1.5.0",
          "state": {
            "_model_module": "@jupyter-widgets/controls",
            "_model_module_version": "1.5.0",
            "_model_name": "DescriptionStyleModel",
            "_view_count": null,
            "_view_module": "@jupyter-widgets/base",
            "_view_module_version": "1.2.0",
            "_view_name": "StyleView",
            "description_width": ""
          }
        },
        "9d013e53ed3a4481956d8c9a0f4bba94": {
          "model_module": "@jupyter-widgets/base",
          "model_name": "LayoutModel",
          "model_module_version": "1.2.0",
          "state": {
            "_model_module": "@jupyter-widgets/base",
            "_model_module_version": "1.2.0",
            "_model_name": "LayoutModel",
            "_view_count": null,
            "_view_module": "@jupyter-widgets/base",
            "_view_module_version": "1.2.0",
            "_view_name": "LayoutView",
            "align_content": null,
            "align_items": null,
            "align_self": null,
            "border": null,
            "bottom": null,
            "display": null,
            "flex": null,
            "flex_flow": null,
            "grid_area": null,
            "grid_auto_columns": null,
            "grid_auto_flow": null,
            "grid_auto_rows": null,
            "grid_column": null,
            "grid_gap": null,
            "grid_row": null,
            "grid_template_areas": null,
            "grid_template_columns": null,
            "grid_template_rows": null,
            "height": null,
            "justify_content": null,
            "justify_items": null,
            "left": null,
            "margin": null,
            "max_height": null,
            "max_width": null,
            "min_height": null,
            "min_width": null,
            "object_fit": null,
            "object_position": null,
            "order": null,
            "overflow": null,
            "overflow_x": null,
            "overflow_y": null,
            "padding": null,
            "right": null,
            "top": null,
            "visibility": null,
            "width": null
          }
        },
        "95b2e26e253d4a0caeaf4c7ba2a60cd2": {
          "model_module": "@jupyter-widgets/controls",
          "model_name": "ProgressStyleModel",
          "model_module_version": "1.5.0",
          "state": {
            "_model_module": "@jupyter-widgets/controls",
            "_model_module_version": "1.5.0",
            "_model_name": "ProgressStyleModel",
            "_view_count": null,
            "_view_module": "@jupyter-widgets/base",
            "_view_module_version": "1.2.0",
            "_view_name": "StyleView",
            "bar_color": null,
            "description_width": ""
          }
        },
        "d991014bc44541448792360d9003f788": {
          "model_module": "@jupyter-widgets/base",
          "model_name": "LayoutModel",
          "model_module_version": "1.2.0",
          "state": {
            "_model_module": "@jupyter-widgets/base",
            "_model_module_version": "1.2.0",
            "_model_name": "LayoutModel",
            "_view_count": null,
            "_view_module": "@jupyter-widgets/base",
            "_view_module_version": "1.2.0",
            "_view_name": "LayoutView",
            "align_content": null,
            "align_items": null,
            "align_self": null,
            "border": null,
            "bottom": null,
            "display": null,
            "flex": null,
            "flex_flow": null,
            "grid_area": null,
            "grid_auto_columns": null,
            "grid_auto_flow": null,
            "grid_auto_rows": null,
            "grid_column": null,
            "grid_gap": null,
            "grid_row": null,
            "grid_template_areas": null,
            "grid_template_columns": null,
            "grid_template_rows": null,
            "height": null,
            "justify_content": null,
            "justify_items": null,
            "left": null,
            "margin": null,
            "max_height": null,
            "max_width": null,
            "min_height": null,
            "min_width": null,
            "object_fit": null,
            "object_position": null,
            "order": null,
            "overflow": null,
            "overflow_x": null,
            "overflow_y": null,
            "padding": null,
            "right": null,
            "top": null,
            "visibility": null,
            "width": null
          }
        },
        "d3c3d8aba22a4fdda70f612a6718f90d": {
          "model_module": "@jupyter-widgets/controls",
          "model_name": "DescriptionStyleModel",
          "model_module_version": "1.5.0",
          "state": {
            "_model_module": "@jupyter-widgets/controls",
            "_model_module_version": "1.5.0",
            "_model_name": "DescriptionStyleModel",
            "_view_count": null,
            "_view_module": "@jupyter-widgets/base",
            "_view_module_version": "1.2.0",
            "_view_name": "StyleView",
            "description_width": ""
          }
        }
      }
    }
  },
  "nbformat": 4,
  "nbformat_minor": 0
}