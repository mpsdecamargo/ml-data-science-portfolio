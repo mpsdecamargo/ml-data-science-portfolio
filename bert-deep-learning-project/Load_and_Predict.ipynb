{
  "cells": [
    {
      "cell_type": "markdown",
      "metadata": {
        "id": "view-in-github"
      },
      "source": [
        "<a href=\"https://colab.research.google.com/github/mpsdecamargo/ml-data-science-portfolio/blob/main/bert-deep-learning-project/Load_and_Predict.ipynb\" target=\"_parent\"><img src=\"https://colab.research.google.com/assets/colab-badge.svg\" alt=\"Open In Colab\"/></a>"
      ]
    },
    {
      "cell_type": "markdown",
      "source": [
        "## INTRODUCTION\n",
        "\n",
        "Notebook content: Loading of models and prediction of sample corpus. Sample of final function to save output into JSON format to be sent to the front end of the application and to the user."
      ],
      "metadata": {
        "id": "Irke-TsEjvhz"
      }
    },
    {
      "cell_type": "code",
      "execution_count": 1,
      "metadata": {
        "colab": {
          "base_uri": "https://localhost:8080/"
        },
        "id": "eZHWW5TVuH3T",
        "outputId": "3cdcb86e-368c-4774-a913-31513f63a3cf"
      },
      "outputs": [
        {
          "output_type": "stream",
          "name": "stdout",
          "text": [
            "Collecting sentencepiece\n",
            "  Downloading sentencepiece-0.1.99-cp310-cp310-manylinux_2_17_x86_64.manylinux2014_x86_64.whl (1.3 MB)\n",
            "\u001b[?25l     \u001b[90m━━━━━━━━━━━━━━━━━━━━━━━━━━━━━━━━━━━━━━━━\u001b[0m \u001b[32m0.0/1.3 MB\u001b[0m \u001b[31m?\u001b[0m eta \u001b[36m-:--:--\u001b[0m\r\u001b[2K     \u001b[91m━━\u001b[0m\u001b[91m╸\u001b[0m\u001b[90m━━━━━━━━━━━━━━━━━━━━━━━━━━━━━━━━━━━━━\u001b[0m \u001b[32m0.1/1.3 MB\u001b[0m \u001b[31m2.5 MB/s\u001b[0m eta \u001b[36m0:00:01\u001b[0m\r\u001b[2K     \u001b[91m━━━━━━━━━━━━━━━━━━━━━━━━━━━━━━━━━━━━━━━\u001b[0m\u001b[91m╸\u001b[0m \u001b[32m1.3/1.3 MB\u001b[0m \u001b[31m21.3 MB/s\u001b[0m eta \u001b[36m0:00:01\u001b[0m\r\u001b[2K     \u001b[90m━━━━━━━━━━━━━━━━━━━━━━━━━━━━━━━━━━━━━━━━\u001b[0m \u001b[32m1.3/1.3 MB\u001b[0m \u001b[31m14.7 MB/s\u001b[0m eta \u001b[36m0:00:00\u001b[0m\n",
            "\u001b[?25hRequirement already satisfied: transformers in /usr/local/lib/python3.10/dist-packages (4.35.2)\n",
            "Collecting sentence_transformers\n",
            "  Downloading sentence-transformers-2.2.2.tar.gz (85 kB)\n",
            "\u001b[2K     \u001b[90m━━━━━━━━━━━━━━━━━━━━━━━━━━━━━━━━━━━━━━━━\u001b[0m \u001b[32m86.0/86.0 kB\u001b[0m \u001b[31m12.7 MB/s\u001b[0m eta \u001b[36m0:00:00\u001b[0m\n",
            "\u001b[?25h  Preparing metadata (setup.py) ... \u001b[?25l\u001b[?25hdone\n",
            "Collecting datasets\n",
            "  Downloading datasets-2.16.1-py3-none-any.whl (507 kB)\n",
            "\u001b[2K     \u001b[90m━━━━━━━━━━━━━━━━━━━━━━━━━━━━━━━━━━━━━━━━\u001b[0m \u001b[32m507.1/507.1 kB\u001b[0m \u001b[31m24.5 MB/s\u001b[0m eta \u001b[36m0:00:00\u001b[0m\n",
            "\u001b[?25hRequirement already satisfied: filelock in /usr/local/lib/python3.10/dist-packages (from transformers) (3.13.1)\n",
            "Requirement already satisfied: huggingface-hub<1.0,>=0.16.4 in /usr/local/lib/python3.10/dist-packages (from transformers) (0.20.1)\n",
            "Requirement already satisfied: numpy>=1.17 in /usr/local/lib/python3.10/dist-packages (from transformers) (1.23.5)\n",
            "Requirement already satisfied: packaging>=20.0 in /usr/local/lib/python3.10/dist-packages (from transformers) (23.2)\n",
            "Requirement already satisfied: pyyaml>=5.1 in /usr/local/lib/python3.10/dist-packages (from transformers) (6.0.1)\n",
            "Requirement already satisfied: regex!=2019.12.17 in /usr/local/lib/python3.10/dist-packages (from transformers) (2023.6.3)\n",
            "Requirement already satisfied: requests in /usr/local/lib/python3.10/dist-packages (from transformers) (2.31.0)\n",
            "Requirement already satisfied: tokenizers<0.19,>=0.14 in /usr/local/lib/python3.10/dist-packages (from transformers) (0.15.0)\n",
            "Requirement already satisfied: safetensors>=0.3.1 in /usr/local/lib/python3.10/dist-packages (from transformers) (0.4.1)\n",
            "Requirement already satisfied: tqdm>=4.27 in /usr/local/lib/python3.10/dist-packages (from transformers) (4.66.1)\n",
            "Requirement already satisfied: torch>=1.6.0 in /usr/local/lib/python3.10/dist-packages (from sentence_transformers) (2.1.0+cu121)\n",
            "Requirement already satisfied: torchvision in /usr/local/lib/python3.10/dist-packages (from sentence_transformers) (0.16.0+cu121)\n",
            "Requirement already satisfied: scikit-learn in /usr/local/lib/python3.10/dist-packages (from sentence_transformers) (1.2.2)\n",
            "Requirement already satisfied: scipy in /usr/local/lib/python3.10/dist-packages (from sentence_transformers) (1.11.4)\n",
            "Requirement already satisfied: nltk in /usr/local/lib/python3.10/dist-packages (from sentence_transformers) (3.8.1)\n",
            "Requirement already satisfied: pyarrow>=8.0.0 in /usr/local/lib/python3.10/dist-packages (from datasets) (10.0.1)\n",
            "Collecting pyarrow-hotfix (from datasets)\n",
            "  Downloading pyarrow_hotfix-0.6-py3-none-any.whl (7.9 kB)\n",
            "Collecting dill<0.3.8,>=0.3.0 (from datasets)\n",
            "  Downloading dill-0.3.7-py3-none-any.whl (115 kB)\n",
            "\u001b[2K     \u001b[90m━━━━━━━━━━━━━━━━━━━━━━━━━━━━━━━━━━━━━━━━\u001b[0m \u001b[32m115.3/115.3 kB\u001b[0m \u001b[31m12.4 MB/s\u001b[0m eta \u001b[36m0:00:00\u001b[0m\n",
            "\u001b[?25hRequirement already satisfied: pandas in /usr/local/lib/python3.10/dist-packages (from datasets) (1.5.3)\n",
            "Requirement already satisfied: xxhash in /usr/local/lib/python3.10/dist-packages (from datasets) (3.4.1)\n",
            "Collecting multiprocess (from datasets)\n",
            "  Downloading multiprocess-0.70.15-py310-none-any.whl (134 kB)\n",
            "\u001b[2K     \u001b[90m━━━━━━━━━━━━━━━━━━━━━━━━━━━━━━━━━━━━━━━━\u001b[0m \u001b[32m134.8/134.8 kB\u001b[0m \u001b[31m15.2 MB/s\u001b[0m eta \u001b[36m0:00:00\u001b[0m\n",
            "\u001b[?25hRequirement already satisfied: fsspec[http]<=2023.10.0,>=2023.1.0 in /usr/local/lib/python3.10/dist-packages (from datasets) (2023.6.0)\n",
            "Requirement already satisfied: aiohttp in /usr/local/lib/python3.10/dist-packages (from datasets) (3.9.1)\n",
            "Requirement already satisfied: attrs>=17.3.0 in /usr/local/lib/python3.10/dist-packages (from aiohttp->datasets) (23.1.0)\n",
            "Requirement already satisfied: multidict<7.0,>=4.5 in /usr/local/lib/python3.10/dist-packages (from aiohttp->datasets) (6.0.4)\n",
            "Requirement already satisfied: yarl<2.0,>=1.0 in /usr/local/lib/python3.10/dist-packages (from aiohttp->datasets) (1.9.4)\n",
            "Requirement already satisfied: frozenlist>=1.1.1 in /usr/local/lib/python3.10/dist-packages (from aiohttp->datasets) (1.4.1)\n",
            "Requirement already satisfied: aiosignal>=1.1.2 in /usr/local/lib/python3.10/dist-packages (from aiohttp->datasets) (1.3.1)\n",
            "Requirement already satisfied: async-timeout<5.0,>=4.0 in /usr/local/lib/python3.10/dist-packages (from aiohttp->datasets) (4.0.3)\n",
            "Requirement already satisfied: typing-extensions>=3.7.4.3 in /usr/local/lib/python3.10/dist-packages (from huggingface-hub<1.0,>=0.16.4->transformers) (4.5.0)\n",
            "Requirement already satisfied: charset-normalizer<4,>=2 in /usr/local/lib/python3.10/dist-packages (from requests->transformers) (3.3.2)\n",
            "Requirement already satisfied: idna<4,>=2.5 in /usr/local/lib/python3.10/dist-packages (from requests->transformers) (3.6)\n",
            "Requirement already satisfied: urllib3<3,>=1.21.1 in /usr/local/lib/python3.10/dist-packages (from requests->transformers) (2.0.7)\n",
            "Requirement already satisfied: certifi>=2017.4.17 in /usr/local/lib/python3.10/dist-packages (from requests->transformers) (2023.11.17)\n",
            "Requirement already satisfied: sympy in /usr/local/lib/python3.10/dist-packages (from torch>=1.6.0->sentence_transformers) (1.12)\n",
            "Requirement already satisfied: networkx in /usr/local/lib/python3.10/dist-packages (from torch>=1.6.0->sentence_transformers) (3.2.1)\n",
            "Requirement already satisfied: jinja2 in /usr/local/lib/python3.10/dist-packages (from torch>=1.6.0->sentence_transformers) (3.1.2)\n",
            "Requirement already satisfied: triton==2.1.0 in /usr/local/lib/python3.10/dist-packages (from torch>=1.6.0->sentence_transformers) (2.1.0)\n",
            "Requirement already satisfied: click in /usr/local/lib/python3.10/dist-packages (from nltk->sentence_transformers) (8.1.7)\n",
            "Requirement already satisfied: joblib in /usr/local/lib/python3.10/dist-packages (from nltk->sentence_transformers) (1.3.2)\n",
            "Requirement already satisfied: python-dateutil>=2.8.1 in /usr/local/lib/python3.10/dist-packages (from pandas->datasets) (2.8.2)\n",
            "Requirement already satisfied: pytz>=2020.1 in /usr/local/lib/python3.10/dist-packages (from pandas->datasets) (2023.3.post1)\n",
            "Requirement already satisfied: threadpoolctl>=2.0.0 in /usr/local/lib/python3.10/dist-packages (from scikit-learn->sentence_transformers) (3.2.0)\n",
            "Requirement already satisfied: pillow!=8.3.*,>=5.3.0 in /usr/local/lib/python3.10/dist-packages (from torchvision->sentence_transformers) (9.4.0)\n",
            "Requirement already satisfied: six>=1.5 in /usr/local/lib/python3.10/dist-packages (from python-dateutil>=2.8.1->pandas->datasets) (1.16.0)\n",
            "Requirement already satisfied: MarkupSafe>=2.0 in /usr/local/lib/python3.10/dist-packages (from jinja2->torch>=1.6.0->sentence_transformers) (2.1.3)\n",
            "Requirement already satisfied: mpmath>=0.19 in /usr/local/lib/python3.10/dist-packages (from sympy->torch>=1.6.0->sentence_transformers) (1.3.0)\n",
            "Building wheels for collected packages: sentence_transformers\n",
            "  Building wheel for sentence_transformers (setup.py) ... \u001b[?25l\u001b[?25hdone\n",
            "  Created wheel for sentence_transformers: filename=sentence_transformers-2.2.2-py3-none-any.whl size=125923 sha256=721ecdbf3682a13bf5198e938ffa2c9b18b7d1a14b1427bc7e3bde7ec9b9e04b\n",
            "  Stored in directory: /root/.cache/pip/wheels/62/f2/10/1e606fd5f02395388f74e7462910fe851042f97238cbbd902f\n",
            "Successfully built sentence_transformers\n",
            "Installing collected packages: sentencepiece, pyarrow-hotfix, dill, multiprocess, datasets, sentence_transformers\n",
            "Successfully installed datasets-2.16.1 dill-0.3.7 multiprocess-0.70.15 pyarrow-hotfix-0.6 sentence_transformers-2.2.2 sentencepiece-0.1.99\n"
          ]
        }
      ],
      "source": [
        "!pip install sentencepiece transformers sentence_transformers datasets\n"
      ]
    },
    {
      "cell_type": "code",
      "source": [
        "!pip install accelerate -U"
      ],
      "metadata": {
        "colab": {
          "base_uri": "https://localhost:8080/"
        },
        "id": "MZohAM_BBl3J",
        "outputId": "47583452-639f-4908-de4c-72b5f2095d3d"
      },
      "execution_count": 2,
      "outputs": [
        {
          "output_type": "stream",
          "name": "stdout",
          "text": [
            "Collecting accelerate\n",
            "  Downloading accelerate-0.25.0-py3-none-any.whl (265 kB)\n",
            "\u001b[?25l     \u001b[90m━━━━━━━━━━━━━━━━━━━━━━━━━━━━━━━━━━━━━━━━\u001b[0m \u001b[32m0.0/265.7 kB\u001b[0m \u001b[31m?\u001b[0m eta \u001b[36m-:--:--\u001b[0m\r\u001b[2K     \u001b[91m━━━━━━━━━━\u001b[0m\u001b[91m╸\u001b[0m\u001b[90m━━━━━━━━━━━━━━━━━━━━━━━━━━━━━\u001b[0m \u001b[32m71.7/265.7 kB\u001b[0m \u001b[31m2.0 MB/s\u001b[0m eta \u001b[36m0:00:01\u001b[0m\r\u001b[2K     \u001b[91m━━━━━━━━━━━━━━━━━━━━━━━━━━━━━━━━━━━━━━\u001b[0m\u001b[91m╸\u001b[0m\u001b[90m━\u001b[0m \u001b[32m256.0/265.7 kB\u001b[0m \u001b[31m4.6 MB/s\u001b[0m eta \u001b[36m0:00:01\u001b[0m\r\u001b[2K     \u001b[90m━━━━━━━━━━━━━━━━━━━━━━━━━━━━━━━━━━━━━━━━\u001b[0m \u001b[32m265.7/265.7 kB\u001b[0m \u001b[31m3.4 MB/s\u001b[0m eta \u001b[36m0:00:00\u001b[0m\n",
            "\u001b[?25hRequirement already satisfied: numpy>=1.17 in /usr/local/lib/python3.10/dist-packages (from accelerate) (1.23.5)\n",
            "Requirement already satisfied: packaging>=20.0 in /usr/local/lib/python3.10/dist-packages (from accelerate) (23.2)\n",
            "Requirement already satisfied: psutil in /usr/local/lib/python3.10/dist-packages (from accelerate) (5.9.5)\n",
            "Requirement already satisfied: pyyaml in /usr/local/lib/python3.10/dist-packages (from accelerate) (6.0.1)\n",
            "Requirement already satisfied: torch>=1.10.0 in /usr/local/lib/python3.10/dist-packages (from accelerate) (2.1.0+cu121)\n",
            "Requirement already satisfied: huggingface-hub in /usr/local/lib/python3.10/dist-packages (from accelerate) (0.20.1)\n",
            "Requirement already satisfied: safetensors>=0.3.1 in /usr/local/lib/python3.10/dist-packages (from accelerate) (0.4.1)\n",
            "Requirement already satisfied: filelock in /usr/local/lib/python3.10/dist-packages (from torch>=1.10.0->accelerate) (3.13.1)\n",
            "Requirement already satisfied: typing-extensions in /usr/local/lib/python3.10/dist-packages (from torch>=1.10.0->accelerate) (4.5.0)\n",
            "Requirement already satisfied: sympy in /usr/local/lib/python3.10/dist-packages (from torch>=1.10.0->accelerate) (1.12)\n",
            "Requirement already satisfied: networkx in /usr/local/lib/python3.10/dist-packages (from torch>=1.10.0->accelerate) (3.2.1)\n",
            "Requirement already satisfied: jinja2 in /usr/local/lib/python3.10/dist-packages (from torch>=1.10.0->accelerate) (3.1.2)\n",
            "Requirement already satisfied: fsspec in /usr/local/lib/python3.10/dist-packages (from torch>=1.10.0->accelerate) (2023.6.0)\n",
            "Requirement already satisfied: triton==2.1.0 in /usr/local/lib/python3.10/dist-packages (from torch>=1.10.0->accelerate) (2.1.0)\n",
            "Requirement already satisfied: requests in /usr/local/lib/python3.10/dist-packages (from huggingface-hub->accelerate) (2.31.0)\n",
            "Requirement already satisfied: tqdm>=4.42.1 in /usr/local/lib/python3.10/dist-packages (from huggingface-hub->accelerate) (4.66.1)\n",
            "Requirement already satisfied: MarkupSafe>=2.0 in /usr/local/lib/python3.10/dist-packages (from jinja2->torch>=1.10.0->accelerate) (2.1.3)\n",
            "Requirement already satisfied: charset-normalizer<4,>=2 in /usr/local/lib/python3.10/dist-packages (from requests->huggingface-hub->accelerate) (3.3.2)\n",
            "Requirement already satisfied: idna<4,>=2.5 in /usr/local/lib/python3.10/dist-packages (from requests->huggingface-hub->accelerate) (3.6)\n",
            "Requirement already satisfied: urllib3<3,>=1.21.1 in /usr/local/lib/python3.10/dist-packages (from requests->huggingface-hub->accelerate) (2.0.7)\n",
            "Requirement already satisfied: certifi>=2017.4.17 in /usr/local/lib/python3.10/dist-packages (from requests->huggingface-hub->accelerate) (2023.11.17)\n",
            "Requirement already satisfied: mpmath>=0.19 in /usr/local/lib/python3.10/dist-packages (from sympy->torch>=1.10.0->accelerate) (1.3.0)\n",
            "Installing collected packages: accelerate\n",
            "Successfully installed accelerate-0.25.0\n"
          ]
        }
      ]
    },
    {
      "cell_type": "code",
      "execution_count": 3,
      "metadata": {
        "id": "hOYO4WzOuNoL"
      },
      "outputs": [],
      "source": [
        "import sentencepiece\n",
        "import pandas as pd\n",
        "import pandas as pd\n",
        "import numpy as np\n",
        "from transformers import AutoTokenizer, AutoModelForSequenceClassification, TrainingArguments, Trainer\n",
        "import json\n",
        "import time\n",
        "import operator\n",
        "import re\n",
        "from sentence_transformers import SentenceTransformer, util\n",
        "import pickle\n",
        "import torch\n",
        "from datasets import Dataset\n",
        "from scipy.special import expit\n",
        "import io\n",
        "from contextlib import redirect_stdout"
      ]
    },
    {
      "cell_type": "code",
      "source": [
        "lang_models = {\"BERTPT\":\"neuralmind/bert-base-portuguese-cased\",\"BERTPTL\":\"neuralmind/bert-large-portuguese-cased\",\"MBERT\":\"bert-base-multilingual-cased\", \"ELECTRA\":\"dlb/electra-base-portuguese-uncased-brwac\",\"ROBERTA\": \"rdenadai/BR_BERTo\",\"XLMR\":\"xlm-roberta-base\",\"DISTILBERT\": \"distilbert-base-multilingual-cased\",\"ALBERT\":\"josu/albert-pt-br\",\"DEBERTA\":\"microsoft/mdeberta-v3-base\"}\n"
      ],
      "metadata": {
        "id": "zIghTxztU_vW"
      },
      "execution_count": 4,
      "outputs": []
    },
    {
      "cell_type": "code",
      "source": [
        "from google.colab import drive\n",
        "drive.mount('gdrive')"
      ],
      "metadata": {
        "colab": {
          "base_uri": "https://localhost:8080/"
        },
        "id": "EOmOBNt7cjnP",
        "outputId": "de454cc3-e740-487b-d3d7-9fac2a3a9bf1"
      },
      "execution_count": 5,
      "outputs": [
        {
          "output_type": "stream",
          "name": "stdout",
          "text": [
            "Mounted at gdrive\n"
          ]
        }
      ]
    },
    {
      "cell_type": "code",
      "source": [
        "# Defining of the input data to be analysed\n",
        "# The first 5 samples are true (label = 0)\n",
        "# The last 5 are cases of disinformation (label = 1)\n",
        "\n",
        "prediction_corpus = [\n",
        "\n",
        "'Cientistas dizem haver \"evidências convincentes\" de que o mercado de frutos do mar e vida selvagem de Huanan, na cidade chinesa de Wuhan, foi o epicentro do surto de covid-19. Isso sugere que houve duas variantes introduzidas em humanos em novembro ou início de dezembro de 2019. Os pesquisadores dizem que há evidências de que o Sars-Cov-2 estava presente em mamíferos vivos que foram vendidos no mercado de Huanan no final de 2019. Cientistas dizem que o coronavírus foi transmitido para pessoas que estavam trabalhando ou fazendo compras lá em duas \"infecções por transbordamento\" separadas — em que um humano contraiu o vírus de um animal.',\n",
        "\n",
        "'No decorrer da pandemia de covid-19, descobrimos quem pode estar em maior risco de contrair o vírus e desenvolver os casos mais graves da doença. Idade avançada, obesidade e várias comorbidades, como diabetes e hipertensão, são alguns desses fatores de risco. O alto índice de massa corporal (IMC) também parece estar associado ao aumento das chances de contrair o vírus, em primeiro lugar. Mas e os fatores que podem tornar alguém menos propenso a contrair covid? Curiosamente, pesquisas apontam que ter alergias pode reduzir o risco. As alergias são muito comuns. Pelo menos 400 milhões de pessoas em todo o mundo são afetadas por alergias ao pólen, conhecida em inglês como hay fever. Cerca de 300 milhões de pessoas sofrem de asma alérgica (induzida pela inalação de alérgenos), enquanto as alergias alimentares afetam cerca de 250 milhões. Muitas pessoas também são alérgicas a certos medicamentos. As reações alérgicas podem variar de leves (talvez alguma vermelhidão e inchaço na pele) a graves (choque anafilático, que pode causar a morte)',\n",
        "\n",
        "'Eficácia da vacina contra Covid-19 em gestantes é confirmada; menos de 10% apresentaram reações adversas. A pesquisa avaliou dados de mais de 85 mil partos realizados no Canadá e nos EUA no ano de 2021.',\n",
        "\n",
        "'As subvariantes BA.4 e BA.5 do novo coronavírus conseguem escapar dos anticorpos de pessoas que tiveram infecção anterior por Covid-19 e aquelas que já receberam a dose de reforço da vacina, de acordo com novos dados de pesquisadores da Escola de Medicina de Harvard. No entanto, a vacinação contra a Covid-19 ainda fornece proteção substancial contra formas graves da doença, e os fabricantes de imunizantes estão trabalhando na atualização de vacinas contra as variantes. Os níveis de anticorpos neutralizantes que uma infecção anterior ou vacinação provocam são várias menores contra as subvariantes BA.4 e BA.5, da Ômicron, em comparação com a cepa original do novo coronavírus, de acordo com a nova pesquisa publicada no New England Journal of Medicine na quarta-feira (22).',\n",
        "\n",
        "'O presidente americano, Joe Biden, disse neste domingo (18) que a pandemia de Covid-19 acabou nos Estados Unidos. \"A pandemia terminou\", disse em entrevista à TV. \"Ainda temos um problema com a Covid. Ainda estamos trabalhando muito nisso... Mas a pandemia acabou. Se prestarem atenção, ninguém usa máscaras. Todo mundo parece estar em boa forma. E, por isso, acredito que está mudando\", afirmou durante o programa \"60 Minutes\", da rede CBS, durante a feira de automóveis de Detroit, evento que não acontecia havia três anos.',\n",
        "\n",
        "'EXPOSIÇÃO MICROSCÓPICA DAS VACINAS Em SP, um telão exibe o que um microscópio revela estar presente em uma única gota das vacinas Pfizer, AstraZeneca, Johnson e CoronaVac. Pode ser ver os nano dispositivos, sensores e muitas bactérias',\n",
        "\n",
        "'URGENTE-HARVARD COMPROVA EFICÁCIA DA HIDROXICLOROQUINA Em estudos randomizados, controlados por placebo, duplo cego, pessoas designadas para uso de hidroxicloroquina tiveram 28% menos risco de COvid 19, afirmou Dr, Miguel Herman, professor de Havard. E AGORA?',\n",
        "\n",
        "'Desde o lançamento das vacinas de mRNA COVID-19, muitos pesquisadores especularam sobre a possibilidade de transmissão de partículas vacinais do vacinado para o não vacinado, mais comumente conhecido como “derramamento de vacina”. Um recente estudo de pré-impressão atraiu a atenção da mídia, pois os resultados do estudo podem ser interpretados como sugestivos de transmissão da vacina por disseminação. Desde o lançamento das vacinas de mRNA COVID-19, muitos pesquisadores especularam sobre a possibilidade de transmissão de partículas vacinais do vacinado para o não vacinado, mais comumente conhecido como “derramamento de vacina”. Embora essas especulações sejam rotineiramente verificadas, histórias anedóticas de pessoas não vacinadas que foram infectadas com COVID-19 ou experimentaram sintomas estranhos após o contato com amigos ou familiares que foram vacinados persistiram. Vários médicos também especularam sobre uma possível transmissão à medida que surgem novas descobertas em apoio a essas ideias. Um recente estudo de pré-impressão atraiu a atenção da mídia, pois os resultados do estudo podem ser interpretados como sugestivos de transmissão da vacina por disseminação.',\n",
        "\n",
        "'Um novo estudo prospectivo que inclui mais de 223.000 participantes do sul do Brasil descobriu que a ivermectina reduz a mortalidade por covid-19 em 92% . O uso de ivermectina foi associado a reduções não apenas na mortalidade por COVID-19, mas também nas hospitalizações e nas taxas de infecção. Como profilático, a ivermectina mostrou-se mais eficaz de maneira dose-dependente. À medida que a dose de ivermectina aumentava, os pacientes tinham maior probabilidade de se recuperar da covid-19. Evidências preliminares também mostram que os pacientes se recuperam mais rapidamente com ivermectina .',\n",
        "\n",
        "'O câncer começa quando as alterações genéticas interferem na replicação normal e na reposição das células do corpo. As células começam a crescer descontroladamente e podem formar um tumor. É a segunda principal causa de morte nos Estados Unidos. Infelizmente, parece que a doença pode estar aumentando graças às injeções experimentais de Covid-19. Porque os dados oficiais do governo dos EUA confirmam que o risco de desenvolver câncer após a vacinação contra o Covid-19 aumenta em chocantes 143.233%'\n",
        "\n",
        "]"
      ],
      "metadata": {
        "id": "tsFL6lUfgh8U"
      },
      "execution_count": 6,
      "outputs": []
    },
    {
      "cell_type": "code",
      "source": [
        "# Loading the tokenizer and creation of tokenize function.\n",
        "# The tokenizer transforms the text data into tokens, which are essentially different numbers,\n",
        "# which are then used in training.\n",
        "\n",
        "def startTokenizer(model_type):\n",
        "  load = time.time()\n",
        "  tokenizer = AutoTokenizer.from_pretrained(lang_models[model_type])\n",
        "  end = time.time()\n",
        "  tokenizationLoad = end - load\n",
        "  print(\"Loading Tokenization: \", tokenizationLoad)\n",
        "  return tokenizer\n",
        "\n",
        "def tokenize(text, tokenizer):\n",
        "    tokenized_input = tokenizer(\n",
        "        text,\n",
        "        truncation=True,\n",
        "        max_length=512,\n",
        "        padding='max_length',\n",
        "        return_tensors='np',\n",
        "        return_attention_mask=True,\n",
        "        return_token_type_ids=True,\n",
        "    )\n",
        "    return {\n",
        "        'input_ids': tokenized_input['input_ids'][0],\n",
        "        'attention_mask': tokenized_input['attention_mask'][0],\n",
        "        'token_type_ids': tokenized_input['token_type_ids'][0],\n",
        "    }"
      ],
      "metadata": {
        "id": "oLr8JaA4eGn5"
      },
      "execution_count": 7,
      "outputs": []
    },
    {
      "cell_type": "code",
      "source": [
        "# Defining the repositories of the pretrained language models to be used\n",
        "\n",
        "model_paths = {\n",
        "               \"BERTPT\":\"gdrive/My Drive/Modelos/BERTPT/BERTPT_Model_2024-01-02_23-23\",\n",
        "               \"BERTPTL\":\"gdrive/My Drive/Modelos/BERTPTL/BERTPTL_Model_2024-01-03_16-05\",\n",
        "               \"MBERT\":\"gdrive/My Drive/Modelos/MBERT/MBERT_Model_2024-01-03_01-17\",\n",
        "               \"ELECTRA\":\"gdrive/My Drive/Modelos/ELECTRA/ELECTRA_Model_2024-01-02_22-21\",\n",
        "               \"ROBERTA\": \"gdrive/MyDrive/Modelos/ROBERTA/ROBERTA_Model_2024-01-06_21-14\",\n",
        "               \"XLMR\":\"gdrive/My Drive/Modelos/XLMR/XLMR_Model_2024-01-05_16-19\",\n",
        "               \"DISTILBERT\": \"gdrive/My Drive/Modelos/DISTILBERT/DISTILBERT_Model_2024-01-02_21-13\",\n",
        "               \"ALBERT\":\"gdrive/My Drive/Modelos/ALBERT/ALBERT_Model_2024-01-02_17-54\",\n",
        "               \"DEBERTA\":\"gdrive/My Drive/Modelos/DEBERTA/DEBERTA_Model_2024-01-03_10-24\",\n",
        "               \"BERTPT_ML\": \"gdrive/My Drive/Modelos/MultiLabel/BERTPT/BERTPT_MultiLabelModel_2024-01-03_20-24\",\n",
        "               \"DEBERTA_ML\": \"gdrive/My Drive/Modelos/MultiLabel/DEBERTA/DEBERTA_MultiLabelModel_2024-01-03_20-43\"\n",
        "               }"
      ],
      "metadata": {
        "id": "8VoaZYf4dFFO"
      },
      "execution_count": 8,
      "outputs": []
    },
    {
      "cell_type": "code",
      "source": [
        "# Function loaded_model_predict loads the tokenizer and the model, tokenizes the dataset,\n",
        "# sets configuration of the parameters of the Trainer and uses the loaded model to predict based on input data.\n",
        "# If the multilabel parameter is defined to true, the configuration is changed and, also, the function returns the prediction for each theme instead.\n",
        "\n",
        "def loaded_model_predict(model_type,dataset=prediction_corpus, multilabel=False):\n",
        "  start = time.time()\n",
        "  loaded_tokenizer = AutoTokenizer.from_pretrained(model_paths[model_type])\n",
        "  loaded_model = AutoModelForSequenceClassification.from_pretrained(model_paths[model_type])\n",
        "  if multilabel == True:\n",
        "    loaded_model.config.problem_type = \"multi_label_classification\"\n",
        "  tokenized_prediction_corpus = [tokenize(text, loaded_tokenizer) for text in dataset]\n",
        "  tokenized_dataset = Dataset.from_dict({\"input_ids\": [item['input_ids'] for item in tokenized_prediction_corpus],\n",
        "                                           \"attention_mask\": [item['attention_mask'] for item in tokenized_prediction_corpus],\n",
        "                                           \"token_type_ids\": [item['token_type_ids'] for item in tokenized_prediction_corpus]})\n",
        "  training_args = TrainingArguments(\n",
        "        output_dir=f\"./test_trainer/{model_type}\",\n",
        "        do_train = False,\n",
        "        do_predict = True,\n",
        "        )\n",
        "\n",
        "  trainer = Trainer(\n",
        "      model=loaded_model,\n",
        "      args=training_args,\n",
        "  )\n",
        "\n",
        "  results = trainer.predict(tokenized_dataset)\n",
        "  if multilabel:\n",
        "    predicted_labels = np.round(expit(np.array(results.predictions)))\n",
        "  else:\n",
        "    predicted_labels = np.argmax(results.predictions, axis=-1)\n",
        "  end = time.time()\n",
        "  pred_time = end - start\n",
        "  print(predicted_labels)\n",
        "  print(f\"Prediction Time: {pred_time}\")\n",
        "  return predicted_labels"
      ],
      "metadata": {
        "id": "2yKCkvByplZG"
      },
      "execution_count": 9,
      "outputs": []
    },
    {
      "cell_type": "markdown",
      "source": [
        "# CORPUS PREDICTION"
      ],
      "metadata": {
        "id": "jCx1eQKzo_wV"
      }
    },
    {
      "cell_type": "code",
      "source": [
        "loaded_model_predict(\"BERTPT\")"
      ],
      "metadata": {
        "colab": {
          "base_uri": "https://localhost:8080/",
          "height": 69
        },
        "id": "9qbKmlcN_NfR",
        "outputId": "313feb9f-cfe8-4525-c4c0-adb298d4b731"
      },
      "execution_count": null,
      "outputs": [
        {
          "output_type": "display_data",
          "data": {
            "text/plain": [
              "<IPython.core.display.HTML object>"
            ],
            "text/html": []
          },
          "metadata": {}
        },
        {
          "output_type": "stream",
          "name": "stdout",
          "text": [
            "[0 0 1 0 0 1 1 1 1 1]\n",
            "Prediction Time: 10.95037293434143\n"
          ]
        },
        {
          "output_type": "execute_result",
          "data": {
            "text/plain": [
              "array([0, 0, 1, 0, 0, 1, 1, 1, 1, 1])"
            ]
          },
          "metadata": {},
          "execution_count": 11
        }
      ]
    },
    {
      "cell_type": "code",
      "source": [
        "loaded_model_predict(\"ALBERT\")"
      ],
      "metadata": {
        "colab": {
          "base_uri": "https://localhost:8080/",
          "height": 86
        },
        "id": "arqMDQyjXHV4",
        "outputId": "3e85ade5-ce08-421f-f927-e2b50ec1a848"
      },
      "execution_count": null,
      "outputs": [
        {
          "output_type": "stream",
          "name": "stderr",
          "text": [
            "Special tokens have been added in the vocabulary, make sure the associated word embeddings are fine-tuned or trained.\n"
          ]
        },
        {
          "output_type": "display_data",
          "data": {
            "text/plain": [
              "<IPython.core.display.HTML object>"
            ],
            "text/html": []
          },
          "metadata": {}
        },
        {
          "output_type": "stream",
          "name": "stdout",
          "text": [
            "[0 1 1 0 0 1 1 0 1 1]\n",
            "Prediction Time: 2.3080694675445557\n"
          ]
        },
        {
          "output_type": "execute_result",
          "data": {
            "text/plain": [
              "array([0, 1, 1, 0, 0, 1, 1, 0, 1, 1])"
            ]
          },
          "metadata": {},
          "execution_count": 21
        }
      ]
    },
    {
      "cell_type": "code",
      "source": [
        "loaded_model_predict(\"ELECTRA\")"
      ],
      "metadata": {
        "colab": {
          "base_uri": "https://localhost:8080/",
          "height": 69
        },
        "id": "EzJVpOxLXHkB",
        "outputId": "2e6e2b91-d8b3-41d0-a3ab-f3a303d1432a"
      },
      "execution_count": null,
      "outputs": [
        {
          "output_type": "display_data",
          "data": {
            "text/plain": [
              "<IPython.core.display.HTML object>"
            ],
            "text/html": []
          },
          "metadata": {}
        },
        {
          "output_type": "stream",
          "name": "stdout",
          "text": [
            "[1 0 1 0 0 1 1 0 1 1]\n",
            "Prediction Time: 17.68340516090393\n"
          ]
        },
        {
          "output_type": "execute_result",
          "data": {
            "text/plain": [
              "array([1, 0, 1, 0, 0, 1, 1, 0, 1, 1])"
            ]
          },
          "metadata": {},
          "execution_count": 10
        }
      ]
    },
    {
      "cell_type": "code",
      "source": [
        "loaded_model_predict(\"MBERT\")"
      ],
      "metadata": {
        "colab": {
          "base_uri": "https://localhost:8080/",
          "height": 54
        },
        "id": "gCs2qLnWXHoB",
        "outputId": "671bd992-7f67-474d-b36e-aba0d3e39a80"
      },
      "execution_count": null,
      "outputs": [
        {
          "output_type": "display_data",
          "data": {
            "text/plain": [
              "<IPython.core.display.HTML object>"
            ],
            "text/html": []
          },
          "metadata": {}
        },
        {
          "output_type": "stream",
          "name": "stdout",
          "text": [
            "[0 0 1 0 0 1 1 1 1 1]\n",
            "Prediction Time: 13.806703567504883\n"
          ]
        }
      ]
    },
    {
      "cell_type": "code",
      "source": [
        "loaded_model_predict(\"DISTILBERT\")"
      ],
      "metadata": {
        "colab": {
          "base_uri": "https://localhost:8080/",
          "height": 69
        },
        "id": "o-xuxH-vXIQS",
        "outputId": "756685bc-05f6-4fe7-c94b-acfff7b12e45"
      },
      "execution_count": null,
      "outputs": [
        {
          "output_type": "display_data",
          "data": {
            "text/plain": [
              "<IPython.core.display.HTML object>"
            ],
            "text/html": []
          },
          "metadata": {}
        },
        {
          "output_type": "stream",
          "name": "stdout",
          "text": [
            "[0 0 1 0 0 1 1 0 1 1]\n",
            "Prediction Time: 17.033589601516724\n"
          ]
        },
        {
          "output_type": "execute_result",
          "data": {
            "text/plain": [
              "array([0, 0, 1, 0, 0, 1, 1, 0, 1, 1])"
            ]
          },
          "metadata": {},
          "execution_count": 11
        }
      ]
    },
    {
      "cell_type": "code",
      "source": [
        "loaded_model_predict(\"DEBERTA\")"
      ],
      "metadata": {
        "colab": {
          "base_uri": "https://localhost:8080/",
          "height": 124
        },
        "id": "WAviJyZHXIT6",
        "outputId": "8aab699d-989b-4ed8-f918-7f9c43bfc744"
      },
      "execution_count": null,
      "outputs": [
        {
          "output_type": "stream",
          "name": "stderr",
          "text": [
            "/usr/local/lib/python3.10/dist-packages/transformers/convert_slow_tokenizer.py:473: UserWarning: The sentencepiece tokenizer that you are converting to a fast tokenizer uses the byte fallback option which is not implemented in the fast tokenizers. In practice this means that the fast version of the tokenizer can produce unknown tokens whereas the sentencepiece version would have converted these unknown tokens into a sequence of byte tokens matching the original piece of text.\n",
            "  warnings.warn(\n"
          ]
        },
        {
          "output_type": "display_data",
          "data": {
            "text/plain": [
              "<IPython.core.display.HTML object>"
            ],
            "text/html": []
          },
          "metadata": {}
        },
        {
          "output_type": "stream",
          "name": "stdout",
          "text": [
            "[1 0 1 0 0 1 1 1 1 1]\n",
            "Prediction Time: 25.240070819854736\n"
          ]
        },
        {
          "output_type": "execute_result",
          "data": {
            "text/plain": [
              "array([1, 0, 1, 0, 0, 1, 1, 1, 1, 1])"
            ]
          },
          "metadata": {},
          "execution_count": 24
        }
      ]
    },
    {
      "cell_type": "code",
      "source": [
        "loaded_model_predict(\"ROBERTA\")"
      ],
      "metadata": {
        "colab": {
          "base_uri": "https://localhost:8080/",
          "height": 69
        },
        "id": "u9r_SFw2XIXY",
        "outputId": "f6f75474-0eb2-4781-b613-8139bb561203"
      },
      "execution_count": null,
      "outputs": [
        {
          "output_type": "display_data",
          "data": {
            "text/plain": [
              "<IPython.core.display.HTML object>"
            ],
            "text/html": []
          },
          "metadata": {}
        },
        {
          "output_type": "stream",
          "name": "stdout",
          "text": [
            "[1 1 1 0 0 1 1 0 1 1]\n",
            "Prediction Time: 19.10265350341797\n"
          ]
        },
        {
          "output_type": "execute_result",
          "data": {
            "text/plain": [
              "array([1, 1, 1, 0, 0, 1, 1, 0, 1, 1])"
            ]
          },
          "metadata": {},
          "execution_count": 10
        }
      ]
    },
    {
      "cell_type": "code",
      "source": [
        "loaded_model_predict(\"XLMR\")"
      ],
      "metadata": {
        "colab": {
          "base_uri": "https://localhost:8080/",
          "height": 69
        },
        "id": "7uZUf76JXIvI",
        "outputId": "3cf07cdf-f359-474b-b8d9-66d89d5e8fde"
      },
      "execution_count": null,
      "outputs": [
        {
          "output_type": "display_data",
          "data": {
            "text/plain": [
              "<IPython.core.display.HTML object>"
            ],
            "text/html": []
          },
          "metadata": {}
        },
        {
          "output_type": "stream",
          "name": "stdout",
          "text": [
            "[0 0 1 0 0 1 1 1 1 1]\n",
            "Prediction Time: 32.86075973510742\n"
          ]
        },
        {
          "output_type": "execute_result",
          "data": {
            "text/plain": [
              "array([0, 0, 1, 0, 0, 1, 1, 1, 1, 1])"
            ]
          },
          "metadata": {},
          "execution_count": 11
        }
      ]
    },
    {
      "cell_type": "code",
      "source": [
        "loaded_model_predict(\"BERTPTL\")"
      ],
      "metadata": {
        "colab": {
          "base_uri": "https://localhost:8080/",
          "height": 69
        },
        "id": "ySsrF_jcXI6f",
        "outputId": "0561f0c6-fcb5-4a90-9ea7-b31fb03b5137"
      },
      "execution_count": null,
      "outputs": [
        {
          "output_type": "display_data",
          "data": {
            "text/plain": [
              "<IPython.core.display.HTML object>"
            ],
            "text/html": []
          },
          "metadata": {}
        },
        {
          "output_type": "stream",
          "name": "stdout",
          "text": [
            "[0 0 1 0 0 1 1 0 0 1]\n",
            "Prediction Time: 40.95278239250183\n"
          ]
        },
        {
          "output_type": "execute_result",
          "data": {
            "text/plain": [
              "array([0, 0, 1, 0, 0, 1, 1, 0, 0, 1])"
            ]
          },
          "metadata": {},
          "execution_count": 10
        }
      ]
    },
    {
      "cell_type": "markdown",
      "source": [
        "# MULTILABEL PREDICTION"
      ],
      "metadata": {
        "id": "XxpCi4VwDhWD"
      }
    },
    {
      "cell_type": "code",
      "source": [
        "loaded_model_predict(\"BERTPT_ML\", multilabel=True)"
      ],
      "metadata": {
        "colab": {
          "base_uri": "https://localhost:8080/",
          "height": 382
        },
        "id": "b7WZU21EEkhz",
        "outputId": "0940512f-a635-4c98-d9ad-482fe41fbf43"
      },
      "execution_count": null,
      "outputs": [
        {
          "output_type": "display_data",
          "data": {
            "text/plain": [
              "<IPython.core.display.HTML object>"
            ],
            "text/html": []
          },
          "metadata": {}
        },
        {
          "output_type": "stream",
          "name": "stdout",
          "text": [
            "[[0. 0. 0. 0. 0. 0. 0. 0.]\n",
            " [0. 0. 0. 0. 1. 0. 0. 0.]\n",
            " [0. 0. 0. 0. 1. 0. 0. 0.]\n",
            " [0. 0. 0. 0. 1. 0. 0. 0.]\n",
            " [0. 0. 0. 0. 0. 0. 0. 1.]\n",
            " [0. 0. 0. 0. 1. 0. 0. 0.]\n",
            " [0. 0. 0. 0. 1. 0. 0. 0.]\n",
            " [0. 0. 0. 0. 1. 0. 0. 0.]\n",
            " [0. 0. 0. 0. 1. 0. 0. 0.]\n",
            " [0. 0. 0. 0. 1. 0. 0. 0.]]\n",
            "Prediction Time: 9.870826482772827\n"
          ]
        },
        {
          "output_type": "execute_result",
          "data": {
            "text/plain": [
              "array([[0., 0., 0., 0., 0., 0., 0., 0.],\n",
              "       [0., 0., 0., 0., 1., 0., 0., 0.],\n",
              "       [0., 0., 0., 0., 1., 0., 0., 0.],\n",
              "       [0., 0., 0., 0., 1., 0., 0., 0.],\n",
              "       [0., 0., 0., 0., 0., 0., 0., 1.],\n",
              "       [0., 0., 0., 0., 1., 0., 0., 0.],\n",
              "       [0., 0., 0., 0., 1., 0., 0., 0.],\n",
              "       [0., 0., 0., 0., 1., 0., 0., 0.],\n",
              "       [0., 0., 0., 0., 1., 0., 0., 0.],\n",
              "       [0., 0., 0., 0., 1., 0., 0., 0.]], dtype=float32)"
            ]
          },
          "metadata": {},
          "execution_count": 12
        }
      ]
    },
    {
      "cell_type": "code",
      "source": [
        "loaded_model_predict(\"DEBERTA_ML\", multilabel=True)"
      ],
      "metadata": {
        "colab": {
          "base_uri": "https://localhost:8080/",
          "height": 382
        },
        "id": "Zfzd74DceJxG",
        "outputId": "7437deb4-0cca-4b72-9970-520b1ce705c4"
      },
      "execution_count": null,
      "outputs": [
        {
          "output_type": "display_data",
          "data": {
            "text/plain": [
              "<IPython.core.display.HTML object>"
            ],
            "text/html": []
          },
          "metadata": {}
        },
        {
          "output_type": "stream",
          "name": "stdout",
          "text": [
            "[[0. 0. 0. 0. 1. 0. 0. 0.]\n",
            " [0. 0. 0. 0. 1. 0. 0. 0.]\n",
            " [0. 0. 0. 0. 1. 0. 0. 0.]\n",
            " [0. 0. 0. 0. 1. 0. 0. 0.]\n",
            " [0. 0. 0. 0. 0. 0. 1. 0.]\n",
            " [0. 0. 0. 0. 1. 0. 0. 0.]\n",
            " [0. 0. 0. 0. 1. 0. 0. 0.]\n",
            " [0. 0. 0. 0. 1. 0. 0. 0.]\n",
            " [0. 0. 0. 0. 1. 0. 0. 0.]\n",
            " [0. 0. 0. 0. 1. 0. 0. 0.]]\n",
            "Prediction Time: 18.725408792495728\n"
          ]
        },
        {
          "output_type": "execute_result",
          "data": {
            "text/plain": [
              "array([[0., 0., 0., 0., 1., 0., 0., 0.],\n",
              "       [0., 0., 0., 0., 1., 0., 0., 0.],\n",
              "       [0., 0., 0., 0., 1., 0., 0., 0.],\n",
              "       [0., 0., 0., 0., 1., 0., 0., 0.],\n",
              "       [0., 0., 0., 0., 0., 0., 1., 0.],\n",
              "       [0., 0., 0., 0., 1., 0., 0., 0.],\n",
              "       [0., 0., 0., 0., 1., 0., 0., 0.],\n",
              "       [0., 0., 0., 0., 1., 0., 0., 0.],\n",
              "       [0., 0., 0., 0., 1., 0., 0., 0.],\n",
              "       [0., 0., 0., 0., 1., 0., 0., 0.]], dtype=float32)"
            ]
          },
          "metadata": {},
          "execution_count": 13
        }
      ]
    },
    {
      "cell_type": "markdown",
      "source": [
        "# SENTENCE SIMILARITY ASSESSMENT"
      ],
      "metadata": {
        "id": "1JlJV4plDEP8"
      }
    },
    {
      "cell_type": "code",
      "source": [
        "def generate_top5(queries):\n",
        "  # Loads the Sentence-BERT model\n",
        "  embedder = SentenceTransformer('distiluse-base-multilingual-cased-v2')\n",
        "  # Loads the dataset containing information about the similar texts\n",
        "  df = pd.read_csv(\"/content/gdrive/MyDrive/Datasets/dataset_verifato_sentence_similarity.csv\", sep=\";\")\n",
        "  # Transforms the claimReviewed column into a list\n",
        "  df_to = df['claimReviewed'].to_list()\n",
        "  # Encodes the dataset\n",
        "  corpus_embeddings = embedder.encode(df_to)\n",
        "  # Reads the embeddings of the dataset's claimReviewed column previously encoded\n",
        "  obj = pd.read_pickle(r'/content/gdrive/MyDrive/Datasets/sts-embeddings.pkl')\n",
        "  top5 = []\n",
        "\n",
        "  for query in queries:\n",
        "    query_embedding = embedder.encode(query)\n",
        "    intro = f\"Query: {query}\"\n",
        "    title = f\"\\nTop 5 of Similar Claims: \"\n",
        "\n",
        "    # Perform semantic search and retrieve the top 5 hits\n",
        "    hits = util.semantic_search(query_embedding, corpus_embeddings, top_k=5)\n",
        "    hits = hits[0]\n",
        "\n",
        "    # Iterate through the hits and print information about the similar claims\n",
        "    for hit in hits:\n",
        "      for i in range(len(df)):\n",
        "        if df_to[hit['corpus_id']] == df['claimReviewed'][i]:\n",
        "          top_iter = f\"Claim Verified: {df_to[hit['corpus_id']]}, \\n(Score: {(hit['score']):.4f})\\n Published Date: {df['datePublished'][i]}\\n Link: {df['link'][i]}\\n Assessment: {df['label'][i]}\\n\"\n",
        "          top5.append(top_iter)\n",
        "  return f\"{intro}\\n{title}\\n{top5}\""
      ],
      "metadata": {
        "id": "dh3u-DvODHyk"
      },
      "execution_count": 10,
      "outputs": []
    },
    {
      "cell_type": "code",
      "source": [
        "generate_top5(prediction_corpus)"
      ],
      "metadata": {
        "id": "kAUO-o3jDZ5b",
        "colab": {
          "base_uri": "https://localhost:8080/",
          "height": 674,
          "referenced_widgets": [
            "3259cdb4fc3e49e8b38d0b7b92e39083",
            "65dc45cf013049fd92870d4aea076a39",
            "d203615929f546dcbd6c8801fb8db38f",
            "4427415dcb2244dda6ea7b990d6445a6",
            "c4f712b1abbe4177926a6e4c7b5ce5c8",
            "3d99734de54e4521950344c81f862694",
            "c76226c075f24e62a9461265f0e37886",
            "fa1eb00044dc403dbdc64bcd8ab89145",
            "36f1ac4575bd4c489f4289445ed19ed4",
            "f50cf0b680a248d58fbad5c9266dbc41",
            "63d07fe9cfa0437bb20c5d2145ec5484",
            "2adc955a6deb4abda9f891804c6fc2fc",
            "9bd16b85f7344d77881dfadb69ef52d7",
            "b3a625bb0f2542ddb8a80f5fa7cef24d",
            "f409f5966a2c45c2bd611f26fee6b469",
            "2b7465e7dc4549ac9a46cb49cacd3aa4",
            "f01f008decf743128cb7ab20aed04471",
            "cf0b60156e7c4279bc94bec3d85e9ff6",
            "21f25d4166454933869d7568b50b938d",
            "f0893b74c0a2409ab8a06d8dbef69a65",
            "17e9b9a64f094965885b3000ce27e155",
            "fc47f87183c04dc7942cee0e0a3b0f51",
            "5352d99f030444459d3245feedfd9393",
            "0525e38753384ada97a7a14e196acffe",
            "ef84f83018684c76bcc2b139d3240b5e",
            "73347db6ecfa437a830941a95828c76d",
            "5133cb9dd6414349ad3494751effc9c8",
            "0cf90246d362498aaa13cf72fc1d8905",
            "937a72f216324f82b39ef7c471ba2057",
            "3af77fb18d0f440aa923712a86f1a793",
            "be0aa886a06c450b9ed843b582eb5f62",
            "7ff11fc408494a5f83abfb366d87aa27",
            "6c90e9b3fc5542b7a1b01cfb9beec463",
            "a4db7a065be847f2aaa51d9948a1d0ad",
            "d91a16b0348a40069a20074fd699ace5",
            "a5a3be784b784ee6bc12ebfbebc017a0",
            "9b70f90ab9cd4e3a9effb3ea2e59a2ba",
            "f14694a2445a4b0fbdf353b86fa21986",
            "c3f2b4b348384822adc189c25da7f9bb",
            "e14cd5cb55f14b3a85da7f757bfa0dc1",
            "8622b72df730466dbda2a4ec842c81a8",
            "614171ffd6154450a57cfca9e2a14fdb",
            "e888bc18b66047a9913b9a25bbec18f8",
            "dd4ad1c38cab4aeda64e68e8c2f6a1f3",
            "6ab5d0fd85b14a4eaa124ddd2b5d4da4",
            "0129da0e7e7c4c2bbe7ad447d7e13224",
            "5aa9348f8ca0432fa2cc52b7b5d81f8f",
            "23e14a9886a542e3879cdb11d64462d2",
            "aa283a3321804d11bbd6ff92ea1ea11f",
            "5fdae87046d2411a80bfb6b526b6d2ac",
            "65944e2a1ed34e6583612a1ad19d4279",
            "666ae84ce19348e599f6b1174e13a688",
            "9b7802254a8d498187682ce1a67a313f",
            "f20166f4325b4fb7a1fc924311b57828",
            "b96afa50fc564eeabb7805bdb1ae122b",
            "6d71512361d645929e94dc7fd8b8663f",
            "a6bf58c099f947b99941c4c28043bdd1",
            "655ad564c72c4244975141164789bf40",
            "b404d5ee675e4f95a16e45ac56f61c2d",
            "77d35dfbe20a46ba929344db88b15109",
            "06c6b2b82b314165b531e07ccd87db64",
            "ec385b712d2b4292ad26e361a2cd180f",
            "283f75e9ccd0402faaf15059e04ab711",
            "486a628c272245049957d10eb5ac6c85",
            "3cb8414b799c4c9e80d0b82fb2805b5f",
            "0dc9340f947149a0b04b2fc27c503923",
            "d3bad5709de2418da1e81b6bb8499a77",
            "135603a62c0841a68e3acdc06430f524",
            "9c9c40300b3f4c91bbeccdc6fd99056e",
            "2b7dc5f4a3e04cba8df39ec20b1fccbe",
            "e964128c9bef402e9069704fb3349825",
            "9158b95229694dba9dbf4afcfe564aa7",
            "22353654ad3b45809c613d44f2823bb7",
            "1c66024fba584535a6fa2fcfe2e46f4f",
            "9b7516cb0a8d449a8095acbc4a161e65",
            "77b696ad591d4e34b1672d23202bfa83",
            "9c226715d61b4476a7dcda7acf8c38e3",
            "227f51f2e1f143298a75ce2b422f491f",
            "49e8a36f25b943efa0e1773317f39f69",
            "22a72853962b46f980bc0ab163f73bb4",
            "3f117e340ac546e88c73911badc271fb",
            "ff99f389f4cc4dd8aad221bffe38b5f1",
            "2aee57997915419e8fd2284dd5d66001",
            "3315a25d518146adb781a4a7455b95c2",
            "5301c7a8124d494c8299d371688397d4",
            "87acd73d0a79458ab283def072067e7f",
            "761d034920a24c7dac080fb6950ebfca",
            "944870d22d5449e98ef9b1d8730cfdb4",
            "0ce2f64882434149a2e7c7a2594a2620",
            "0228a00d829647448fad4599d375ea92",
            "4d0306466e624040ac8ada18e1c5c20a",
            "282a94643c1849df885654419e430383",
            "9d43ffc923fc437192edf7b2ecb99a8b",
            "40a6fcc271504d47a777035414ab00ea",
            "0a2a42cb06e84c51b92c7b9d1f317b41",
            "31a6b6dceb3d4a23931687c2ee5d1df5",
            "7f051adcd4af4b8e92f75f4bd6aedf39",
            "e86b1b32bb474f42b1bed89d3d016fd6",
            "a14718a4ada34d88aed3946cd1024144",
            "fc107907e243470294ea1862808d6c93",
            "411fbc06f0c346c4a5a4407a24de2c93",
            "5dcc4a0749dd4f70a4b97f1f10f679c0",
            "e19c452dcd4041a1adf2c5f733e840e6",
            "31fe1b10e21d458899a6133edb7411c2",
            "ce2237589d2c478897c2cb743a36fcee",
            "d366389b7ba64e7a85a26f82d36d8fbc",
            "d2a8f484c0734e35ad342e493f82c577",
            "2727f1112d584760b8a1051cdcec17a9",
            "b3b3be045cb64852a77473fdce7e443a",
            "b215809da044477e82f274a1316d4028",
            "5ebb47c2adfb4b60bdbace9d40fe2589",
            "e7aa40c139914d9b9125d5336c3397f3",
            "612980de0a524368a1ad605eac5f8a6a",
            "89a3395b65634b50b5d1b709b311ffc7",
            "5900a84ee8c6488e98a8549176bef5d7",
            "53e52ebefe344e41958492f7899c6760",
            "64d3b49c64504f19a55b04d4d733bc60",
            "18a5130b434542a5919a9d5784c3603f",
            "12962ed42c0f44ea8b72ab5f72b3c4fa",
            "b2fca0de2e264fe795c2a067b30e97b1",
            "12d74eb408bf4f78817578b692b00f41",
            "f689a75112214e7994420ab3cde621aa",
            "c892e2c5ab1840659aa0b372ab83844a",
            "c7568ade8363475998c909d3605f043f",
            "0c518b24ec1842daadd219a81977d16f",
            "aff79dd8ac474314bd4809269520b56c",
            "500806d60cf04569b70f63170c5eb0c1",
            "46f55141253749129dbb2d9421845f10",
            "5522adbde50f44e6a0d17f75347f66a0",
            "5a2df1e182ef4e26876542580f225b0d",
            "c83ba89d95364502909f7f7ac56e10c0",
            "399db1980c434384ad020d6bbdf61d08",
            "c47d35f3794844bdb3eefb820ae51b00",
            "b82b6a79853342258b9f861dd11f34a8",
            "e0f4c7924d184d6bba5ad9972f0df099",
            "8a01fb1db5d9426ba379dcf0b369f107",
            "5577eb1dfee946988241ede276a8d03b",
            "b1ba6ac1a67c456fa2adab6cabfffb6d",
            "e71ad2e5a0ee4a44af3efbf9a41aa68d",
            "0a768d2dc92d4ca9b936aa1f44d575b9",
            "9690c4e95d0445ee9153c22383f2c958",
            "9407d3cc18394eb8a31528ef0bb81c3e",
            "2d89fe658cc049978454265db3e322f2",
            "31aa58841d05498f926642278529c482",
            "6695ea0d8c3848fa981aad300a7197ca",
            "6129046839114be3b99d4dc8342e7ead",
            "1b4bd189f2ce4f14b7d65b9a97af461f",
            "91ef3a8de7e04140b24915b64e0d263a",
            "88207be6cc994b03bdc74d36eec894ee",
            "1bee0e22265d4349bb41fa2797356666",
            "65bddf590ce646f69799b77835c566a2",
            "2d5448cf1e73484ab0cd6588412acbac",
            "9e273a0c91534a12a2a63557c5255d3d",
            "cdd3b22dd9b048e6829d9640e633b70e"
          ]
        },
        "outputId": "9bdb59d1-6832-488e-dd0c-ac99993f14e6"
      },
      "execution_count": 11,
      "outputs": [
        {
          "output_type": "stream",
          "name": "stderr",
          "text": [
            "/usr/local/lib/python3.10/dist-packages/huggingface_hub/utils/_token.py:72: UserWarning: \n",
            "The secret `HF_TOKEN` does not exist in your Colab secrets.\n",
            "To authenticate with the Hugging Face Hub, create a token in your settings tab (https://huggingface.co/settings/tokens), set it as secret in your Google Colab and restart your session.\n",
            "You will be able to reuse this secret in all of your notebooks.\n",
            "Please note that authentication is recommended but still optional to access public models or datasets.\n",
            "  warnings.warn(\n"
          ]
        },
        {
          "output_type": "display_data",
          "data": {
            "text/plain": [
              ".gitattributes:   0%|          | 0.00/690 [00:00<?, ?B/s]"
            ],
            "application/vnd.jupyter.widget-view+json": {
              "version_major": 2,
              "version_minor": 0,
              "model_id": "3259cdb4fc3e49e8b38d0b7b92e39083"
            }
          },
          "metadata": {}
        },
        {
          "output_type": "display_data",
          "data": {
            "text/plain": [
              "1_Pooling/config.json:   0%|          | 0.00/190 [00:00<?, ?B/s]"
            ],
            "application/vnd.jupyter.widget-view+json": {
              "version_major": 2,
              "version_minor": 0,
              "model_id": "2adc955a6deb4abda9f891804c6fc2fc"
            }
          },
          "metadata": {}
        },
        {
          "output_type": "display_data",
          "data": {
            "text/plain": [
              "2_Dense/config.json:   0%|          | 0.00/114 [00:00<?, ?B/s]"
            ],
            "application/vnd.jupyter.widget-view+json": {
              "version_major": 2,
              "version_minor": 0,
              "model_id": "5352d99f030444459d3245feedfd9393"
            }
          },
          "metadata": {}
        },
        {
          "output_type": "display_data",
          "data": {
            "text/plain": [
              "pytorch_model.bin:   0%|          | 0.00/1.58M [00:00<?, ?B/s]"
            ],
            "application/vnd.jupyter.widget-view+json": {
              "version_major": 2,
              "version_minor": 0,
              "model_id": "a4db7a065be847f2aaa51d9948a1d0ad"
            }
          },
          "metadata": {}
        },
        {
          "output_type": "display_data",
          "data": {
            "text/plain": [
              "README.md:   0%|          | 0.00/2.69k [00:00<?, ?B/s]"
            ],
            "application/vnd.jupyter.widget-view+json": {
              "version_major": 2,
              "version_minor": 0,
              "model_id": "6ab5d0fd85b14a4eaa124ddd2b5d4da4"
            }
          },
          "metadata": {}
        },
        {
          "output_type": "display_data",
          "data": {
            "text/plain": [
              "config.json:   0%|          | 0.00/610 [00:00<?, ?B/s]"
            ],
            "application/vnd.jupyter.widget-view+json": {
              "version_major": 2,
              "version_minor": 0,
              "model_id": "6d71512361d645929e94dc7fd8b8663f"
            }
          },
          "metadata": {}
        },
        {
          "output_type": "display_data",
          "data": {
            "text/plain": [
              "config_sentence_transformers.json:   0%|          | 0.00/122 [00:00<?, ?B/s]"
            ],
            "application/vnd.jupyter.widget-view+json": {
              "version_major": 2,
              "version_minor": 0,
              "model_id": "d3bad5709de2418da1e81b6bb8499a77"
            }
          },
          "metadata": {}
        },
        {
          "output_type": "display_data",
          "data": {
            "text/plain": [
              "pytorch_model.bin:   0%|          | 0.00/539M [00:00<?, ?B/s]"
            ],
            "application/vnd.jupyter.widget-view+json": {
              "version_major": 2,
              "version_minor": 0,
              "model_id": "227f51f2e1f143298a75ce2b422f491f"
            }
          },
          "metadata": {}
        },
        {
          "output_type": "display_data",
          "data": {
            "text/plain": [
              "sentence_bert_config.json:   0%|          | 0.00/53.0 [00:00<?, ?B/s]"
            ],
            "application/vnd.jupyter.widget-view+json": {
              "version_major": 2,
              "version_minor": 0,
              "model_id": "0ce2f64882434149a2e7c7a2594a2620"
            }
          },
          "metadata": {}
        },
        {
          "output_type": "display_data",
          "data": {
            "text/plain": [
              "special_tokens_map.json:   0%|          | 0.00/112 [00:00<?, ?B/s]"
            ],
            "application/vnd.jupyter.widget-view+json": {
              "version_major": 2,
              "version_minor": 0,
              "model_id": "fc107907e243470294ea1862808d6c93"
            }
          },
          "metadata": {}
        },
        {
          "output_type": "display_data",
          "data": {
            "text/plain": [
              "tokenizer.json:   0%|          | 0.00/1.96M [00:00<?, ?B/s]"
            ],
            "application/vnd.jupyter.widget-view+json": {
              "version_major": 2,
              "version_minor": 0,
              "model_id": "5ebb47c2adfb4b60bdbace9d40fe2589"
            }
          },
          "metadata": {}
        },
        {
          "output_type": "display_data",
          "data": {
            "text/plain": [
              "tokenizer_config.json:   0%|          | 0.00/531 [00:00<?, ?B/s]"
            ],
            "application/vnd.jupyter.widget-view+json": {
              "version_major": 2,
              "version_minor": 0,
              "model_id": "f689a75112214e7994420ab3cde621aa"
            }
          },
          "metadata": {}
        },
        {
          "output_type": "display_data",
          "data": {
            "text/plain": [
              "vocab.txt:   0%|          | 0.00/996k [00:00<?, ?B/s]"
            ],
            "application/vnd.jupyter.widget-view+json": {
              "version_major": 2,
              "version_minor": 0,
              "model_id": "c47d35f3794844bdb3eefb820ae51b00"
            }
          },
          "metadata": {}
        },
        {
          "output_type": "display_data",
          "data": {
            "text/plain": [
              "modules.json:   0%|          | 0.00/341 [00:00<?, ?B/s]"
            ],
            "application/vnd.jupyter.widget-view+json": {
              "version_major": 2,
              "version_minor": 0,
              "model_id": "31aa58841d05498f926642278529c482"
            }
          },
          "metadata": {}
        },
        {
          "output_type": "execute_result",
          "data": {
            "text/plain": [
              "'Query: O câncer começa quando as alterações genéticas interferem na replicação normal e na reposição das células do corpo. As células começam a crescer descontroladamente e podem formar um tumor. É a segunda principal causa de morte nos Estados Unidos. Infelizmente, parece que a doença pode estar aumentando graças às injeções experimentais de Covid-19. Porque os dados oficiais do governo dos EUA confirmam que o risco de desenvolver câncer após a vacinação contra o Covid-19 aumenta em chocantes 143.233%\\n\\nTop 5 of Similar Claims: \\n[\\'Claim Verified: Jornal Washington Post confirma que a SARS-CoV-2 (novo coronavírus) saiu de laboratório de virologia de Wuhan e não de mercado de animais., \\\\n(Score: 0.5265)\\\\n Published Date: 20/abr/20\\\\n Link: https://www.boatos.org/mundo/washington-post-confirma-coronavirus-surgiu-laboratorio-wuhan.html\\\\n Assessment: False\\\\n\\', \\'Claim Verified: Viralizou nas redes sociais nos últimos dias uma mensagem dizendo que o imunologista japonês Tasuku Honjo, vencedor do Prêmio Nobel de Medicina em 2018, declarou que o coronavírus não é natural e que foi, sim, criado por cientistas. O texto acrescenta que o pesquisador trabalhou pelos últimos quatro anos no laboratório de Wuhan, na China, cidade onde a pandemia teve início. Ainda segundo a mensagem, ele acusa a China pela Covid-19 e diz que o governo \"pode retirar seu Nobel\" se o que ele diz não for verdade. É #FAKE., \\\\n(Score: 0.4918)\\\\n Published Date: 29/abr/20\\\\n Link: https://g1.globo.com/fato-ou-fake/coronavirus/noticia/2020/04/29/e-fake-que-tasuku-honjo-nobel-de-medicina-em-2018-disse-que-coronavirus-foi-criado-por-cientistas.ghtml\\\\n Assessment: False\\\\n\\', \\'Claim Verified: O vencedor do Prêmio Nobel de fisiologia e medicina, professor Tasuku Honjo, disse que o coronavírus Sars-CoV-2 não é natural e que foi criado em laboratório pela China., \\\\n(Score: 0.4871)\\\\n Published Date: 03/dez/21\\\\n Link: https://www.boatos.org/saude/tasuku-honjo-diz-coronavirus-foi-criado-em-laboratorio-na-china-nao-e-natural.html\\\\n Assessment: False\\\\n\\', \\'Claim Verified: Circulam nas redes sociais mensagens dizendo que o governador de São Paulo, João Doria, assinou um acordo com uma empresa da China para a fabricação de uma vacina contra o coronavírus ainda em 2019. E que isso prova que ele já sabia da pandemia muito antes de ela ocorrer. É #FAKE., \\\\n(Score: 0.4720)\\\\n Published Date: 15/jun/20\\\\n Link: https://g1.globo.com/fato-ou-fake/coronavirus/noticia/2020/06/15/e-fake-que-doria-firmou-contrato-com-farmaceutica-chinesa-em-2019-para-desenvolver-vacina-contra-o-coronavirus.ghtml\\\\n Assessment: False\\\\n\\', \\'Claim Verified: Uma mensagem que tem circulado nas redes sociais diz que o médico chinês Li Wenliang, que foi um dos primeiros a identificar o surto do novo coronavírus e alertar autoridades e morreu em decorrência da Covid-19, deixou arquivos que mostram que substâncias presentes no café “podem afastar esse vírus em humanos”. O texto diz ainda que pacientes têm sido curados no país com a ingestão da bebida. É #FAKE., \\\\n(Score: 0.4599)\\\\n Published Date: 30/mar/20\\\\n Link: https://g1.globo.com/fato-ou-fake/noticia/2020/03/30/e-fake-que-cafe-tem-substancias-que-combatem-o-coronavirus.ghtml\\\\n Assessment: False\\\\n\\', \\'Claim Verified: Apenas 6% das mortes de pessoas com coronavírus foram, de fato, por Covid-19, mostrou uma pesquisa norte-americana. O restante dos óbitos se deu por conta de outras comorbidades, como doenças respiratórias ou cardíacas, diabetes ou obesidade., \\\\n(Score: 0.5093)\\\\n Published Date: 01/set/20\\\\n Link: https://www.boatos.org/saude/6-das-mortes-de-coronavirus-foram-por-covid-pesquisa.html\\\\n Assessment: False\\\\n\\', \\'Claim Verified: A ivermectina possui imunização maior do que a vacina contra Covid-19. Pandemia teria acabado se todos tivessem tomado., \\\\n(Score: 0.4713)\\\\n Published Date: 06/jan/21\\\\n Link: https://www.boatos.org/saude/todos-tomado-ivermectina-imuniza-mais-vacina-pandemia-teria-acabado.html\\\\n Assessment: False\\\\n\\', \\'Claim Verified: quando a vacina contra covid-19 for desenvolvida, a maior parte das pessoas já terá contraído a doença e a imunização não será mais necessária, \\\\n(Score: 0.4544)\\\\n Published Date: 21/out/20\\\\n Link: https://politica.estadao.com.br/blogs/estadao-verifica/tuite-engana-ao-sugerir-que-vacina-contra-a-covid-19-e-desnecessaria/\\\\n Assessment: Predominantly False\\\\n\\', \\'Claim Verified: Circula nas redes sociais uma mensagem que diz que um estudo sobre a Covid-19 feito por um neurocientista britânico concluiu que a maior parte da população é imune ao coronavírus e que o chamado lockdown (isolamento social rígido) é inútil para conter a pandemia. É #FAKE., \\\\n(Score: 0.4541)\\\\n Published Date: 19/ago/20\\\\n Link: https://g1.globo.com/fato-ou-fake/coronavirus/noticia/2020/08/19/e-fake-que-neurocientista-britanico-concluiu-que-maioria-da-populacao-e-imune-ao-coronavirus-e-que-distanciamento-social-e-inutil.ghtml\\\\n Assessment: False\\\\n\\', \\'Claim Verified: Se depender da taxa de letalidade da Covid-19 e da taxa de efeitos colaterais da vacina chinesa contra o coronavírus, tomar vacina é pior do que pegar a doença., \\\\n(Score: 0.4530)\\\\n Published Date: 23/out/20\\\\n Link: https://www.boatos.org/saude/efeitos-colaterais-mostram-tomar-vacina-chinesa-pior-pegar-covid-19.html\\\\n Assessment: False\\\\n\\', \\'Claim Verified: 82% das grávidas vacinadas contra a covid-19 sofreram aborto, \\\\n(Score: 0.5494)\\\\n Published Date: 11/jan/22\\\\n Link: https://politica.estadao.com.br/blogs/estadao-verifica/vacina-pfizer-causa-abortos-82/\\\\n Assessment: False\\\\n\\', \\'Claim Verified: Estudo do Reino Unido mostra que ivermectina possui 83% de eficácia e é mais segura do que vacina contra Covid-19., \\\\n(Score: 0.5207)\\\\n Published Date: 19/mar/21\\\\n Link: https://www.boatos.org/saude/ivermectina-supera-vacinas-83-eficacia-contra-covid-19.html\\\\n Assessment: False\\\\n\\', \\'Claim Verified: Alerta da Anvisa afirma que a vacina de Covid-19 já causou mais de mil mortes e 15 mil reações adversas., \\\\n(Score: 0.5203)\\\\n Published Date: 25/out/21\\\\n Link: https://www.boatos.org/saude/anvisa-vacinas-covid-19-mil-mortes.html\\\\n Assessment: False\\\\n\\', \\'Claim Verified: Circula pelas redes sociais a informação de que um acordo de confidencialidade prova que a farmacêutica americana Moderna tinha potenciais vacinas contra a Covid-19 antes do início da pandemia. A publicação sugere que essas doses foram enviadas para testes à Universidade da Carolina do Norte, nos Estados Unidos, no final de 2019. É #FAKE., \\\\n(Score: 0.5021)\\\\n Published Date: 30/jun/21\\\\n Link: https://g1.globo.com/fato-ou-fake/noticia/2021/06/30/e-fake-que-acordo-de-confidencialidade-prova-que-moderna-elaborou-vacina-contra-a-covid-19-antes-da-pandemia.ghtml\\\\n Assessment: False\\\\n\\', \\'Claim Verified: Mais de 3 mil pessoas ficaram incapacitadas de realizar atividades físicas após se vacinarem contra a Covid-19 nos EUA e 112.800 tiveram efeitos colaterais da vacina., \\\\n(Score: 0.5011)\\\\n Published Date: 22/dez/20\\\\n Link: https://www.boatos.org/mundo/vacina-covid-19-112800-relatos-efeitos-colaterais-cdc.html\\\\n Assessment: False\\\\n\\', \\'Claim Verified: Descobriram que a vacina contra Covid-19 tem óxido de grafeno e que, por isso, pessoas estão se infectando com a doença. Ou seja: nova variante é falsa., \\\\n(Score: 0.6788)\\\\n Published Date: 05/jul/21\\\\n Link: https://www.boatos.org/saude/vacinas-contra-covid-19-contem-80-90-oxido-de-grafeno.html\\\\n Assessment: False\\\\n\\', \\'Claim Verified: Vacinas contra Covid-19 estão criando uma nova variante, \\\\n(Score: 0.6689)\\\\n Published Date: 02/jun/21\\\\n Link: https://www.aosfatos.org/noticias/e-falso-que-vacina-contra-covid-19-pode-criar-novas-variantes-do-coronavirus/\\\\n Assessment: False\\\\n\\', \\'Claim Verified: Cientista alerta que a vacinação em massa criará novas variantes da Covid-19 e destruirá o sistema imunológico das pessoas., \\\\n(Score: 0.6653)\\\\n Published Date: 20/mar/21\\\\n Link: https://www.boatos.org/saude/vacinacao-em-massa-novas-variantes-covid-19.html\\\\n Assessment: False\\\\n\\', \\'Claim Verified: Las vacunas Covid-19 están creando una nueva variante, \\\\n(Score: 0.6394)\\\\n Published Date: 02/jun/21\\\\n Link: https://www.aosfatos.org/noticias/es-falso-que-la-vacuna-contra-la-covid-19-puede-crear-nuevas-variantes-del-coronavirus/\\\\n Assessment: False\\\\n\\', \\'Claim Verified: Quem já contraiu a covid-19 não precisa tomar a vacina contra o novo coronavírus, \\\\n(Score: 0.6268)\\\\n Published Date: 18/dez/20\\\\n Link: https://checamos.afp.com/quem-ja-teve-covid-19-pode-se-beneficiar-da-vacina-ao-contrario-do-afirmado-por-bolsonaro\\\\n Assessment: Misleading\\\\n\\', \\'Claim Verified: Carta sobre pandemia da Covid-19 enviada ao presidente Bolsonaro está certa ao afirmar que pandemia é uma farsa, que não se deve fazer lockdown, usar máscaras e tomar vacinas., \\\\n(Score: 0.5210)\\\\n Published Date: 04/mar/21\\\\n Link: https://www.boatos.org/saude/carta-enviada-bolsonaro-certa-afirmar-que-covid-19-e-uma-farsa.html\\\\n Assessment: False\\\\n\\', \\'Claim Verified: O presidente dos Estados Unidos, Joe Biden, falou sobre não ser mais obrigatório o uso de máscara, enquanto Jair Bolsonaro diz o mesmo e é chamado de genocida, \\\\n(Score: 0.5108)\\\\n Published Date: 18/jun/21\\\\n Link: https://checamos.afp.com/declaracao-do-presidente-dos-eua-joe-biden-sobre-uso-de-mascaras-foi-dada-apos-orientacao-dos-cdc\\\\n Assessment: No Context\\\\n\\', \\'Claim Verified: Circula nas redes sociais um print com o apresentador do telejornal Bom Dia DF e a recomendação do não uso de máscaras durante a pandemia. Legendas dizem que se trata de uma reportagem atual. É #FAKE., \\\\n(Score: 0.5002)\\\\n Published Date: 14/out/20\\\\n Link: https://g1.globo.com/fato-ou-fake/coronavirus/noticia/2020/10/14/e-fake-que-telejornal-do-df-fez-recomendacao-para-pessoas-nao-usarem-mais-mascara-apos-sete-meses-de-pandemia.ghtml\\\\n Assessment: False\\\\n\\', \\'Claim Verified: Circula pelas redes sociais uma mensagem que diz que nenhum mendigo morre de Covid-19 porque todos são imunes e que isso demonstra que a pandemia é uma grande farsa. É #FAKE., \\\\n(Score: 0.4970)\\\\n Published Date: 15/set/20\\\\n Link: https://g1.globo.com/fato-ou-fake/coronavirus/noticia/2020/09/15/e-fake-que-nenhum-morador-de-rua-morreu-de-covid-19.ghtml\\\\n Assessment: False\\\\n\\', \\'Claim Verified: Rede Globo diz que uso de máscaras na pandemia só é necessário para profissionais de saúde, \\\\n(Score: 0.4753)\\\\n Published Date: 12/jan/21\\\\n Link: https://politica.estadao.com.br/blogs/estadao-verifica/reportagem-da-globo-que-indica-nao-usar-mascaras-e-de-marco-de-2020/\\\\n Assessment: False\\\\n\\', \\'Claim Verified: Vacina contra Covid-19 é magnética, tem chumbo, microchip, nanopartículas e faz com que moedas grudem no braço de vacinados., \\\\n(Score: 0.5029)\\\\n Published Date: 20/mai/21\\\\n Link: https://www.boatos.org/saude/moeda-gruda-braco-quem-tomou-vacina-contra-covid-19.html\\\\n Assessment: False\\\\n\\', \\'Claim Verified: Vacina da Pfizer tem micropartículas que podem ser contaminantes, \\\\n(Score: 0.4940)\\\\n Published Date: 16/out/21\\\\n Link: https://politica.estadao.com.br/blogs/estadao-verifica/pfizer-particulas-contaminantes/\\\\n Assessment: False\\\\n\\', \\'Claim Verified: Circula nas redes sociais uma mensagem que mostra uma imagem extraída de um microscópio e descreve a cena como a observação de um novo modo de criatura com tentáculos feita de carbono e alumínio e colocada dentro das vacinas. O texto diz ainda que é possível observar na imagem linhas de montagem com nano robôs e partículas magnéticas. É #FAKE., \\\\n(Score: 0.4901)\\\\n Published Date: 29/out/21\\\\n Link: https://g1.globo.com/fato-ou-fake/coronavirus/noticia/2021/10/29/e-fake-que-imagem-microscopica-revele-criatura-de-carbono-e-aluminio-em-sangue-de-vacinado-contra-covid.ghtml\\\\n Assessment: False\\\\n\\', \\'Claim Verified: Pfizer aprova patente para rastrear todos os vacinados por meio de microondas, GPS, grafeno e controle remoto., \\\\n(Score: 0.4630)\\\\n Published Date: 26/out/21\\\\n Link: https://www.boatos.org/saude/pfizer-rastreia-vacinados-controle-remoto-e-gps-grafeno-microondas.html\\\\n Assessment: False\\\\n\\', \\'Claim Verified: Exames microscópicos mostram vermes e parasitas do tipo “morgellons” em máscaras e cotonetes contaminados da China., \\\\n(Score: 0.4584)\\\\n Published Date: 17/jun/21\\\\n Link: https://www.boatos.org/saude/mascaras-cotonetes-china-vindo-vermes-parasitas-morgellons.html\\\\n Assessment: False\\\\n\\', \\'Claim Verified: Estudo realizado na Itália e que apontou um risco de morte menor entre pacientes que receberam hidroxicloroquina é verdadeiro, mas pesquisadores não propõem que a droga seja usada como potencial tratamento para a covid-19, \\\\n(Score: 0.5746)\\\\n Published Date: 31/ago/20\\\\n Link: https://politica.estadao.com.br/blogs/estadao-verifica/publicacao-distorce-estudo-italiano-ao-sugerir-que-hidroxicloroquina-foi-recomendada-como-potencial-tratamento-para-covid-19/\\\\n Assessment: Predominantly False\\\\n\\', \\'Claim Verified: Estudo concluiu que hidroxicloroquina pode aumentar as chances de sobrevivência de pessoas com covid-19 em quase 200%, \\\\n(Score: 0.5180)\\\\n Published Date: 16/jun/21\\\\n Link: https://politica.estadao.com.br/blogs/estadao-verifica/estudo-com-hidroxicloroquina-nao-comprova-eficacia-no-tratamento-precoce/\\\\n Assessment: Predominantly False\\\\n\\', \\'Claim Verified: Estudo científico comprova a eficácia da Hidroxicloroquina!!! O estudo (...) contou com uma análise de estudo duplo cego e randomizado de 2.451 pacientes do sistema de saúde Henry Ford, \\\\n(Score: 0.4919)\\\\n Published Date: 24/jul/20\\\\n Link: https://lupa.uol.com.br/jornalismo/2020/07/24/verificamos-estudo-henry-ford-hidroxicloroquina-covid-19\\\\n Assessment: False\\\\n\\', \\'Claim Verified: Saiu a comprovação científica da ivermectina e a FDA aprovou o uso de hidroxicloroquina em todos os pacientes com o Covid-19., \\\\n(Score: 0.4790)\\\\n Published Date: 18/mai/21\\\\n Link: https://www.boatos.org/saude/saiu-comprovacao-cientifica-ivermectina-fda-aprova-uso-hidroxicloroquina.html\\\\n Assessment: False\\\\n\\', \\'Claim Verified: Post do site Pleno.News afirma que um estudo do Henry Ford Health System comprova a eficácia do tratamento com hidroxicloroquina nos casos de covid-19, \\\\n(Score: 0.4738)\\\\n Published Date: 23/jul/20\\\\n Link: https://politica.estadao.com.br/blogs/estadao-verifica/estudo-da-henry-ford-health-system-e-insuficiente-para-provar-eficacia-da-cloroquina-contra-a-covid-19/\\\\n Assessment: False\\\\n\\', \\'Claim Verified: Documentos confidenciais revelam que Moderna enviou mRNA candidato a vacina contra coronavírus para pesquisadores da universidade semanas antes do surgimento de Covid-19, \\\\n(Score: 0.6402)\\\\n Published Date: 25/jun/21\\\\n Link: https://checamos.afp.com/este-documento-sobre-coronavirus-nao-prova-que-moderna-elaborou-sua-vacina-antes-da-pandemia\\\\n Assessment: False\\\\n\\', \\'Claim Verified: médico afirma que as vacinas em desenvolvimento para a covid-19 e que utilizam as tecnologias de vetor viral, vacina de DNA e vacina de RNA mensageiro podem provocar danos genéticos potenciais em quem se imunizar, \\\\n(Score: 0.5779)\\\\n Published Date: 17/dez/20\\\\n Link: https://politica.estadao.com.br/blogs/estadao-verifica/medico-espalha-informacoes-falsas-sobre-seguranca-das-vacinas-mrna-contra-covid-19/\\\\n Assessment: False\\\\n\\', \\'Claim Verified: Vacinas contra a covid-19 causam \"síndrome de imunodeficiência adquirida por vacina\" (vaids), mostra estudo da The Lancet, \\\\n(Score: 0.5698)\\\\n Published Date: 23/dez/21\\\\n Link: https://checamos.afp.com/http%253A%252F%252Fdoc.afp.com%252F9V76V7-1\\\\n Assessment: False\\\\n\\', \\'Claim Verified: Uma pessoa genial descobriu, por meio de diversas perguntas retóricas, que a vacina contra Covid-19 não dá imunidade, não elimina o vírus, não impede mortes, fechamentos e não serve para nada., \\\\n(Score: 0.5455)\\\\n Published Date: 20/jan/21\\\\n Link: https://www.boatos.org/saude/vacina-nao-da-imunidade-nao-elimina-virus-nao-impede-morte-nao-serve-para-nada.html\\\\n Assessment: False\\\\n\\', \\'Claim Verified: Circula nas redes sociais uma mensagem que diz que os testes do tipo PCR para a Covid-19 levam vermes e parasitas aos pulmões e intestinos das pessoas que são capazes de introduzir vacinas no organismo. É #FAKE., \\\\n(Score: 0.5285)\\\\n Published Date: 06/ago/21\\\\n Link: https://g1.globo.com/fato-ou-fake/coronavirus/noticia/2021/08/06/e-fake-que-testes-pcr-sao-estudos-da-johns-hopkins-para-usar-vermes-robos-na-aplicacao-de-vacinas.ghtml\\\\n Assessment: False\\\\n\\', \\'Claim Verified: Nesse final de semana, [em um] congresso realizado em Brasília, congresso mundial de medicina realizado em Brasília, o SUS, quem diria, apresentou um estudo mostrando que a ivermectina reduziu em quase 46% o número de mortes por Covid-19. [...] Envolveu uma cidade inteira, mais precisamente a cidade de Itajaí, em Santa Catarina. [...] Esse estudo catalogou 220 mil pessoas que, nos dados estatísticos, aqueles que tomaram ivermectina tiveram uma redução de 46% no índice de mortes., \\\\n(Score: 0.5965)\\\\n Published Date: 07/jan/22\\\\n Link: https://lupa.uol.com.br/jornalismo/2022/01/07/verificamos-estudo-itajai-ivermectina-covid\\\\n Assessment: False\\\\n\\', \\'Claim Verified: Circula nas redes sociais uma mensagem que diz que uma pesquisa feita nos Estados unidos mostrou que apenas 6% das mortes atribuídas à Covid-19 no país tiveram, de fato, a infecção pelo coronavírus como causa. A conclusão é que o mesmo se aplica ao Brasil. É #FAKE., \\\\n(Score: 0.5846)\\\\n Published Date: 02/set/20\\\\n Link: https://g1.globo.com/fato-ou-fake/coronavirus/noticia/2020/09/02/e-fake-que-pesquisa-revelou-que-so-6percent-das-mortes-atribuidas-a-covid-19-nos-estados-unidos-foram-mesmo-causadas-pelo-coronavirus.ghtml\\\\n Assessment: False\\\\n\\', \\'Claim Verified: Dados do Portal da Transparência do registro civil de cartórios comprovam que não há epidemia de Covid-19 no Brasil e que o número de mortes no Brasil em 2020 é menor do que nos outros anos., \\\\n(Score: 0.5673)\\\\n Published Date: 08/mai/20\\\\n Link: https://www.boatos.org/saude/registro-civil-cartorios-comprovam-nao-ha-epidemia-covid-19-brasil.html\\\\n Assessment: False\\\\n\\', \\'Claim Verified: O SUS realizou um estudo que mostra que a ivermectina é eficaz no combate à Covid-19. Remédio reduz 46% das mortes causadas pela doença., \\\\n(Score: 0.5618)\\\\n Published Date: 18/dez/21\\\\n Link: https://www.boatos.org/saude/estudo-feito-sus-comprova-eficacia-ivermectina-combate-covid-19.html\\\\n Assessment: False\\\\n\\', \\'Claim Verified: O Brasil não teve nenhuma morte por dengue registrada em 2021. Isso porque somente mortes por Covid-19 estão sendo registradas para “inflar” os casos., \\\\n(Score: 0.5579)\\\\n Published Date: 28/mar/21\\\\n Link: https://www.boatos.org/saude/brasil-nao-teve-morte-por-dengue-2021.html\\\\n Assessment: False\\\\n\\', \\'Claim Verified: Vacinas contra a Covid-19 podem alterar o DNA e causar câncer., \\\\n(Score: 0.5743)\\\\n Published Date: 26/jan/21\\\\n Link: https://www.aosfatos.org/noticias/vacinas-contra-covid-19-nao-alteram-o-codigo-genetico-nem-podem-causar-cancer/\\\\n Assessment: False\\\\n\\', \\'Claim Verified: A Rússia se tornou o primeiro país do mundo a realizar uma autópsia (post mortem) em um cadáver de Covid-19 e, após uma investigação abrangente, descobriu que o Covid-19 não existe como um vírus. É um golpe mundial. Pessoas estão morrendo devido à \"radiação eletromagnética mundial 5G amplificada (veneno)\". (...) Compartilhe esta informação com toda a sua família, vizinhos, conhecidos, amigos, colegas para que eles possam sair do medo da Covid-19 e entender que este não é um vírus, mas apenas uma bactéria exposta à radiação 5G. (...) Fonte: Ministério da Saúde Russa, \\\\n(Score: 0.5049)\\\\n Published Date: 08/mar/21\\\\n Link: https://lupa.uol.com.br/jornalismo/2021/03/08/verificamos-russia-bacteria-5g\\\\n Assessment: False\\\\n\\', \\'Claim Verified: Vacinas contra a covid causam câncer, \\\\n(Score: 0.4801)\\\\n Published Date: 23/set/21\\\\n Link: https://politica.estadao.com.br/blogs/estadao-verifica/vacinas-covid-cancer-falso/\\\\n Assessment: Predominantly False\\\\n\\', \\'Claim Verified: Vacina contra o coronavírus tem como intenção reduzir a população mundial, além de provocar câncer, alterações genéticas, problemas de fertilidade e “homossexualismo”., \\\\n(Score: 0.4766)\\\\n Published Date: 29/out/20\\\\n Link: https://politica.estadao.com.br/blogs/estadao-verifica/em-audio-no-whatsapp-engenheiro-faz-alegacoes-fantasiosas-sobre-covid-19-e-vacinas-em-testes/\\\\n Assessment: False\\\\n\\', \\'Claim Verified: Circula pelas redes sociais uma mensagem que diz que as vacinas contra a Covid-19 provocam câncer de mama. É #FAKE., \\\\n(Score: 0.4702)\\\\n Published Date: 13/mai/21\\\\n Link: https://g1.globo.com/fato-ou-fake/coronavirus/noticia/2021/05/13/e-fake-que-vacina-contra-a-covid-19-provoca-cancer-de-mama.ghtml\\\\n Assessment: False\\\\n\\']'"
            ],
            "application/vnd.google.colaboratory.intrinsic+json": {
              "type": "string"
            }
          },
          "metadata": {},
          "execution_count": 11
        }
      ]
    },
    {
      "cell_type": "markdown",
      "source": [
        "# FINAL FUNCTION DEMONSTRATION ON SAMPLE QUERY"
      ],
      "metadata": {
        "id": "48lVPzAFr-hV"
      }
    },
    {
      "cell_type": "code",
      "source": [
        "# Defining the sample query as the user would provide\n",
        "sample_query = ['Um novo estudo prospectivo que inclui mais de 223.000 participantes do sul do Brasil descobriu que a ivermectina reduz a mortalidade por covid-19 em 92% . O uso de ivermectina foi associado a reduções não apenas na mortalidade por COVID-19, mas também nas hospitalizações e nas taxas de infecção. Como profilático, a ivermectina mostrou-se mais eficaz de maneira dose-dependente. À medida que a dose de ivermectina aumentava, os pacientes tinham maior probabilidade de se recuperar da covid-19. Evidências preliminares também mostram que os pacientes se recuperam mais rapidamente com ivermectina .']"
      ],
      "metadata": {
        "id": "y4MML1G9jIkW"
      },
      "execution_count": 12,
      "outputs": []
    },
    {
      "cell_type": "code",
      "execution_count": 13,
      "metadata": {
        "id": "7LJQfx1m6MKJ"
      },
      "outputs": [],
      "source": [
        "# Final function calls the function loaded_model_Predict once for the first feature of the application\n",
        "# (Is the input data a case of disinformation or not?) and then for the second feature (What are the Covid-related themes?),\n",
        "# transforming the positive output into a list of indexes, to be translated to the themes in the front end.\n",
        "# Next, it runs the function generate_top_5. The final output is transformed into a JSON string,\n",
        "# which is the method of transfer from the backend to the front end.\n",
        "# As all tokenizers and models are saved into the application server, the load time is definitely viable for a web application.\n",
        "# As such, this function was run again after the loading of the tokenizer and the model to exemply a normal run.\n",
        "\n",
        "def getOutputAsJson():\n",
        "  start = time.time()\n",
        "\n",
        "  feature_fake_or_not = loaded_model_predict(\"BERTPT\", dataset = sample_query)\n",
        "\n",
        "  feature_theme_output = loaded_model_predict(\"DEBERTA_ML\", dataset = sample_query, multilabel=True)\n",
        "  positives_outcomes = np.where(feature_theme_output == 1)\n",
        "  feature_theme = positives_outcomes[1].tolist()\n",
        "\n",
        "  feature_top5_similar_results = generate_top5(sample_query)\n",
        "  end = time.time()\n",
        "  total_time = end - start\n",
        "  data = {\n",
        "    'Probability' : str(feature_fake_or_not),\n",
        "\n",
        "    'Covid Themes' : str(feature_theme),\n",
        "\n",
        "    'Similar Claims TOP 5' : feature_top5_similar_results\n",
        "  }\n",
        "  print(f\"Total Time: {total_time}\")\n",
        "  json_string = json.dumps(data,ensure_ascii=False)\n",
        "  return json_string"
      ]
    },
    {
      "cell_type": "code",
      "execution_count": 15,
      "metadata": {
        "id": "nLFlKZac7qgh",
        "colab": {
          "base_uri": "https://localhost:8080/",
          "height": 209
        },
        "outputId": "df4a3345-badd-48f5-c40d-d348c666e89a"
      },
      "outputs": [
        {
          "output_type": "display_data",
          "data": {
            "text/plain": [
              "<IPython.core.display.HTML object>"
            ],
            "text/html": []
          },
          "metadata": {}
        },
        {
          "output_type": "stream",
          "name": "stdout",
          "text": [
            "[1]\n",
            "Prediction Time: 1.5427134037017822\n"
          ]
        },
        {
          "output_type": "display_data",
          "data": {
            "text/plain": [
              "<IPython.core.display.HTML object>"
            ],
            "text/html": []
          },
          "metadata": {}
        },
        {
          "output_type": "stream",
          "name": "stdout",
          "text": [
            "[[0. 0. 0. 0. 1. 0. 0. 0.]]\n",
            "Prediction Time: 4.472449779510498\n",
            "Total Time: 13.58125376701355\n"
          ]
        },
        {
          "output_type": "execute_result",
          "data": {
            "text/plain": [
              "'{\"Probability\": \"[1]\", \"Covid Themes\": \"[4]\", \"Similar Claims TOP 5\": \"Query: Um novo estudo prospectivo que inclui mais de 223.000 participantes do sul do Brasil descobriu que a ivermectina reduz a mortalidade por covid-19 em 92% . O uso de ivermectina foi associado a reduções não apenas na mortalidade por COVID-19, mas também nas hospitalizações e nas taxas de infecção. Como profilático, a ivermectina mostrou-se mais eficaz de maneira dose-dependente. À medida que a dose de ivermectina aumentava, os pacientes tinham maior probabilidade de se recuperar da covid-19. Evidências preliminares também mostram que os pacientes se recuperam mais rapidamente com ivermectina .\\\\n\\\\nTop 5 of Similar Claims: \\\\n[\\'Claim Verified: Nesse final de semana, [em um] congresso realizado em Brasília, congresso mundial de medicina realizado em Brasília, o SUS, quem diria, apresentou um estudo mostrando que a ivermectina reduziu em quase 46% o número de mortes por Covid-19. [...] Envolveu uma cidade inteira, mais precisamente a cidade de Itajaí, em Santa Catarina. [...] Esse estudo catalogou 220 mil pessoas que, nos dados estatísticos, aqueles que tomaram ivermectina tiveram uma redução de 46% no índice de mortes., \\\\\\\\n(Score: 0.5965)\\\\\\\\n Published Date: 07/jan/22\\\\\\\\n Link: https://lupa.uol.com.br/jornalismo/2022/01/07/verificamos-estudo-itajai-ivermectina-covid\\\\\\\\n Assessment: False\\\\\\\\n\\', \\'Claim Verified: Circula nas redes sociais uma mensagem que diz que uma pesquisa feita nos Estados unidos mostrou que apenas 6% das mortes atribuídas à Covid-19 no país tiveram, de fato, a infecção pelo coronavírus como causa. A conclusão é que o mesmo se aplica ao Brasil. É #FAKE., \\\\\\\\n(Score: 0.5846)\\\\\\\\n Published Date: 02/set/20\\\\\\\\n Link: https://g1.globo.com/fato-ou-fake/coronavirus/noticia/2020/09/02/e-fake-que-pesquisa-revelou-que-so-6percent-das-mortes-atribuidas-a-covid-19-nos-estados-unidos-foram-mesmo-causadas-pelo-coronavirus.ghtml\\\\\\\\n Assessment: False\\\\\\\\n\\', \\'Claim Verified: Dados do Portal da Transparência do registro civil de cartórios comprovam que não há epidemia de Covid-19 no Brasil e que o número de mortes no Brasil em 2020 é menor do que nos outros anos., \\\\\\\\n(Score: 0.5673)\\\\\\\\n Published Date: 08/mai/20\\\\\\\\n Link: https://www.boatos.org/saude/registro-civil-cartorios-comprovam-nao-ha-epidemia-covid-19-brasil.html\\\\\\\\n Assessment: False\\\\\\\\n\\', \\'Claim Verified: O SUS realizou um estudo que mostra que a ivermectina é eficaz no combate à Covid-19. Remédio reduz 46% das mortes causadas pela doença., \\\\\\\\n(Score: 0.5618)\\\\\\\\n Published Date: 18/dez/21\\\\\\\\n Link: https://www.boatos.org/saude/estudo-feito-sus-comprova-eficacia-ivermectina-combate-covid-19.html\\\\\\\\n Assessment: False\\\\\\\\n\\', \\'Claim Verified: O Brasil não teve nenhuma morte por dengue registrada em 2021. Isso porque somente mortes por Covid-19 estão sendo registradas para “inflar” os casos., \\\\\\\\n(Score: 0.5579)\\\\\\\\n Published Date: 28/mar/21\\\\\\\\n Link: https://www.boatos.org/saude/brasil-nao-teve-morte-por-dengue-2021.html\\\\\\\\n Assessment: False\\\\\\\\n\\']\"}'"
            ],
            "application/vnd.google.colaboratory.intrinsic+json": {
              "type": "string"
            }
          },
          "metadata": {},
          "execution_count": 15
        }
      ],
      "source": [
        "json_string = getOutputAsJson()\n",
        "json_string"
      ]
    },
    {
      "cell_type": "code",
      "source": [
        "# This is a way to save the JSON string to upload to GitHub as an example\n",
        "def saveJsonFile(json_string):\n",
        "  with open('json_data.json', 'w', encoding='utf-8') as outfile:\n",
        "    outfile.write(json_string)"
      ],
      "metadata": {
        "id": "MCHh3N8ytVOl"
      },
      "execution_count": 16,
      "outputs": []
    },
    {
      "cell_type": "code",
      "source": [
        "saveJsonFile(json_string)"
      ],
      "metadata": {
        "id": "6raej6mmtV6G"
      },
      "execution_count": 17,
      "outputs": []
    }
  ],
  "metadata": {
    "accelerator": "GPU",
    "colab": {
      "provenance": [],
      "gpuType": "T4"
    },
    "kernelspec": {
      "display_name": "Python 3",
      "name": "python3"
    },
    "language_info": {
      "name": "python"
    },
    "widgets": {
      "application/vnd.jupyter.widget-state+json": {
        "3259cdb4fc3e49e8b38d0b7b92e39083": {
          "model_module": "@jupyter-widgets/controls",
          "model_name": "HBoxModel",
          "model_module_version": "1.5.0",
          "state": {
            "_dom_classes": [],
            "_model_module": "@jupyter-widgets/controls",
            "_model_module_version": "1.5.0",
            "_model_name": "HBoxModel",
            "_view_count": null,
            "_view_module": "@jupyter-widgets/controls",
            "_view_module_version": "1.5.0",
            "_view_name": "HBoxView",
            "box_style": "",
            "children": [
              "IPY_MODEL_65dc45cf013049fd92870d4aea076a39",
              "IPY_MODEL_d203615929f546dcbd6c8801fb8db38f",
              "IPY_MODEL_4427415dcb2244dda6ea7b990d6445a6"
            ],
            "layout": "IPY_MODEL_c4f712b1abbe4177926a6e4c7b5ce5c8"
          }
        },
        "65dc45cf013049fd92870d4aea076a39": {
          "model_module": "@jupyter-widgets/controls",
          "model_name": "HTMLModel",
          "model_module_version": "1.5.0",
          "state": {
            "_dom_classes": [],
            "_model_module": "@jupyter-widgets/controls",
            "_model_module_version": "1.5.0",
            "_model_name": "HTMLModel",
            "_view_count": null,
            "_view_module": "@jupyter-widgets/controls",
            "_view_module_version": "1.5.0",
            "_view_name": "HTMLView",
            "description": "",
            "description_tooltip": null,
            "layout": "IPY_MODEL_3d99734de54e4521950344c81f862694",
            "placeholder": "​",
            "style": "IPY_MODEL_c76226c075f24e62a9461265f0e37886",
            "value": ".gitattributes: 100%"
          }
        },
        "d203615929f546dcbd6c8801fb8db38f": {
          "model_module": "@jupyter-widgets/controls",
          "model_name": "FloatProgressModel",
          "model_module_version": "1.5.0",
          "state": {
            "_dom_classes": [],
            "_model_module": "@jupyter-widgets/controls",
            "_model_module_version": "1.5.0",
            "_model_name": "FloatProgressModel",
            "_view_count": null,
            "_view_module": "@jupyter-widgets/controls",
            "_view_module_version": "1.5.0",
            "_view_name": "ProgressView",
            "bar_style": "success",
            "description": "",
            "description_tooltip": null,
            "layout": "IPY_MODEL_fa1eb00044dc403dbdc64bcd8ab89145",
            "max": 690,
            "min": 0,
            "orientation": "horizontal",
            "style": "IPY_MODEL_36f1ac4575bd4c489f4289445ed19ed4",
            "value": 690
          }
        },
        "4427415dcb2244dda6ea7b990d6445a6": {
          "model_module": "@jupyter-widgets/controls",
          "model_name": "HTMLModel",
          "model_module_version": "1.5.0",
          "state": {
            "_dom_classes": [],
            "_model_module": "@jupyter-widgets/controls",
            "_model_module_version": "1.5.0",
            "_model_name": "HTMLModel",
            "_view_count": null,
            "_view_module": "@jupyter-widgets/controls",
            "_view_module_version": "1.5.0",
            "_view_name": "HTMLView",
            "description": "",
            "description_tooltip": null,
            "layout": "IPY_MODEL_f50cf0b680a248d58fbad5c9266dbc41",
            "placeholder": "​",
            "style": "IPY_MODEL_63d07fe9cfa0437bb20c5d2145ec5484",
            "value": " 690/690 [00:00&lt;00:00, 20.4kB/s]"
          }
        },
        "c4f712b1abbe4177926a6e4c7b5ce5c8": {
          "model_module": "@jupyter-widgets/base",
          "model_name": "LayoutModel",
          "model_module_version": "1.2.0",
          "state": {
            "_model_module": "@jupyter-widgets/base",
            "_model_module_version": "1.2.0",
            "_model_name": "LayoutModel",
            "_view_count": null,
            "_view_module": "@jupyter-widgets/base",
            "_view_module_version": "1.2.0",
            "_view_name": "LayoutView",
            "align_content": null,
            "align_items": null,
            "align_self": null,
            "border": null,
            "bottom": null,
            "display": null,
            "flex": null,
            "flex_flow": null,
            "grid_area": null,
            "grid_auto_columns": null,
            "grid_auto_flow": null,
            "grid_auto_rows": null,
            "grid_column": null,
            "grid_gap": null,
            "grid_row": null,
            "grid_template_areas": null,
            "grid_template_columns": null,
            "grid_template_rows": null,
            "height": null,
            "justify_content": null,
            "justify_items": null,
            "left": null,
            "margin": null,
            "max_height": null,
            "max_width": null,
            "min_height": null,
            "min_width": null,
            "object_fit": null,
            "object_position": null,
            "order": null,
            "overflow": null,
            "overflow_x": null,
            "overflow_y": null,
            "padding": null,
            "right": null,
            "top": null,
            "visibility": null,
            "width": null
          }
        },
        "3d99734de54e4521950344c81f862694": {
          "model_module": "@jupyter-widgets/base",
          "model_name": "LayoutModel",
          "model_module_version": "1.2.0",
          "state": {
            "_model_module": "@jupyter-widgets/base",
            "_model_module_version": "1.2.0",
            "_model_name": "LayoutModel",
            "_view_count": null,
            "_view_module": "@jupyter-widgets/base",
            "_view_module_version": "1.2.0",
            "_view_name": "LayoutView",
            "align_content": null,
            "align_items": null,
            "align_self": null,
            "border": null,
            "bottom": null,
            "display": null,
            "flex": null,
            "flex_flow": null,
            "grid_area": null,
            "grid_auto_columns": null,
            "grid_auto_flow": null,
            "grid_auto_rows": null,
            "grid_column": null,
            "grid_gap": null,
            "grid_row": null,
            "grid_template_areas": null,
            "grid_template_columns": null,
            "grid_template_rows": null,
            "height": null,
            "justify_content": null,
            "justify_items": null,
            "left": null,
            "margin": null,
            "max_height": null,
            "max_width": null,
            "min_height": null,
            "min_width": null,
            "object_fit": null,
            "object_position": null,
            "order": null,
            "overflow": null,
            "overflow_x": null,
            "overflow_y": null,
            "padding": null,
            "right": null,
            "top": null,
            "visibility": null,
            "width": null
          }
        },
        "c76226c075f24e62a9461265f0e37886": {
          "model_module": "@jupyter-widgets/controls",
          "model_name": "DescriptionStyleModel",
          "model_module_version": "1.5.0",
          "state": {
            "_model_module": "@jupyter-widgets/controls",
            "_model_module_version": "1.5.0",
            "_model_name": "DescriptionStyleModel",
            "_view_count": null,
            "_view_module": "@jupyter-widgets/base",
            "_view_module_version": "1.2.0",
            "_view_name": "StyleView",
            "description_width": ""
          }
        },
        "fa1eb00044dc403dbdc64bcd8ab89145": {
          "model_module": "@jupyter-widgets/base",
          "model_name": "LayoutModel",
          "model_module_version": "1.2.0",
          "state": {
            "_model_module": "@jupyter-widgets/base",
            "_model_module_version": "1.2.0",
            "_model_name": "LayoutModel",
            "_view_count": null,
            "_view_module": "@jupyter-widgets/base",
            "_view_module_version": "1.2.0",
            "_view_name": "LayoutView",
            "align_content": null,
            "align_items": null,
            "align_self": null,
            "border": null,
            "bottom": null,
            "display": null,
            "flex": null,
            "flex_flow": null,
            "grid_area": null,
            "grid_auto_columns": null,
            "grid_auto_flow": null,
            "grid_auto_rows": null,
            "grid_column": null,
            "grid_gap": null,
            "grid_row": null,
            "grid_template_areas": null,
            "grid_template_columns": null,
            "grid_template_rows": null,
            "height": null,
            "justify_content": null,
            "justify_items": null,
            "left": null,
            "margin": null,
            "max_height": null,
            "max_width": null,
            "min_height": null,
            "min_width": null,
            "object_fit": null,
            "object_position": null,
            "order": null,
            "overflow": null,
            "overflow_x": null,
            "overflow_y": null,
            "padding": null,
            "right": null,
            "top": null,
            "visibility": null,
            "width": null
          }
        },
        "36f1ac4575bd4c489f4289445ed19ed4": {
          "model_module": "@jupyter-widgets/controls",
          "model_name": "ProgressStyleModel",
          "model_module_version": "1.5.0",
          "state": {
            "_model_module": "@jupyter-widgets/controls",
            "_model_module_version": "1.5.0",
            "_model_name": "ProgressStyleModel",
            "_view_count": null,
            "_view_module": "@jupyter-widgets/base",
            "_view_module_version": "1.2.0",
            "_view_name": "StyleView",
            "bar_color": null,
            "description_width": ""
          }
        },
        "f50cf0b680a248d58fbad5c9266dbc41": {
          "model_module": "@jupyter-widgets/base",
          "model_name": "LayoutModel",
          "model_module_version": "1.2.0",
          "state": {
            "_model_module": "@jupyter-widgets/base",
            "_model_module_version": "1.2.0",
            "_model_name": "LayoutModel",
            "_view_count": null,
            "_view_module": "@jupyter-widgets/base",
            "_view_module_version": "1.2.0",
            "_view_name": "LayoutView",
            "align_content": null,
            "align_items": null,
            "align_self": null,
            "border": null,
            "bottom": null,
            "display": null,
            "flex": null,
            "flex_flow": null,
            "grid_area": null,
            "grid_auto_columns": null,
            "grid_auto_flow": null,
            "grid_auto_rows": null,
            "grid_column": null,
            "grid_gap": null,
            "grid_row": null,
            "grid_template_areas": null,
            "grid_template_columns": null,
            "grid_template_rows": null,
            "height": null,
            "justify_content": null,
            "justify_items": null,
            "left": null,
            "margin": null,
            "max_height": null,
            "max_width": null,
            "min_height": null,
            "min_width": null,
            "object_fit": null,
            "object_position": null,
            "order": null,
            "overflow": null,
            "overflow_x": null,
            "overflow_y": null,
            "padding": null,
            "right": null,
            "top": null,
            "visibility": null,
            "width": null
          }
        },
        "63d07fe9cfa0437bb20c5d2145ec5484": {
          "model_module": "@jupyter-widgets/controls",
          "model_name": "DescriptionStyleModel",
          "model_module_version": "1.5.0",
          "state": {
            "_model_module": "@jupyter-widgets/controls",
            "_model_module_version": "1.5.0",
            "_model_name": "DescriptionStyleModel",
            "_view_count": null,
            "_view_module": "@jupyter-widgets/base",
            "_view_module_version": "1.2.0",
            "_view_name": "StyleView",
            "description_width": ""
          }
        },
        "2adc955a6deb4abda9f891804c6fc2fc": {
          "model_module": "@jupyter-widgets/controls",
          "model_name": "HBoxModel",
          "model_module_version": "1.5.0",
          "state": {
            "_dom_classes": [],
            "_model_module": "@jupyter-widgets/controls",
            "_model_module_version": "1.5.0",
            "_model_name": "HBoxModel",
            "_view_count": null,
            "_view_module": "@jupyter-widgets/controls",
            "_view_module_version": "1.5.0",
            "_view_name": "HBoxView",
            "box_style": "",
            "children": [
              "IPY_MODEL_9bd16b85f7344d77881dfadb69ef52d7",
              "IPY_MODEL_b3a625bb0f2542ddb8a80f5fa7cef24d",
              "IPY_MODEL_f409f5966a2c45c2bd611f26fee6b469"
            ],
            "layout": "IPY_MODEL_2b7465e7dc4549ac9a46cb49cacd3aa4"
          }
        },
        "9bd16b85f7344d77881dfadb69ef52d7": {
          "model_module": "@jupyter-widgets/controls",
          "model_name": "HTMLModel",
          "model_module_version": "1.5.0",
          "state": {
            "_dom_classes": [],
            "_model_module": "@jupyter-widgets/controls",
            "_model_module_version": "1.5.0",
            "_model_name": "HTMLModel",
            "_view_count": null,
            "_view_module": "@jupyter-widgets/controls",
            "_view_module_version": "1.5.0",
            "_view_name": "HTMLView",
            "description": "",
            "description_tooltip": null,
            "layout": "IPY_MODEL_f01f008decf743128cb7ab20aed04471",
            "placeholder": "​",
            "style": "IPY_MODEL_cf0b60156e7c4279bc94bec3d85e9ff6",
            "value": "1_Pooling/config.json: 100%"
          }
        },
        "b3a625bb0f2542ddb8a80f5fa7cef24d": {
          "model_module": "@jupyter-widgets/controls",
          "model_name": "FloatProgressModel",
          "model_module_version": "1.5.0",
          "state": {
            "_dom_classes": [],
            "_model_module": "@jupyter-widgets/controls",
            "_model_module_version": "1.5.0",
            "_model_name": "FloatProgressModel",
            "_view_count": null,
            "_view_module": "@jupyter-widgets/controls",
            "_view_module_version": "1.5.0",
            "_view_name": "ProgressView",
            "bar_style": "success",
            "description": "",
            "description_tooltip": null,
            "layout": "IPY_MODEL_21f25d4166454933869d7568b50b938d",
            "max": 190,
            "min": 0,
            "orientation": "horizontal",
            "style": "IPY_MODEL_f0893b74c0a2409ab8a06d8dbef69a65",
            "value": 190
          }
        },
        "f409f5966a2c45c2bd611f26fee6b469": {
          "model_module": "@jupyter-widgets/controls",
          "model_name": "HTMLModel",
          "model_module_version": "1.5.0",
          "state": {
            "_dom_classes": [],
            "_model_module": "@jupyter-widgets/controls",
            "_model_module_version": "1.5.0",
            "_model_name": "HTMLModel",
            "_view_count": null,
            "_view_module": "@jupyter-widgets/controls",
            "_view_module_version": "1.5.0",
            "_view_name": "HTMLView",
            "description": "",
            "description_tooltip": null,
            "layout": "IPY_MODEL_17e9b9a64f094965885b3000ce27e155",
            "placeholder": "​",
            "style": "IPY_MODEL_fc47f87183c04dc7942cee0e0a3b0f51",
            "value": " 190/190 [00:00&lt;00:00, 4.21kB/s]"
          }
        },
        "2b7465e7dc4549ac9a46cb49cacd3aa4": {
          "model_module": "@jupyter-widgets/base",
          "model_name": "LayoutModel",
          "model_module_version": "1.2.0",
          "state": {
            "_model_module": "@jupyter-widgets/base",
            "_model_module_version": "1.2.0",
            "_model_name": "LayoutModel",
            "_view_count": null,
            "_view_module": "@jupyter-widgets/base",
            "_view_module_version": "1.2.0",
            "_view_name": "LayoutView",
            "align_content": null,
            "align_items": null,
            "align_self": null,
            "border": null,
            "bottom": null,
            "display": null,
            "flex": null,
            "flex_flow": null,
            "grid_area": null,
            "grid_auto_columns": null,
            "grid_auto_flow": null,
            "grid_auto_rows": null,
            "grid_column": null,
            "grid_gap": null,
            "grid_row": null,
            "grid_template_areas": null,
            "grid_template_columns": null,
            "grid_template_rows": null,
            "height": null,
            "justify_content": null,
            "justify_items": null,
            "left": null,
            "margin": null,
            "max_height": null,
            "max_width": null,
            "min_height": null,
            "min_width": null,
            "object_fit": null,
            "object_position": null,
            "order": null,
            "overflow": null,
            "overflow_x": null,
            "overflow_y": null,
            "padding": null,
            "right": null,
            "top": null,
            "visibility": null,
            "width": null
          }
        },
        "f01f008decf743128cb7ab20aed04471": {
          "model_module": "@jupyter-widgets/base",
          "model_name": "LayoutModel",
          "model_module_version": "1.2.0",
          "state": {
            "_model_module": "@jupyter-widgets/base",
            "_model_module_version": "1.2.0",
            "_model_name": "LayoutModel",
            "_view_count": null,
            "_view_module": "@jupyter-widgets/base",
            "_view_module_version": "1.2.0",
            "_view_name": "LayoutView",
            "align_content": null,
            "align_items": null,
            "align_self": null,
            "border": null,
            "bottom": null,
            "display": null,
            "flex": null,
            "flex_flow": null,
            "grid_area": null,
            "grid_auto_columns": null,
            "grid_auto_flow": null,
            "grid_auto_rows": null,
            "grid_column": null,
            "grid_gap": null,
            "grid_row": null,
            "grid_template_areas": null,
            "grid_template_columns": null,
            "grid_template_rows": null,
            "height": null,
            "justify_content": null,
            "justify_items": null,
            "left": null,
            "margin": null,
            "max_height": null,
            "max_width": null,
            "min_height": null,
            "min_width": null,
            "object_fit": null,
            "object_position": null,
            "order": null,
            "overflow": null,
            "overflow_x": null,
            "overflow_y": null,
            "padding": null,
            "right": null,
            "top": null,
            "visibility": null,
            "width": null
          }
        },
        "cf0b60156e7c4279bc94bec3d85e9ff6": {
          "model_module": "@jupyter-widgets/controls",
          "model_name": "DescriptionStyleModel",
          "model_module_version": "1.5.0",
          "state": {
            "_model_module": "@jupyter-widgets/controls",
            "_model_module_version": "1.5.0",
            "_model_name": "DescriptionStyleModel",
            "_view_count": null,
            "_view_module": "@jupyter-widgets/base",
            "_view_module_version": "1.2.0",
            "_view_name": "StyleView",
            "description_width": ""
          }
        },
        "21f25d4166454933869d7568b50b938d": {
          "model_module": "@jupyter-widgets/base",
          "model_name": "LayoutModel",
          "model_module_version": "1.2.0",
          "state": {
            "_model_module": "@jupyter-widgets/base",
            "_model_module_version": "1.2.0",
            "_model_name": "LayoutModel",
            "_view_count": null,
            "_view_module": "@jupyter-widgets/base",
            "_view_module_version": "1.2.0",
            "_view_name": "LayoutView",
            "align_content": null,
            "align_items": null,
            "align_self": null,
            "border": null,
            "bottom": null,
            "display": null,
            "flex": null,
            "flex_flow": null,
            "grid_area": null,
            "grid_auto_columns": null,
            "grid_auto_flow": null,
            "grid_auto_rows": null,
            "grid_column": null,
            "grid_gap": null,
            "grid_row": null,
            "grid_template_areas": null,
            "grid_template_columns": null,
            "grid_template_rows": null,
            "height": null,
            "justify_content": null,
            "justify_items": null,
            "left": null,
            "margin": null,
            "max_height": null,
            "max_width": null,
            "min_height": null,
            "min_width": null,
            "object_fit": null,
            "object_position": null,
            "order": null,
            "overflow": null,
            "overflow_x": null,
            "overflow_y": null,
            "padding": null,
            "right": null,
            "top": null,
            "visibility": null,
            "width": null
          }
        },
        "f0893b74c0a2409ab8a06d8dbef69a65": {
          "model_module": "@jupyter-widgets/controls",
          "model_name": "ProgressStyleModel",
          "model_module_version": "1.5.0",
          "state": {
            "_model_module": "@jupyter-widgets/controls",
            "_model_module_version": "1.5.0",
            "_model_name": "ProgressStyleModel",
            "_view_count": null,
            "_view_module": "@jupyter-widgets/base",
            "_view_module_version": "1.2.0",
            "_view_name": "StyleView",
            "bar_color": null,
            "description_width": ""
          }
        },
        "17e9b9a64f094965885b3000ce27e155": {
          "model_module": "@jupyter-widgets/base",
          "model_name": "LayoutModel",
          "model_module_version": "1.2.0",
          "state": {
            "_model_module": "@jupyter-widgets/base",
            "_model_module_version": "1.2.0",
            "_model_name": "LayoutModel",
            "_view_count": null,
            "_view_module": "@jupyter-widgets/base",
            "_view_module_version": "1.2.0",
            "_view_name": "LayoutView",
            "align_content": null,
            "align_items": null,
            "align_self": null,
            "border": null,
            "bottom": null,
            "display": null,
            "flex": null,
            "flex_flow": null,
            "grid_area": null,
            "grid_auto_columns": null,
            "grid_auto_flow": null,
            "grid_auto_rows": null,
            "grid_column": null,
            "grid_gap": null,
            "grid_row": null,
            "grid_template_areas": null,
            "grid_template_columns": null,
            "grid_template_rows": null,
            "height": null,
            "justify_content": null,
            "justify_items": null,
            "left": null,
            "margin": null,
            "max_height": null,
            "max_width": null,
            "min_height": null,
            "min_width": null,
            "object_fit": null,
            "object_position": null,
            "order": null,
            "overflow": null,
            "overflow_x": null,
            "overflow_y": null,
            "padding": null,
            "right": null,
            "top": null,
            "visibility": null,
            "width": null
          }
        },
        "fc47f87183c04dc7942cee0e0a3b0f51": {
          "model_module": "@jupyter-widgets/controls",
          "model_name": "DescriptionStyleModel",
          "model_module_version": "1.5.0",
          "state": {
            "_model_module": "@jupyter-widgets/controls",
            "_model_module_version": "1.5.0",
            "_model_name": "DescriptionStyleModel",
            "_view_count": null,
            "_view_module": "@jupyter-widgets/base",
            "_view_module_version": "1.2.0",
            "_view_name": "StyleView",
            "description_width": ""
          }
        },
        "5352d99f030444459d3245feedfd9393": {
          "model_module": "@jupyter-widgets/controls",
          "model_name": "HBoxModel",
          "model_module_version": "1.5.0",
          "state": {
            "_dom_classes": [],
            "_model_module": "@jupyter-widgets/controls",
            "_model_module_version": "1.5.0",
            "_model_name": "HBoxModel",
            "_view_count": null,
            "_view_module": "@jupyter-widgets/controls",
            "_view_module_version": "1.5.0",
            "_view_name": "HBoxView",
            "box_style": "",
            "children": [
              "IPY_MODEL_0525e38753384ada97a7a14e196acffe",
              "IPY_MODEL_ef84f83018684c76bcc2b139d3240b5e",
              "IPY_MODEL_73347db6ecfa437a830941a95828c76d"
            ],
            "layout": "IPY_MODEL_5133cb9dd6414349ad3494751effc9c8"
          }
        },
        "0525e38753384ada97a7a14e196acffe": {
          "model_module": "@jupyter-widgets/controls",
          "model_name": "HTMLModel",
          "model_module_version": "1.5.0",
          "state": {
            "_dom_classes": [],
            "_model_module": "@jupyter-widgets/controls",
            "_model_module_version": "1.5.0",
            "_model_name": "HTMLModel",
            "_view_count": null,
            "_view_module": "@jupyter-widgets/controls",
            "_view_module_version": "1.5.0",
            "_view_name": "HTMLView",
            "description": "",
            "description_tooltip": null,
            "layout": "IPY_MODEL_0cf90246d362498aaa13cf72fc1d8905",
            "placeholder": "​",
            "style": "IPY_MODEL_937a72f216324f82b39ef7c471ba2057",
            "value": "2_Dense/config.json: 100%"
          }
        },
        "ef84f83018684c76bcc2b139d3240b5e": {
          "model_module": "@jupyter-widgets/controls",
          "model_name": "FloatProgressModel",
          "model_module_version": "1.5.0",
          "state": {
            "_dom_classes": [],
            "_model_module": "@jupyter-widgets/controls",
            "_model_module_version": "1.5.0",
            "_model_name": "FloatProgressModel",
            "_view_count": null,
            "_view_module": "@jupyter-widgets/controls",
            "_view_module_version": "1.5.0",
            "_view_name": "ProgressView",
            "bar_style": "success",
            "description": "",
            "description_tooltip": null,
            "layout": "IPY_MODEL_3af77fb18d0f440aa923712a86f1a793",
            "max": 114,
            "min": 0,
            "orientation": "horizontal",
            "style": "IPY_MODEL_be0aa886a06c450b9ed843b582eb5f62",
            "value": 114
          }
        },
        "73347db6ecfa437a830941a95828c76d": {
          "model_module": "@jupyter-widgets/controls",
          "model_name": "HTMLModel",
          "model_module_version": "1.5.0",
          "state": {
            "_dom_classes": [],
            "_model_module": "@jupyter-widgets/controls",
            "_model_module_version": "1.5.0",
            "_model_name": "HTMLModel",
            "_view_count": null,
            "_view_module": "@jupyter-widgets/controls",
            "_view_module_version": "1.5.0",
            "_view_name": "HTMLView",
            "description": "",
            "description_tooltip": null,
            "layout": "IPY_MODEL_7ff11fc408494a5f83abfb366d87aa27",
            "placeholder": "​",
            "style": "IPY_MODEL_6c90e9b3fc5542b7a1b01cfb9beec463",
            "value": " 114/114 [00:00&lt;00:00, 2.54kB/s]"
          }
        },
        "5133cb9dd6414349ad3494751effc9c8": {
          "model_module": "@jupyter-widgets/base",
          "model_name": "LayoutModel",
          "model_module_version": "1.2.0",
          "state": {
            "_model_module": "@jupyter-widgets/base",
            "_model_module_version": "1.2.0",
            "_model_name": "LayoutModel",
            "_view_count": null,
            "_view_module": "@jupyter-widgets/base",
            "_view_module_version": "1.2.0",
            "_view_name": "LayoutView",
            "align_content": null,
            "align_items": null,
            "align_self": null,
            "border": null,
            "bottom": null,
            "display": null,
            "flex": null,
            "flex_flow": null,
            "grid_area": null,
            "grid_auto_columns": null,
            "grid_auto_flow": null,
            "grid_auto_rows": null,
            "grid_column": null,
            "grid_gap": null,
            "grid_row": null,
            "grid_template_areas": null,
            "grid_template_columns": null,
            "grid_template_rows": null,
            "height": null,
            "justify_content": null,
            "justify_items": null,
            "left": null,
            "margin": null,
            "max_height": null,
            "max_width": null,
            "min_height": null,
            "min_width": null,
            "object_fit": null,
            "object_position": null,
            "order": null,
            "overflow": null,
            "overflow_x": null,
            "overflow_y": null,
            "padding": null,
            "right": null,
            "top": null,
            "visibility": null,
            "width": null
          }
        },
        "0cf90246d362498aaa13cf72fc1d8905": {
          "model_module": "@jupyter-widgets/base",
          "model_name": "LayoutModel",
          "model_module_version": "1.2.0",
          "state": {
            "_model_module": "@jupyter-widgets/base",
            "_model_module_version": "1.2.0",
            "_model_name": "LayoutModel",
            "_view_count": null,
            "_view_module": "@jupyter-widgets/base",
            "_view_module_version": "1.2.0",
            "_view_name": "LayoutView",
            "align_content": null,
            "align_items": null,
            "align_self": null,
            "border": null,
            "bottom": null,
            "display": null,
            "flex": null,
            "flex_flow": null,
            "grid_area": null,
            "grid_auto_columns": null,
            "grid_auto_flow": null,
            "grid_auto_rows": null,
            "grid_column": null,
            "grid_gap": null,
            "grid_row": null,
            "grid_template_areas": null,
            "grid_template_columns": null,
            "grid_template_rows": null,
            "height": null,
            "justify_content": null,
            "justify_items": null,
            "left": null,
            "margin": null,
            "max_height": null,
            "max_width": null,
            "min_height": null,
            "min_width": null,
            "object_fit": null,
            "object_position": null,
            "order": null,
            "overflow": null,
            "overflow_x": null,
            "overflow_y": null,
            "padding": null,
            "right": null,
            "top": null,
            "visibility": null,
            "width": null
          }
        },
        "937a72f216324f82b39ef7c471ba2057": {
          "model_module": "@jupyter-widgets/controls",
          "model_name": "DescriptionStyleModel",
          "model_module_version": "1.5.0",
          "state": {
            "_model_module": "@jupyter-widgets/controls",
            "_model_module_version": "1.5.0",
            "_model_name": "DescriptionStyleModel",
            "_view_count": null,
            "_view_module": "@jupyter-widgets/base",
            "_view_module_version": "1.2.0",
            "_view_name": "StyleView",
            "description_width": ""
          }
        },
        "3af77fb18d0f440aa923712a86f1a793": {
          "model_module": "@jupyter-widgets/base",
          "model_name": "LayoutModel",
          "model_module_version": "1.2.0",
          "state": {
            "_model_module": "@jupyter-widgets/base",
            "_model_module_version": "1.2.0",
            "_model_name": "LayoutModel",
            "_view_count": null,
            "_view_module": "@jupyter-widgets/base",
            "_view_module_version": "1.2.0",
            "_view_name": "LayoutView",
            "align_content": null,
            "align_items": null,
            "align_self": null,
            "border": null,
            "bottom": null,
            "display": null,
            "flex": null,
            "flex_flow": null,
            "grid_area": null,
            "grid_auto_columns": null,
            "grid_auto_flow": null,
            "grid_auto_rows": null,
            "grid_column": null,
            "grid_gap": null,
            "grid_row": null,
            "grid_template_areas": null,
            "grid_template_columns": null,
            "grid_template_rows": null,
            "height": null,
            "justify_content": null,
            "justify_items": null,
            "left": null,
            "margin": null,
            "max_height": null,
            "max_width": null,
            "min_height": null,
            "min_width": null,
            "object_fit": null,
            "object_position": null,
            "order": null,
            "overflow": null,
            "overflow_x": null,
            "overflow_y": null,
            "padding": null,
            "right": null,
            "top": null,
            "visibility": null,
            "width": null
          }
        },
        "be0aa886a06c450b9ed843b582eb5f62": {
          "model_module": "@jupyter-widgets/controls",
          "model_name": "ProgressStyleModel",
          "model_module_version": "1.5.0",
          "state": {
            "_model_module": "@jupyter-widgets/controls",
            "_model_module_version": "1.5.0",
            "_model_name": "ProgressStyleModel",
            "_view_count": null,
            "_view_module": "@jupyter-widgets/base",
            "_view_module_version": "1.2.0",
            "_view_name": "StyleView",
            "bar_color": null,
            "description_width": ""
          }
        },
        "7ff11fc408494a5f83abfb366d87aa27": {
          "model_module": "@jupyter-widgets/base",
          "model_name": "LayoutModel",
          "model_module_version": "1.2.0",
          "state": {
            "_model_module": "@jupyter-widgets/base",
            "_model_module_version": "1.2.0",
            "_model_name": "LayoutModel",
            "_view_count": null,
            "_view_module": "@jupyter-widgets/base",
            "_view_module_version": "1.2.0",
            "_view_name": "LayoutView",
            "align_content": null,
            "align_items": null,
            "align_self": null,
            "border": null,
            "bottom": null,
            "display": null,
            "flex": null,
            "flex_flow": null,
            "grid_area": null,
            "grid_auto_columns": null,
            "grid_auto_flow": null,
            "grid_auto_rows": null,
            "grid_column": null,
            "grid_gap": null,
            "grid_row": null,
            "grid_template_areas": null,
            "grid_template_columns": null,
            "grid_template_rows": null,
            "height": null,
            "justify_content": null,
            "justify_items": null,
            "left": null,
            "margin": null,
            "max_height": null,
            "max_width": null,
            "min_height": null,
            "min_width": null,
            "object_fit": null,
            "object_position": null,
            "order": null,
            "overflow": null,
            "overflow_x": null,
            "overflow_y": null,
            "padding": null,
            "right": null,
            "top": null,
            "visibility": null,
            "width": null
          }
        },
        "6c90e9b3fc5542b7a1b01cfb9beec463": {
          "model_module": "@jupyter-widgets/controls",
          "model_name": "DescriptionStyleModel",
          "model_module_version": "1.5.0",
          "state": {
            "_model_module": "@jupyter-widgets/controls",
            "_model_module_version": "1.5.0",
            "_model_name": "DescriptionStyleModel",
            "_view_count": null,
            "_view_module": "@jupyter-widgets/base",
            "_view_module_version": "1.2.0",
            "_view_name": "StyleView",
            "description_width": ""
          }
        },
        "a4db7a065be847f2aaa51d9948a1d0ad": {
          "model_module": "@jupyter-widgets/controls",
          "model_name": "HBoxModel",
          "model_module_version": "1.5.0",
          "state": {
            "_dom_classes": [],
            "_model_module": "@jupyter-widgets/controls",
            "_model_module_version": "1.5.0",
            "_model_name": "HBoxModel",
            "_view_count": null,
            "_view_module": "@jupyter-widgets/controls",
            "_view_module_version": "1.5.0",
            "_view_name": "HBoxView",
            "box_style": "",
            "children": [
              "IPY_MODEL_d91a16b0348a40069a20074fd699ace5",
              "IPY_MODEL_a5a3be784b784ee6bc12ebfbebc017a0",
              "IPY_MODEL_9b70f90ab9cd4e3a9effb3ea2e59a2ba"
            ],
            "layout": "IPY_MODEL_f14694a2445a4b0fbdf353b86fa21986"
          }
        },
        "d91a16b0348a40069a20074fd699ace5": {
          "model_module": "@jupyter-widgets/controls",
          "model_name": "HTMLModel",
          "model_module_version": "1.5.0",
          "state": {
            "_dom_classes": [],
            "_model_module": "@jupyter-widgets/controls",
            "_model_module_version": "1.5.0",
            "_model_name": "HTMLModel",
            "_view_count": null,
            "_view_module": "@jupyter-widgets/controls",
            "_view_module_version": "1.5.0",
            "_view_name": "HTMLView",
            "description": "",
            "description_tooltip": null,
            "layout": "IPY_MODEL_c3f2b4b348384822adc189c25da7f9bb",
            "placeholder": "​",
            "style": "IPY_MODEL_e14cd5cb55f14b3a85da7f757bfa0dc1",
            "value": "pytorch_model.bin: 100%"
          }
        },
        "a5a3be784b784ee6bc12ebfbebc017a0": {
          "model_module": "@jupyter-widgets/controls",
          "model_name": "FloatProgressModel",
          "model_module_version": "1.5.0",
          "state": {
            "_dom_classes": [],
            "_model_module": "@jupyter-widgets/controls",
            "_model_module_version": "1.5.0",
            "_model_name": "FloatProgressModel",
            "_view_count": null,
            "_view_module": "@jupyter-widgets/controls",
            "_view_module_version": "1.5.0",
            "_view_name": "ProgressView",
            "bar_style": "success",
            "description": "",
            "description_tooltip": null,
            "layout": "IPY_MODEL_8622b72df730466dbda2a4ec842c81a8",
            "max": 1575975,
            "min": 0,
            "orientation": "horizontal",
            "style": "IPY_MODEL_614171ffd6154450a57cfca9e2a14fdb",
            "value": 1575975
          }
        },
        "9b70f90ab9cd4e3a9effb3ea2e59a2ba": {
          "model_module": "@jupyter-widgets/controls",
          "model_name": "HTMLModel",
          "model_module_version": "1.5.0",
          "state": {
            "_dom_classes": [],
            "_model_module": "@jupyter-widgets/controls",
            "_model_module_version": "1.5.0",
            "_model_name": "HTMLModel",
            "_view_count": null,
            "_view_module": "@jupyter-widgets/controls",
            "_view_module_version": "1.5.0",
            "_view_name": "HTMLView",
            "description": "",
            "description_tooltip": null,
            "layout": "IPY_MODEL_e888bc18b66047a9913b9a25bbec18f8",
            "placeholder": "​",
            "style": "IPY_MODEL_dd4ad1c38cab4aeda64e68e8c2f6a1f3",
            "value": " 1.58M/1.58M [00:00&lt;00:00, 16.9MB/s]"
          }
        },
        "f14694a2445a4b0fbdf353b86fa21986": {
          "model_module": "@jupyter-widgets/base",
          "model_name": "LayoutModel",
          "model_module_version": "1.2.0",
          "state": {
            "_model_module": "@jupyter-widgets/base",
            "_model_module_version": "1.2.0",
            "_model_name": "LayoutModel",
            "_view_count": null,
            "_view_module": "@jupyter-widgets/base",
            "_view_module_version": "1.2.0",
            "_view_name": "LayoutView",
            "align_content": null,
            "align_items": null,
            "align_self": null,
            "border": null,
            "bottom": null,
            "display": null,
            "flex": null,
            "flex_flow": null,
            "grid_area": null,
            "grid_auto_columns": null,
            "grid_auto_flow": null,
            "grid_auto_rows": null,
            "grid_column": null,
            "grid_gap": null,
            "grid_row": null,
            "grid_template_areas": null,
            "grid_template_columns": null,
            "grid_template_rows": null,
            "height": null,
            "justify_content": null,
            "justify_items": null,
            "left": null,
            "margin": null,
            "max_height": null,
            "max_width": null,
            "min_height": null,
            "min_width": null,
            "object_fit": null,
            "object_position": null,
            "order": null,
            "overflow": null,
            "overflow_x": null,
            "overflow_y": null,
            "padding": null,
            "right": null,
            "top": null,
            "visibility": null,
            "width": null
          }
        },
        "c3f2b4b348384822adc189c25da7f9bb": {
          "model_module": "@jupyter-widgets/base",
          "model_name": "LayoutModel",
          "model_module_version": "1.2.0",
          "state": {
            "_model_module": "@jupyter-widgets/base",
            "_model_module_version": "1.2.0",
            "_model_name": "LayoutModel",
            "_view_count": null,
            "_view_module": "@jupyter-widgets/base",
            "_view_module_version": "1.2.0",
            "_view_name": "LayoutView",
            "align_content": null,
            "align_items": null,
            "align_self": null,
            "border": null,
            "bottom": null,
            "display": null,
            "flex": null,
            "flex_flow": null,
            "grid_area": null,
            "grid_auto_columns": null,
            "grid_auto_flow": null,
            "grid_auto_rows": null,
            "grid_column": null,
            "grid_gap": null,
            "grid_row": null,
            "grid_template_areas": null,
            "grid_template_columns": null,
            "grid_template_rows": null,
            "height": null,
            "justify_content": null,
            "justify_items": null,
            "left": null,
            "margin": null,
            "max_height": null,
            "max_width": null,
            "min_height": null,
            "min_width": null,
            "object_fit": null,
            "object_position": null,
            "order": null,
            "overflow": null,
            "overflow_x": null,
            "overflow_y": null,
            "padding": null,
            "right": null,
            "top": null,
            "visibility": null,
            "width": null
          }
        },
        "e14cd5cb55f14b3a85da7f757bfa0dc1": {
          "model_module": "@jupyter-widgets/controls",
          "model_name": "DescriptionStyleModel",
          "model_module_version": "1.5.0",
          "state": {
            "_model_module": "@jupyter-widgets/controls",
            "_model_module_version": "1.5.0",
            "_model_name": "DescriptionStyleModel",
            "_view_count": null,
            "_view_module": "@jupyter-widgets/base",
            "_view_module_version": "1.2.0",
            "_view_name": "StyleView",
            "description_width": ""
          }
        },
        "8622b72df730466dbda2a4ec842c81a8": {
          "model_module": "@jupyter-widgets/base",
          "model_name": "LayoutModel",
          "model_module_version": "1.2.0",
          "state": {
            "_model_module": "@jupyter-widgets/base",
            "_model_module_version": "1.2.0",
            "_model_name": "LayoutModel",
            "_view_count": null,
            "_view_module": "@jupyter-widgets/base",
            "_view_module_version": "1.2.0",
            "_view_name": "LayoutView",
            "align_content": null,
            "align_items": null,
            "align_self": null,
            "border": null,
            "bottom": null,
            "display": null,
            "flex": null,
            "flex_flow": null,
            "grid_area": null,
            "grid_auto_columns": null,
            "grid_auto_flow": null,
            "grid_auto_rows": null,
            "grid_column": null,
            "grid_gap": null,
            "grid_row": null,
            "grid_template_areas": null,
            "grid_template_columns": null,
            "grid_template_rows": null,
            "height": null,
            "justify_content": null,
            "justify_items": null,
            "left": null,
            "margin": null,
            "max_height": null,
            "max_width": null,
            "min_height": null,
            "min_width": null,
            "object_fit": null,
            "object_position": null,
            "order": null,
            "overflow": null,
            "overflow_x": null,
            "overflow_y": null,
            "padding": null,
            "right": null,
            "top": null,
            "visibility": null,
            "width": null
          }
        },
        "614171ffd6154450a57cfca9e2a14fdb": {
          "model_module": "@jupyter-widgets/controls",
          "model_name": "ProgressStyleModel",
          "model_module_version": "1.5.0",
          "state": {
            "_model_module": "@jupyter-widgets/controls",
            "_model_module_version": "1.5.0",
            "_model_name": "ProgressStyleModel",
            "_view_count": null,
            "_view_module": "@jupyter-widgets/base",
            "_view_module_version": "1.2.0",
            "_view_name": "StyleView",
            "bar_color": null,
            "description_width": ""
          }
        },
        "e888bc18b66047a9913b9a25bbec18f8": {
          "model_module": "@jupyter-widgets/base",
          "model_name": "LayoutModel",
          "model_module_version": "1.2.0",
          "state": {
            "_model_module": "@jupyter-widgets/base",
            "_model_module_version": "1.2.0",
            "_model_name": "LayoutModel",
            "_view_count": null,
            "_view_module": "@jupyter-widgets/base",
            "_view_module_version": "1.2.0",
            "_view_name": "LayoutView",
            "align_content": null,
            "align_items": null,
            "align_self": null,
            "border": null,
            "bottom": null,
            "display": null,
            "flex": null,
            "flex_flow": null,
            "grid_area": null,
            "grid_auto_columns": null,
            "grid_auto_flow": null,
            "grid_auto_rows": null,
            "grid_column": null,
            "grid_gap": null,
            "grid_row": null,
            "grid_template_areas": null,
            "grid_template_columns": null,
            "grid_template_rows": null,
            "height": null,
            "justify_content": null,
            "justify_items": null,
            "left": null,
            "margin": null,
            "max_height": null,
            "max_width": null,
            "min_height": null,
            "min_width": null,
            "object_fit": null,
            "object_position": null,
            "order": null,
            "overflow": null,
            "overflow_x": null,
            "overflow_y": null,
            "padding": null,
            "right": null,
            "top": null,
            "visibility": null,
            "width": null
          }
        },
        "dd4ad1c38cab4aeda64e68e8c2f6a1f3": {
          "model_module": "@jupyter-widgets/controls",
          "model_name": "DescriptionStyleModel",
          "model_module_version": "1.5.0",
          "state": {
            "_model_module": "@jupyter-widgets/controls",
            "_model_module_version": "1.5.0",
            "_model_name": "DescriptionStyleModel",
            "_view_count": null,
            "_view_module": "@jupyter-widgets/base",
            "_view_module_version": "1.2.0",
            "_view_name": "StyleView",
            "description_width": ""
          }
        },
        "6ab5d0fd85b14a4eaa124ddd2b5d4da4": {
          "model_module": "@jupyter-widgets/controls",
          "model_name": "HBoxModel",
          "model_module_version": "1.5.0",
          "state": {
            "_dom_classes": [],
            "_model_module": "@jupyter-widgets/controls",
            "_model_module_version": "1.5.0",
            "_model_name": "HBoxModel",
            "_view_count": null,
            "_view_module": "@jupyter-widgets/controls",
            "_view_module_version": "1.5.0",
            "_view_name": "HBoxView",
            "box_style": "",
            "children": [
              "IPY_MODEL_0129da0e7e7c4c2bbe7ad447d7e13224",
              "IPY_MODEL_5aa9348f8ca0432fa2cc52b7b5d81f8f",
              "IPY_MODEL_23e14a9886a542e3879cdb11d64462d2"
            ],
            "layout": "IPY_MODEL_aa283a3321804d11bbd6ff92ea1ea11f"
          }
        },
        "0129da0e7e7c4c2bbe7ad447d7e13224": {
          "model_module": "@jupyter-widgets/controls",
          "model_name": "HTMLModel",
          "model_module_version": "1.5.0",
          "state": {
            "_dom_classes": [],
            "_model_module": "@jupyter-widgets/controls",
            "_model_module_version": "1.5.0",
            "_model_name": "HTMLModel",
            "_view_count": null,
            "_view_module": "@jupyter-widgets/controls",
            "_view_module_version": "1.5.0",
            "_view_name": "HTMLView",
            "description": "",
            "description_tooltip": null,
            "layout": "IPY_MODEL_5fdae87046d2411a80bfb6b526b6d2ac",
            "placeholder": "​",
            "style": "IPY_MODEL_65944e2a1ed34e6583612a1ad19d4279",
            "value": "README.md: 100%"
          }
        },
        "5aa9348f8ca0432fa2cc52b7b5d81f8f": {
          "model_module": "@jupyter-widgets/controls",
          "model_name": "FloatProgressModel",
          "model_module_version": "1.5.0",
          "state": {
            "_dom_classes": [],
            "_model_module": "@jupyter-widgets/controls",
            "_model_module_version": "1.5.0",
            "_model_name": "FloatProgressModel",
            "_view_count": null,
            "_view_module": "@jupyter-widgets/controls",
            "_view_module_version": "1.5.0",
            "_view_name": "ProgressView",
            "bar_style": "success",
            "description": "",
            "description_tooltip": null,
            "layout": "IPY_MODEL_666ae84ce19348e599f6b1174e13a688",
            "max": 2685,
            "min": 0,
            "orientation": "horizontal",
            "style": "IPY_MODEL_9b7802254a8d498187682ce1a67a313f",
            "value": 2685
          }
        },
        "23e14a9886a542e3879cdb11d64462d2": {
          "model_module": "@jupyter-widgets/controls",
          "model_name": "HTMLModel",
          "model_module_version": "1.5.0",
          "state": {
            "_dom_classes": [],
            "_model_module": "@jupyter-widgets/controls",
            "_model_module_version": "1.5.0",
            "_model_name": "HTMLModel",
            "_view_count": null,
            "_view_module": "@jupyter-widgets/controls",
            "_view_module_version": "1.5.0",
            "_view_name": "HTMLView",
            "description": "",
            "description_tooltip": null,
            "layout": "IPY_MODEL_f20166f4325b4fb7a1fc924311b57828",
            "placeholder": "​",
            "style": "IPY_MODEL_b96afa50fc564eeabb7805bdb1ae122b",
            "value": " 2.69k/2.69k [00:00&lt;00:00, 70.6kB/s]"
          }
        },
        "aa283a3321804d11bbd6ff92ea1ea11f": {
          "model_module": "@jupyter-widgets/base",
          "model_name": "LayoutModel",
          "model_module_version": "1.2.0",
          "state": {
            "_model_module": "@jupyter-widgets/base",
            "_model_module_version": "1.2.0",
            "_model_name": "LayoutModel",
            "_view_count": null,
            "_view_module": "@jupyter-widgets/base",
            "_view_module_version": "1.2.0",
            "_view_name": "LayoutView",
            "align_content": null,
            "align_items": null,
            "align_self": null,
            "border": null,
            "bottom": null,
            "display": null,
            "flex": null,
            "flex_flow": null,
            "grid_area": null,
            "grid_auto_columns": null,
            "grid_auto_flow": null,
            "grid_auto_rows": null,
            "grid_column": null,
            "grid_gap": null,
            "grid_row": null,
            "grid_template_areas": null,
            "grid_template_columns": null,
            "grid_template_rows": null,
            "height": null,
            "justify_content": null,
            "justify_items": null,
            "left": null,
            "margin": null,
            "max_height": null,
            "max_width": null,
            "min_height": null,
            "min_width": null,
            "object_fit": null,
            "object_position": null,
            "order": null,
            "overflow": null,
            "overflow_x": null,
            "overflow_y": null,
            "padding": null,
            "right": null,
            "top": null,
            "visibility": null,
            "width": null
          }
        },
        "5fdae87046d2411a80bfb6b526b6d2ac": {
          "model_module": "@jupyter-widgets/base",
          "model_name": "LayoutModel",
          "model_module_version": "1.2.0",
          "state": {
            "_model_module": "@jupyter-widgets/base",
            "_model_module_version": "1.2.0",
            "_model_name": "LayoutModel",
            "_view_count": null,
            "_view_module": "@jupyter-widgets/base",
            "_view_module_version": "1.2.0",
            "_view_name": "LayoutView",
            "align_content": null,
            "align_items": null,
            "align_self": null,
            "border": null,
            "bottom": null,
            "display": null,
            "flex": null,
            "flex_flow": null,
            "grid_area": null,
            "grid_auto_columns": null,
            "grid_auto_flow": null,
            "grid_auto_rows": null,
            "grid_column": null,
            "grid_gap": null,
            "grid_row": null,
            "grid_template_areas": null,
            "grid_template_columns": null,
            "grid_template_rows": null,
            "height": null,
            "justify_content": null,
            "justify_items": null,
            "left": null,
            "margin": null,
            "max_height": null,
            "max_width": null,
            "min_height": null,
            "min_width": null,
            "object_fit": null,
            "object_position": null,
            "order": null,
            "overflow": null,
            "overflow_x": null,
            "overflow_y": null,
            "padding": null,
            "right": null,
            "top": null,
            "visibility": null,
            "width": null
          }
        },
        "65944e2a1ed34e6583612a1ad19d4279": {
          "model_module": "@jupyter-widgets/controls",
          "model_name": "DescriptionStyleModel",
          "model_module_version": "1.5.0",
          "state": {
            "_model_module": "@jupyter-widgets/controls",
            "_model_module_version": "1.5.0",
            "_model_name": "DescriptionStyleModel",
            "_view_count": null,
            "_view_module": "@jupyter-widgets/base",
            "_view_module_version": "1.2.0",
            "_view_name": "StyleView",
            "description_width": ""
          }
        },
        "666ae84ce19348e599f6b1174e13a688": {
          "model_module": "@jupyter-widgets/base",
          "model_name": "LayoutModel",
          "model_module_version": "1.2.0",
          "state": {
            "_model_module": "@jupyter-widgets/base",
            "_model_module_version": "1.2.0",
            "_model_name": "LayoutModel",
            "_view_count": null,
            "_view_module": "@jupyter-widgets/base",
            "_view_module_version": "1.2.0",
            "_view_name": "LayoutView",
            "align_content": null,
            "align_items": null,
            "align_self": null,
            "border": null,
            "bottom": null,
            "display": null,
            "flex": null,
            "flex_flow": null,
            "grid_area": null,
            "grid_auto_columns": null,
            "grid_auto_flow": null,
            "grid_auto_rows": null,
            "grid_column": null,
            "grid_gap": null,
            "grid_row": null,
            "grid_template_areas": null,
            "grid_template_columns": null,
            "grid_template_rows": null,
            "height": null,
            "justify_content": null,
            "justify_items": null,
            "left": null,
            "margin": null,
            "max_height": null,
            "max_width": null,
            "min_height": null,
            "min_width": null,
            "object_fit": null,
            "object_position": null,
            "order": null,
            "overflow": null,
            "overflow_x": null,
            "overflow_y": null,
            "padding": null,
            "right": null,
            "top": null,
            "visibility": null,
            "width": null
          }
        },
        "9b7802254a8d498187682ce1a67a313f": {
          "model_module": "@jupyter-widgets/controls",
          "model_name": "ProgressStyleModel",
          "model_module_version": "1.5.0",
          "state": {
            "_model_module": "@jupyter-widgets/controls",
            "_model_module_version": "1.5.0",
            "_model_name": "ProgressStyleModel",
            "_view_count": null,
            "_view_module": "@jupyter-widgets/base",
            "_view_module_version": "1.2.0",
            "_view_name": "StyleView",
            "bar_color": null,
            "description_width": ""
          }
        },
        "f20166f4325b4fb7a1fc924311b57828": {
          "model_module": "@jupyter-widgets/base",
          "model_name": "LayoutModel",
          "model_module_version": "1.2.0",
          "state": {
            "_model_module": "@jupyter-widgets/base",
            "_model_module_version": "1.2.0",
            "_model_name": "LayoutModel",
            "_view_count": null,
            "_view_module": "@jupyter-widgets/base",
            "_view_module_version": "1.2.0",
            "_view_name": "LayoutView",
            "align_content": null,
            "align_items": null,
            "align_self": null,
            "border": null,
            "bottom": null,
            "display": null,
            "flex": null,
            "flex_flow": null,
            "grid_area": null,
            "grid_auto_columns": null,
            "grid_auto_flow": null,
            "grid_auto_rows": null,
            "grid_column": null,
            "grid_gap": null,
            "grid_row": null,
            "grid_template_areas": null,
            "grid_template_columns": null,
            "grid_template_rows": null,
            "height": null,
            "justify_content": null,
            "justify_items": null,
            "left": null,
            "margin": null,
            "max_height": null,
            "max_width": null,
            "min_height": null,
            "min_width": null,
            "object_fit": null,
            "object_position": null,
            "order": null,
            "overflow": null,
            "overflow_x": null,
            "overflow_y": null,
            "padding": null,
            "right": null,
            "top": null,
            "visibility": null,
            "width": null
          }
        },
        "b96afa50fc564eeabb7805bdb1ae122b": {
          "model_module": "@jupyter-widgets/controls",
          "model_name": "DescriptionStyleModel",
          "model_module_version": "1.5.0",
          "state": {
            "_model_module": "@jupyter-widgets/controls",
            "_model_module_version": "1.5.0",
            "_model_name": "DescriptionStyleModel",
            "_view_count": null,
            "_view_module": "@jupyter-widgets/base",
            "_view_module_version": "1.2.0",
            "_view_name": "StyleView",
            "description_width": ""
          }
        },
        "6d71512361d645929e94dc7fd8b8663f": {
          "model_module": "@jupyter-widgets/controls",
          "model_name": "HBoxModel",
          "model_module_version": "1.5.0",
          "state": {
            "_dom_classes": [],
            "_model_module": "@jupyter-widgets/controls",
            "_model_module_version": "1.5.0",
            "_model_name": "HBoxModel",
            "_view_count": null,
            "_view_module": "@jupyter-widgets/controls",
            "_view_module_version": "1.5.0",
            "_view_name": "HBoxView",
            "box_style": "",
            "children": [
              "IPY_MODEL_a6bf58c099f947b99941c4c28043bdd1",
              "IPY_MODEL_655ad564c72c4244975141164789bf40",
              "IPY_MODEL_b404d5ee675e4f95a16e45ac56f61c2d"
            ],
            "layout": "IPY_MODEL_77d35dfbe20a46ba929344db88b15109"
          }
        },
        "a6bf58c099f947b99941c4c28043bdd1": {
          "model_module": "@jupyter-widgets/controls",
          "model_name": "HTMLModel",
          "model_module_version": "1.5.0",
          "state": {
            "_dom_classes": [],
            "_model_module": "@jupyter-widgets/controls",
            "_model_module_version": "1.5.0",
            "_model_name": "HTMLModel",
            "_view_count": null,
            "_view_module": "@jupyter-widgets/controls",
            "_view_module_version": "1.5.0",
            "_view_name": "HTMLView",
            "description": "",
            "description_tooltip": null,
            "layout": "IPY_MODEL_06c6b2b82b314165b531e07ccd87db64",
            "placeholder": "​",
            "style": "IPY_MODEL_ec385b712d2b4292ad26e361a2cd180f",
            "value": "config.json: 100%"
          }
        },
        "655ad564c72c4244975141164789bf40": {
          "model_module": "@jupyter-widgets/controls",
          "model_name": "FloatProgressModel",
          "model_module_version": "1.5.0",
          "state": {
            "_dom_classes": [],
            "_model_module": "@jupyter-widgets/controls",
            "_model_module_version": "1.5.0",
            "_model_name": "FloatProgressModel",
            "_view_count": null,
            "_view_module": "@jupyter-widgets/controls",
            "_view_module_version": "1.5.0",
            "_view_name": "ProgressView",
            "bar_style": "success",
            "description": "",
            "description_tooltip": null,
            "layout": "IPY_MODEL_283f75e9ccd0402faaf15059e04ab711",
            "max": 610,
            "min": 0,
            "orientation": "horizontal",
            "style": "IPY_MODEL_486a628c272245049957d10eb5ac6c85",
            "value": 610
          }
        },
        "b404d5ee675e4f95a16e45ac56f61c2d": {
          "model_module": "@jupyter-widgets/controls",
          "model_name": "HTMLModel",
          "model_module_version": "1.5.0",
          "state": {
            "_dom_classes": [],
            "_model_module": "@jupyter-widgets/controls",
            "_model_module_version": "1.5.0",
            "_model_name": "HTMLModel",
            "_view_count": null,
            "_view_module": "@jupyter-widgets/controls",
            "_view_module_version": "1.5.0",
            "_view_name": "HTMLView",
            "description": "",
            "description_tooltip": null,
            "layout": "IPY_MODEL_3cb8414b799c4c9e80d0b82fb2805b5f",
            "placeholder": "​",
            "style": "IPY_MODEL_0dc9340f947149a0b04b2fc27c503923",
            "value": " 610/610 [00:00&lt;00:00, 12.5kB/s]"
          }
        },
        "77d35dfbe20a46ba929344db88b15109": {
          "model_module": "@jupyter-widgets/base",
          "model_name": "LayoutModel",
          "model_module_version": "1.2.0",
          "state": {
            "_model_module": "@jupyter-widgets/base",
            "_model_module_version": "1.2.0",
            "_model_name": "LayoutModel",
            "_view_count": null,
            "_view_module": "@jupyter-widgets/base",
            "_view_module_version": "1.2.0",
            "_view_name": "LayoutView",
            "align_content": null,
            "align_items": null,
            "align_self": null,
            "border": null,
            "bottom": null,
            "display": null,
            "flex": null,
            "flex_flow": null,
            "grid_area": null,
            "grid_auto_columns": null,
            "grid_auto_flow": null,
            "grid_auto_rows": null,
            "grid_column": null,
            "grid_gap": null,
            "grid_row": null,
            "grid_template_areas": null,
            "grid_template_columns": null,
            "grid_template_rows": null,
            "height": null,
            "justify_content": null,
            "justify_items": null,
            "left": null,
            "margin": null,
            "max_height": null,
            "max_width": null,
            "min_height": null,
            "min_width": null,
            "object_fit": null,
            "object_position": null,
            "order": null,
            "overflow": null,
            "overflow_x": null,
            "overflow_y": null,
            "padding": null,
            "right": null,
            "top": null,
            "visibility": null,
            "width": null
          }
        },
        "06c6b2b82b314165b531e07ccd87db64": {
          "model_module": "@jupyter-widgets/base",
          "model_name": "LayoutModel",
          "model_module_version": "1.2.0",
          "state": {
            "_model_module": "@jupyter-widgets/base",
            "_model_module_version": "1.2.0",
            "_model_name": "LayoutModel",
            "_view_count": null,
            "_view_module": "@jupyter-widgets/base",
            "_view_module_version": "1.2.0",
            "_view_name": "LayoutView",
            "align_content": null,
            "align_items": null,
            "align_self": null,
            "border": null,
            "bottom": null,
            "display": null,
            "flex": null,
            "flex_flow": null,
            "grid_area": null,
            "grid_auto_columns": null,
            "grid_auto_flow": null,
            "grid_auto_rows": null,
            "grid_column": null,
            "grid_gap": null,
            "grid_row": null,
            "grid_template_areas": null,
            "grid_template_columns": null,
            "grid_template_rows": null,
            "height": null,
            "justify_content": null,
            "justify_items": null,
            "left": null,
            "margin": null,
            "max_height": null,
            "max_width": null,
            "min_height": null,
            "min_width": null,
            "object_fit": null,
            "object_position": null,
            "order": null,
            "overflow": null,
            "overflow_x": null,
            "overflow_y": null,
            "padding": null,
            "right": null,
            "top": null,
            "visibility": null,
            "width": null
          }
        },
        "ec385b712d2b4292ad26e361a2cd180f": {
          "model_module": "@jupyter-widgets/controls",
          "model_name": "DescriptionStyleModel",
          "model_module_version": "1.5.0",
          "state": {
            "_model_module": "@jupyter-widgets/controls",
            "_model_module_version": "1.5.0",
            "_model_name": "DescriptionStyleModel",
            "_view_count": null,
            "_view_module": "@jupyter-widgets/base",
            "_view_module_version": "1.2.0",
            "_view_name": "StyleView",
            "description_width": ""
          }
        },
        "283f75e9ccd0402faaf15059e04ab711": {
          "model_module": "@jupyter-widgets/base",
          "model_name": "LayoutModel",
          "model_module_version": "1.2.0",
          "state": {
            "_model_module": "@jupyter-widgets/base",
            "_model_module_version": "1.2.0",
            "_model_name": "LayoutModel",
            "_view_count": null,
            "_view_module": "@jupyter-widgets/base",
            "_view_module_version": "1.2.0",
            "_view_name": "LayoutView",
            "align_content": null,
            "align_items": null,
            "align_self": null,
            "border": null,
            "bottom": null,
            "display": null,
            "flex": null,
            "flex_flow": null,
            "grid_area": null,
            "grid_auto_columns": null,
            "grid_auto_flow": null,
            "grid_auto_rows": null,
            "grid_column": null,
            "grid_gap": null,
            "grid_row": null,
            "grid_template_areas": null,
            "grid_template_columns": null,
            "grid_template_rows": null,
            "height": null,
            "justify_content": null,
            "justify_items": null,
            "left": null,
            "margin": null,
            "max_height": null,
            "max_width": null,
            "min_height": null,
            "min_width": null,
            "object_fit": null,
            "object_position": null,
            "order": null,
            "overflow": null,
            "overflow_x": null,
            "overflow_y": null,
            "padding": null,
            "right": null,
            "top": null,
            "visibility": null,
            "width": null
          }
        },
        "486a628c272245049957d10eb5ac6c85": {
          "model_module": "@jupyter-widgets/controls",
          "model_name": "ProgressStyleModel",
          "model_module_version": "1.5.0",
          "state": {
            "_model_module": "@jupyter-widgets/controls",
            "_model_module_version": "1.5.0",
            "_model_name": "ProgressStyleModel",
            "_view_count": null,
            "_view_module": "@jupyter-widgets/base",
            "_view_module_version": "1.2.0",
            "_view_name": "StyleView",
            "bar_color": null,
            "description_width": ""
          }
        },
        "3cb8414b799c4c9e80d0b82fb2805b5f": {
          "model_module": "@jupyter-widgets/base",
          "model_name": "LayoutModel",
          "model_module_version": "1.2.0",
          "state": {
            "_model_module": "@jupyter-widgets/base",
            "_model_module_version": "1.2.0",
            "_model_name": "LayoutModel",
            "_view_count": null,
            "_view_module": "@jupyter-widgets/base",
            "_view_module_version": "1.2.0",
            "_view_name": "LayoutView",
            "align_content": null,
            "align_items": null,
            "align_self": null,
            "border": null,
            "bottom": null,
            "display": null,
            "flex": null,
            "flex_flow": null,
            "grid_area": null,
            "grid_auto_columns": null,
            "grid_auto_flow": null,
            "grid_auto_rows": null,
            "grid_column": null,
            "grid_gap": null,
            "grid_row": null,
            "grid_template_areas": null,
            "grid_template_columns": null,
            "grid_template_rows": null,
            "height": null,
            "justify_content": null,
            "justify_items": null,
            "left": null,
            "margin": null,
            "max_height": null,
            "max_width": null,
            "min_height": null,
            "min_width": null,
            "object_fit": null,
            "object_position": null,
            "order": null,
            "overflow": null,
            "overflow_x": null,
            "overflow_y": null,
            "padding": null,
            "right": null,
            "top": null,
            "visibility": null,
            "width": null
          }
        },
        "0dc9340f947149a0b04b2fc27c503923": {
          "model_module": "@jupyter-widgets/controls",
          "model_name": "DescriptionStyleModel",
          "model_module_version": "1.5.0",
          "state": {
            "_model_module": "@jupyter-widgets/controls",
            "_model_module_version": "1.5.0",
            "_model_name": "DescriptionStyleModel",
            "_view_count": null,
            "_view_module": "@jupyter-widgets/base",
            "_view_module_version": "1.2.0",
            "_view_name": "StyleView",
            "description_width": ""
          }
        },
        "d3bad5709de2418da1e81b6bb8499a77": {
          "model_module": "@jupyter-widgets/controls",
          "model_name": "HBoxModel",
          "model_module_version": "1.5.0",
          "state": {
            "_dom_classes": [],
            "_model_module": "@jupyter-widgets/controls",
            "_model_module_version": "1.5.0",
            "_model_name": "HBoxModel",
            "_view_count": null,
            "_view_module": "@jupyter-widgets/controls",
            "_view_module_version": "1.5.0",
            "_view_name": "HBoxView",
            "box_style": "",
            "children": [
              "IPY_MODEL_135603a62c0841a68e3acdc06430f524",
              "IPY_MODEL_9c9c40300b3f4c91bbeccdc6fd99056e",
              "IPY_MODEL_2b7dc5f4a3e04cba8df39ec20b1fccbe"
            ],
            "layout": "IPY_MODEL_e964128c9bef402e9069704fb3349825"
          }
        },
        "135603a62c0841a68e3acdc06430f524": {
          "model_module": "@jupyter-widgets/controls",
          "model_name": "HTMLModel",
          "model_module_version": "1.5.0",
          "state": {
            "_dom_classes": [],
            "_model_module": "@jupyter-widgets/controls",
            "_model_module_version": "1.5.0",
            "_model_name": "HTMLModel",
            "_view_count": null,
            "_view_module": "@jupyter-widgets/controls",
            "_view_module_version": "1.5.0",
            "_view_name": "HTMLView",
            "description": "",
            "description_tooltip": null,
            "layout": "IPY_MODEL_9158b95229694dba9dbf4afcfe564aa7",
            "placeholder": "​",
            "style": "IPY_MODEL_22353654ad3b45809c613d44f2823bb7",
            "value": "config_sentence_transformers.json: 100%"
          }
        },
        "9c9c40300b3f4c91bbeccdc6fd99056e": {
          "model_module": "@jupyter-widgets/controls",
          "model_name": "FloatProgressModel",
          "model_module_version": "1.5.0",
          "state": {
            "_dom_classes": [],
            "_model_module": "@jupyter-widgets/controls",
            "_model_module_version": "1.5.0",
            "_model_name": "FloatProgressModel",
            "_view_count": null,
            "_view_module": "@jupyter-widgets/controls",
            "_view_module_version": "1.5.0",
            "_view_name": "ProgressView",
            "bar_style": "success",
            "description": "",
            "description_tooltip": null,
            "layout": "IPY_MODEL_1c66024fba584535a6fa2fcfe2e46f4f",
            "max": 122,
            "min": 0,
            "orientation": "horizontal",
            "style": "IPY_MODEL_9b7516cb0a8d449a8095acbc4a161e65",
            "value": 122
          }
        },
        "2b7dc5f4a3e04cba8df39ec20b1fccbe": {
          "model_module": "@jupyter-widgets/controls",
          "model_name": "HTMLModel",
          "model_module_version": "1.5.0",
          "state": {
            "_dom_classes": [],
            "_model_module": "@jupyter-widgets/controls",
            "_model_module_version": "1.5.0",
            "_model_name": "HTMLModel",
            "_view_count": null,
            "_view_module": "@jupyter-widgets/controls",
            "_view_module_version": "1.5.0",
            "_view_name": "HTMLView",
            "description": "",
            "description_tooltip": null,
            "layout": "IPY_MODEL_77b696ad591d4e34b1672d23202bfa83",
            "placeholder": "​",
            "style": "IPY_MODEL_9c226715d61b4476a7dcda7acf8c38e3",
            "value": " 122/122 [00:00&lt;00:00, 6.46kB/s]"
          }
        },
        "e964128c9bef402e9069704fb3349825": {
          "model_module": "@jupyter-widgets/base",
          "model_name": "LayoutModel",
          "model_module_version": "1.2.0",
          "state": {
            "_model_module": "@jupyter-widgets/base",
            "_model_module_version": "1.2.0",
            "_model_name": "LayoutModel",
            "_view_count": null,
            "_view_module": "@jupyter-widgets/base",
            "_view_module_version": "1.2.0",
            "_view_name": "LayoutView",
            "align_content": null,
            "align_items": null,
            "align_self": null,
            "border": null,
            "bottom": null,
            "display": null,
            "flex": null,
            "flex_flow": null,
            "grid_area": null,
            "grid_auto_columns": null,
            "grid_auto_flow": null,
            "grid_auto_rows": null,
            "grid_column": null,
            "grid_gap": null,
            "grid_row": null,
            "grid_template_areas": null,
            "grid_template_columns": null,
            "grid_template_rows": null,
            "height": null,
            "justify_content": null,
            "justify_items": null,
            "left": null,
            "margin": null,
            "max_height": null,
            "max_width": null,
            "min_height": null,
            "min_width": null,
            "object_fit": null,
            "object_position": null,
            "order": null,
            "overflow": null,
            "overflow_x": null,
            "overflow_y": null,
            "padding": null,
            "right": null,
            "top": null,
            "visibility": null,
            "width": null
          }
        },
        "9158b95229694dba9dbf4afcfe564aa7": {
          "model_module": "@jupyter-widgets/base",
          "model_name": "LayoutModel",
          "model_module_version": "1.2.0",
          "state": {
            "_model_module": "@jupyter-widgets/base",
            "_model_module_version": "1.2.0",
            "_model_name": "LayoutModel",
            "_view_count": null,
            "_view_module": "@jupyter-widgets/base",
            "_view_module_version": "1.2.0",
            "_view_name": "LayoutView",
            "align_content": null,
            "align_items": null,
            "align_self": null,
            "border": null,
            "bottom": null,
            "display": null,
            "flex": null,
            "flex_flow": null,
            "grid_area": null,
            "grid_auto_columns": null,
            "grid_auto_flow": null,
            "grid_auto_rows": null,
            "grid_column": null,
            "grid_gap": null,
            "grid_row": null,
            "grid_template_areas": null,
            "grid_template_columns": null,
            "grid_template_rows": null,
            "height": null,
            "justify_content": null,
            "justify_items": null,
            "left": null,
            "margin": null,
            "max_height": null,
            "max_width": null,
            "min_height": null,
            "min_width": null,
            "object_fit": null,
            "object_position": null,
            "order": null,
            "overflow": null,
            "overflow_x": null,
            "overflow_y": null,
            "padding": null,
            "right": null,
            "top": null,
            "visibility": null,
            "width": null
          }
        },
        "22353654ad3b45809c613d44f2823bb7": {
          "model_module": "@jupyter-widgets/controls",
          "model_name": "DescriptionStyleModel",
          "model_module_version": "1.5.0",
          "state": {
            "_model_module": "@jupyter-widgets/controls",
            "_model_module_version": "1.5.0",
            "_model_name": "DescriptionStyleModel",
            "_view_count": null,
            "_view_module": "@jupyter-widgets/base",
            "_view_module_version": "1.2.0",
            "_view_name": "StyleView",
            "description_width": ""
          }
        },
        "1c66024fba584535a6fa2fcfe2e46f4f": {
          "model_module": "@jupyter-widgets/base",
          "model_name": "LayoutModel",
          "model_module_version": "1.2.0",
          "state": {
            "_model_module": "@jupyter-widgets/base",
            "_model_module_version": "1.2.0",
            "_model_name": "LayoutModel",
            "_view_count": null,
            "_view_module": "@jupyter-widgets/base",
            "_view_module_version": "1.2.0",
            "_view_name": "LayoutView",
            "align_content": null,
            "align_items": null,
            "align_self": null,
            "border": null,
            "bottom": null,
            "display": null,
            "flex": null,
            "flex_flow": null,
            "grid_area": null,
            "grid_auto_columns": null,
            "grid_auto_flow": null,
            "grid_auto_rows": null,
            "grid_column": null,
            "grid_gap": null,
            "grid_row": null,
            "grid_template_areas": null,
            "grid_template_columns": null,
            "grid_template_rows": null,
            "height": null,
            "justify_content": null,
            "justify_items": null,
            "left": null,
            "margin": null,
            "max_height": null,
            "max_width": null,
            "min_height": null,
            "min_width": null,
            "object_fit": null,
            "object_position": null,
            "order": null,
            "overflow": null,
            "overflow_x": null,
            "overflow_y": null,
            "padding": null,
            "right": null,
            "top": null,
            "visibility": null,
            "width": null
          }
        },
        "9b7516cb0a8d449a8095acbc4a161e65": {
          "model_module": "@jupyter-widgets/controls",
          "model_name": "ProgressStyleModel",
          "model_module_version": "1.5.0",
          "state": {
            "_model_module": "@jupyter-widgets/controls",
            "_model_module_version": "1.5.0",
            "_model_name": "ProgressStyleModel",
            "_view_count": null,
            "_view_module": "@jupyter-widgets/base",
            "_view_module_version": "1.2.0",
            "_view_name": "StyleView",
            "bar_color": null,
            "description_width": ""
          }
        },
        "77b696ad591d4e34b1672d23202bfa83": {
          "model_module": "@jupyter-widgets/base",
          "model_name": "LayoutModel",
          "model_module_version": "1.2.0",
          "state": {
            "_model_module": "@jupyter-widgets/base",
            "_model_module_version": "1.2.0",
            "_model_name": "LayoutModel",
            "_view_count": null,
            "_view_module": "@jupyter-widgets/base",
            "_view_module_version": "1.2.0",
            "_view_name": "LayoutView",
            "align_content": null,
            "align_items": null,
            "align_self": null,
            "border": null,
            "bottom": null,
            "display": null,
            "flex": null,
            "flex_flow": null,
            "grid_area": null,
            "grid_auto_columns": null,
            "grid_auto_flow": null,
            "grid_auto_rows": null,
            "grid_column": null,
            "grid_gap": null,
            "grid_row": null,
            "grid_template_areas": null,
            "grid_template_columns": null,
            "grid_template_rows": null,
            "height": null,
            "justify_content": null,
            "justify_items": null,
            "left": null,
            "margin": null,
            "max_height": null,
            "max_width": null,
            "min_height": null,
            "min_width": null,
            "object_fit": null,
            "object_position": null,
            "order": null,
            "overflow": null,
            "overflow_x": null,
            "overflow_y": null,
            "padding": null,
            "right": null,
            "top": null,
            "visibility": null,
            "width": null
          }
        },
        "9c226715d61b4476a7dcda7acf8c38e3": {
          "model_module": "@jupyter-widgets/controls",
          "model_name": "DescriptionStyleModel",
          "model_module_version": "1.5.0",
          "state": {
            "_model_module": "@jupyter-widgets/controls",
            "_model_module_version": "1.5.0",
            "_model_name": "DescriptionStyleModel",
            "_view_count": null,
            "_view_module": "@jupyter-widgets/base",
            "_view_module_version": "1.2.0",
            "_view_name": "StyleView",
            "description_width": ""
          }
        },
        "227f51f2e1f143298a75ce2b422f491f": {
          "model_module": "@jupyter-widgets/controls",
          "model_name": "HBoxModel",
          "model_module_version": "1.5.0",
          "state": {
            "_dom_classes": [],
            "_model_module": "@jupyter-widgets/controls",
            "_model_module_version": "1.5.0",
            "_model_name": "HBoxModel",
            "_view_count": null,
            "_view_module": "@jupyter-widgets/controls",
            "_view_module_version": "1.5.0",
            "_view_name": "HBoxView",
            "box_style": "",
            "children": [
              "IPY_MODEL_49e8a36f25b943efa0e1773317f39f69",
              "IPY_MODEL_22a72853962b46f980bc0ab163f73bb4",
              "IPY_MODEL_3f117e340ac546e88c73911badc271fb"
            ],
            "layout": "IPY_MODEL_ff99f389f4cc4dd8aad221bffe38b5f1"
          }
        },
        "49e8a36f25b943efa0e1773317f39f69": {
          "model_module": "@jupyter-widgets/controls",
          "model_name": "HTMLModel",
          "model_module_version": "1.5.0",
          "state": {
            "_dom_classes": [],
            "_model_module": "@jupyter-widgets/controls",
            "_model_module_version": "1.5.0",
            "_model_name": "HTMLModel",
            "_view_count": null,
            "_view_module": "@jupyter-widgets/controls",
            "_view_module_version": "1.5.0",
            "_view_name": "HTMLView",
            "description": "",
            "description_tooltip": null,
            "layout": "IPY_MODEL_2aee57997915419e8fd2284dd5d66001",
            "placeholder": "​",
            "style": "IPY_MODEL_3315a25d518146adb781a4a7455b95c2",
            "value": "pytorch_model.bin: 100%"
          }
        },
        "22a72853962b46f980bc0ab163f73bb4": {
          "model_module": "@jupyter-widgets/controls",
          "model_name": "FloatProgressModel",
          "model_module_version": "1.5.0",
          "state": {
            "_dom_classes": [],
            "_model_module": "@jupyter-widgets/controls",
            "_model_module_version": "1.5.0",
            "_model_name": "FloatProgressModel",
            "_view_count": null,
            "_view_module": "@jupyter-widgets/controls",
            "_view_module_version": "1.5.0",
            "_view_name": "ProgressView",
            "bar_style": "success",
            "description": "",
            "description_tooltip": null,
            "layout": "IPY_MODEL_5301c7a8124d494c8299d371688397d4",
            "max": 538971577,
            "min": 0,
            "orientation": "horizontal",
            "style": "IPY_MODEL_87acd73d0a79458ab283def072067e7f",
            "value": 538971577
          }
        },
        "3f117e340ac546e88c73911badc271fb": {
          "model_module": "@jupyter-widgets/controls",
          "model_name": "HTMLModel",
          "model_module_version": "1.5.0",
          "state": {
            "_dom_classes": [],
            "_model_module": "@jupyter-widgets/controls",
            "_model_module_version": "1.5.0",
            "_model_name": "HTMLModel",
            "_view_count": null,
            "_view_module": "@jupyter-widgets/controls",
            "_view_module_version": "1.5.0",
            "_view_name": "HTMLView",
            "description": "",
            "description_tooltip": null,
            "layout": "IPY_MODEL_761d034920a24c7dac080fb6950ebfca",
            "placeholder": "​",
            "style": "IPY_MODEL_944870d22d5449e98ef9b1d8730cfdb4",
            "value": " 539M/539M [00:04&lt;00:00, 196MB/s]"
          }
        },
        "ff99f389f4cc4dd8aad221bffe38b5f1": {
          "model_module": "@jupyter-widgets/base",
          "model_name": "LayoutModel",
          "model_module_version": "1.2.0",
          "state": {
            "_model_module": "@jupyter-widgets/base",
            "_model_module_version": "1.2.0",
            "_model_name": "LayoutModel",
            "_view_count": null,
            "_view_module": "@jupyter-widgets/base",
            "_view_module_version": "1.2.0",
            "_view_name": "LayoutView",
            "align_content": null,
            "align_items": null,
            "align_self": null,
            "border": null,
            "bottom": null,
            "display": null,
            "flex": null,
            "flex_flow": null,
            "grid_area": null,
            "grid_auto_columns": null,
            "grid_auto_flow": null,
            "grid_auto_rows": null,
            "grid_column": null,
            "grid_gap": null,
            "grid_row": null,
            "grid_template_areas": null,
            "grid_template_columns": null,
            "grid_template_rows": null,
            "height": null,
            "justify_content": null,
            "justify_items": null,
            "left": null,
            "margin": null,
            "max_height": null,
            "max_width": null,
            "min_height": null,
            "min_width": null,
            "object_fit": null,
            "object_position": null,
            "order": null,
            "overflow": null,
            "overflow_x": null,
            "overflow_y": null,
            "padding": null,
            "right": null,
            "top": null,
            "visibility": null,
            "width": null
          }
        },
        "2aee57997915419e8fd2284dd5d66001": {
          "model_module": "@jupyter-widgets/base",
          "model_name": "LayoutModel",
          "model_module_version": "1.2.0",
          "state": {
            "_model_module": "@jupyter-widgets/base",
            "_model_module_version": "1.2.0",
            "_model_name": "LayoutModel",
            "_view_count": null,
            "_view_module": "@jupyter-widgets/base",
            "_view_module_version": "1.2.0",
            "_view_name": "LayoutView",
            "align_content": null,
            "align_items": null,
            "align_self": null,
            "border": null,
            "bottom": null,
            "display": null,
            "flex": null,
            "flex_flow": null,
            "grid_area": null,
            "grid_auto_columns": null,
            "grid_auto_flow": null,
            "grid_auto_rows": null,
            "grid_column": null,
            "grid_gap": null,
            "grid_row": null,
            "grid_template_areas": null,
            "grid_template_columns": null,
            "grid_template_rows": null,
            "height": null,
            "justify_content": null,
            "justify_items": null,
            "left": null,
            "margin": null,
            "max_height": null,
            "max_width": null,
            "min_height": null,
            "min_width": null,
            "object_fit": null,
            "object_position": null,
            "order": null,
            "overflow": null,
            "overflow_x": null,
            "overflow_y": null,
            "padding": null,
            "right": null,
            "top": null,
            "visibility": null,
            "width": null
          }
        },
        "3315a25d518146adb781a4a7455b95c2": {
          "model_module": "@jupyter-widgets/controls",
          "model_name": "DescriptionStyleModel",
          "model_module_version": "1.5.0",
          "state": {
            "_model_module": "@jupyter-widgets/controls",
            "_model_module_version": "1.5.0",
            "_model_name": "DescriptionStyleModel",
            "_view_count": null,
            "_view_module": "@jupyter-widgets/base",
            "_view_module_version": "1.2.0",
            "_view_name": "StyleView",
            "description_width": ""
          }
        },
        "5301c7a8124d494c8299d371688397d4": {
          "model_module": "@jupyter-widgets/base",
          "model_name": "LayoutModel",
          "model_module_version": "1.2.0",
          "state": {
            "_model_module": "@jupyter-widgets/base",
            "_model_module_version": "1.2.0",
            "_model_name": "LayoutModel",
            "_view_count": null,
            "_view_module": "@jupyter-widgets/base",
            "_view_module_version": "1.2.0",
            "_view_name": "LayoutView",
            "align_content": null,
            "align_items": null,
            "align_self": null,
            "border": null,
            "bottom": null,
            "display": null,
            "flex": null,
            "flex_flow": null,
            "grid_area": null,
            "grid_auto_columns": null,
            "grid_auto_flow": null,
            "grid_auto_rows": null,
            "grid_column": null,
            "grid_gap": null,
            "grid_row": null,
            "grid_template_areas": null,
            "grid_template_columns": null,
            "grid_template_rows": null,
            "height": null,
            "justify_content": null,
            "justify_items": null,
            "left": null,
            "margin": null,
            "max_height": null,
            "max_width": null,
            "min_height": null,
            "min_width": null,
            "object_fit": null,
            "object_position": null,
            "order": null,
            "overflow": null,
            "overflow_x": null,
            "overflow_y": null,
            "padding": null,
            "right": null,
            "top": null,
            "visibility": null,
            "width": null
          }
        },
        "87acd73d0a79458ab283def072067e7f": {
          "model_module": "@jupyter-widgets/controls",
          "model_name": "ProgressStyleModel",
          "model_module_version": "1.5.0",
          "state": {
            "_model_module": "@jupyter-widgets/controls",
            "_model_module_version": "1.5.0",
            "_model_name": "ProgressStyleModel",
            "_view_count": null,
            "_view_module": "@jupyter-widgets/base",
            "_view_module_version": "1.2.0",
            "_view_name": "StyleView",
            "bar_color": null,
            "description_width": ""
          }
        },
        "761d034920a24c7dac080fb6950ebfca": {
          "model_module": "@jupyter-widgets/base",
          "model_name": "LayoutModel",
          "model_module_version": "1.2.0",
          "state": {
            "_model_module": "@jupyter-widgets/base",
            "_model_module_version": "1.2.0",
            "_model_name": "LayoutModel",
            "_view_count": null,
            "_view_module": "@jupyter-widgets/base",
            "_view_module_version": "1.2.0",
            "_view_name": "LayoutView",
            "align_content": null,
            "align_items": null,
            "align_self": null,
            "border": null,
            "bottom": null,
            "display": null,
            "flex": null,
            "flex_flow": null,
            "grid_area": null,
            "grid_auto_columns": null,
            "grid_auto_flow": null,
            "grid_auto_rows": null,
            "grid_column": null,
            "grid_gap": null,
            "grid_row": null,
            "grid_template_areas": null,
            "grid_template_columns": null,
            "grid_template_rows": null,
            "height": null,
            "justify_content": null,
            "justify_items": null,
            "left": null,
            "margin": null,
            "max_height": null,
            "max_width": null,
            "min_height": null,
            "min_width": null,
            "object_fit": null,
            "object_position": null,
            "order": null,
            "overflow": null,
            "overflow_x": null,
            "overflow_y": null,
            "padding": null,
            "right": null,
            "top": null,
            "visibility": null,
            "width": null
          }
        },
        "944870d22d5449e98ef9b1d8730cfdb4": {
          "model_module": "@jupyter-widgets/controls",
          "model_name": "DescriptionStyleModel",
          "model_module_version": "1.5.0",
          "state": {
            "_model_module": "@jupyter-widgets/controls",
            "_model_module_version": "1.5.0",
            "_model_name": "DescriptionStyleModel",
            "_view_count": null,
            "_view_module": "@jupyter-widgets/base",
            "_view_module_version": "1.2.0",
            "_view_name": "StyleView",
            "description_width": ""
          }
        },
        "0ce2f64882434149a2e7c7a2594a2620": {
          "model_module": "@jupyter-widgets/controls",
          "model_name": "HBoxModel",
          "model_module_version": "1.5.0",
          "state": {
            "_dom_classes": [],
            "_model_module": "@jupyter-widgets/controls",
            "_model_module_version": "1.5.0",
            "_model_name": "HBoxModel",
            "_view_count": null,
            "_view_module": "@jupyter-widgets/controls",
            "_view_module_version": "1.5.0",
            "_view_name": "HBoxView",
            "box_style": "",
            "children": [
              "IPY_MODEL_0228a00d829647448fad4599d375ea92",
              "IPY_MODEL_4d0306466e624040ac8ada18e1c5c20a",
              "IPY_MODEL_282a94643c1849df885654419e430383"
            ],
            "layout": "IPY_MODEL_9d43ffc923fc437192edf7b2ecb99a8b"
          }
        },
        "0228a00d829647448fad4599d375ea92": {
          "model_module": "@jupyter-widgets/controls",
          "model_name": "HTMLModel",
          "model_module_version": "1.5.0",
          "state": {
            "_dom_classes": [],
            "_model_module": "@jupyter-widgets/controls",
            "_model_module_version": "1.5.0",
            "_model_name": "HTMLModel",
            "_view_count": null,
            "_view_module": "@jupyter-widgets/controls",
            "_view_module_version": "1.5.0",
            "_view_name": "HTMLView",
            "description": "",
            "description_tooltip": null,
            "layout": "IPY_MODEL_40a6fcc271504d47a777035414ab00ea",
            "placeholder": "​",
            "style": "IPY_MODEL_0a2a42cb06e84c51b92c7b9d1f317b41",
            "value": "sentence_bert_config.json: 100%"
          }
        },
        "4d0306466e624040ac8ada18e1c5c20a": {
          "model_module": "@jupyter-widgets/controls",
          "model_name": "FloatProgressModel",
          "model_module_version": "1.5.0",
          "state": {
            "_dom_classes": [],
            "_model_module": "@jupyter-widgets/controls",
            "_model_module_version": "1.5.0",
            "_model_name": "FloatProgressModel",
            "_view_count": null,
            "_view_module": "@jupyter-widgets/controls",
            "_view_module_version": "1.5.0",
            "_view_name": "ProgressView",
            "bar_style": "success",
            "description": "",
            "description_tooltip": null,
            "layout": "IPY_MODEL_31a6b6dceb3d4a23931687c2ee5d1df5",
            "max": 53,
            "min": 0,
            "orientation": "horizontal",
            "style": "IPY_MODEL_7f051adcd4af4b8e92f75f4bd6aedf39",
            "value": 53
          }
        },
        "282a94643c1849df885654419e430383": {
          "model_module": "@jupyter-widgets/controls",
          "model_name": "HTMLModel",
          "model_module_version": "1.5.0",
          "state": {
            "_dom_classes": [],
            "_model_module": "@jupyter-widgets/controls",
            "_model_module_version": "1.5.0",
            "_model_name": "HTMLModel",
            "_view_count": null,
            "_view_module": "@jupyter-widgets/controls",
            "_view_module_version": "1.5.0",
            "_view_name": "HTMLView",
            "description": "",
            "description_tooltip": null,
            "layout": "IPY_MODEL_e86b1b32bb474f42b1bed89d3d016fd6",
            "placeholder": "​",
            "style": "IPY_MODEL_a14718a4ada34d88aed3946cd1024144",
            "value": " 53.0/53.0 [00:00&lt;00:00, 3.89kB/s]"
          }
        },
        "9d43ffc923fc437192edf7b2ecb99a8b": {
          "model_module": "@jupyter-widgets/base",
          "model_name": "LayoutModel",
          "model_module_version": "1.2.0",
          "state": {
            "_model_module": "@jupyter-widgets/base",
            "_model_module_version": "1.2.0",
            "_model_name": "LayoutModel",
            "_view_count": null,
            "_view_module": "@jupyter-widgets/base",
            "_view_module_version": "1.2.0",
            "_view_name": "LayoutView",
            "align_content": null,
            "align_items": null,
            "align_self": null,
            "border": null,
            "bottom": null,
            "display": null,
            "flex": null,
            "flex_flow": null,
            "grid_area": null,
            "grid_auto_columns": null,
            "grid_auto_flow": null,
            "grid_auto_rows": null,
            "grid_column": null,
            "grid_gap": null,
            "grid_row": null,
            "grid_template_areas": null,
            "grid_template_columns": null,
            "grid_template_rows": null,
            "height": null,
            "justify_content": null,
            "justify_items": null,
            "left": null,
            "margin": null,
            "max_height": null,
            "max_width": null,
            "min_height": null,
            "min_width": null,
            "object_fit": null,
            "object_position": null,
            "order": null,
            "overflow": null,
            "overflow_x": null,
            "overflow_y": null,
            "padding": null,
            "right": null,
            "top": null,
            "visibility": null,
            "width": null
          }
        },
        "40a6fcc271504d47a777035414ab00ea": {
          "model_module": "@jupyter-widgets/base",
          "model_name": "LayoutModel",
          "model_module_version": "1.2.0",
          "state": {
            "_model_module": "@jupyter-widgets/base",
            "_model_module_version": "1.2.0",
            "_model_name": "LayoutModel",
            "_view_count": null,
            "_view_module": "@jupyter-widgets/base",
            "_view_module_version": "1.2.0",
            "_view_name": "LayoutView",
            "align_content": null,
            "align_items": null,
            "align_self": null,
            "border": null,
            "bottom": null,
            "display": null,
            "flex": null,
            "flex_flow": null,
            "grid_area": null,
            "grid_auto_columns": null,
            "grid_auto_flow": null,
            "grid_auto_rows": null,
            "grid_column": null,
            "grid_gap": null,
            "grid_row": null,
            "grid_template_areas": null,
            "grid_template_columns": null,
            "grid_template_rows": null,
            "height": null,
            "justify_content": null,
            "justify_items": null,
            "left": null,
            "margin": null,
            "max_height": null,
            "max_width": null,
            "min_height": null,
            "min_width": null,
            "object_fit": null,
            "object_position": null,
            "order": null,
            "overflow": null,
            "overflow_x": null,
            "overflow_y": null,
            "padding": null,
            "right": null,
            "top": null,
            "visibility": null,
            "width": null
          }
        },
        "0a2a42cb06e84c51b92c7b9d1f317b41": {
          "model_module": "@jupyter-widgets/controls",
          "model_name": "DescriptionStyleModel",
          "model_module_version": "1.5.0",
          "state": {
            "_model_module": "@jupyter-widgets/controls",
            "_model_module_version": "1.5.0",
            "_model_name": "DescriptionStyleModel",
            "_view_count": null,
            "_view_module": "@jupyter-widgets/base",
            "_view_module_version": "1.2.0",
            "_view_name": "StyleView",
            "description_width": ""
          }
        },
        "31a6b6dceb3d4a23931687c2ee5d1df5": {
          "model_module": "@jupyter-widgets/base",
          "model_name": "LayoutModel",
          "model_module_version": "1.2.0",
          "state": {
            "_model_module": "@jupyter-widgets/base",
            "_model_module_version": "1.2.0",
            "_model_name": "LayoutModel",
            "_view_count": null,
            "_view_module": "@jupyter-widgets/base",
            "_view_module_version": "1.2.0",
            "_view_name": "LayoutView",
            "align_content": null,
            "align_items": null,
            "align_self": null,
            "border": null,
            "bottom": null,
            "display": null,
            "flex": null,
            "flex_flow": null,
            "grid_area": null,
            "grid_auto_columns": null,
            "grid_auto_flow": null,
            "grid_auto_rows": null,
            "grid_column": null,
            "grid_gap": null,
            "grid_row": null,
            "grid_template_areas": null,
            "grid_template_columns": null,
            "grid_template_rows": null,
            "height": null,
            "justify_content": null,
            "justify_items": null,
            "left": null,
            "margin": null,
            "max_height": null,
            "max_width": null,
            "min_height": null,
            "min_width": null,
            "object_fit": null,
            "object_position": null,
            "order": null,
            "overflow": null,
            "overflow_x": null,
            "overflow_y": null,
            "padding": null,
            "right": null,
            "top": null,
            "visibility": null,
            "width": null
          }
        },
        "7f051adcd4af4b8e92f75f4bd6aedf39": {
          "model_module": "@jupyter-widgets/controls",
          "model_name": "ProgressStyleModel",
          "model_module_version": "1.5.0",
          "state": {
            "_model_module": "@jupyter-widgets/controls",
            "_model_module_version": "1.5.0",
            "_model_name": "ProgressStyleModel",
            "_view_count": null,
            "_view_module": "@jupyter-widgets/base",
            "_view_module_version": "1.2.0",
            "_view_name": "StyleView",
            "bar_color": null,
            "description_width": ""
          }
        },
        "e86b1b32bb474f42b1bed89d3d016fd6": {
          "model_module": "@jupyter-widgets/base",
          "model_name": "LayoutModel",
          "model_module_version": "1.2.0",
          "state": {
            "_model_module": "@jupyter-widgets/base",
            "_model_module_version": "1.2.0",
            "_model_name": "LayoutModel",
            "_view_count": null,
            "_view_module": "@jupyter-widgets/base",
            "_view_module_version": "1.2.0",
            "_view_name": "LayoutView",
            "align_content": null,
            "align_items": null,
            "align_self": null,
            "border": null,
            "bottom": null,
            "display": null,
            "flex": null,
            "flex_flow": null,
            "grid_area": null,
            "grid_auto_columns": null,
            "grid_auto_flow": null,
            "grid_auto_rows": null,
            "grid_column": null,
            "grid_gap": null,
            "grid_row": null,
            "grid_template_areas": null,
            "grid_template_columns": null,
            "grid_template_rows": null,
            "height": null,
            "justify_content": null,
            "justify_items": null,
            "left": null,
            "margin": null,
            "max_height": null,
            "max_width": null,
            "min_height": null,
            "min_width": null,
            "object_fit": null,
            "object_position": null,
            "order": null,
            "overflow": null,
            "overflow_x": null,
            "overflow_y": null,
            "padding": null,
            "right": null,
            "top": null,
            "visibility": null,
            "width": null
          }
        },
        "a14718a4ada34d88aed3946cd1024144": {
          "model_module": "@jupyter-widgets/controls",
          "model_name": "DescriptionStyleModel",
          "model_module_version": "1.5.0",
          "state": {
            "_model_module": "@jupyter-widgets/controls",
            "_model_module_version": "1.5.0",
            "_model_name": "DescriptionStyleModel",
            "_view_count": null,
            "_view_module": "@jupyter-widgets/base",
            "_view_module_version": "1.2.0",
            "_view_name": "StyleView",
            "description_width": ""
          }
        },
        "fc107907e243470294ea1862808d6c93": {
          "model_module": "@jupyter-widgets/controls",
          "model_name": "HBoxModel",
          "model_module_version": "1.5.0",
          "state": {
            "_dom_classes": [],
            "_model_module": "@jupyter-widgets/controls",
            "_model_module_version": "1.5.0",
            "_model_name": "HBoxModel",
            "_view_count": null,
            "_view_module": "@jupyter-widgets/controls",
            "_view_module_version": "1.5.0",
            "_view_name": "HBoxView",
            "box_style": "",
            "children": [
              "IPY_MODEL_411fbc06f0c346c4a5a4407a24de2c93",
              "IPY_MODEL_5dcc4a0749dd4f70a4b97f1f10f679c0",
              "IPY_MODEL_e19c452dcd4041a1adf2c5f733e840e6"
            ],
            "layout": "IPY_MODEL_31fe1b10e21d458899a6133edb7411c2"
          }
        },
        "411fbc06f0c346c4a5a4407a24de2c93": {
          "model_module": "@jupyter-widgets/controls",
          "model_name": "HTMLModel",
          "model_module_version": "1.5.0",
          "state": {
            "_dom_classes": [],
            "_model_module": "@jupyter-widgets/controls",
            "_model_module_version": "1.5.0",
            "_model_name": "HTMLModel",
            "_view_count": null,
            "_view_module": "@jupyter-widgets/controls",
            "_view_module_version": "1.5.0",
            "_view_name": "HTMLView",
            "description": "",
            "description_tooltip": null,
            "layout": "IPY_MODEL_ce2237589d2c478897c2cb743a36fcee",
            "placeholder": "​",
            "style": "IPY_MODEL_d366389b7ba64e7a85a26f82d36d8fbc",
            "value": "special_tokens_map.json: 100%"
          }
        },
        "5dcc4a0749dd4f70a4b97f1f10f679c0": {
          "model_module": "@jupyter-widgets/controls",
          "model_name": "FloatProgressModel",
          "model_module_version": "1.5.0",
          "state": {
            "_dom_classes": [],
            "_model_module": "@jupyter-widgets/controls",
            "_model_module_version": "1.5.0",
            "_model_name": "FloatProgressModel",
            "_view_count": null,
            "_view_module": "@jupyter-widgets/controls",
            "_view_module_version": "1.5.0",
            "_view_name": "ProgressView",
            "bar_style": "success",
            "description": "",
            "description_tooltip": null,
            "layout": "IPY_MODEL_d2a8f484c0734e35ad342e493f82c577",
            "max": 112,
            "min": 0,
            "orientation": "horizontal",
            "style": "IPY_MODEL_2727f1112d584760b8a1051cdcec17a9",
            "value": 112
          }
        },
        "e19c452dcd4041a1adf2c5f733e840e6": {
          "model_module": "@jupyter-widgets/controls",
          "model_name": "HTMLModel",
          "model_module_version": "1.5.0",
          "state": {
            "_dom_classes": [],
            "_model_module": "@jupyter-widgets/controls",
            "_model_module_version": "1.5.0",
            "_model_name": "HTMLModel",
            "_view_count": null,
            "_view_module": "@jupyter-widgets/controls",
            "_view_module_version": "1.5.0",
            "_view_name": "HTMLView",
            "description": "",
            "description_tooltip": null,
            "layout": "IPY_MODEL_b3b3be045cb64852a77473fdce7e443a",
            "placeholder": "​",
            "style": "IPY_MODEL_b215809da044477e82f274a1316d4028",
            "value": " 112/112 [00:00&lt;00:00, 8.34kB/s]"
          }
        },
        "31fe1b10e21d458899a6133edb7411c2": {
          "model_module": "@jupyter-widgets/base",
          "model_name": "LayoutModel",
          "model_module_version": "1.2.0",
          "state": {
            "_model_module": "@jupyter-widgets/base",
            "_model_module_version": "1.2.0",
            "_model_name": "LayoutModel",
            "_view_count": null,
            "_view_module": "@jupyter-widgets/base",
            "_view_module_version": "1.2.0",
            "_view_name": "LayoutView",
            "align_content": null,
            "align_items": null,
            "align_self": null,
            "border": null,
            "bottom": null,
            "display": null,
            "flex": null,
            "flex_flow": null,
            "grid_area": null,
            "grid_auto_columns": null,
            "grid_auto_flow": null,
            "grid_auto_rows": null,
            "grid_column": null,
            "grid_gap": null,
            "grid_row": null,
            "grid_template_areas": null,
            "grid_template_columns": null,
            "grid_template_rows": null,
            "height": null,
            "justify_content": null,
            "justify_items": null,
            "left": null,
            "margin": null,
            "max_height": null,
            "max_width": null,
            "min_height": null,
            "min_width": null,
            "object_fit": null,
            "object_position": null,
            "order": null,
            "overflow": null,
            "overflow_x": null,
            "overflow_y": null,
            "padding": null,
            "right": null,
            "top": null,
            "visibility": null,
            "width": null
          }
        },
        "ce2237589d2c478897c2cb743a36fcee": {
          "model_module": "@jupyter-widgets/base",
          "model_name": "LayoutModel",
          "model_module_version": "1.2.0",
          "state": {
            "_model_module": "@jupyter-widgets/base",
            "_model_module_version": "1.2.0",
            "_model_name": "LayoutModel",
            "_view_count": null,
            "_view_module": "@jupyter-widgets/base",
            "_view_module_version": "1.2.0",
            "_view_name": "LayoutView",
            "align_content": null,
            "align_items": null,
            "align_self": null,
            "border": null,
            "bottom": null,
            "display": null,
            "flex": null,
            "flex_flow": null,
            "grid_area": null,
            "grid_auto_columns": null,
            "grid_auto_flow": null,
            "grid_auto_rows": null,
            "grid_column": null,
            "grid_gap": null,
            "grid_row": null,
            "grid_template_areas": null,
            "grid_template_columns": null,
            "grid_template_rows": null,
            "height": null,
            "justify_content": null,
            "justify_items": null,
            "left": null,
            "margin": null,
            "max_height": null,
            "max_width": null,
            "min_height": null,
            "min_width": null,
            "object_fit": null,
            "object_position": null,
            "order": null,
            "overflow": null,
            "overflow_x": null,
            "overflow_y": null,
            "padding": null,
            "right": null,
            "top": null,
            "visibility": null,
            "width": null
          }
        },
        "d366389b7ba64e7a85a26f82d36d8fbc": {
          "model_module": "@jupyter-widgets/controls",
          "model_name": "DescriptionStyleModel",
          "model_module_version": "1.5.0",
          "state": {
            "_model_module": "@jupyter-widgets/controls",
            "_model_module_version": "1.5.0",
            "_model_name": "DescriptionStyleModel",
            "_view_count": null,
            "_view_module": "@jupyter-widgets/base",
            "_view_module_version": "1.2.0",
            "_view_name": "StyleView",
            "description_width": ""
          }
        },
        "d2a8f484c0734e35ad342e493f82c577": {
          "model_module": "@jupyter-widgets/base",
          "model_name": "LayoutModel",
          "model_module_version": "1.2.0",
          "state": {
            "_model_module": "@jupyter-widgets/base",
            "_model_module_version": "1.2.0",
            "_model_name": "LayoutModel",
            "_view_count": null,
            "_view_module": "@jupyter-widgets/base",
            "_view_module_version": "1.2.0",
            "_view_name": "LayoutView",
            "align_content": null,
            "align_items": null,
            "align_self": null,
            "border": null,
            "bottom": null,
            "display": null,
            "flex": null,
            "flex_flow": null,
            "grid_area": null,
            "grid_auto_columns": null,
            "grid_auto_flow": null,
            "grid_auto_rows": null,
            "grid_column": null,
            "grid_gap": null,
            "grid_row": null,
            "grid_template_areas": null,
            "grid_template_columns": null,
            "grid_template_rows": null,
            "height": null,
            "justify_content": null,
            "justify_items": null,
            "left": null,
            "margin": null,
            "max_height": null,
            "max_width": null,
            "min_height": null,
            "min_width": null,
            "object_fit": null,
            "object_position": null,
            "order": null,
            "overflow": null,
            "overflow_x": null,
            "overflow_y": null,
            "padding": null,
            "right": null,
            "top": null,
            "visibility": null,
            "width": null
          }
        },
        "2727f1112d584760b8a1051cdcec17a9": {
          "model_module": "@jupyter-widgets/controls",
          "model_name": "ProgressStyleModel",
          "model_module_version": "1.5.0",
          "state": {
            "_model_module": "@jupyter-widgets/controls",
            "_model_module_version": "1.5.0",
            "_model_name": "ProgressStyleModel",
            "_view_count": null,
            "_view_module": "@jupyter-widgets/base",
            "_view_module_version": "1.2.0",
            "_view_name": "StyleView",
            "bar_color": null,
            "description_width": ""
          }
        },
        "b3b3be045cb64852a77473fdce7e443a": {
          "model_module": "@jupyter-widgets/base",
          "model_name": "LayoutModel",
          "model_module_version": "1.2.0",
          "state": {
            "_model_module": "@jupyter-widgets/base",
            "_model_module_version": "1.2.0",
            "_model_name": "LayoutModel",
            "_view_count": null,
            "_view_module": "@jupyter-widgets/base",
            "_view_module_version": "1.2.0",
            "_view_name": "LayoutView",
            "align_content": null,
            "align_items": null,
            "align_self": null,
            "border": null,
            "bottom": null,
            "display": null,
            "flex": null,
            "flex_flow": null,
            "grid_area": null,
            "grid_auto_columns": null,
            "grid_auto_flow": null,
            "grid_auto_rows": null,
            "grid_column": null,
            "grid_gap": null,
            "grid_row": null,
            "grid_template_areas": null,
            "grid_template_columns": null,
            "grid_template_rows": null,
            "height": null,
            "justify_content": null,
            "justify_items": null,
            "left": null,
            "margin": null,
            "max_height": null,
            "max_width": null,
            "min_height": null,
            "min_width": null,
            "object_fit": null,
            "object_position": null,
            "order": null,
            "overflow": null,
            "overflow_x": null,
            "overflow_y": null,
            "padding": null,
            "right": null,
            "top": null,
            "visibility": null,
            "width": null
          }
        },
        "b215809da044477e82f274a1316d4028": {
          "model_module": "@jupyter-widgets/controls",
          "model_name": "DescriptionStyleModel",
          "model_module_version": "1.5.0",
          "state": {
            "_model_module": "@jupyter-widgets/controls",
            "_model_module_version": "1.5.0",
            "_model_name": "DescriptionStyleModel",
            "_view_count": null,
            "_view_module": "@jupyter-widgets/base",
            "_view_module_version": "1.2.0",
            "_view_name": "StyleView",
            "description_width": ""
          }
        },
        "5ebb47c2adfb4b60bdbace9d40fe2589": {
          "model_module": "@jupyter-widgets/controls",
          "model_name": "HBoxModel",
          "model_module_version": "1.5.0",
          "state": {
            "_dom_classes": [],
            "_model_module": "@jupyter-widgets/controls",
            "_model_module_version": "1.5.0",
            "_model_name": "HBoxModel",
            "_view_count": null,
            "_view_module": "@jupyter-widgets/controls",
            "_view_module_version": "1.5.0",
            "_view_name": "HBoxView",
            "box_style": "",
            "children": [
              "IPY_MODEL_e7aa40c139914d9b9125d5336c3397f3",
              "IPY_MODEL_612980de0a524368a1ad605eac5f8a6a",
              "IPY_MODEL_89a3395b65634b50b5d1b709b311ffc7"
            ],
            "layout": "IPY_MODEL_5900a84ee8c6488e98a8549176bef5d7"
          }
        },
        "e7aa40c139914d9b9125d5336c3397f3": {
          "model_module": "@jupyter-widgets/controls",
          "model_name": "HTMLModel",
          "model_module_version": "1.5.0",
          "state": {
            "_dom_classes": [],
            "_model_module": "@jupyter-widgets/controls",
            "_model_module_version": "1.5.0",
            "_model_name": "HTMLModel",
            "_view_count": null,
            "_view_module": "@jupyter-widgets/controls",
            "_view_module_version": "1.5.0",
            "_view_name": "HTMLView",
            "description": "",
            "description_tooltip": null,
            "layout": "IPY_MODEL_53e52ebefe344e41958492f7899c6760",
            "placeholder": "​",
            "style": "IPY_MODEL_64d3b49c64504f19a55b04d4d733bc60",
            "value": "tokenizer.json: 100%"
          }
        },
        "612980de0a524368a1ad605eac5f8a6a": {
          "model_module": "@jupyter-widgets/controls",
          "model_name": "FloatProgressModel",
          "model_module_version": "1.5.0",
          "state": {
            "_dom_classes": [],
            "_model_module": "@jupyter-widgets/controls",
            "_model_module_version": "1.5.0",
            "_model_name": "FloatProgressModel",
            "_view_count": null,
            "_view_module": "@jupyter-widgets/controls",
            "_view_module_version": "1.5.0",
            "_view_name": "ProgressView",
            "bar_style": "success",
            "description": "",
            "description_tooltip": null,
            "layout": "IPY_MODEL_18a5130b434542a5919a9d5784c3603f",
            "max": 1961847,
            "min": 0,
            "orientation": "horizontal",
            "style": "IPY_MODEL_12962ed42c0f44ea8b72ab5f72b3c4fa",
            "value": 1961847
          }
        },
        "89a3395b65634b50b5d1b709b311ffc7": {
          "model_module": "@jupyter-widgets/controls",
          "model_name": "HTMLModel",
          "model_module_version": "1.5.0",
          "state": {
            "_dom_classes": [],
            "_model_module": "@jupyter-widgets/controls",
            "_model_module_version": "1.5.0",
            "_model_name": "HTMLModel",
            "_view_count": null,
            "_view_module": "@jupyter-widgets/controls",
            "_view_module_version": "1.5.0",
            "_view_name": "HTMLView",
            "description": "",
            "description_tooltip": null,
            "layout": "IPY_MODEL_b2fca0de2e264fe795c2a067b30e97b1",
            "placeholder": "​",
            "style": "IPY_MODEL_12d74eb408bf4f78817578b692b00f41",
            "value": " 1.96M/1.96M [00:00&lt;00:00, 10.7MB/s]"
          }
        },
        "5900a84ee8c6488e98a8549176bef5d7": {
          "model_module": "@jupyter-widgets/base",
          "model_name": "LayoutModel",
          "model_module_version": "1.2.0",
          "state": {
            "_model_module": "@jupyter-widgets/base",
            "_model_module_version": "1.2.0",
            "_model_name": "LayoutModel",
            "_view_count": null,
            "_view_module": "@jupyter-widgets/base",
            "_view_module_version": "1.2.0",
            "_view_name": "LayoutView",
            "align_content": null,
            "align_items": null,
            "align_self": null,
            "border": null,
            "bottom": null,
            "display": null,
            "flex": null,
            "flex_flow": null,
            "grid_area": null,
            "grid_auto_columns": null,
            "grid_auto_flow": null,
            "grid_auto_rows": null,
            "grid_column": null,
            "grid_gap": null,
            "grid_row": null,
            "grid_template_areas": null,
            "grid_template_columns": null,
            "grid_template_rows": null,
            "height": null,
            "justify_content": null,
            "justify_items": null,
            "left": null,
            "margin": null,
            "max_height": null,
            "max_width": null,
            "min_height": null,
            "min_width": null,
            "object_fit": null,
            "object_position": null,
            "order": null,
            "overflow": null,
            "overflow_x": null,
            "overflow_y": null,
            "padding": null,
            "right": null,
            "top": null,
            "visibility": null,
            "width": null
          }
        },
        "53e52ebefe344e41958492f7899c6760": {
          "model_module": "@jupyter-widgets/base",
          "model_name": "LayoutModel",
          "model_module_version": "1.2.0",
          "state": {
            "_model_module": "@jupyter-widgets/base",
            "_model_module_version": "1.2.0",
            "_model_name": "LayoutModel",
            "_view_count": null,
            "_view_module": "@jupyter-widgets/base",
            "_view_module_version": "1.2.0",
            "_view_name": "LayoutView",
            "align_content": null,
            "align_items": null,
            "align_self": null,
            "border": null,
            "bottom": null,
            "display": null,
            "flex": null,
            "flex_flow": null,
            "grid_area": null,
            "grid_auto_columns": null,
            "grid_auto_flow": null,
            "grid_auto_rows": null,
            "grid_column": null,
            "grid_gap": null,
            "grid_row": null,
            "grid_template_areas": null,
            "grid_template_columns": null,
            "grid_template_rows": null,
            "height": null,
            "justify_content": null,
            "justify_items": null,
            "left": null,
            "margin": null,
            "max_height": null,
            "max_width": null,
            "min_height": null,
            "min_width": null,
            "object_fit": null,
            "object_position": null,
            "order": null,
            "overflow": null,
            "overflow_x": null,
            "overflow_y": null,
            "padding": null,
            "right": null,
            "top": null,
            "visibility": null,
            "width": null
          }
        },
        "64d3b49c64504f19a55b04d4d733bc60": {
          "model_module": "@jupyter-widgets/controls",
          "model_name": "DescriptionStyleModel",
          "model_module_version": "1.5.0",
          "state": {
            "_model_module": "@jupyter-widgets/controls",
            "_model_module_version": "1.5.0",
            "_model_name": "DescriptionStyleModel",
            "_view_count": null,
            "_view_module": "@jupyter-widgets/base",
            "_view_module_version": "1.2.0",
            "_view_name": "StyleView",
            "description_width": ""
          }
        },
        "18a5130b434542a5919a9d5784c3603f": {
          "model_module": "@jupyter-widgets/base",
          "model_name": "LayoutModel",
          "model_module_version": "1.2.0",
          "state": {
            "_model_module": "@jupyter-widgets/base",
            "_model_module_version": "1.2.0",
            "_model_name": "LayoutModel",
            "_view_count": null,
            "_view_module": "@jupyter-widgets/base",
            "_view_module_version": "1.2.0",
            "_view_name": "LayoutView",
            "align_content": null,
            "align_items": null,
            "align_self": null,
            "border": null,
            "bottom": null,
            "display": null,
            "flex": null,
            "flex_flow": null,
            "grid_area": null,
            "grid_auto_columns": null,
            "grid_auto_flow": null,
            "grid_auto_rows": null,
            "grid_column": null,
            "grid_gap": null,
            "grid_row": null,
            "grid_template_areas": null,
            "grid_template_columns": null,
            "grid_template_rows": null,
            "height": null,
            "justify_content": null,
            "justify_items": null,
            "left": null,
            "margin": null,
            "max_height": null,
            "max_width": null,
            "min_height": null,
            "min_width": null,
            "object_fit": null,
            "object_position": null,
            "order": null,
            "overflow": null,
            "overflow_x": null,
            "overflow_y": null,
            "padding": null,
            "right": null,
            "top": null,
            "visibility": null,
            "width": null
          }
        },
        "12962ed42c0f44ea8b72ab5f72b3c4fa": {
          "model_module": "@jupyter-widgets/controls",
          "model_name": "ProgressStyleModel",
          "model_module_version": "1.5.0",
          "state": {
            "_model_module": "@jupyter-widgets/controls",
            "_model_module_version": "1.5.0",
            "_model_name": "ProgressStyleModel",
            "_view_count": null,
            "_view_module": "@jupyter-widgets/base",
            "_view_module_version": "1.2.0",
            "_view_name": "StyleView",
            "bar_color": null,
            "description_width": ""
          }
        },
        "b2fca0de2e264fe795c2a067b30e97b1": {
          "model_module": "@jupyter-widgets/base",
          "model_name": "LayoutModel",
          "model_module_version": "1.2.0",
          "state": {
            "_model_module": "@jupyter-widgets/base",
            "_model_module_version": "1.2.0",
            "_model_name": "LayoutModel",
            "_view_count": null,
            "_view_module": "@jupyter-widgets/base",
            "_view_module_version": "1.2.0",
            "_view_name": "LayoutView",
            "align_content": null,
            "align_items": null,
            "align_self": null,
            "border": null,
            "bottom": null,
            "display": null,
            "flex": null,
            "flex_flow": null,
            "grid_area": null,
            "grid_auto_columns": null,
            "grid_auto_flow": null,
            "grid_auto_rows": null,
            "grid_column": null,
            "grid_gap": null,
            "grid_row": null,
            "grid_template_areas": null,
            "grid_template_columns": null,
            "grid_template_rows": null,
            "height": null,
            "justify_content": null,
            "justify_items": null,
            "left": null,
            "margin": null,
            "max_height": null,
            "max_width": null,
            "min_height": null,
            "min_width": null,
            "object_fit": null,
            "object_position": null,
            "order": null,
            "overflow": null,
            "overflow_x": null,
            "overflow_y": null,
            "padding": null,
            "right": null,
            "top": null,
            "visibility": null,
            "width": null
          }
        },
        "12d74eb408bf4f78817578b692b00f41": {
          "model_module": "@jupyter-widgets/controls",
          "model_name": "DescriptionStyleModel",
          "model_module_version": "1.5.0",
          "state": {
            "_model_module": "@jupyter-widgets/controls",
            "_model_module_version": "1.5.0",
            "_model_name": "DescriptionStyleModel",
            "_view_count": null,
            "_view_module": "@jupyter-widgets/base",
            "_view_module_version": "1.2.0",
            "_view_name": "StyleView",
            "description_width": ""
          }
        },
        "f689a75112214e7994420ab3cde621aa": {
          "model_module": "@jupyter-widgets/controls",
          "model_name": "HBoxModel",
          "model_module_version": "1.5.0",
          "state": {
            "_dom_classes": [],
            "_model_module": "@jupyter-widgets/controls",
            "_model_module_version": "1.5.0",
            "_model_name": "HBoxModel",
            "_view_count": null,
            "_view_module": "@jupyter-widgets/controls",
            "_view_module_version": "1.5.0",
            "_view_name": "HBoxView",
            "box_style": "",
            "children": [
              "IPY_MODEL_c892e2c5ab1840659aa0b372ab83844a",
              "IPY_MODEL_c7568ade8363475998c909d3605f043f",
              "IPY_MODEL_0c518b24ec1842daadd219a81977d16f"
            ],
            "layout": "IPY_MODEL_aff79dd8ac474314bd4809269520b56c"
          }
        },
        "c892e2c5ab1840659aa0b372ab83844a": {
          "model_module": "@jupyter-widgets/controls",
          "model_name": "HTMLModel",
          "model_module_version": "1.5.0",
          "state": {
            "_dom_classes": [],
            "_model_module": "@jupyter-widgets/controls",
            "_model_module_version": "1.5.0",
            "_model_name": "HTMLModel",
            "_view_count": null,
            "_view_module": "@jupyter-widgets/controls",
            "_view_module_version": "1.5.0",
            "_view_name": "HTMLView",
            "description": "",
            "description_tooltip": null,
            "layout": "IPY_MODEL_500806d60cf04569b70f63170c5eb0c1",
            "placeholder": "​",
            "style": "IPY_MODEL_46f55141253749129dbb2d9421845f10",
            "value": "tokenizer_config.json: 100%"
          }
        },
        "c7568ade8363475998c909d3605f043f": {
          "model_module": "@jupyter-widgets/controls",
          "model_name": "FloatProgressModel",
          "model_module_version": "1.5.0",
          "state": {
            "_dom_classes": [],
            "_model_module": "@jupyter-widgets/controls",
            "_model_module_version": "1.5.0",
            "_model_name": "FloatProgressModel",
            "_view_count": null,
            "_view_module": "@jupyter-widgets/controls",
            "_view_module_version": "1.5.0",
            "_view_name": "ProgressView",
            "bar_style": "success",
            "description": "",
            "description_tooltip": null,
            "layout": "IPY_MODEL_5522adbde50f44e6a0d17f75347f66a0",
            "max": 531,
            "min": 0,
            "orientation": "horizontal",
            "style": "IPY_MODEL_5a2df1e182ef4e26876542580f225b0d",
            "value": 531
          }
        },
        "0c518b24ec1842daadd219a81977d16f": {
          "model_module": "@jupyter-widgets/controls",
          "model_name": "HTMLModel",
          "model_module_version": "1.5.0",
          "state": {
            "_dom_classes": [],
            "_model_module": "@jupyter-widgets/controls",
            "_model_module_version": "1.5.0",
            "_model_name": "HTMLModel",
            "_view_count": null,
            "_view_module": "@jupyter-widgets/controls",
            "_view_module_version": "1.5.0",
            "_view_name": "HTMLView",
            "description": "",
            "description_tooltip": null,
            "layout": "IPY_MODEL_c83ba89d95364502909f7f7ac56e10c0",
            "placeholder": "​",
            "style": "IPY_MODEL_399db1980c434384ad020d6bbdf61d08",
            "value": " 531/531 [00:00&lt;00:00, 21.3kB/s]"
          }
        },
        "aff79dd8ac474314bd4809269520b56c": {
          "model_module": "@jupyter-widgets/base",
          "model_name": "LayoutModel",
          "model_module_version": "1.2.0",
          "state": {
            "_model_module": "@jupyter-widgets/base",
            "_model_module_version": "1.2.0",
            "_model_name": "LayoutModel",
            "_view_count": null,
            "_view_module": "@jupyter-widgets/base",
            "_view_module_version": "1.2.0",
            "_view_name": "LayoutView",
            "align_content": null,
            "align_items": null,
            "align_self": null,
            "border": null,
            "bottom": null,
            "display": null,
            "flex": null,
            "flex_flow": null,
            "grid_area": null,
            "grid_auto_columns": null,
            "grid_auto_flow": null,
            "grid_auto_rows": null,
            "grid_column": null,
            "grid_gap": null,
            "grid_row": null,
            "grid_template_areas": null,
            "grid_template_columns": null,
            "grid_template_rows": null,
            "height": null,
            "justify_content": null,
            "justify_items": null,
            "left": null,
            "margin": null,
            "max_height": null,
            "max_width": null,
            "min_height": null,
            "min_width": null,
            "object_fit": null,
            "object_position": null,
            "order": null,
            "overflow": null,
            "overflow_x": null,
            "overflow_y": null,
            "padding": null,
            "right": null,
            "top": null,
            "visibility": null,
            "width": null
          }
        },
        "500806d60cf04569b70f63170c5eb0c1": {
          "model_module": "@jupyter-widgets/base",
          "model_name": "LayoutModel",
          "model_module_version": "1.2.0",
          "state": {
            "_model_module": "@jupyter-widgets/base",
            "_model_module_version": "1.2.0",
            "_model_name": "LayoutModel",
            "_view_count": null,
            "_view_module": "@jupyter-widgets/base",
            "_view_module_version": "1.2.0",
            "_view_name": "LayoutView",
            "align_content": null,
            "align_items": null,
            "align_self": null,
            "border": null,
            "bottom": null,
            "display": null,
            "flex": null,
            "flex_flow": null,
            "grid_area": null,
            "grid_auto_columns": null,
            "grid_auto_flow": null,
            "grid_auto_rows": null,
            "grid_column": null,
            "grid_gap": null,
            "grid_row": null,
            "grid_template_areas": null,
            "grid_template_columns": null,
            "grid_template_rows": null,
            "height": null,
            "justify_content": null,
            "justify_items": null,
            "left": null,
            "margin": null,
            "max_height": null,
            "max_width": null,
            "min_height": null,
            "min_width": null,
            "object_fit": null,
            "object_position": null,
            "order": null,
            "overflow": null,
            "overflow_x": null,
            "overflow_y": null,
            "padding": null,
            "right": null,
            "top": null,
            "visibility": null,
            "width": null
          }
        },
        "46f55141253749129dbb2d9421845f10": {
          "model_module": "@jupyter-widgets/controls",
          "model_name": "DescriptionStyleModel",
          "model_module_version": "1.5.0",
          "state": {
            "_model_module": "@jupyter-widgets/controls",
            "_model_module_version": "1.5.0",
            "_model_name": "DescriptionStyleModel",
            "_view_count": null,
            "_view_module": "@jupyter-widgets/base",
            "_view_module_version": "1.2.0",
            "_view_name": "StyleView",
            "description_width": ""
          }
        },
        "5522adbde50f44e6a0d17f75347f66a0": {
          "model_module": "@jupyter-widgets/base",
          "model_name": "LayoutModel",
          "model_module_version": "1.2.0",
          "state": {
            "_model_module": "@jupyter-widgets/base",
            "_model_module_version": "1.2.0",
            "_model_name": "LayoutModel",
            "_view_count": null,
            "_view_module": "@jupyter-widgets/base",
            "_view_module_version": "1.2.0",
            "_view_name": "LayoutView",
            "align_content": null,
            "align_items": null,
            "align_self": null,
            "border": null,
            "bottom": null,
            "display": null,
            "flex": null,
            "flex_flow": null,
            "grid_area": null,
            "grid_auto_columns": null,
            "grid_auto_flow": null,
            "grid_auto_rows": null,
            "grid_column": null,
            "grid_gap": null,
            "grid_row": null,
            "grid_template_areas": null,
            "grid_template_columns": null,
            "grid_template_rows": null,
            "height": null,
            "justify_content": null,
            "justify_items": null,
            "left": null,
            "margin": null,
            "max_height": null,
            "max_width": null,
            "min_height": null,
            "min_width": null,
            "object_fit": null,
            "object_position": null,
            "order": null,
            "overflow": null,
            "overflow_x": null,
            "overflow_y": null,
            "padding": null,
            "right": null,
            "top": null,
            "visibility": null,
            "width": null
          }
        },
        "5a2df1e182ef4e26876542580f225b0d": {
          "model_module": "@jupyter-widgets/controls",
          "model_name": "ProgressStyleModel",
          "model_module_version": "1.5.0",
          "state": {
            "_model_module": "@jupyter-widgets/controls",
            "_model_module_version": "1.5.0",
            "_model_name": "ProgressStyleModel",
            "_view_count": null,
            "_view_module": "@jupyter-widgets/base",
            "_view_module_version": "1.2.0",
            "_view_name": "StyleView",
            "bar_color": null,
            "description_width": ""
          }
        },
        "c83ba89d95364502909f7f7ac56e10c0": {
          "model_module": "@jupyter-widgets/base",
          "model_name": "LayoutModel",
          "model_module_version": "1.2.0",
          "state": {
            "_model_module": "@jupyter-widgets/base",
            "_model_module_version": "1.2.0",
            "_model_name": "LayoutModel",
            "_view_count": null,
            "_view_module": "@jupyter-widgets/base",
            "_view_module_version": "1.2.0",
            "_view_name": "LayoutView",
            "align_content": null,
            "align_items": null,
            "align_self": null,
            "border": null,
            "bottom": null,
            "display": null,
            "flex": null,
            "flex_flow": null,
            "grid_area": null,
            "grid_auto_columns": null,
            "grid_auto_flow": null,
            "grid_auto_rows": null,
            "grid_column": null,
            "grid_gap": null,
            "grid_row": null,
            "grid_template_areas": null,
            "grid_template_columns": null,
            "grid_template_rows": null,
            "height": null,
            "justify_content": null,
            "justify_items": null,
            "left": null,
            "margin": null,
            "max_height": null,
            "max_width": null,
            "min_height": null,
            "min_width": null,
            "object_fit": null,
            "object_position": null,
            "order": null,
            "overflow": null,
            "overflow_x": null,
            "overflow_y": null,
            "padding": null,
            "right": null,
            "top": null,
            "visibility": null,
            "width": null
          }
        },
        "399db1980c434384ad020d6bbdf61d08": {
          "model_module": "@jupyter-widgets/controls",
          "model_name": "DescriptionStyleModel",
          "model_module_version": "1.5.0",
          "state": {
            "_model_module": "@jupyter-widgets/controls",
            "_model_module_version": "1.5.0",
            "_model_name": "DescriptionStyleModel",
            "_view_count": null,
            "_view_module": "@jupyter-widgets/base",
            "_view_module_version": "1.2.0",
            "_view_name": "StyleView",
            "description_width": ""
          }
        },
        "c47d35f3794844bdb3eefb820ae51b00": {
          "model_module": "@jupyter-widgets/controls",
          "model_name": "HBoxModel",
          "model_module_version": "1.5.0",
          "state": {
            "_dom_classes": [],
            "_model_module": "@jupyter-widgets/controls",
            "_model_module_version": "1.5.0",
            "_model_name": "HBoxModel",
            "_view_count": null,
            "_view_module": "@jupyter-widgets/controls",
            "_view_module_version": "1.5.0",
            "_view_name": "HBoxView",
            "box_style": "",
            "children": [
              "IPY_MODEL_b82b6a79853342258b9f861dd11f34a8",
              "IPY_MODEL_e0f4c7924d184d6bba5ad9972f0df099",
              "IPY_MODEL_8a01fb1db5d9426ba379dcf0b369f107"
            ],
            "layout": "IPY_MODEL_5577eb1dfee946988241ede276a8d03b"
          }
        },
        "b82b6a79853342258b9f861dd11f34a8": {
          "model_module": "@jupyter-widgets/controls",
          "model_name": "HTMLModel",
          "model_module_version": "1.5.0",
          "state": {
            "_dom_classes": [],
            "_model_module": "@jupyter-widgets/controls",
            "_model_module_version": "1.5.0",
            "_model_name": "HTMLModel",
            "_view_count": null,
            "_view_module": "@jupyter-widgets/controls",
            "_view_module_version": "1.5.0",
            "_view_name": "HTMLView",
            "description": "",
            "description_tooltip": null,
            "layout": "IPY_MODEL_b1ba6ac1a67c456fa2adab6cabfffb6d",
            "placeholder": "​",
            "style": "IPY_MODEL_e71ad2e5a0ee4a44af3efbf9a41aa68d",
            "value": "vocab.txt: 100%"
          }
        },
        "e0f4c7924d184d6bba5ad9972f0df099": {
          "model_module": "@jupyter-widgets/controls",
          "model_name": "FloatProgressModel",
          "model_module_version": "1.5.0",
          "state": {
            "_dom_classes": [],
            "_model_module": "@jupyter-widgets/controls",
            "_model_module_version": "1.5.0",
            "_model_name": "FloatProgressModel",
            "_view_count": null,
            "_view_module": "@jupyter-widgets/controls",
            "_view_module_version": "1.5.0",
            "_view_name": "ProgressView",
            "bar_style": "success",
            "description": "",
            "description_tooltip": null,
            "layout": "IPY_MODEL_0a768d2dc92d4ca9b936aa1f44d575b9",
            "max": 995526,
            "min": 0,
            "orientation": "horizontal",
            "style": "IPY_MODEL_9690c4e95d0445ee9153c22383f2c958",
            "value": 995526
          }
        },
        "8a01fb1db5d9426ba379dcf0b369f107": {
          "model_module": "@jupyter-widgets/controls",
          "model_name": "HTMLModel",
          "model_module_version": "1.5.0",
          "state": {
            "_dom_classes": [],
            "_model_module": "@jupyter-widgets/controls",
            "_model_module_version": "1.5.0",
            "_model_name": "HTMLModel",
            "_view_count": null,
            "_view_module": "@jupyter-widgets/controls",
            "_view_module_version": "1.5.0",
            "_view_name": "HTMLView",
            "description": "",
            "description_tooltip": null,
            "layout": "IPY_MODEL_9407d3cc18394eb8a31528ef0bb81c3e",
            "placeholder": "​",
            "style": "IPY_MODEL_2d89fe658cc049978454265db3e322f2",
            "value": " 996k/996k [00:00&lt;00:00, 5.27MB/s]"
          }
        },
        "5577eb1dfee946988241ede276a8d03b": {
          "model_module": "@jupyter-widgets/base",
          "model_name": "LayoutModel",
          "model_module_version": "1.2.0",
          "state": {
            "_model_module": "@jupyter-widgets/base",
            "_model_module_version": "1.2.0",
            "_model_name": "LayoutModel",
            "_view_count": null,
            "_view_module": "@jupyter-widgets/base",
            "_view_module_version": "1.2.0",
            "_view_name": "LayoutView",
            "align_content": null,
            "align_items": null,
            "align_self": null,
            "border": null,
            "bottom": null,
            "display": null,
            "flex": null,
            "flex_flow": null,
            "grid_area": null,
            "grid_auto_columns": null,
            "grid_auto_flow": null,
            "grid_auto_rows": null,
            "grid_column": null,
            "grid_gap": null,
            "grid_row": null,
            "grid_template_areas": null,
            "grid_template_columns": null,
            "grid_template_rows": null,
            "height": null,
            "justify_content": null,
            "justify_items": null,
            "left": null,
            "margin": null,
            "max_height": null,
            "max_width": null,
            "min_height": null,
            "min_width": null,
            "object_fit": null,
            "object_position": null,
            "order": null,
            "overflow": null,
            "overflow_x": null,
            "overflow_y": null,
            "padding": null,
            "right": null,
            "top": null,
            "visibility": null,
            "width": null
          }
        },
        "b1ba6ac1a67c456fa2adab6cabfffb6d": {
          "model_module": "@jupyter-widgets/base",
          "model_name": "LayoutModel",
          "model_module_version": "1.2.0",
          "state": {
            "_model_module": "@jupyter-widgets/base",
            "_model_module_version": "1.2.0",
            "_model_name": "LayoutModel",
            "_view_count": null,
            "_view_module": "@jupyter-widgets/base",
            "_view_module_version": "1.2.0",
            "_view_name": "LayoutView",
            "align_content": null,
            "align_items": null,
            "align_self": null,
            "border": null,
            "bottom": null,
            "display": null,
            "flex": null,
            "flex_flow": null,
            "grid_area": null,
            "grid_auto_columns": null,
            "grid_auto_flow": null,
            "grid_auto_rows": null,
            "grid_column": null,
            "grid_gap": null,
            "grid_row": null,
            "grid_template_areas": null,
            "grid_template_columns": null,
            "grid_template_rows": null,
            "height": null,
            "justify_content": null,
            "justify_items": null,
            "left": null,
            "margin": null,
            "max_height": null,
            "max_width": null,
            "min_height": null,
            "min_width": null,
            "object_fit": null,
            "object_position": null,
            "order": null,
            "overflow": null,
            "overflow_x": null,
            "overflow_y": null,
            "padding": null,
            "right": null,
            "top": null,
            "visibility": null,
            "width": null
          }
        },
        "e71ad2e5a0ee4a44af3efbf9a41aa68d": {
          "model_module": "@jupyter-widgets/controls",
          "model_name": "DescriptionStyleModel",
          "model_module_version": "1.5.0",
          "state": {
            "_model_module": "@jupyter-widgets/controls",
            "_model_module_version": "1.5.0",
            "_model_name": "DescriptionStyleModel",
            "_view_count": null,
            "_view_module": "@jupyter-widgets/base",
            "_view_module_version": "1.2.0",
            "_view_name": "StyleView",
            "description_width": ""
          }
        },
        "0a768d2dc92d4ca9b936aa1f44d575b9": {
          "model_module": "@jupyter-widgets/base",
          "model_name": "LayoutModel",
          "model_module_version": "1.2.0",
          "state": {
            "_model_module": "@jupyter-widgets/base",
            "_model_module_version": "1.2.0",
            "_model_name": "LayoutModel",
            "_view_count": null,
            "_view_module": "@jupyter-widgets/base",
            "_view_module_version": "1.2.0",
            "_view_name": "LayoutView",
            "align_content": null,
            "align_items": null,
            "align_self": null,
            "border": null,
            "bottom": null,
            "display": null,
            "flex": null,
            "flex_flow": null,
            "grid_area": null,
            "grid_auto_columns": null,
            "grid_auto_flow": null,
            "grid_auto_rows": null,
            "grid_column": null,
            "grid_gap": null,
            "grid_row": null,
            "grid_template_areas": null,
            "grid_template_columns": null,
            "grid_template_rows": null,
            "height": null,
            "justify_content": null,
            "justify_items": null,
            "left": null,
            "margin": null,
            "max_height": null,
            "max_width": null,
            "min_height": null,
            "min_width": null,
            "object_fit": null,
            "object_position": null,
            "order": null,
            "overflow": null,
            "overflow_x": null,
            "overflow_y": null,
            "padding": null,
            "right": null,
            "top": null,
            "visibility": null,
            "width": null
          }
        },
        "9690c4e95d0445ee9153c22383f2c958": {
          "model_module": "@jupyter-widgets/controls",
          "model_name": "ProgressStyleModel",
          "model_module_version": "1.5.0",
          "state": {
            "_model_module": "@jupyter-widgets/controls",
            "_model_module_version": "1.5.0",
            "_model_name": "ProgressStyleModel",
            "_view_count": null,
            "_view_module": "@jupyter-widgets/base",
            "_view_module_version": "1.2.0",
            "_view_name": "StyleView",
            "bar_color": null,
            "description_width": ""
          }
        },
        "9407d3cc18394eb8a31528ef0bb81c3e": {
          "model_module": "@jupyter-widgets/base",
          "model_name": "LayoutModel",
          "model_module_version": "1.2.0",
          "state": {
            "_model_module": "@jupyter-widgets/base",
            "_model_module_version": "1.2.0",
            "_model_name": "LayoutModel",
            "_view_count": null,
            "_view_module": "@jupyter-widgets/base",
            "_view_module_version": "1.2.0",
            "_view_name": "LayoutView",
            "align_content": null,
            "align_items": null,
            "align_self": null,
            "border": null,
            "bottom": null,
            "display": null,
            "flex": null,
            "flex_flow": null,
            "grid_area": null,
            "grid_auto_columns": null,
            "grid_auto_flow": null,
            "grid_auto_rows": null,
            "grid_column": null,
            "grid_gap": null,
            "grid_row": null,
            "grid_template_areas": null,
            "grid_template_columns": null,
            "grid_template_rows": null,
            "height": null,
            "justify_content": null,
            "justify_items": null,
            "left": null,
            "margin": null,
            "max_height": null,
            "max_width": null,
            "min_height": null,
            "min_width": null,
            "object_fit": null,
            "object_position": null,
            "order": null,
            "overflow": null,
            "overflow_x": null,
            "overflow_y": null,
            "padding": null,
            "right": null,
            "top": null,
            "visibility": null,
            "width": null
          }
        },
        "2d89fe658cc049978454265db3e322f2": {
          "model_module": "@jupyter-widgets/controls",
          "model_name": "DescriptionStyleModel",
          "model_module_version": "1.5.0",
          "state": {
            "_model_module": "@jupyter-widgets/controls",
            "_model_module_version": "1.5.0",
            "_model_name": "DescriptionStyleModel",
            "_view_count": null,
            "_view_module": "@jupyter-widgets/base",
            "_view_module_version": "1.2.0",
            "_view_name": "StyleView",
            "description_width": ""
          }
        },
        "31aa58841d05498f926642278529c482": {
          "model_module": "@jupyter-widgets/controls",
          "model_name": "HBoxModel",
          "model_module_version": "1.5.0",
          "state": {
            "_dom_classes": [],
            "_model_module": "@jupyter-widgets/controls",
            "_model_module_version": "1.5.0",
            "_model_name": "HBoxModel",
            "_view_count": null,
            "_view_module": "@jupyter-widgets/controls",
            "_view_module_version": "1.5.0",
            "_view_name": "HBoxView",
            "box_style": "",
            "children": [
              "IPY_MODEL_6695ea0d8c3848fa981aad300a7197ca",
              "IPY_MODEL_6129046839114be3b99d4dc8342e7ead",
              "IPY_MODEL_1b4bd189f2ce4f14b7d65b9a97af461f"
            ],
            "layout": "IPY_MODEL_91ef3a8de7e04140b24915b64e0d263a"
          }
        },
        "6695ea0d8c3848fa981aad300a7197ca": {
          "model_module": "@jupyter-widgets/controls",
          "model_name": "HTMLModel",
          "model_module_version": "1.5.0",
          "state": {
            "_dom_classes": [],
            "_model_module": "@jupyter-widgets/controls",
            "_model_module_version": "1.5.0",
            "_model_name": "HTMLModel",
            "_view_count": null,
            "_view_module": "@jupyter-widgets/controls",
            "_view_module_version": "1.5.0",
            "_view_name": "HTMLView",
            "description": "",
            "description_tooltip": null,
            "layout": "IPY_MODEL_88207be6cc994b03bdc74d36eec894ee",
            "placeholder": "​",
            "style": "IPY_MODEL_1bee0e22265d4349bb41fa2797356666",
            "value": "modules.json: 100%"
          }
        },
        "6129046839114be3b99d4dc8342e7ead": {
          "model_module": "@jupyter-widgets/controls",
          "model_name": "FloatProgressModel",
          "model_module_version": "1.5.0",
          "state": {
            "_dom_classes": [],
            "_model_module": "@jupyter-widgets/controls",
            "_model_module_version": "1.5.0",
            "_model_name": "FloatProgressModel",
            "_view_count": null,
            "_view_module": "@jupyter-widgets/controls",
            "_view_module_version": "1.5.0",
            "_view_name": "ProgressView",
            "bar_style": "success",
            "description": "",
            "description_tooltip": null,
            "layout": "IPY_MODEL_65bddf590ce646f69799b77835c566a2",
            "max": 341,
            "min": 0,
            "orientation": "horizontal",
            "style": "IPY_MODEL_2d5448cf1e73484ab0cd6588412acbac",
            "value": 341
          }
        },
        "1b4bd189f2ce4f14b7d65b9a97af461f": {
          "model_module": "@jupyter-widgets/controls",
          "model_name": "HTMLModel",
          "model_module_version": "1.5.0",
          "state": {
            "_dom_classes": [],
            "_model_module": "@jupyter-widgets/controls",
            "_model_module_version": "1.5.0",
            "_model_name": "HTMLModel",
            "_view_count": null,
            "_view_module": "@jupyter-widgets/controls",
            "_view_module_version": "1.5.0",
            "_view_name": "HTMLView",
            "description": "",
            "description_tooltip": null,
            "layout": "IPY_MODEL_9e273a0c91534a12a2a63557c5255d3d",
            "placeholder": "​",
            "style": "IPY_MODEL_cdd3b22dd9b048e6829d9640e633b70e",
            "value": " 341/341 [00:00&lt;00:00, 14.1kB/s]"
          }
        },
        "91ef3a8de7e04140b24915b64e0d263a": {
          "model_module": "@jupyter-widgets/base",
          "model_name": "LayoutModel",
          "model_module_version": "1.2.0",
          "state": {
            "_model_module": "@jupyter-widgets/base",
            "_model_module_version": "1.2.0",
            "_model_name": "LayoutModel",
            "_view_count": null,
            "_view_module": "@jupyter-widgets/base",
            "_view_module_version": "1.2.0",
            "_view_name": "LayoutView",
            "align_content": null,
            "align_items": null,
            "align_self": null,
            "border": null,
            "bottom": null,
            "display": null,
            "flex": null,
            "flex_flow": null,
            "grid_area": null,
            "grid_auto_columns": null,
            "grid_auto_flow": null,
            "grid_auto_rows": null,
            "grid_column": null,
            "grid_gap": null,
            "grid_row": null,
            "grid_template_areas": null,
            "grid_template_columns": null,
            "grid_template_rows": null,
            "height": null,
            "justify_content": null,
            "justify_items": null,
            "left": null,
            "margin": null,
            "max_height": null,
            "max_width": null,
            "min_height": null,
            "min_width": null,
            "object_fit": null,
            "object_position": null,
            "order": null,
            "overflow": null,
            "overflow_x": null,
            "overflow_y": null,
            "padding": null,
            "right": null,
            "top": null,
            "visibility": null,
            "width": null
          }
        },
        "88207be6cc994b03bdc74d36eec894ee": {
          "model_module": "@jupyter-widgets/base",
          "model_name": "LayoutModel",
          "model_module_version": "1.2.0",
          "state": {
            "_model_module": "@jupyter-widgets/base",
            "_model_module_version": "1.2.0",
            "_model_name": "LayoutModel",
            "_view_count": null,
            "_view_module": "@jupyter-widgets/base",
            "_view_module_version": "1.2.0",
            "_view_name": "LayoutView",
            "align_content": null,
            "align_items": null,
            "align_self": null,
            "border": null,
            "bottom": null,
            "display": null,
            "flex": null,
            "flex_flow": null,
            "grid_area": null,
            "grid_auto_columns": null,
            "grid_auto_flow": null,
            "grid_auto_rows": null,
            "grid_column": null,
            "grid_gap": null,
            "grid_row": null,
            "grid_template_areas": null,
            "grid_template_columns": null,
            "grid_template_rows": null,
            "height": null,
            "justify_content": null,
            "justify_items": null,
            "left": null,
            "margin": null,
            "max_height": null,
            "max_width": null,
            "min_height": null,
            "min_width": null,
            "object_fit": null,
            "object_position": null,
            "order": null,
            "overflow": null,
            "overflow_x": null,
            "overflow_y": null,
            "padding": null,
            "right": null,
            "top": null,
            "visibility": null,
            "width": null
          }
        },
        "1bee0e22265d4349bb41fa2797356666": {
          "model_module": "@jupyter-widgets/controls",
          "model_name": "DescriptionStyleModel",
          "model_module_version": "1.5.0",
          "state": {
            "_model_module": "@jupyter-widgets/controls",
            "_model_module_version": "1.5.0",
            "_model_name": "DescriptionStyleModel",
            "_view_count": null,
            "_view_module": "@jupyter-widgets/base",
            "_view_module_version": "1.2.0",
            "_view_name": "StyleView",
            "description_width": ""
          }
        },
        "65bddf590ce646f69799b77835c566a2": {
          "model_module": "@jupyter-widgets/base",
          "model_name": "LayoutModel",
          "model_module_version": "1.2.0",
          "state": {
            "_model_module": "@jupyter-widgets/base",
            "_model_module_version": "1.2.0",
            "_model_name": "LayoutModel",
            "_view_count": null,
            "_view_module": "@jupyter-widgets/base",
            "_view_module_version": "1.2.0",
            "_view_name": "LayoutView",
            "align_content": null,
            "align_items": null,
            "align_self": null,
            "border": null,
            "bottom": null,
            "display": null,
            "flex": null,
            "flex_flow": null,
            "grid_area": null,
            "grid_auto_columns": null,
            "grid_auto_flow": null,
            "grid_auto_rows": null,
            "grid_column": null,
            "grid_gap": null,
            "grid_row": null,
            "grid_template_areas": null,
            "grid_template_columns": null,
            "grid_template_rows": null,
            "height": null,
            "justify_content": null,
            "justify_items": null,
            "left": null,
            "margin": null,
            "max_height": null,
            "max_width": null,
            "min_height": null,
            "min_width": null,
            "object_fit": null,
            "object_position": null,
            "order": null,
            "overflow": null,
            "overflow_x": null,
            "overflow_y": null,
            "padding": null,
            "right": null,
            "top": null,
            "visibility": null,
            "width": null
          }
        },
        "2d5448cf1e73484ab0cd6588412acbac": {
          "model_module": "@jupyter-widgets/controls",
          "model_name": "ProgressStyleModel",
          "model_module_version": "1.5.0",
          "state": {
            "_model_module": "@jupyter-widgets/controls",
            "_model_module_version": "1.5.0",
            "_model_name": "ProgressStyleModel",
            "_view_count": null,
            "_view_module": "@jupyter-widgets/base",
            "_view_module_version": "1.2.0",
            "_view_name": "StyleView",
            "bar_color": null,
            "description_width": ""
          }
        },
        "9e273a0c91534a12a2a63557c5255d3d": {
          "model_module": "@jupyter-widgets/base",
          "model_name": "LayoutModel",
          "model_module_version": "1.2.0",
          "state": {
            "_model_module": "@jupyter-widgets/base",
            "_model_module_version": "1.2.0",
            "_model_name": "LayoutModel",
            "_view_count": null,
            "_view_module": "@jupyter-widgets/base",
            "_view_module_version": "1.2.0",
            "_view_name": "LayoutView",
            "align_content": null,
            "align_items": null,
            "align_self": null,
            "border": null,
            "bottom": null,
            "display": null,
            "flex": null,
            "flex_flow": null,
            "grid_area": null,
            "grid_auto_columns": null,
            "grid_auto_flow": null,
            "grid_auto_rows": null,
            "grid_column": null,
            "grid_gap": null,
            "grid_row": null,
            "grid_template_areas": null,
            "grid_template_columns": null,
            "grid_template_rows": null,
            "height": null,
            "justify_content": null,
            "justify_items": null,
            "left": null,
            "margin": null,
            "max_height": null,
            "max_width": null,
            "min_height": null,
            "min_width": null,
            "object_fit": null,
            "object_position": null,
            "order": null,
            "overflow": null,
            "overflow_x": null,
            "overflow_y": null,
            "padding": null,
            "right": null,
            "top": null,
            "visibility": null,
            "width": null
          }
        },
        "cdd3b22dd9b048e6829d9640e633b70e": {
          "model_module": "@jupyter-widgets/controls",
          "model_name": "DescriptionStyleModel",
          "model_module_version": "1.5.0",
          "state": {
            "_model_module": "@jupyter-widgets/controls",
            "_model_module_version": "1.5.0",
            "_model_name": "DescriptionStyleModel",
            "_view_count": null,
            "_view_module": "@jupyter-widgets/base",
            "_view_module_version": "1.2.0",
            "_view_name": "StyleView",
            "description_width": ""
          }
        }
      }
    }
  },
  "nbformat": 4,
  "nbformat_minor": 0
}